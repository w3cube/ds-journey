{
 "cells": [
  {
   "cell_type": "markdown",
   "metadata": {},
   "source": [
    "<img src=\"http://imgur.com/1ZcRyrc.png\" style=\"float: left; margin: 20px; height: 55px\">\n",
    "\n",
    "# Project 1: Python Coding Exercises\n",
    "\n",
    "_Authors: Joseph Nelson (DC) _\n",
    "\n",
    "---"
   ]
  },
  {
   "cell_type": "markdown",
   "metadata": {},
   "source": [
    "The following code challenges are drawn from common exercises used in technical interviews.\n",
    "\n",
    "Please note that there may be several ways to approach each challenge. If you get stuck, try mapping out your approach in pseudocode first. Finally, while solutions to problems like these may be found online, remember that if you copy/paste code that you can't explain, you'll be missing out on the point of the project. The only way to truly learn a new skill is through practice, trial, and error - we can only help you improve by understanding where you are having trouble."
   ]
  },
  {
   "cell_type": "markdown",
   "metadata": {},
   "source": [
    "### Challenge 1: Largest Palindrome\n",
    "A palindromic number reads the same both ways. For example, 1234321 is a palindrome. The largest palindrome made from the product of two two-digit numbers is 9009 = 91 × 99. Find the largest palindrome made from the product of two three-digit numbers. Afterward, write a brief explanation walking through your code's logic in markdown."
   ]
  },
  {
   "cell_type": "code",
   "execution_count": 2,
   "metadata": {},
   "outputs": [
    {
     "name": "stdout",
     "output_type": "stream",
     "text": [
      " Largest Palindrome Product of two Three digit numbers is : num_1 = 913 * num_2 = 993 = 906609\n"
     ]
    }
   ],
   "source": [
    "import sys\n",
    "'''\n",
    "Find the largest palindrome made from the \n",
    "product of two three-digit numbers. \n",
    "\n",
    "\n",
    "'''\n",
    "def is_palindrome(number):\n",
    "    reverse_number = \"\"\n",
    "    for i in number:\n",
    "        reverse_number = i + reverse_number\n",
    "\n",
    "    if int(number) == int(reverse_number):\n",
    "        return True\n",
    "\n",
    "    return False\n",
    "\n",
    "\n",
    "def main(argv=None):\n",
    "    largest_palindrome_product_of_two_three_digit_number = 0\n",
    "    three_digit_number_1 = 0\n",
    "    three_digit_number_2 = 0\n",
    "    found_it = False\n",
    "    for num_1 in range (1000, 99, -1):\n",
    "        for num_2 in range (999, num_1, -1):\n",
    "            product_of_two_nums = num_1 * num_2\n",
    "            if is_palindrome(str(product_of_two_nums)) and product_of_two_nums >= largest_palindrome_product_of_two_three_digit_number:\n",
    "                largest_palindrome_product_of_two_three_digit_number = product_of_two_nums\n",
    "                three_digit_number_1 = num_1\n",
    "                three_digit_number_2 = num_2\n",
    "    \n",
    "    print (\" Largest Palindrome Product of two Three digit numbers is : num_1 = {0} * num_2 = {1} = {2}\"\n",
    "                    .format(three_digit_number_1, three_digit_number_2, \n",
    "                            largest_palindrome_product_of_two_three_digit_number))\n",
    "\n",
    "if __name__ == \"__main__\":\n",
    "    main()\n",
    "\n",
    "\n"
   ]
  },
  {
   "cell_type": "markdown",
   "metadata": {},
   "source": [
    "- Using 2 loops\n",
    "- Outer one iterating to generate numbers in reverse order\n",
    "- Inner one iterating in reverse order\n",
    "- I used reverse order as I believe this can be further optimized, didnt do it currently but given more time this can be improved as per complexity of algorithm is concerned\n",
    "- Then doing product of 2 num and passing it through the is_palindrome metod. \n",
    "- is_palindrome takes the number and reverse it and see if it matches\n",
    "- If true i.e. a match then I check if this number is largest then what we have generated so far\n",
    "- If true, then it becomes largest\n",
    "- loop iterates and we find our largest palindrom product of two three digit numbers"
   ]
  },
  {
   "cell_type": "markdown",
   "metadata": {},
   "source": [
    "\n",
    "### Challenge 2: Summation of Primes\n",
    "The sum of the primes below 10 is 2 + 3 + 5 + 7 = 17. Find the sum of all the primes below 2,000. Afterward, write a brief explanation walking through your code's logic in markdown."
   ]
  },
  {
   "cell_type": "code",
   "execution_count": 3,
   "metadata": {},
   "outputs": [
    {
     "name": "stdout",
     "output_type": "stream",
     "text": [
      " sum of all the primes below 2,000 is : 277050\n"
     ]
    }
   ],
   "source": [
    "import sys\n",
    "\n",
    "'''\n",
    "Find the sum of all the primes below 2,000\n",
    "\n",
    "'''\n",
    "\n",
    "def is_prime(number):\n",
    "    for i in range(2, int(number / 2) + 1):\n",
    "        if number % i == 0:\n",
    "            return False\n",
    "\n",
    "    return True\n",
    "\n",
    "\n",
    "def main(argv=None):\n",
    "    sum_of_all_primes_below_2000 = 0\n",
    "    for num in range (2, 2000):\n",
    "        if is_prime(num):\n",
    "            sum_of_all_primes_below_2000 += num\n",
    "         \n",
    "    print (\" sum of all the primes below 2,000 is : {0}\"\n",
    "                    .format(sum_of_all_primes_below_2000))\n",
    "\n",
    "if __name__ == \"__main__\":\n",
    "    main()\n",
    "\n",
    "\n"
   ]
  },
  {
   "cell_type": "markdown",
   "metadata": {},
   "source": [
    "- Iterate through 2 to 2000\n",
    "- check of each number its its is_prime\n",
    "- logic of is_prime is optimized, like iterate through 2 to that number / 2\n",
    "- if mod is 0 then not prime, otherwise prime\n",
    "- if prime then add to outer variable sum_of_all_primes_below_2000\n",
    "- loop through as we get sum of all the primes below 2,000"
   ]
  },
  {
   "cell_type": "markdown",
   "metadata": {},
   "source": [
    "### Challenge 3: Multiples of 3 and 5\n",
    "If we list all of the natural numbers below 10 that are multiples of 3 or 5, we get 3, 5, 6, and 9. The sum of these multiples is 23. Find the sum of all the multiples of 3 or 5 below 1,000. Afterward, write a brief explanation walking through your code's logic in markdown."
   ]
  },
  {
   "cell_type": "code",
   "execution_count": 4,
   "metadata": {},
   "outputs": [
    {
     "name": "stdout",
     "output_type": "stream",
     "text": [
      " sum of all the multiples of 3 or 5 below 1,000 is : 233168\n"
     ]
    }
   ],
   "source": [
    "import sys\n",
    "\n",
    "'''\n",
    "Find the sum of all the multiples of 3 or 5 below 1,000\n",
    "'''\n",
    "\n",
    "def is_multiple(number, multiple_off):\n",
    "    if number % multiple_off == 0:\n",
    "        return True\n",
    "\n",
    "    return False\n",
    "\n",
    "\n",
    "def main(argv=None):\n",
    "    sum_of_all_multiples_of_3_or_5_below_1000 = 0\n",
    "    for num in range (1, 1000):\n",
    "        if is_multiple(num, 3) or is_multiple(num, 5):\n",
    "            sum_of_all_multiples_of_3_or_5_below_1000 += num\n",
    "         \n",
    "    print (\" sum of all the multiples of 3 or 5 below 1,000 is : {0}\"\n",
    "                    .format(sum_of_all_multiples_of_3_or_5_below_1000))\n",
    "\n",
    "if __name__ == \"__main__\":\n",
    "    main()\n",
    "\n",
    "\n"
   ]
  },
  {
   "cell_type": "markdown",
   "metadata": {},
   "source": [
    "- iterate through 1 to 1000\n",
    "- check is_multiple\n",
    "- note is_multiple is generic method, it takes 2 arguments, number itself and what you want to check if its multiple of\n",
    "- note passing 3 or 5\n",
    "- using mod, if 0 then its a multiple, otherwise not\n",
    "- if is_multiple of 3 or 5 then do the sum\n",
    "- loop and we get sum of all the multiples of 3 or 5 below 1,000"
   ]
  },
  {
   "cell_type": "markdown",
   "metadata": {},
   "source": [
    "### Challenge 4: String Compressor\n",
    "Implement a method to perform basic string compression using the counts of repeated characters. (This is called run-length encoding.) For example, the string \"aabcccccaaa\" would become a2b1c5a3. If the “compressed” string would not become smaller than the original string, your method should return the original string. You can assume the string has only uppercase and lowercase letters (a–z). Specify whether your solution is case sensitive or case insensitive and what you would need to change to make it the other. Afterward, write a brief explanation walking through your code's logic in markdown."
   ]
  },
  {
   "cell_type": "code",
   "execution_count": 8,
   "metadata": {},
   "outputs": [
    {
     "name": "stdout",
     "output_type": "stream",
     "text": [
      " string to be encoded using run-length encoding. aabcccccaaa\n",
      " encoded string function return value  a2b1c5a3\n"
     ]
    }
   ],
   "source": [
    "import sys\n",
    "\n",
    "'''\n",
    "Implement run-length encoding.\n",
    "For example, the string \"aabcccccaaa\" would become a2b1c5a3. \n",
    "If the “compressed” string would not become smaller than the original string, \n",
    "your method should return the original string\n",
    "'''\n",
    "\n",
    "def run_length_encoding(content):\n",
    "    encoded_content = ''\n",
    "\n",
    "    previous_character = content[0]\n",
    "    character_count = 1\n",
    "    for c in content[1:]:\n",
    "        if previous_character == c:\n",
    "            character_count += 1\n",
    "        else:\n",
    "            encoded_content = encoded_content + previous_character + str(character_count)\n",
    "            previous_character = c\n",
    "            character_count = 1\n",
    "\n",
    "    encoded_content = encoded_content + previous_character + str(character_count)\n",
    "\n",
    "    if len(encoded_content) < len(content):\n",
    "        return encoded_content\n",
    "    \n",
    "    return content\n",
    "\n",
    "\n",
    "def main(argv=None):\n",
    "    print (\" string to be encoded using run-length encoding.\", sys.argv[1])\n",
    "    print (\" encoded string function return value \", run_length_encoding(sys.argv[1]))\n",
    "    \n",
    "if __name__ == \"__main__\":\n",
    "    sys.argv[1] = \"aabcccccaaa\"\n",
    "    main(sys.argv)\n",
    "\n",
    "\n"
   ]
  },
  {
   "cell_type": "markdown",
   "metadata": {},
   "source": [
    "- run length encoding implemented\n",
    "- take argument \n",
    "- run_length_encoding function implemented \n",
    "- it loops through the content one character at a time\n",
    "- checks if its previous character, if yes, then increments the count and moves to next\n",
    "- if not then keep that character and keep 1 as count\n",
    "- loop through as we get run length encoded content\n",
    "- then compares length of encoded_content and orginal content\n",
    "- if encoded_content is smaller then orginal content returns encoded_content, if equal or greater then return content"
   ]
  },
  {
   "cell_type": "markdown",
   "metadata": {},
   "source": [
    "### Challenge 5: FizzBuzz\n",
    "\n",
    "Write a program that prints all of the numbers from 1 to 100. For multiples of 3, instead of the number, print \"Fizz;\" for multiples of 5, print \"Buzz.\" For numbers that are multiples of both 3 and 5, print \"FizzBuzz.\" Afterward, write a brief explanation walking through your code's logic in markdown."
   ]
  },
  {
   "cell_type": "code",
   "execution_count": 9,
   "metadata": {},
   "outputs": [
    {
     "name": "stdout",
     "output_type": "stream",
     "text": [
      "1\n",
      "2\n",
      "Fizz;\n",
      "4\n",
      "Buzz.\n",
      "Fizz;\n",
      "7\n",
      "8\n",
      "Fizz;\n",
      "Buzz.\n",
      "11\n",
      "Fizz;\n",
      "13\n",
      "14\n",
      "FizzBuzz.\n",
      "16\n",
      "17\n",
      "Fizz;\n",
      "19\n",
      "Buzz.\n",
      "Fizz;\n",
      "22\n",
      "23\n",
      "Fizz;\n",
      "Buzz.\n",
      "26\n",
      "Fizz;\n",
      "28\n",
      "29\n",
      "FizzBuzz.\n",
      "31\n",
      "32\n",
      "Fizz;\n",
      "34\n",
      "Buzz.\n",
      "Fizz;\n",
      "37\n",
      "38\n",
      "Fizz;\n",
      "Buzz.\n",
      "41\n",
      "Fizz;\n",
      "43\n",
      "44\n",
      "FizzBuzz.\n",
      "46\n",
      "47\n",
      "Fizz;\n",
      "49\n",
      "Buzz.\n",
      "Fizz;\n",
      "52\n",
      "53\n",
      "Fizz;\n",
      "Buzz.\n",
      "56\n",
      "Fizz;\n",
      "58\n",
      "59\n",
      "FizzBuzz.\n",
      "61\n",
      "62\n",
      "Fizz;\n",
      "64\n",
      "Buzz.\n",
      "Fizz;\n",
      "67\n",
      "68\n",
      "Fizz;\n",
      "Buzz.\n",
      "71\n",
      "Fizz;\n",
      "73\n",
      "74\n",
      "FizzBuzz.\n",
      "76\n",
      "77\n",
      "Fizz;\n",
      "79\n",
      "Buzz.\n",
      "Fizz;\n",
      "82\n",
      "83\n",
      "Fizz;\n",
      "Buzz.\n",
      "86\n",
      "Fizz;\n",
      "88\n",
      "89\n",
      "FizzBuzz.\n",
      "91\n",
      "92\n",
      "Fizz;\n",
      "94\n",
      "Buzz.\n",
      "Fizz;\n",
      "97\n",
      "98\n",
      "Fizz;\n",
      "Buzz.\n"
     ]
    }
   ],
   "source": [
    "import sys\n",
    "\n",
    "'''\n",
    "prints all of the numbers from 1 to 100. \n",
    "For multiples of 3, instead of the number, print \"Fizz;\" \n",
    "for multiples of 5, print \"Buzz.\" \n",
    "For numbers that are multiples of both 3 and 5, print \"FizzBuzz.\"\n",
    "'''\n",
    "\n",
    "def is_multiple(number, multiple_off):\n",
    "    if number % multiple_off == 0:\n",
    "        return True\n",
    "\n",
    "    return False\n",
    "\n",
    "\n",
    "def main(argv=None):\n",
    "    for num in range (1, 101):\n",
    "        if is_multiple(num, 3 * 5):\n",
    "            print(\"FizzBuzz.\")\n",
    "        elif is_multiple(num, 3):\n",
    "            print (\"Fizz;\")\n",
    "        elif is_multiple(num, 5):\n",
    "            print (\"Buzz.\")\n",
    "        else:\n",
    "            print (num)\n",
    "         \n",
    "\n",
    "if __name__ == \"__main__\":\n",
    "    main()\n",
    "\n",
    "\n"
   ]
  },
  {
   "cell_type": "markdown",
   "metadata": {},
   "source": [
    "- loop through 1 to 100\n",
    "- for multiple of 3 and 5, it has to multiple of 3 * 5  = 15\n",
    "- using this principle checking is_multiple of 15 or 5 or 3 and replacing it with specific strings\n",
    "- if none then printing the number\n",
    "- loop through as we get required prints"
   ]
  },
  {
   "cell_type": "code",
   "execution_count": null,
   "metadata": {},
   "outputs": [],
   "source": []
  }
 ],
 "metadata": {
  "anaconda-cloud": {},
  "kernelspec": {
   "display_name": "Python 3",
   "language": "python",
   "name": "python3"
  },
  "language_info": {
   "codemirror_mode": {
    "name": "ipython",
    "version": 3
   },
   "file_extension": ".py",
   "mimetype": "text/x-python",
   "name": "python",
   "nbconvert_exporter": "python",
   "pygments_lexer": "ipython3",
   "version": "3.6.4"
  }
 },
 "nbformat": 4,
 "nbformat_minor": 2
}

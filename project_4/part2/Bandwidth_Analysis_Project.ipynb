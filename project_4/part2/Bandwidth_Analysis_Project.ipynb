{
 "cells": [
  {
   "cell_type": "code",
   "execution_count": null,
   "metadata": {},
   "outputs": [],
   "source": [
    "# NOTES\n",
    "\n",
    "# We are working on Bandwidth prediction model\n",
    "# our data is \"ts\" -> time in epcoh , \"bandwidth\" -> in bits per sec\n",
    "# We have sourced this subset of data internally\n",
    "# cleanse the data where possible\n",
    "# there are some data holes, which are the issue of collection, which you will see is reflected in visualization graph\n",
    "# as we proceed we are working with Data collection team to address them where ever possible\n"
   ]
  },
  {
   "cell_type": "code",
   "execution_count": 1,
   "metadata": {},
   "outputs": [],
   "source": [
    "import matplotlib.pyplot as plt\n",
    "import seaborn as sns\n",
    "import pandas as pd\n",
    "import numpy as np\n",
    "\n",
    "from sklearn import model_selection\n",
    "from sklearn.linear_model import LinearRegression\n",
    "from sklearn.model_selection import train_test_split\n",
    "from sklearn.preprocessing import PolynomialFeatures\n",
    "from sklearn import metrics\n",
    "\n",
    "% matplotlib inline\n",
    "\n",
    "plt.rcParams['figure.figsize'] = (16.0, 8.0)\n",
    "pd.set_option('display.precision',9)"
   ]
  },
  {
   "cell_type": "code",
   "execution_count": 80,
   "metadata": {},
   "outputs": [
    {
     "data": {
      "text/html": [
       "<div>\n",
       "<style scoped>\n",
       "    .dataframe tbody tr th:only-of-type {\n",
       "        vertical-align: middle;\n",
       "    }\n",
       "\n",
       "    .dataframe tbody tr th {\n",
       "        vertical-align: top;\n",
       "    }\n",
       "\n",
       "    .dataframe thead th {\n",
       "        text-align: right;\n",
       "    }\n",
       "</style>\n",
       "<table border=\"1\" class=\"dataframe\">\n",
       "  <thead>\n",
       "    <tr style=\"text-align: right;\">\n",
       "      <th></th>\n",
       "      <th>id</th>\n",
       "      <th>ts</th>\n",
       "      <th>bandwidth</th>\n",
       "    </tr>\n",
       "  </thead>\n",
       "  <tbody>\n",
       "    <tr>\n",
       "      <th>0</th>\n",
       "      <td>4</td>\n",
       "      <td>1518575533</td>\n",
       "      <td>56623520</td>\n",
       "    </tr>\n",
       "    <tr>\n",
       "      <th>1</th>\n",
       "      <td>5</td>\n",
       "      <td>1518575240</td>\n",
       "      <td>95733424</td>\n",
       "    </tr>\n",
       "    <tr>\n",
       "      <th>2</th>\n",
       "      <td>6</td>\n",
       "      <td>1518572471</td>\n",
       "      <td>52946496</td>\n",
       "    </tr>\n",
       "    <tr>\n",
       "      <th>3</th>\n",
       "      <td>7</td>\n",
       "      <td>1518576880</td>\n",
       "      <td>61887376</td>\n",
       "    </tr>\n",
       "    <tr>\n",
       "      <th>4</th>\n",
       "      <td>8</td>\n",
       "      <td>1518579103</td>\n",
       "      <td>48975776</td>\n",
       "    </tr>\n",
       "  </tbody>\n",
       "</table>\n",
       "</div>"
      ],
      "text/plain": [
       "  id          ts bandwidth\n",
       "0  4  1518575533  56623520\n",
       "1  5  1518575240  95733424\n",
       "2  6  1518572471  52946496\n",
       "3  7  1518576880  61887376\n",
       "4  8  1518579103  48975776"
      ]
     },
     "execution_count": 80,
     "metadata": {},
     "output_type": "execute_result"
    }
   ],
   "source": [
    "bw = pd.read_csv('./bw_data.csv')\n",
    "bw.head()\n",
    "# you will notice that data is not sorted out, we will do that in below steps"
   ]
  },
  {
   "cell_type": "code",
   "execution_count": 81,
   "metadata": {},
   "outputs": [],
   "source": [
    "bw.drop(columns=['id'], inplace=True)"
   ]
  },
  {
   "cell_type": "code",
   "execution_count": 82,
   "metadata": {},
   "outputs": [
    {
     "data": {
      "text/plain": [
       "ts           object\n",
       "bandwidth    object\n",
       "dtype: object"
      ]
     },
     "execution_count": 82,
     "metadata": {},
     "output_type": "execute_result"
    }
   ],
   "source": [
    "bw.dtypes"
   ]
  },
  {
   "cell_type": "code",
   "execution_count": 83,
   "metadata": {},
   "outputs": [
    {
     "data": {
      "text/plain": [
       "ts           0\n",
       "bandwidth    0\n",
       "dtype: int64"
      ]
     },
     "execution_count": 83,
     "metadata": {},
     "output_type": "execute_result"
    }
   ],
   "source": [
    "bw.isnull().sum()"
   ]
  },
  {
   "cell_type": "code",
   "execution_count": 84,
   "metadata": {},
   "outputs": [
    {
     "data": {
      "text/plain": [
       "(918792, 2)"
      ]
     },
     "execution_count": 84,
     "metadata": {},
     "output_type": "execute_result"
    }
   ],
   "source": [
    "bw.shape"
   ]
  },
  {
   "cell_type": "code",
   "execution_count": 85,
   "metadata": {},
   "outputs": [
    {
     "data": {
      "text/plain": [
       "(918773, 2)"
      ]
     },
     "execution_count": 85,
     "metadata": {},
     "output_type": "execute_result"
    }
   ],
   "source": [
    "bw = bw[bw.loc[:, 'ts'] != 'ts']\n",
    "bw.shape\n",
    "## 19 rows has invalid values. Contains: word \"ts\" instead of timestamps and \"bandwidth\" instead of bandwidth value\n",
    "## remove it"
   ]
  },
  {
   "cell_type": "code",
   "execution_count": 86,
   "metadata": {},
   "outputs": [],
   "source": [
    "bw.loc[:, 'bandwidth'] = pd.to_numeric(bw.loc[:, 'bandwidth'], errors='coerce')"
   ]
  },
  {
   "cell_type": "code",
   "execution_count": 87,
   "metadata": {},
   "outputs": [
    {
     "data": {
      "text/plain": [
       "(918773, 2)"
      ]
     },
     "execution_count": 87,
     "metadata": {},
     "output_type": "execute_result"
    }
   ],
   "source": [
    "bw.shape"
   ]
  },
  {
   "cell_type": "code",
   "execution_count": 88,
   "metadata": {},
   "outputs": [
    {
     "data": {
      "text/plain": [
       "ts           object\n",
       "bandwidth     int64\n",
       "dtype: object"
      ]
     },
     "execution_count": 88,
     "metadata": {},
     "output_type": "execute_result"
    }
   ],
   "source": [
    "bw.dtypes"
   ]
  },
  {
   "cell_type": "code",
   "execution_count": 89,
   "metadata": {},
   "outputs": [
    {
     "data": {
      "text/plain": [
       "ts           0\n",
       "bandwidth    0\n",
       "dtype: int64"
      ]
     },
     "execution_count": 89,
     "metadata": {},
     "output_type": "execute_result"
    }
   ],
   "source": [
    "bw.isnull().sum()\n"
   ]
  },
  {
   "cell_type": "code",
   "execution_count": 90,
   "metadata": {},
   "outputs": [
    {
     "data": {
      "text/html": [
       "<div>\n",
       "<style scoped>\n",
       "    .dataframe tbody tr th:only-of-type {\n",
       "        vertical-align: middle;\n",
       "    }\n",
       "\n",
       "    .dataframe tbody tr th {\n",
       "        vertical-align: top;\n",
       "    }\n",
       "\n",
       "    .dataframe thead th {\n",
       "        text-align: right;\n",
       "    }\n",
       "</style>\n",
       "<table border=\"1\" class=\"dataframe\">\n",
       "  <thead>\n",
       "    <tr style=\"text-align: right;\">\n",
       "      <th></th>\n",
       "      <th>ts</th>\n",
       "      <th>bandwidth</th>\n",
       "    </tr>\n",
       "  </thead>\n",
       "  <tbody>\n",
       "    <tr>\n",
       "      <th>0</th>\n",
       "      <td>1518575533</td>\n",
       "      <td>56623520</td>\n",
       "    </tr>\n",
       "    <tr>\n",
       "      <th>1</th>\n",
       "      <td>1518575240</td>\n",
       "      <td>95733424</td>\n",
       "    </tr>\n",
       "    <tr>\n",
       "      <th>2</th>\n",
       "      <td>1518572471</td>\n",
       "      <td>52946496</td>\n",
       "    </tr>\n",
       "    <tr>\n",
       "      <th>3</th>\n",
       "      <td>1518576880</td>\n",
       "      <td>61887376</td>\n",
       "    </tr>\n",
       "    <tr>\n",
       "      <th>4</th>\n",
       "      <td>1518579103</td>\n",
       "      <td>48975776</td>\n",
       "    </tr>\n",
       "  </tbody>\n",
       "</table>\n",
       "</div>"
      ],
      "text/plain": [
       "           ts  bandwidth\n",
       "0  1518575533   56623520\n",
       "1  1518575240   95733424\n",
       "2  1518572471   52946496\n",
       "3  1518576880   61887376\n",
       "4  1518579103   48975776"
      ]
     },
     "execution_count": 90,
     "metadata": {},
     "output_type": "execute_result"
    }
   ],
   "source": [
    "bw.head()"
   ]
  },
  {
   "cell_type": "code",
   "execution_count": 91,
   "metadata": {},
   "outputs": [
    {
     "data": {
      "text/html": [
       "<div>\n",
       "<style scoped>\n",
       "    .dataframe tbody tr th:only-of-type {\n",
       "        vertical-align: middle;\n",
       "    }\n",
       "\n",
       "    .dataframe tbody tr th {\n",
       "        vertical-align: top;\n",
       "    }\n",
       "\n",
       "    .dataframe thead th {\n",
       "        text-align: right;\n",
       "    }\n",
       "</style>\n",
       "<table border=\"1\" class=\"dataframe\">\n",
       "  <thead>\n",
       "    <tr style=\"text-align: right;\">\n",
       "      <th></th>\n",
       "      <th>ts</th>\n",
       "      <th>bandwidth</th>\n",
       "    </tr>\n",
       "  </thead>\n",
       "  <tbody>\n",
       "    <tr>\n",
       "      <th>0</th>\n",
       "      <td>1518575533</td>\n",
       "      <td>56623520</td>\n",
       "    </tr>\n",
       "    <tr>\n",
       "      <th>1</th>\n",
       "      <td>1518575240</td>\n",
       "      <td>95733424</td>\n",
       "    </tr>\n",
       "    <tr>\n",
       "      <th>2</th>\n",
       "      <td>1518572471</td>\n",
       "      <td>52946496</td>\n",
       "    </tr>\n",
       "    <tr>\n",
       "      <th>3</th>\n",
       "      <td>1518576880</td>\n",
       "      <td>61887376</td>\n",
       "    </tr>\n",
       "    <tr>\n",
       "      <th>4</th>\n",
       "      <td>1518579103</td>\n",
       "      <td>48975776</td>\n",
       "    </tr>\n",
       "  </tbody>\n",
       "</table>\n",
       "</div>"
      ],
      "text/plain": [
       "           ts  bandwidth\n",
       "0  1518575533   56623520\n",
       "1  1518575240   95733424\n",
       "2  1518572471   52946496\n",
       "3  1518576880   61887376\n",
       "4  1518579103   48975776"
      ]
     },
     "execution_count": 91,
     "metadata": {},
     "output_type": "execute_result"
    }
   ],
   "source": [
    "bw.head()"
   ]
  },
  {
   "cell_type": "code",
   "execution_count": 92,
   "metadata": {},
   "outputs": [],
   "source": [
    "bw['ts'] = pd.to_datetime(bw['ts'], unit='s', utc=True)"
   ]
  },
  {
   "cell_type": "markdown",
   "metadata": {},
   "source": [
    "## Add Missing Values"
   ]
  },
  {
   "cell_type": "code",
   "execution_count": 93,
   "metadata": {},
   "outputs": [
    {
     "data": {
      "text/html": [
       "<div>\n",
       "<style scoped>\n",
       "    .dataframe tbody tr th:only-of-type {\n",
       "        vertical-align: middle;\n",
       "    }\n",
       "\n",
       "    .dataframe tbody tr th {\n",
       "        vertical-align: top;\n",
       "    }\n",
       "\n",
       "    .dataframe thead th {\n",
       "        text-align: right;\n",
       "    }\n",
       "</style>\n",
       "<table border=\"1\" class=\"dataframe\">\n",
       "  <thead>\n",
       "    <tr style=\"text-align: right;\">\n",
       "      <th></th>\n",
       "      <th>ts</th>\n",
       "      <th>bandwidth</th>\n",
       "    </tr>\n",
       "  </thead>\n",
       "  <tbody>\n",
       "    <tr>\n",
       "      <th>0</th>\n",
       "      <td>2018-02-14 02:32:13+00:00</td>\n",
       "      <td>56623520</td>\n",
       "    </tr>\n",
       "    <tr>\n",
       "      <th>1</th>\n",
       "      <td>2018-02-14 02:27:20+00:00</td>\n",
       "      <td>95733424</td>\n",
       "    </tr>\n",
       "    <tr>\n",
       "      <th>2</th>\n",
       "      <td>2018-02-14 01:41:11+00:00</td>\n",
       "      <td>52946496</td>\n",
       "    </tr>\n",
       "    <tr>\n",
       "      <th>3</th>\n",
       "      <td>2018-02-14 02:54:40+00:00</td>\n",
       "      <td>61887376</td>\n",
       "    </tr>\n",
       "    <tr>\n",
       "      <th>4</th>\n",
       "      <td>2018-02-14 03:31:43+00:00</td>\n",
       "      <td>48975776</td>\n",
       "    </tr>\n",
       "  </tbody>\n",
       "</table>\n",
       "</div>"
      ],
      "text/plain": [
       "                         ts  bandwidth\n",
       "0 2018-02-14 02:32:13+00:00   56623520\n",
       "1 2018-02-14 02:27:20+00:00   95733424\n",
       "2 2018-02-14 01:41:11+00:00   52946496\n",
       "3 2018-02-14 02:54:40+00:00   61887376\n",
       "4 2018-02-14 03:31:43+00:00   48975776"
      ]
     },
     "execution_count": 93,
     "metadata": {},
     "output_type": "execute_result"
    }
   ],
   "source": [
    "bw.head()"
   ]
  },
  {
   "cell_type": "code",
   "execution_count": 94,
   "metadata": {},
   "outputs": [],
   "source": [
    "bw.sort_values(by=['ts'], inplace=True)"
   ]
  },
  {
   "cell_type": "code",
   "execution_count": 95,
   "metadata": {},
   "outputs": [
    {
     "data": {
      "text/html": [
       "<div>\n",
       "<style scoped>\n",
       "    .dataframe tbody tr th:only-of-type {\n",
       "        vertical-align: middle;\n",
       "    }\n",
       "\n",
       "    .dataframe tbody tr th {\n",
       "        vertical-align: top;\n",
       "    }\n",
       "\n",
       "    .dataframe thead th {\n",
       "        text-align: right;\n",
       "    }\n",
       "</style>\n",
       "<table border=\"1\" class=\"dataframe\">\n",
       "  <thead>\n",
       "    <tr style=\"text-align: right;\">\n",
       "      <th></th>\n",
       "      <th>ts</th>\n",
       "      <th>bandwidth</th>\n",
       "    </tr>\n",
       "  </thead>\n",
       "  <tbody>\n",
       "    <tr>\n",
       "      <th>750218</th>\n",
       "      <td>2018-02-06 17:58:49+00:00</td>\n",
       "      <td>3270224</td>\n",
       "    </tr>\n",
       "    <tr>\n",
       "      <th>750217</th>\n",
       "      <td>2018-02-06 17:58:50+00:00</td>\n",
       "      <td>63710864</td>\n",
       "    </tr>\n",
       "    <tr>\n",
       "      <th>750246</th>\n",
       "      <td>2018-02-06 17:58:51+00:00</td>\n",
       "      <td>66147616</td>\n",
       "    </tr>\n",
       "    <tr>\n",
       "      <th>750197</th>\n",
       "      <td>2018-02-06 17:58:52+00:00</td>\n",
       "      <td>82064232</td>\n",
       "    </tr>\n",
       "    <tr>\n",
       "      <th>750179</th>\n",
       "      <td>2018-02-06 17:58:53+00:00</td>\n",
       "      <td>245525168</td>\n",
       "    </tr>\n",
       "  </tbody>\n",
       "</table>\n",
       "</div>"
      ],
      "text/plain": [
       "                              ts  bandwidth\n",
       "750218 2018-02-06 17:58:49+00:00    3270224\n",
       "750217 2018-02-06 17:58:50+00:00   63710864\n",
       "750246 2018-02-06 17:58:51+00:00   66147616\n",
       "750197 2018-02-06 17:58:52+00:00   82064232\n",
       "750179 2018-02-06 17:58:53+00:00  245525168"
      ]
     },
     "execution_count": 95,
     "metadata": {},
     "output_type": "execute_result"
    }
   ],
   "source": [
    "bw.head()"
   ]
  },
  {
   "cell_type": "code",
   "execution_count": 102,
   "metadata": {},
   "outputs": [],
   "source": [
    "bw['diff_ts'] = bw['ts'].diff().shift(-1)"
   ]
  },
  {
   "cell_type": "code",
   "execution_count": 105,
   "metadata": {},
   "outputs": [],
   "source": [
    "bw['diff_ts'] = bw['diff_ts'].dt.total_seconds()"
   ]
  },
  {
   "cell_type": "code",
   "execution_count": 106,
   "metadata": {},
   "outputs": [
    {
     "data": {
      "text/html": [
       "<div>\n",
       "<style scoped>\n",
       "    .dataframe tbody tr th:only-of-type {\n",
       "        vertical-align: middle;\n",
       "    }\n",
       "\n",
       "    .dataframe tbody tr th {\n",
       "        vertical-align: top;\n",
       "    }\n",
       "\n",
       "    .dataframe thead th {\n",
       "        text-align: right;\n",
       "    }\n",
       "</style>\n",
       "<table border=\"1\" class=\"dataframe\">\n",
       "  <thead>\n",
       "    <tr style=\"text-align: right;\">\n",
       "      <th></th>\n",
       "      <th>ts</th>\n",
       "      <th>bandwidth</th>\n",
       "      <th>diff_ts</th>\n",
       "    </tr>\n",
       "  </thead>\n",
       "  <tbody>\n",
       "    <tr>\n",
       "      <th>750218</th>\n",
       "      <td>2018-02-06 17:58:49+00:00</td>\n",
       "      <td>3270224</td>\n",
       "      <td>1.0</td>\n",
       "    </tr>\n",
       "    <tr>\n",
       "      <th>750217</th>\n",
       "      <td>2018-02-06 17:58:50+00:00</td>\n",
       "      <td>63710864</td>\n",
       "      <td>1.0</td>\n",
       "    </tr>\n",
       "    <tr>\n",
       "      <th>750246</th>\n",
       "      <td>2018-02-06 17:58:51+00:00</td>\n",
       "      <td>66147616</td>\n",
       "      <td>1.0</td>\n",
       "    </tr>\n",
       "    <tr>\n",
       "      <th>750197</th>\n",
       "      <td>2018-02-06 17:58:52+00:00</td>\n",
       "      <td>82064232</td>\n",
       "      <td>1.0</td>\n",
       "    </tr>\n",
       "    <tr>\n",
       "      <th>750179</th>\n",
       "      <td>2018-02-06 17:58:53+00:00</td>\n",
       "      <td>245525168</td>\n",
       "      <td>1.0</td>\n",
       "    </tr>\n",
       "  </tbody>\n",
       "</table>\n",
       "</div>"
      ],
      "text/plain": [
       "                              ts  bandwidth  diff_ts\n",
       "750218 2018-02-06 17:58:49+00:00    3270224      1.0\n",
       "750217 2018-02-06 17:58:50+00:00   63710864      1.0\n",
       "750246 2018-02-06 17:58:51+00:00   66147616      1.0\n",
       "750197 2018-02-06 17:58:52+00:00   82064232      1.0\n",
       "750179 2018-02-06 17:58:53+00:00  245525168      1.0"
      ]
     },
     "execution_count": 106,
     "metadata": {},
     "output_type": "execute_result"
    }
   ],
   "source": [
    "bw.head()"
   ]
  },
  {
   "cell_type": "code",
   "execution_count": 135,
   "metadata": {},
   "outputs": [
    {
     "data": {
      "text/html": [
       "<div>\n",
       "<style scoped>\n",
       "    .dataframe tbody tr th:only-of-type {\n",
       "        vertical-align: middle;\n",
       "    }\n",
       "\n",
       "    .dataframe tbody tr th {\n",
       "        vertical-align: top;\n",
       "    }\n",
       "\n",
       "    .dataframe thead th {\n",
       "        text-align: right;\n",
       "    }\n",
       "</style>\n",
       "<table border=\"1\" class=\"dataframe\">\n",
       "  <thead>\n",
       "    <tr style=\"text-align: right;\">\n",
       "      <th></th>\n",
       "      <th>bandwidth</th>\n",
       "      <th>diff_ts</th>\n",
       "    </tr>\n",
       "    <tr>\n",
       "      <th>ts</th>\n",
       "      <th></th>\n",
       "      <th></th>\n",
       "    </tr>\n",
       "  </thead>\n",
       "  <tbody>\n",
       "    <tr>\n",
       "      <th>2018-02-06 17:58:49+00:00</th>\n",
       "      <td>3270224</td>\n",
       "      <td>1.0</td>\n",
       "    </tr>\n",
       "    <tr>\n",
       "      <th>2018-02-06 17:58:50+00:00</th>\n",
       "      <td>63710864</td>\n",
       "      <td>1.0</td>\n",
       "    </tr>\n",
       "    <tr>\n",
       "      <th>2018-02-06 17:58:51+00:00</th>\n",
       "      <td>66147616</td>\n",
       "      <td>1.0</td>\n",
       "    </tr>\n",
       "    <tr>\n",
       "      <th>2018-02-06 17:58:52+00:00</th>\n",
       "      <td>82064232</td>\n",
       "      <td>1.0</td>\n",
       "    </tr>\n",
       "    <tr>\n",
       "      <th>2018-02-06 17:58:53+00:00</th>\n",
       "      <td>245525168</td>\n",
       "      <td>1.0</td>\n",
       "    </tr>\n",
       "  </tbody>\n",
       "</table>\n",
       "</div>"
      ],
      "text/plain": [
       "                           bandwidth  diff_ts\n",
       "ts                                           \n",
       "2018-02-06 17:58:49+00:00    3270224      1.0\n",
       "2018-02-06 17:58:50+00:00   63710864      1.0\n",
       "2018-02-06 17:58:51+00:00   66147616      1.0\n",
       "2018-02-06 17:58:52+00:00   82064232      1.0\n",
       "2018-02-06 17:58:53+00:00  245525168      1.0"
      ]
     },
     "execution_count": 135,
     "metadata": {},
     "output_type": "execute_result"
    }
   ],
   "source": [
    "bw.set_index('ts', inplace=True)\n",
    "bw.head()"
   ]
  },
  {
   "cell_type": "code",
   "execution_count": 204,
   "metadata": {},
   "outputs": [
    {
     "data": {
      "text/html": [
       "<div>\n",
       "<style scoped>\n",
       "    .dataframe tbody tr th:only-of-type {\n",
       "        vertical-align: middle;\n",
       "    }\n",
       "\n",
       "    .dataframe tbody tr th {\n",
       "        vertical-align: top;\n",
       "    }\n",
       "\n",
       "    .dataframe thead th {\n",
       "        text-align: right;\n",
       "    }\n",
       "</style>\n",
       "<table border=\"1\" class=\"dataframe\">\n",
       "  <thead>\n",
       "    <tr style=\"text-align: right;\">\n",
       "      <th></th>\n",
       "      <th>ts</th>\n",
       "      <th>bandwidth</th>\n",
       "    </tr>\n",
       "  </thead>\n",
       "  <tbody>\n",
       "    <tr>\n",
       "      <th>0</th>\n",
       "      <td>2018-02-06 17:58:49+00:00</td>\n",
       "      <td>3270224</td>\n",
       "    </tr>\n",
       "    <tr>\n",
       "      <th>1</th>\n",
       "      <td>2018-02-06 17:58:50+00:00</td>\n",
       "      <td>63710864</td>\n",
       "    </tr>\n",
       "    <tr>\n",
       "      <th>2</th>\n",
       "      <td>2018-02-06 17:58:51+00:00</td>\n",
       "      <td>66147616</td>\n",
       "    </tr>\n",
       "    <tr>\n",
       "      <th>3</th>\n",
       "      <td>2018-02-06 17:58:52+00:00</td>\n",
       "      <td>82064232</td>\n",
       "    </tr>\n",
       "    <tr>\n",
       "      <th>4</th>\n",
       "      <td>2018-02-06 17:58:53+00:00</td>\n",
       "      <td>245525168</td>\n",
       "    </tr>\n",
       "  </tbody>\n",
       "</table>\n",
       "</div>"
      ],
      "text/plain": [
       "                         ts  bandwidth\n",
       "0 2018-02-06 17:58:49+00:00    3270224\n",
       "1 2018-02-06 17:58:50+00:00   63710864\n",
       "2 2018-02-06 17:58:51+00:00   66147616\n",
       "3 2018-02-06 17:58:52+00:00   82064232\n",
       "4 2018-02-06 17:58:53+00:00  245525168"
      ]
     },
     "execution_count": 204,
     "metadata": {},
     "output_type": "execute_result"
    }
   ],
   "source": [
    "list_with_filled_missing_data = []\n",
    "# note logic is to check if diff in forward timestamp is greater than 1 sec\n",
    "# if yes, then add that sec and copy previous bandwidth value to it\n",
    "for tstamp, row in bw.iterrows():\n",
    "    list_with_filled_missing_data.append([tstamp, int(row['bandwidth'])])\n",
    "    if row['diff_ts'] > 1.0:\n",
    "        start_date = tstamp\n",
    "        for fill_ts in (start_date + pd.Timedelta(n, unit='s') for n in range(1, int(row['diff_ts']))):\n",
    "            list_with_filled_missing_data.append([fill_ts, int(row['bandwidth'])])\n",
    "bw_with_add_missing_ts_values = pd.DataFrame(list_with_filled_missing_data, columns=['ts','bandwidth'])\n",
    "bw_with_add_missing_ts_values.head()"
   ]
  },
  {
   "cell_type": "code",
   "execution_count": 207,
   "metadata": {},
   "outputs": [
    {
     "data": {
      "text/plain": [
       "(918773, 2)"
      ]
     },
     "execution_count": 207,
     "metadata": {},
     "output_type": "execute_result"
    }
   ],
   "source": [
    "bw.shape"
   ]
  },
  {
   "cell_type": "code",
   "execution_count": 205,
   "metadata": {},
   "outputs": [
    {
     "data": {
      "text/plain": [
       "(1984447, 2)"
      ]
     },
     "execution_count": 205,
     "metadata": {},
     "output_type": "execute_result"
    }
   ],
   "source": [
    "bw_with_add_missing_ts_values.shape"
   ]
  },
  {
   "cell_type": "code",
   "execution_count": 208,
   "metadata": {},
   "outputs": [],
   "source": [
    "# verify if we now have data at 1 sec interval\n",
    "bw_with_add_missing_ts_values['diff_ts'] = bw_with_add_missing_ts_values['ts'].diff().shift(-1)"
   ]
  },
  {
   "cell_type": "code",
   "execution_count": 209,
   "metadata": {},
   "outputs": [],
   "source": [
    "bw_with_add_missing_ts_values['diff_ts'] = bw_with_add_missing_ts_values['diff_ts'].dt.total_seconds()"
   ]
  },
  {
   "cell_type": "code",
   "execution_count": 211,
   "metadata": {},
   "outputs": [
    {
     "data": {
      "text/html": [
       "<div>\n",
       "<style scoped>\n",
       "    .dataframe tbody tr th:only-of-type {\n",
       "        vertical-align: middle;\n",
       "    }\n",
       "\n",
       "    .dataframe tbody tr th {\n",
       "        vertical-align: top;\n",
       "    }\n",
       "\n",
       "    .dataframe thead th {\n",
       "        text-align: right;\n",
       "    }\n",
       "</style>\n",
       "<table border=\"1\" class=\"dataframe\">\n",
       "  <thead>\n",
       "    <tr style=\"text-align: right;\">\n",
       "      <th></th>\n",
       "      <th>ts</th>\n",
       "      <th>bandwidth</th>\n",
       "      <th>diff_ts</th>\n",
       "    </tr>\n",
       "  </thead>\n",
       "  <tbody>\n",
       "  </tbody>\n",
       "</table>\n",
       "</div>"
      ],
      "text/plain": [
       "Empty DataFrame\n",
       "Columns: [ts, bandwidth, diff_ts]\n",
       "Index: []"
      ]
     },
     "execution_count": 211,
     "metadata": {},
     "output_type": "execute_result"
    }
   ],
   "source": [
    "bw_with_add_missing_ts_values[(bw_with_add_missing_ts_values.diff_ts > 1.0)]"
   ]
  },
  {
   "cell_type": "code",
   "execution_count": 214,
   "metadata": {},
   "outputs": [],
   "source": [
    "# As we have verified that all the timestamp we have is with 1 sec interval, thus dropping column 'diff_ts'\n",
    "bw_with_add_missing_ts_values.drop('diff_ts', axis=1, inplace=True) "
   ]
  },
  {
   "cell_type": "code",
   "execution_count": 215,
   "metadata": {},
   "outputs": [],
   "source": [
    "# sorting\n",
    "bw_with_add_missing_ts_values.sort_values(by=['ts'], inplace=True)"
   ]
  },
  {
   "cell_type": "code",
   "execution_count": 216,
   "metadata": {},
   "outputs": [
    {
     "data": {
      "text/html": [
       "<div>\n",
       "<style scoped>\n",
       "    .dataframe tbody tr th:only-of-type {\n",
       "        vertical-align: middle;\n",
       "    }\n",
       "\n",
       "    .dataframe tbody tr th {\n",
       "        vertical-align: top;\n",
       "    }\n",
       "\n",
       "    .dataframe thead th {\n",
       "        text-align: right;\n",
       "    }\n",
       "</style>\n",
       "<table border=\"1\" class=\"dataframe\">\n",
       "  <thead>\n",
       "    <tr style=\"text-align: right;\">\n",
       "      <th></th>\n",
       "      <th>bandwidth</th>\n",
       "    </tr>\n",
       "    <tr>\n",
       "      <th>ts</th>\n",
       "      <th></th>\n",
       "    </tr>\n",
       "  </thead>\n",
       "  <tbody>\n",
       "    <tr>\n",
       "      <th>2018-02-06 17:58:49+00:00</th>\n",
       "      <td>3270224</td>\n",
       "    </tr>\n",
       "    <tr>\n",
       "      <th>2018-02-06 17:58:50+00:00</th>\n",
       "      <td>63710864</td>\n",
       "    </tr>\n",
       "    <tr>\n",
       "      <th>2018-02-06 17:58:51+00:00</th>\n",
       "      <td>66147616</td>\n",
       "    </tr>\n",
       "    <tr>\n",
       "      <th>2018-02-06 17:58:52+00:00</th>\n",
       "      <td>82064232</td>\n",
       "    </tr>\n",
       "    <tr>\n",
       "      <th>2018-02-06 17:58:53+00:00</th>\n",
       "      <td>245525168</td>\n",
       "    </tr>\n",
       "  </tbody>\n",
       "</table>\n",
       "</div>"
      ],
      "text/plain": [
       "                           bandwidth\n",
       "ts                                  \n",
       "2018-02-06 17:58:49+00:00    3270224\n",
       "2018-02-06 17:58:50+00:00   63710864\n",
       "2018-02-06 17:58:51+00:00   66147616\n",
       "2018-02-06 17:58:52+00:00   82064232\n",
       "2018-02-06 17:58:53+00:00  245525168"
      ]
     },
     "execution_count": 216,
     "metadata": {},
     "output_type": "execute_result"
    }
   ],
   "source": [
    "# indexing 'ts' column\n",
    "bw_with_add_missing_ts_values.set_index('ts', inplace=True)\n",
    "bw_with_add_missing_ts_values.head()"
   ]
  },
  {
   "cell_type": "code",
   "execution_count": 217,
   "metadata": {},
   "outputs": [],
   "source": [
    "# persisting data from this frame to csv \n",
    "bw_with_add_missing_ts_values.to_csv('bw_cleaned_data.csv', encoding='utf-8')"
   ]
  },
  {
   "cell_type": "markdown",
   "metadata": {},
   "source": [
    "## Creating DataFrame from Cleaned data file"
   ]
  },
  {
   "cell_type": "code",
   "execution_count": 2,
   "metadata": {},
   "outputs": [
    {
     "data": {
      "text/html": [
       "<div>\n",
       "<style scoped>\n",
       "    .dataframe tbody tr th:only-of-type {\n",
       "        vertical-align: middle;\n",
       "    }\n",
       "\n",
       "    .dataframe tbody tr th {\n",
       "        vertical-align: top;\n",
       "    }\n",
       "\n",
       "    .dataframe thead th {\n",
       "        text-align: right;\n",
       "    }\n",
       "</style>\n",
       "<table border=\"1\" class=\"dataframe\">\n",
       "  <thead>\n",
       "    <tr style=\"text-align: right;\">\n",
       "      <th></th>\n",
       "      <th>ts</th>\n",
       "      <th>bandwidth</th>\n",
       "    </tr>\n",
       "  </thead>\n",
       "  <tbody>\n",
       "    <tr>\n",
       "      <th>0</th>\n",
       "      <td>2018-02-06 17:58:49+00:00</td>\n",
       "      <td>3270224</td>\n",
       "    </tr>\n",
       "    <tr>\n",
       "      <th>1</th>\n",
       "      <td>2018-02-06 17:58:50+00:00</td>\n",
       "      <td>63710864</td>\n",
       "    </tr>\n",
       "    <tr>\n",
       "      <th>2</th>\n",
       "      <td>2018-02-06 17:58:51+00:00</td>\n",
       "      <td>66147616</td>\n",
       "    </tr>\n",
       "    <tr>\n",
       "      <th>3</th>\n",
       "      <td>2018-02-06 17:58:52+00:00</td>\n",
       "      <td>82064232</td>\n",
       "    </tr>\n",
       "    <tr>\n",
       "      <th>4</th>\n",
       "      <td>2018-02-06 17:58:53+00:00</td>\n",
       "      <td>245525168</td>\n",
       "    </tr>\n",
       "  </tbody>\n",
       "</table>\n",
       "</div>"
      ],
      "text/plain": [
       "                          ts  bandwidth\n",
       "0  2018-02-06 17:58:49+00:00    3270224\n",
       "1  2018-02-06 17:58:50+00:00   63710864\n",
       "2  2018-02-06 17:58:51+00:00   66147616\n",
       "3  2018-02-06 17:58:52+00:00   82064232\n",
       "4  2018-02-06 17:58:53+00:00  245525168"
      ]
     },
     "execution_count": 2,
     "metadata": {},
     "output_type": "execute_result"
    }
   ],
   "source": [
    "df_bw = pd.read_csv('./bw_cleaned_data.csv')\n",
    "df_bw.head()"
   ]
  },
  {
   "cell_type": "code",
   "execution_count": 3,
   "metadata": {},
   "outputs": [
    {
     "data": {
      "text/html": [
       "<div>\n",
       "<style scoped>\n",
       "    .dataframe tbody tr th:only-of-type {\n",
       "        vertical-align: middle;\n",
       "    }\n",
       "\n",
       "    .dataframe tbody tr th {\n",
       "        vertical-align: top;\n",
       "    }\n",
       "\n",
       "    .dataframe thead th {\n",
       "        text-align: right;\n",
       "    }\n",
       "</style>\n",
       "<table border=\"1\" class=\"dataframe\">\n",
       "  <thead>\n",
       "    <tr style=\"text-align: right;\">\n",
       "      <th></th>\n",
       "      <th>bandwidth</th>\n",
       "    </tr>\n",
       "    <tr>\n",
       "      <th>ts</th>\n",
       "      <th></th>\n",
       "    </tr>\n",
       "  </thead>\n",
       "  <tbody>\n",
       "    <tr>\n",
       "      <th>2018-02-06 17:58:49+00:00</th>\n",
       "      <td>3270224</td>\n",
       "    </tr>\n",
       "    <tr>\n",
       "      <th>2018-02-06 17:58:50+00:00</th>\n",
       "      <td>63710864</td>\n",
       "    </tr>\n",
       "    <tr>\n",
       "      <th>2018-02-06 17:58:51+00:00</th>\n",
       "      <td>66147616</td>\n",
       "    </tr>\n",
       "    <tr>\n",
       "      <th>2018-02-06 17:58:52+00:00</th>\n",
       "      <td>82064232</td>\n",
       "    </tr>\n",
       "    <tr>\n",
       "      <th>2018-02-06 17:58:53+00:00</th>\n",
       "      <td>245525168</td>\n",
       "    </tr>\n",
       "  </tbody>\n",
       "</table>\n",
       "</div>"
      ],
      "text/plain": [
       "                           bandwidth\n",
       "ts                                  \n",
       "2018-02-06 17:58:49+00:00    3270224\n",
       "2018-02-06 17:58:50+00:00   63710864\n",
       "2018-02-06 17:58:51+00:00   66147616\n",
       "2018-02-06 17:58:52+00:00   82064232\n",
       "2018-02-06 17:58:53+00:00  245525168"
      ]
     },
     "execution_count": 3,
     "metadata": {},
     "output_type": "execute_result"
    }
   ],
   "source": [
    "df_bw.set_index('ts', inplace=True)\n",
    "df_bw.head()"
   ]
  },
  {
   "cell_type": "markdown",
   "metadata": {},
   "source": [
    "## Basic Analysis"
   ]
  },
  {
   "cell_type": "code",
   "execution_count": 4,
   "metadata": {},
   "outputs": [
    {
     "data": {
      "text/plain": [
       "count       1984447.00\n",
       "mean       80430848.93\n",
       "std        52080183.18\n",
       "min             720.00\n",
       "25%        44802264.00\n",
       "50%        69624288.00\n",
       "75%       129634920.00\n",
       "max      2454161504.00\n",
       "Name: bandwidth, dtype: object"
      ]
     },
     "execution_count": 4,
     "metadata": {},
     "output_type": "execute_result"
    }
   ],
   "source": [
    "df_bw.describe()['bandwidth'].apply(lambda x: '{:.2f}'.format(x))"
   ]
  },
  {
   "cell_type": "code",
   "execution_count": 5,
   "metadata": {},
   "outputs": [
    {
     "data": {
      "text/plain": [
       "69624288.0"
      ]
     },
     "execution_count": 5,
     "metadata": {},
     "output_type": "execute_result"
    }
   ],
   "source": [
    "df_bw.loc[:, 'bandwidth'].median()"
   ]
  },
  {
   "cell_type": "code",
   "execution_count": 6,
   "metadata": {},
   "outputs": [
    {
     "data": {
      "image/png": "[encoded data removed]",
      "text/plain": [
       "<matplotlib.figure.Figure at 0x1a0ef8a2b0>"
      ]
     },
     "metadata": {},
     "output_type": "display_data"
    }
   ],
   "source": [
    "fig, ax = plt.subplots()\n",
    "df_bw.plot(ax = ax);"
   ]
  },
  {
   "cell_type": "markdown",
   "metadata": {},
   "source": [
    "## Reducing Data Set to 1 day"
   ]
  },
  {
   "cell_type": "markdown",
   "metadata": {},
   "source": [
    " The sample data set seems to be too large. We have data points per sec. Thus reducing the set to 1 TRADING DAY. \n",
    " CST 8:00 AM - 5:00 PM"
   ]
  },
  {
   "cell_type": "code",
   "execution_count": 7,
   "metadata": {},
   "outputs": [
    {
     "data": {
      "text/html": [
       "<div>\n",
       "<style scoped>\n",
       "    .dataframe tbody tr th:only-of-type {\n",
       "        vertical-align: middle;\n",
       "    }\n",
       "\n",
       "    .dataframe tbody tr th {\n",
       "        vertical-align: top;\n",
       "    }\n",
       "\n",
       "    .dataframe thead th {\n",
       "        text-align: right;\n",
       "    }\n",
       "</style>\n",
       "<table border=\"1\" class=\"dataframe\">\n",
       "  <thead>\n",
       "    <tr style=\"text-align: right;\">\n",
       "      <th></th>\n",
       "      <th>bandwidth</th>\n",
       "    </tr>\n",
       "    <tr>\n",
       "      <th>ts</th>\n",
       "      <th></th>\n",
       "    </tr>\n",
       "  </thead>\n",
       "  <tbody>\n",
       "    <tr>\n",
       "      <th>2018-02-06 17:58:49+00:00</th>\n",
       "      <td>3270224</td>\n",
       "    </tr>\n",
       "    <tr>\n",
       "      <th>2018-02-06 17:58:50+00:00</th>\n",
       "      <td>63710864</td>\n",
       "    </tr>\n",
       "    <tr>\n",
       "      <th>2018-02-06 17:58:51+00:00</th>\n",
       "      <td>66147616</td>\n",
       "    </tr>\n",
       "    <tr>\n",
       "      <th>2018-02-06 17:58:52+00:00</th>\n",
       "      <td>82064232</td>\n",
       "    </tr>\n",
       "    <tr>\n",
       "      <th>2018-02-06 17:58:53+00:00</th>\n",
       "      <td>245525168</td>\n",
       "    </tr>\n",
       "  </tbody>\n",
       "</table>\n",
       "</div>"
      ],
      "text/plain": [
       "                           bandwidth\n",
       "ts                                  \n",
       "2018-02-06 17:58:49+00:00    3270224\n",
       "2018-02-06 17:58:50+00:00   63710864\n",
       "2018-02-06 17:58:51+00:00   66147616\n",
       "2018-02-06 17:58:52+00:00   82064232\n",
       "2018-02-06 17:58:53+00:00  245525168"
      ]
     },
     "execution_count": 7,
     "metadata": {},
     "output_type": "execute_result"
    }
   ],
   "source": [
    "df_bw.head()"
   ]
  },
  {
   "cell_type": "code",
   "execution_count": 8,
   "metadata": {},
   "outputs": [],
   "source": [
    "df_bw_one_trading_day = df_bw['2018-02-08 13:00:00+00:00':'2018-02-08 22:00:00+00:00']"
   ]
  },
  {
   "cell_type": "code",
   "execution_count": 9,
   "metadata": {},
   "outputs": [
    {
     "data": {
      "text/html": [
       "<div>\n",
       "<style scoped>\n",
       "    .dataframe tbody tr th:only-of-type {\n",
       "        vertical-align: middle;\n",
       "    }\n",
       "\n",
       "    .dataframe tbody tr th {\n",
       "        vertical-align: top;\n",
       "    }\n",
       "\n",
       "    .dataframe thead th {\n",
       "        text-align: right;\n",
       "    }\n",
       "</style>\n",
       "<table border=\"1\" class=\"dataframe\">\n",
       "  <thead>\n",
       "    <tr style=\"text-align: right;\">\n",
       "      <th></th>\n",
       "      <th>bandwidth</th>\n",
       "    </tr>\n",
       "    <tr>\n",
       "      <th>ts</th>\n",
       "      <th></th>\n",
       "    </tr>\n",
       "  </thead>\n",
       "  <tbody>\n",
       "    <tr>\n",
       "      <th>2018-02-08 13:00:00+00:00</th>\n",
       "      <td>445100080</td>\n",
       "    </tr>\n",
       "    <tr>\n",
       "      <th>2018-02-08 13:00:01+00:00</th>\n",
       "      <td>253883032</td>\n",
       "    </tr>\n",
       "    <tr>\n",
       "      <th>2018-02-08 13:00:02+00:00</th>\n",
       "      <td>189334024</td>\n",
       "    </tr>\n",
       "    <tr>\n",
       "      <th>2018-02-08 13:00:03+00:00</th>\n",
       "      <td>246510904</td>\n",
       "    </tr>\n",
       "    <tr>\n",
       "      <th>2018-02-08 13:00:04+00:00</th>\n",
       "      <td>232703344</td>\n",
       "    </tr>\n",
       "  </tbody>\n",
       "</table>\n",
       "</div>"
      ],
      "text/plain": [
       "                           bandwidth\n",
       "ts                                  \n",
       "2018-02-08 13:00:00+00:00  445100080\n",
       "2018-02-08 13:00:01+00:00  253883032\n",
       "2018-02-08 13:00:02+00:00  189334024\n",
       "2018-02-08 13:00:03+00:00  246510904\n",
       "2018-02-08 13:00:04+00:00  232703344"
      ]
     },
     "execution_count": 9,
     "metadata": {},
     "output_type": "execute_result"
    }
   ],
   "source": [
    "df_bw_one_trading_day.head()"
   ]
  },
  {
   "cell_type": "code",
   "execution_count": 10,
   "metadata": {},
   "outputs": [
    {
     "data": {
      "text/plain": [
       "count        32401.00\n",
       "mean     128733486.49\n",
       "std       14416871.43\n",
       "min       49279984.00\n",
       "25%      129634920.00\n",
       "50%      129634920.00\n",
       "75%      129634920.00\n",
       "max      473851744.00\n",
       "Name: bandwidth, dtype: object"
      ]
     },
     "execution_count": 10,
     "metadata": {},
     "output_type": "execute_result"
    }
   ],
   "source": [
    "df_bw_one_trading_day.describe()['bandwidth'].apply(lambda x: '{:.2f}'.format(x))"
   ]
  },
  {
   "cell_type": "code",
   "execution_count": 11,
   "metadata": {},
   "outputs": [
    {
     "data": {
      "text/plain": [
       "129634920.0"
      ]
     },
     "execution_count": 11,
     "metadata": {},
     "output_type": "execute_result"
    }
   ],
   "source": [
    "df_bw_one_trading_day.loc[:, 'bandwidth'].median()"
   ]
  },
  {
   "cell_type": "code",
   "execution_count": 12,
   "metadata": {},
   "outputs": [
    {
     "data": {
      "image/png": "[encoded data removed]",
      "text/plain": [
       "<matplotlib.figure.Figure at 0x1a0f531978>"
      ]
     },
     "metadata": {},
     "output_type": "display_data"
    }
   ],
   "source": [
    "fig, ax = plt.subplots()\n",
    "df_bw_one_trading_day.plot(ax = ax);"
   ]
  },
  {
   "cell_type": "markdown",
   "metadata": {},
   "source": [
    "## Make an autocorrelation plot with statsmodels"
   ]
  },
  {
   "cell_type": "code",
   "execution_count": 13,
   "metadata": {},
   "outputs": [
    {
     "data": {
      "text/plain": [
       "<matplotlib.axes._subplots.AxesSubplot at 0x1a0f531ef0>"
      ]
     },
     "execution_count": 13,
     "metadata": {},
     "output_type": "execute_result"
    },
    {
     "data": {
      "image/png": "[encoded data removed]",
      "text/plain": [
       "<matplotlib.figure.Figure at 0x1a0f891358>"
      ]
     },
     "metadata": {},
     "output_type": "display_data"
    }
   ],
   "source": [
    "from pandas.plotting import autocorrelation_plot\n",
    "fig,ax = plt.subplots(figsize=(12, 6))\n",
    "autocorrelation_plot(df_bw_one_trading_day.loc[:, 'bandwidth'], ax=ax)"
   ]
  },
  {
   "cell_type": "code",
   "execution_count": 14,
   "metadata": {},
   "outputs": [
    {
     "name": "stderr",
     "output_type": "stream",
     "text": [
      "/Users/asahani/anaconda3/lib/python3.6/site-packages/statsmodels/compat/pandas.py:56: FutureWarning: The pandas.core.datetools module is deprecated and will be removed in a future version. Please use the pandas.tseries module instead.\n",
      "  from pandas.core import datetools\n"
     ]
    },
    {
     "data": {
      "image/png": "[encoded data removed]",
      "text/plain": [
       "<matplotlib.figure.Figure at 0x1a0f867978>"
      ]
     },
     "execution_count": 14,
     "metadata": {},
     "output_type": "execute_result"
    },
    {
     "data": {
      "image/png": "[encoded data removed]",
      "text/plain": [
       "<matplotlib.figure.Figure at 0x1a0f867978>"
      ]
     },
     "metadata": {},
     "output_type": "display_data"
    }
   ],
   "source": [
    "from statsmodels.tsa.stattools import acf\n",
    "from statsmodels.graphics.tsaplots import plot_acf\n",
    "\n",
    "fig,ax = plt.subplots()\n",
    "plot_acf(df_bw_one_trading_day.loc[:, 'bandwidth'], lags=100, ax=ax)"
   ]
  },
  {
   "cell_type": "code",
   "execution_count": 15,
   "metadata": {},
   "outputs": [
    {
     "data": {
      "image/png": "[encoded data removed]",
      "text/plain": [
       "<matplotlib.figure.Figure at 0x1a12e55470>"
      ]
     },
     "execution_count": 15,
     "metadata": {},
     "output_type": "execute_result"
    },
    {
     "data": {
      "image/png": "[encoded data removed]",
      "text/plain": [
       "<matplotlib.figure.Figure at 0x1a12e55470>"
      ]
     },
     "metadata": {},
     "output_type": "display_data"
    }
   ],
   "source": [
    "from statsmodels.tsa.stattools import pacf\n",
    "from statsmodels.graphics.tsaplots import plot_pacf\n",
    "\n",
    "fig,ax = plt.subplots()\n",
    "plot_pacf(df_bw_one_trading_day.loc[:, 'bandwidth'], lags=100, ax=ax)"
   ]
  },
  {
   "cell_type": "markdown",
   "metadata": {},
   "source": [
    "We'll use the first two years (2010–2011) as the \"training\" data and the last year (2012) as a \"testing\" set."
   ]
  },
  {
   "cell_type": "code",
   "execution_count": 16,
   "metadata": {},
   "outputs": [
    {
     "data": {
      "text/html": [
       "<div>\n",
       "<style scoped>\n",
       "    .dataframe tbody tr th:only-of-type {\n",
       "        vertical-align: middle;\n",
       "    }\n",
       "\n",
       "    .dataframe tbody tr th {\n",
       "        vertical-align: top;\n",
       "    }\n",
       "\n",
       "    .dataframe thead th {\n",
       "        text-align: right;\n",
       "    }\n",
       "</style>\n",
       "<table border=\"1\" class=\"dataframe\">\n",
       "  <thead>\n",
       "    <tr style=\"text-align: right;\">\n",
       "      <th></th>\n",
       "      <th>bandwidth</th>\n",
       "    </tr>\n",
       "    <tr>\n",
       "      <th>ts</th>\n",
       "      <th></th>\n",
       "    </tr>\n",
       "  </thead>\n",
       "  <tbody>\n",
       "    <tr>\n",
       "      <th>2018-02-08 13:00:00+00:00</th>\n",
       "      <td>445100080</td>\n",
       "    </tr>\n",
       "    <tr>\n",
       "      <th>2018-02-08 13:00:01+00:00</th>\n",
       "      <td>253883032</td>\n",
       "    </tr>\n",
       "    <tr>\n",
       "      <th>2018-02-08 13:00:02+00:00</th>\n",
       "      <td>189334024</td>\n",
       "    </tr>\n",
       "    <tr>\n",
       "      <th>2018-02-08 13:00:03+00:00</th>\n",
       "      <td>246510904</td>\n",
       "    </tr>\n",
       "    <tr>\n",
       "      <th>2018-02-08 13:00:04+00:00</th>\n",
       "      <td>232703344</td>\n",
       "    </tr>\n",
       "  </tbody>\n",
       "</table>\n",
       "</div>"
      ],
      "text/plain": [
       "                           bandwidth\n",
       "ts                                  \n",
       "2018-02-08 13:00:00+00:00  445100080\n",
       "2018-02-08 13:00:01+00:00  253883032\n",
       "2018-02-08 13:00:02+00:00  189334024\n",
       "2018-02-08 13:00:03+00:00  246510904\n",
       "2018-02-08 13:00:04+00:00  232703344"
      ]
     },
     "execution_count": 16,
     "metadata": {},
     "output_type": "execute_result"
    }
   ],
   "source": [
    "df_bw_one_trading_day.head()"
   ]
  },
  {
   "cell_type": "markdown",
   "metadata": {},
   "source": [
    "## Reducing 1 Day data set further to high volume trading period"
   ]
  },
  {
   "cell_type": "markdown",
   "metadata": {},
   "source": [
    "High Volume trading Period is defined as CST 8:00 AM - 1:00 PM"
   ]
  },
  {
   "cell_type": "code",
   "execution_count": 17,
   "metadata": {},
   "outputs": [],
   "source": [
    "df_bw_one_day_high_volume_timeperiod = df_bw['2018-02-08 13:00:00+00:00':'2018-02-08 18:00:00+00:00']"
   ]
  },
  {
   "cell_type": "code",
   "execution_count": 18,
   "metadata": {},
   "outputs": [
    {
     "data": {
      "text/html": [
       "<div>\n",
       "<style scoped>\n",
       "    .dataframe tbody tr th:only-of-type {\n",
       "        vertical-align: middle;\n",
       "    }\n",
       "\n",
       "    .dataframe tbody tr th {\n",
       "        vertical-align: top;\n",
       "    }\n",
       "\n",
       "    .dataframe thead th {\n",
       "        text-align: right;\n",
       "    }\n",
       "</style>\n",
       "<table border=\"1\" class=\"dataframe\">\n",
       "  <thead>\n",
       "    <tr style=\"text-align: right;\">\n",
       "      <th></th>\n",
       "      <th>bandwidth</th>\n",
       "    </tr>\n",
       "    <tr>\n",
       "      <th>ts</th>\n",
       "      <th></th>\n",
       "    </tr>\n",
       "  </thead>\n",
       "  <tbody>\n",
       "    <tr>\n",
       "      <th>2018-02-08 13:00:00+00:00</th>\n",
       "      <td>445100080</td>\n",
       "    </tr>\n",
       "    <tr>\n",
       "      <th>2018-02-08 13:00:01+00:00</th>\n",
       "      <td>253883032</td>\n",
       "    </tr>\n",
       "    <tr>\n",
       "      <th>2018-02-08 13:00:02+00:00</th>\n",
       "      <td>189334024</td>\n",
       "    </tr>\n",
       "    <tr>\n",
       "      <th>2018-02-08 13:00:03+00:00</th>\n",
       "      <td>246510904</td>\n",
       "    </tr>\n",
       "    <tr>\n",
       "      <th>2018-02-08 13:00:04+00:00</th>\n",
       "      <td>232703344</td>\n",
       "    </tr>\n",
       "  </tbody>\n",
       "</table>\n",
       "</div>"
      ],
      "text/plain": [
       "                           bandwidth\n",
       "ts                                  \n",
       "2018-02-08 13:00:00+00:00  445100080\n",
       "2018-02-08 13:00:01+00:00  253883032\n",
       "2018-02-08 13:00:02+00:00  189334024\n",
       "2018-02-08 13:00:03+00:00  246510904\n",
       "2018-02-08 13:00:04+00:00  232703344"
      ]
     },
     "execution_count": 18,
     "metadata": {},
     "output_type": "execute_result"
    }
   ],
   "source": [
    "df_bw_one_day_high_volume_timeperiod.head()"
   ]
  },
  {
   "cell_type": "code",
   "execution_count": 19,
   "metadata": {},
   "outputs": [
    {
     "data": {
      "text/plain": [
       "count        18001.00\n",
       "mean     128012379.74\n",
       "std       19311992.06\n",
       "min       49279984.00\n",
       "25%      129634920.00\n",
       "50%      129634920.00\n",
       "75%      129634920.00\n",
       "max      473851744.00\n",
       "Name: bandwidth, dtype: object"
      ]
     },
     "execution_count": 19,
     "metadata": {},
     "output_type": "execute_result"
    }
   ],
   "source": [
    "df_bw_one_day_high_volume_timeperiod.describe()['bandwidth'].apply(lambda x: '{:.2f}'.format(x))"
   ]
  },
  {
   "cell_type": "code",
   "execution_count": 20,
   "metadata": {},
   "outputs": [
    {
     "data": {
      "text/plain": [
       "129634920.0"
      ]
     },
     "execution_count": 20,
     "metadata": {},
     "output_type": "execute_result"
    }
   ],
   "source": [
    "df_bw_one_day_high_volume_timeperiod.loc[:, 'bandwidth'].median()"
   ]
  },
  {
   "cell_type": "code",
   "execution_count": 21,
   "metadata": {},
   "outputs": [
    {
     "data": {
      "image/png": "[encoded data removed]",
      "text/plain": [
       "<matplotlib.figure.Figure at 0x1a12ed0278>"
      ]
     },
     "metadata": {},
     "output_type": "display_data"
    }
   ],
   "source": [
    "fig, ax = plt.subplots()\n",
    "df_bw_one_day_high_volume_timeperiod.plot(ax = ax);"
   ]
  },
  {
   "cell_type": "code",
   "execution_count": 22,
   "metadata": {},
   "outputs": [
    {
     "data": {
      "text/plain": [
       "(18001, 1)"
      ]
     },
     "execution_count": 22,
     "metadata": {},
     "output_type": "execute_result"
    }
   ],
   "source": [
    "df_bw_one_day_high_volume_timeperiod.shape"
   ]
  },
  {
   "cell_type": "code",
   "execution_count": 23,
   "metadata": {},
   "outputs": [],
   "source": [
    "from statsmodels.tsa.stattools import pacf, acf\n",
    "from statsmodels.graphics.tsaplots import plot_pacf, plot_acf\n",
    "\n",
    "lag_acf = acf(df_bw_one_day_high_volume_timeperiod, nlags=60)\n",
    "lag_pacf = pacf(df_bw_one_day_high_volume_timeperiod, nlags=30, method='ols')"
   ]
  },
  {
   "cell_type": "code",
   "execution_count": 24,
   "metadata": {},
   "outputs": [
    {
     "data": {
      "text/plain": [
       "Text(0.5,1,'Autocorrelation Function')"
      ]
     },
     "execution_count": 24,
     "metadata": {},
     "output_type": "execute_result"
    },
    {
     "data": {
      "image/png": "[encoded data removed]",
      "text/plain": [
       "<matplotlib.figure.Figure at 0x1a0f570438>"
      ]
     },
     "metadata": {},
     "output_type": "display_data"
    }
   ],
   "source": [
    "plt.subplot(121) \n",
    "plt.plot(lag_acf)\n",
    "plt.axhline(y=0,linestyle='--',color='gray')\n",
    "plt.axhline(y=-1.96/np.sqrt(len(df_bw_one_day_high_volume_timeperiod)),linestyle='--',color='gray')\n",
    "plt.axhline(y=1.96/np.sqrt(len(df_bw_one_day_high_volume_timeperiod)),linestyle='--',color='gray')\n",
    "plt.title('Autocorrelation Function')"
   ]
  },
  {
   "cell_type": "code",
   "execution_count": 25,
   "metadata": {},
   "outputs": [
    {
     "data": {
      "image/png": "[encoded data removed]",
      "text/plain": [
       "<matplotlib.figure.Figure at 0x1a2860d978>"
      ]
     },
     "metadata": {},
     "output_type": "display_data"
    }
   ],
   "source": [
    "#Plot PACF:\n",
    "plt.subplot(122)\n",
    "plt.plot(lag_pacf)\n",
    "plt.axhline(y=0,linestyle='--',color='gray')\n",
    "plt.axhline(y=-1.96/np.sqrt(len(df_bw_one_day_high_volume_timeperiod)),linestyle='--',color='gray')\n",
    "plt.axhline(y=1.96/np.sqrt(len(df_bw_one_day_high_volume_timeperiod)),linestyle='--',color='gray')\n",
    "plt.title('Partial Autocorrelation Function')\n",
    "plt.tight_layout()"
   ]
  },
  {
   "cell_type": "markdown",
   "metadata": {},
   "source": [
    "# General explanation\n",
    "Dickey-Fuller Test: This is one of the statistical tests for checking stationarity. \n",
    "    Here the null hypothesis is that the TS is non-stationary. \n",
    "    The test results comprise of a Test Statistic and some Critical Values for difference confidence levels. \n",
    "    If the ‘Test Statistic’ is less than the ‘Critical Value’, we can reject the null hypothesis and say that the series is stationary. "
   ]
  },
  {
   "cell_type": "code",
   "execution_count": 26,
   "metadata": {},
   "outputs": [],
   "source": [
    "## Dicky Fuller test the stationarity of time series.\n",
    "# If data is not stationary then have to remove trend/seasnoality and fit the models on residuals.\n",
    "    \n",
    "from statsmodels.tsa.stattools import adfuller\n",
    "def test_stationarity(timeseries):\n",
    "    \n",
    "    #Determing rolling statistics\n",
    "    rolmean = pd.rolling_mean(timeseries, window=30)\n",
    "    rolstd = pd.rolling_std(timeseries, window=30)\n",
    "\n",
    "    #Plot rolling statistics:\n",
    "    orig = plt.plot(timeseries, color='blue',label='Original')\n",
    "    mean = plt.plot(rolmean, color='red', label='Rolling Mean')\n",
    "    std = plt.plot(rolstd, color='black', label = 'Rolling Std')\n",
    "    plt.legend(loc='best')\n",
    "    plt.title('Rolling Mean & Standard Deviation')\n",
    "    plt.show(block=False)\n",
    "    \n",
    "    #Perform Dickey-Fuller test:\n",
    "    print('Results of Dickey-Fuller Test:')\n",
    "    dftest = adfuller(timeseries.iloc[:, 0].values, autolag='AIC')\n",
    "    dfoutput = pd.Series(dftest[0:4], index=['Test Statistic','p-value','#Lags Used','Number of Observations Used'])\n",
    "    for key,value in dftest[4].items():\n",
    "        dfoutput['Critical Value (%s)'%key] = value\n",
    "    print(dfoutput)"
   ]
  },
  {
   "cell_type": "markdown",
   "metadata": {},
   "source": [
    "# Stationarity is defined using very strict criterion. However for practical purposes we can assume the series to be stationary if it has constant statistical properties over time ie. the following:\n",
    "\n",
    "1) Constant Mean\n",
    "\n",
    "2) Constant Variance\n",
    "\n",
    "3) An autocovariance that does not depend on time."
   ]
  },
  {
   "cell_type": "code",
   "execution_count": 27,
   "metadata": {},
   "outputs": [
    {
     "name": "stderr",
     "output_type": "stream",
     "text": [
      "/Users/asahani/anaconda3/lib/python3.6/site-packages/ipykernel_launcher.py:8: FutureWarning: pd.rolling_mean is deprecated for DataFrame and will be removed in a future version, replace with \n",
      "\tDataFrame.rolling(window=30,center=False).mean()\n",
      "  \n",
      "/Users/asahani/anaconda3/lib/python3.6/site-packages/ipykernel_launcher.py:9: FutureWarning: pd.rolling_std is deprecated for DataFrame and will be removed in a future version, replace with \n",
      "\tDataFrame.rolling(window=30,center=False).std()\n",
      "  if __name__ == '__main__':\n"
     ]
    },
    {
     "data": {
      "image/png": "[encoded data removed]",
      "text/plain": [
       "<matplotlib.figure.Figure at 0x1a0f85f4a8>"
      ]
     },
     "metadata": {},
     "output_type": "display_data"
    },
    {
     "name": "stdout",
     "output_type": "stream",
     "text": [
      "Results of Dickey-Fuller Test:\n",
      "Test Statistic                -1.506902975e+01\n",
      "p-value                        8.779591568e-28\n",
      "#Lags Used                     4.400000000e+01\n",
      "Number of Observations Used    1.795600000e+04\n",
      "Critical Value (1%)           -3.430714237e+00\n",
      "Critical Value (5%)           -2.861700979e+00\n",
      "Critical Value (10%)          -2.566855685e+00\n",
      "dtype: float64\n"
     ]
    }
   ],
   "source": [
    "test_stationarity(df_bw_one_day_high_volume_timeperiod)"
   ]
  },
  {
   "cell_type": "markdown",
   "metadata": {},
   "source": [
    "# Test statistics is less then critical value -> rejecting null hypothesis i.e. series is stationary."
   ]
  },
  {
   "cell_type": "markdown",
   "metadata": {},
   "source": [
    "## For MODELS we are submitting 3 notebooks"
   ]
  },
  {
   "cell_type": "markdown",
   "metadata": {},
   "source": [
    "1) Bandwidth_Analysis_Models\n",
    "\n",
    "2) Bandwidth_Analysis_Prophet\n",
    "\n",
    "3) Bandwidth_Analysis_Decision_Tree"
   ]
  },
  {
   "cell_type": "markdown",
   "metadata": {},
   "source": [
    "## Conclusion"
   ]
  },
  {
   "cell_type": "markdown",
   "metadata": {},
   "source": [
    "We are predicting next bandwidth spike in very short time period, to be specific in matters of couple of seconds.\n",
    "\n",
    "This requires processing masive amount of data. As we can see from our EDA process, we have cleaned data to major extent. \n",
    "\n",
    "We added various business knowledge like focusing on high volume trading period.\n",
    "\n",
    "We have done 3 models, results are satifactory but not whole lot useful, in the sense predicitons are not coming out great. Its for sure a good starting point.\n",
    "\n",
    "However the work done here will be carried forward in our future work where we will make models to predict next bandwidth spike"
   ]
  },
  {
   "cell_type": "markdown",
   "metadata": {},
   "source": [
    "# Future Work"
   ]
  },
  {
   "cell_type": "markdown",
   "metadata": {},
   "source": [
    "1) We are Global compmany trading in exchanges across the globle. Thus time period of next bandwidth spike is also relative to which exchange we are talking about.\n",
    "\n",
    "2) We will be breaking day worth of data into different buckets. Like CME / ICE trading in CST morning to noon. Eurex trading at CST night to early morning etc.\n",
    "\n",
    "3) Mulitple models for given day\n",
    "\n",
    "4) Convert bits to MBs "
   ]
  },
  {
   "cell_type": "code",
   "execution_count": null,
   "metadata": {},
   "outputs": [],
   "source": []
  }
 ],
 "metadata": {
  "kernelspec": {
   "display_name": "Python 3",
   "language": "python",
   "name": "python3"
  },
  "language_info": {
   "codemirror_mode": {
    "name": "ipython",
    "version": 3
   },
   "file_extension": ".py",
   "mimetype": "text/x-python",
   "name": "python",
   "nbconvert_exporter": "python",
   "pygments_lexer": "ipython3",
   "version": "3.6.4"
  }
 },
 "nbformat": 4,
 "nbformat_minor": 2
}

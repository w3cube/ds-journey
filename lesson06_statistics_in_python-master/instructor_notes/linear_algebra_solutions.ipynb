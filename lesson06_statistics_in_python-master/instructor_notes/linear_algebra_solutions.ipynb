{
 "cells": [
  {
   "cell_type": "markdown",
   "metadata": {
    "slideshow": {
     "slide_type": "slide"
    }
   },
   "source": [
    "<img src=\"http://imgur.com/1ZcRyrc.png\" style=\"float: left; margin: 20px; height: 55px\">\n",
    "\n",
    "# Linear Algebra\n",
    "\n",
    "---"
   ]
  },
  {
   "cell_type": "markdown",
   "metadata": {
    "slideshow": {
     "slide_type": "slide"
    }
   },
   "source": [
    "## Learning Objectives\n",
    "\n",
    "- Compute dot products, matrix multiplications, and vector norms by hand and using NumPy."
   ]
  },
  {
   "cell_type": "markdown",
   "metadata": {
    "slideshow": {
     "slide_type": "notes"
    }
   },
   "source": [
    "# Introduction\n",
    "\n",
    "Linear algebra is the most important area of math for data analysis. Computers are great at it, and it can be used for a huge variety of purposes. In machine learning, it's used in both relatively simple methods such as linear regression and cutting-edge methods in deep learning.\n",
    "\n",
    "If you are already familiar with linear algebra, then this quick review will help prime your memory. If you are not, then it will introduce you to the terminology you need for this course and lay a foundation for further study."
   ]
  },
  {
   "cell_type": "markdown",
   "metadata": {},
   "source": [
    "# NumPy"
   ]
  },
  {
   "cell_type": "code",
   "execution_count": 1,
   "metadata": {
    "slideshow": {
     "slide_type": "skip"
    }
   },
   "outputs": [],
   "source": [
    "import pandas as pd\n",
    "import seaborn as sns\n",
    "import numpy as np\n",
    "import matplotlib.pyplot as plt\n",
    "from ipywidgets import interact\n",
    "plt.style.use('fivethirtyeight')\n",
    "\n",
    "# This makes sure that graphs render in your notebook\n",
    "%matplotlib inline"
   ]
  },
  {
   "cell_type": "markdown",
   "metadata": {},
   "source": [
    "NumPy arrays look similar to Python lists, but they are optimized for doing matrix and vector math instead of for serving as general-purpose containers."
   ]
  },
  {
   "cell_type": "markdown",
   "metadata": {},
   "source": [
    "- Basic mathematical operations are applied using elementwise arithmetic."
   ]
  },
  {
   "cell_type": "code",
   "execution_count": 2,
   "metadata": {},
   "outputs": [
    {
     "data": {
      "text/plain": [
       "[1, 2, 3, 4, 5, 6]"
      ]
     },
     "execution_count": 2,
     "metadata": {},
     "output_type": "execute_result"
    }
   ],
   "source": [
    "# /scrub/\n",
    "[1, 2, 3] + [4, 5, 6]"
   ]
  },
  {
   "cell_type": "code",
   "execution_count": 3,
   "metadata": {},
   "outputs": [
    {
     "data": {
      "text/plain": [
       "array([5, 7, 9])"
      ]
     },
     "execution_count": 3,
     "metadata": {},
     "output_type": "execute_result"
    }
   ],
   "source": [
    "# /scrub/\n",
    "np.array([1, 2, 3]) + np.array([4, 5, 6])"
   ]
  },
  {
   "cell_type": "markdown",
   "metadata": {},
   "source": [
    "- Levels of nesting are interpreted as dimensions."
   ]
  },
  {
   "cell_type": "code",
   "execution_count": 4,
   "metadata": {},
   "outputs": [
    {
     "data": {
      "text/plain": [
       "[[1, 2], [3, 4], [5, 6]]"
      ]
     },
     "execution_count": 4,
     "metadata": {},
     "output_type": "execute_result"
    }
   ],
   "source": [
    "# /scrub/\n",
    "[[1, 2], [3, 4], [5, 6]]"
   ]
  },
  {
   "cell_type": "code",
   "execution_count": 5,
   "metadata": {},
   "outputs": [
    {
     "data": {
      "text/plain": [
       "array([[1, 2],\n",
       "       [3, 4],\n",
       "       [5, 6]])"
      ]
     },
     "execution_count": 5,
     "metadata": {},
     "output_type": "execute_result"
    }
   ],
   "source": [
    "# /scrub/\n",
    "a = np.array([[1, 2], [3, 4], [5, 6]])\n",
    "a"
   ]
  },
  {
   "cell_type": "code",
   "execution_count": 6,
   "metadata": {},
   "outputs": [
    {
     "data": {
      "text/plain": [
       "(3, 2)"
      ]
     },
     "execution_count": 6,
     "metadata": {},
     "output_type": "execute_result"
    }
   ],
   "source": [
    "# Get shape\n",
    "# /scrub/\n",
    "a.shape"
   ]
  },
  {
   "cell_type": "markdown",
   "metadata": {},
   "source": [
    "- `pandas` DataFrames are built on top of Numpy arrays"
   ]
  },
  {
   "cell_type": "code",
   "execution_count": 7,
   "metadata": {},
   "outputs": [
    {
     "data": {
      "text/html": [
       "<div>\n",
       "<style scoped>\n",
       "    .dataframe tbody tr th:only-of-type {\n",
       "        vertical-align: middle;\n",
       "    }\n",
       "\n",
       "    .dataframe tbody tr th {\n",
       "        vertical-align: top;\n",
       "    }\n",
       "\n",
       "    .dataframe thead th {\n",
       "        text-align: right;\n",
       "    }\n",
       "</style>\n",
       "<table border=\"1\" class=\"dataframe\">\n",
       "  <thead>\n",
       "    <tr style=\"text-align: right;\">\n",
       "      <th></th>\n",
       "      <th>x</th>\n",
       "      <th>y</th>\n",
       "    </tr>\n",
       "  </thead>\n",
       "  <tbody>\n",
       "    <tr>\n",
       "      <th>0</th>\n",
       "      <td>1</td>\n",
       "      <td>2</td>\n",
       "    </tr>\n",
       "    <tr>\n",
       "      <th>1</th>\n",
       "      <td>3</td>\n",
       "      <td>4</td>\n",
       "    </tr>\n",
       "    <tr>\n",
       "      <th>2</th>\n",
       "      <td>5</td>\n",
       "      <td>6</td>\n",
       "    </tr>\n",
       "  </tbody>\n",
       "</table>\n",
       "</div>"
      ],
      "text/plain": [
       "   x  y\n",
       "0  1  2\n",
       "1  3  4\n",
       "2  5  6"
      ]
     },
     "execution_count": 7,
     "metadata": {},
     "output_type": "execute_result"
    }
   ],
   "source": [
    "b = pd.DataFrame({'x': [1, 3, 5], 'y': [2, 4, 6]})\n",
    "b"
   ]
  },
  {
   "cell_type": "code",
   "execution_count": 8,
   "metadata": {},
   "outputs": [
    {
     "data": {
      "text/plain": [
       "array([[1, 2],\n",
       "       [3, 4],\n",
       "       [5, 6]])"
      ]
     },
     "execution_count": 8,
     "metadata": {},
     "output_type": "execute_result"
    }
   ],
   "source": [
    "# Pull out the underlying numpy array\n",
    "# /scrub/\n",
    "b.values"
   ]
  },
  {
   "cell_type": "markdown",
   "metadata": {
    "slideshow": {
     "slide_type": "slide"
    }
   },
   "source": [
    "# Scalars, Vectors, and Matrices\n",
    "\n",
    "- A **scalar** is single number, e.g. $a=5.328$ or $b=7$.\n",
    "- A **vector** is an ordered sequence of numbers, e.g. $\\vec{u} = \\left[ \\begin{array}{c} 1&3&7 \\end{array} \\right]$"
   ]
  },
  {
   "cell_type": "markdown",
   "metadata": {
    "slideshow": {
     "slide_type": "slide"
    }
   },
   "source": [
    "An $m\\times n$ **matrix** is a rectangular array of numbers with $m$ rows and $n$ columns. The entry in the $i$th row and $j$th column of a matrix $\\mathbf{A}$ is denoted $a_{ij}$.\n",
    "\n",
    "$$\\mathbf{A}= \\left[ \\begin{array}{c}\n",
    "a_{11} & a_{12} & ... & a_{1n}  \\\\\n",
    "a_{21} & a_{22} & ... & a_{2n}  \\\\\n",
    "... & ... & ... & ... \\\\\n",
    "a_{m1} & a_{m2} & ... & a_{mn}\n",
    "\\end{array} \\right]$$"
   ]
  },
  {
   "cell_type": "markdown",
   "metadata": {
    "slideshow": {
     "slide_type": "notes"
    }
   },
   "source": [
    "Unfortunately, mathematicians typically start counting with 1, while in Python we start with 0."
   ]
  },
  {
   "cell_type": "markdown",
   "metadata": {
    "slideshow": {
     "slide_type": "slide"
    }
   },
   "source": [
    "**Exercise.** What is $m_{32}$ in this example, using mathematician's notation?"
   ]
  },
  {
   "cell_type": "code",
   "execution_count": 9,
   "metadata": {
    "slideshow": {
     "slide_type": "subslide"
    }
   },
   "outputs": [
    {
     "data": {
      "text/plain": [
       "array([[1, 3, 7],\n",
       "       [2, 6, 3],\n",
       "       [9, 8, 0],\n",
       "       [4, 5, 6]])"
      ]
     },
     "execution_count": 9,
     "metadata": {},
     "output_type": "execute_result"
    }
   ],
   "source": [
    "M = np.array([[1, 3, 7], [2, 6, 3], [9, 8, 0], [4, 5, 6]])\n",
    "M"
   ]
  },
  {
   "cell_type": "markdown",
   "metadata": {},
   "source": [
    "/scrub/\n",
    "\n",
    "8"
   ]
  },
  {
   "cell_type": "markdown",
   "metadata": {
    "slideshow": {
     "slide_type": "slide"
    }
   },
   "source": [
    "### Basic Matrix Algebra"
   ]
  },
  {
   "cell_type": "markdown",
   "metadata": {
    "slideshow": {
     "slide_type": "slide"
    }
   },
   "source": [
    "#### Addition and Subtraction\n",
    "Vector **addition** is done elementwise:\n",
    "\n",
    "$\\vec{v} + \\vec{w} =\n",
    "\\left[ \\begin{array}{c}\n",
    "1 \\\\\n",
    "3 \\\\\n",
    "7\n",
    "\\end{array} \\right] + \\left[ \\begin{array}{c}\n",
    "1 \\\\\n",
    "0 \\\\\n",
    "1\n",
    "\\end{array} \\right] = \n",
    "\\left[ \\begin{array}{c}\n",
    "1+1 \\\\\n",
    "3+0 \\\\\n",
    "7+1\n",
    "\\end{array} \\right] = \n",
    "\\left[ \\begin{array}{c}\n",
    "2 \\\\\n",
    "3 \\\\\n",
    "8\n",
    "\\end{array} \\right]\n",
    "$\n",
    "\n",
    "So is vector **subtraction**:\n",
    "\n",
    "$\\vec{v} - \\vec{w} =\n",
    "\\left[ \\begin{array}{c}\n",
    "1 \\\\\n",
    "3 \\\\\n",
    "7\n",
    "\\end{array} \\right] - \\left[ \\begin{array}{c}\n",
    "1 \\\\\n",
    "0 \\\\\n",
    "1\n",
    "\\end{array} \\right] = \n",
    "\\left[ \\begin{array}{c}\n",
    "1-1 \\\\\n",
    "3-0 \\\\\n",
    "7-1\n",
    "\\end{array} \\right] = \n",
    "\\left[ \\begin{array}{c}\n",
    "0 \\\\\n",
    "3 \\\\\n",
    "6\n",
    "\\end{array} \\right]\n",
    "$"
   ]
  },
  {
   "cell_type": "code",
   "execution_count": 10,
   "metadata": {
    "slideshow": {
     "slide_type": "slide"
    }
   },
   "outputs": [],
   "source": [
    "v = np.array([1, 3, 7])\n",
    "w = np.array([1, 0, 1])"
   ]
  },
  {
   "cell_type": "code",
   "execution_count": 11,
   "metadata": {},
   "outputs": [
    {
     "name": "stdout",
     "output_type": "stream",
     "text": [
      "[2 3 8]\n",
      "[0 3 6]\n"
     ]
    }
   ],
   "source": [
    "# Add and subtract\n",
    "# /scrub/\n",
    "print(v+w)\n",
    "print(v-w)"
   ]
  },
  {
   "cell_type": "markdown",
   "metadata": {
    "slideshow": {
     "slide_type": "slide"
    }
   },
   "source": [
    "Likewise for matrices.\n",
    "\n",
    "Addition:\n",
    "\n",
    "$\\left[ \\begin{array}{c}\n",
    "1 & 2 & 6  \\\\\n",
    "4 & 8 & 3  \\\\\n",
    "9 & 2 & 1 \\\\\n",
    "\\end{array} \\right]\n",
    "+\n",
    "\\left[ \\begin{array}{c}\n",
    "9 & 7 & 3  \\\\\n",
    "6 & 8 & 2  \\\\\n",
    "4 & 2 & 4 \\\\\n",
    "\\end{array} \\right]\n",
    "=\n",
    "\\left[ \\begin{array}{c}\n",
    "1+9 & 2+7 & 6+3  \\\\\n",
    "4+6 & 8+8 & 3+2  \\\\\n",
    "9+4 & 2+2 & 1+4 \\\\\n",
    "\\end{array} \\right]\n",
    "=\n",
    "\\left[ \\begin{array}{c}\n",
    "10 & 9 & 9  \\\\\n",
    "10 & 16 & 5  \\\\\n",
    "13 & 4 & 5 \\\\\n",
    "\\end{array} \\right]\n",
    "$\n",
    "\n",
    "Subtraction:\n",
    "\n",
    "$\\left[ \\begin{array}{c}\n",
    "1 & 2 & 6  \\\\\n",
    "4 & 8 & 3  \\\\\n",
    "9 & 2 & 1 \\\\\n",
    "\\end{array} \\right]\n",
    "-\n",
    "\\left[ \\begin{array}{c}\n",
    "9 & 7 & 3  \\\\\n",
    "6 & 8 & 2  \\\\\n",
    "4 & 2 & 4 \\\\\n",
    "\\end{array} \\right]\n",
    "=\n",
    "\\left[ \\begin{array}{c}\n",
    "1-9 & 2-7 & 6-3  \\\\\n",
    "4-6 & 8-8 & 3-2  \\\\\n",
    "9-4 & 2-2 & 1-4 \\\\\n",
    "\\end{array} \\right]\n",
    "=\n",
    "\\left[ \\begin{array}{c}\n",
    "-8 & -5 & 3  \\\\\n",
    "-2 & 0 & 1  \\\\\n",
    "5 & 0 & -3 \\\\\n",
    "\\end{array} \\right]\n",
    "$"
   ]
  },
  {
   "cell_type": "code",
   "execution_count": 12,
   "metadata": {
    "slideshow": {
     "slide_type": "slide"
    }
   },
   "outputs": [],
   "source": [
    "a = np.array([[1, 2, 6], [4, 8, 3], [9, 2, 1]])\n",
    "b = np.array([[9, 7, 3], [6, 8, 2], [4, 2, 4]])"
   ]
  },
  {
   "cell_type": "code",
   "execution_count": 13,
   "metadata": {},
   "outputs": [
    {
     "name": "stdout",
     "output_type": "stream",
     "text": [
      "[[10  9  9]\n",
      " [10 16  5]\n",
      " [13  4  5]]\n",
      "[[-8 -5  3]\n",
      " [-2  0  1]\n",
      " [ 5  0 -3]]\n"
     ]
    }
   ],
   "source": [
    "# Add and subtract\n",
    "# /scrub/\n",
    "print(a+b)\n",
    "print(a-b)"
   ]
  },
  {
   "cell_type": "markdown",
   "metadata": {
    "slideshow": {
     "slide_type": "slide"
    }
   },
   "source": [
    "#### Multiplication\n",
    "\n",
    "Multiplying with vectors and matrices can take a few different forms."
   ]
  },
  {
   "cell_type": "markdown",
   "metadata": {},
   "source": [
    "##### Elementwise multiplication"
   ]
  },
  {
   "cell_type": "markdown",
   "metadata": {},
   "source": [
    "$\\vec{v} + \\vec{w} =\n",
    "\\left[ \\begin{array}{c}\n",
    "1 \\\\\n",
    "3 \\\\\n",
    "7\n",
    "\\end{array} \\right] * \\left[ \\begin{array}{c}\n",
    "1 \\\\\n",
    "0 \\\\\n",
    "1\n",
    "\\end{array} \\right] = \n",
    "\\left[ \\begin{array}{c}\n",
    "1*1 \\\\\n",
    "3*0 \\\\\n",
    "7*1\n",
    "\\end{array} \\right] = \n",
    "\\left[ \\begin{array}{c}\n",
    "1 \\\\\n",
    "0 \\\\\n",
    "7\n",
    "\\end{array} \\right]\n",
    "$\n"
   ]
  },
  {
   "cell_type": "code",
   "execution_count": 14,
   "metadata": {},
   "outputs": [],
   "source": [
    "v = np.array([1, 3, 7])\n",
    "w = np.array([1, 0, 1])"
   ]
  },
  {
   "cell_type": "code",
   "execution_count": 15,
   "metadata": {},
   "outputs": [
    {
     "name": "stdout",
     "output_type": "stream",
     "text": [
      "[1 0 7]\n"
     ]
    }
   ],
   "source": [
    "# Multiply elementwise\n",
    "# /scrub/\n",
    "print(v*w)"
   ]
  },
  {
   "cell_type": "markdown",
   "metadata": {
    "slideshow": {
     "slide_type": "slide"
    }
   },
   "source": [
    "##### Scalar Multiplication: A Vector of Matrix times a *Number*\n",
    "We scale a vector or matrix with **scalar multiplication**, multiplying a vector by a scalar (single quantity):\n",
    "\n",
    "$ 2 \\cdot \\vec{v} = 2\\left[ \\begin{array}{c}\n",
    "1 \\\\\n",
    "3 \\\\\n",
    "7\n",
    "\\end{array} \\right] = \n",
    " \\left[ \\begin{array}{c}\n",
    "2 \\cdot 1 \\\\\n",
    "2 \\cdot 3 \\\\\n",
    "2 \\cdot 7\n",
    "\\end{array} \\right] = \n",
    " \\left[ \\begin{array}{c}\n",
    "2 \\\\\n",
    "6 \\\\\n",
    "14\n",
    "\\end{array} \\right]$ \n",
    "\n",
    "$3\n",
    "\\cdot \\left[ \\begin{array}{c}\n",
    "1 & 2 & 6  \\\\\n",
    "4 & 8 & 3  \\\\\n",
    "9 & 2 & 1 \\\\\n",
    "\\end{array} \\right]\n",
    "=\n",
    "\\left[ \\begin{array}{c}\n",
    "3\\cdot1 & 3\\cdot2 & 3\\cdot6  \\\\\n",
    "3\\cdot4 & 3\\cdot8 & 3\\cdot3  \\\\\n",
    "3\\cdot9 & 3\\cdot2 & 3\\cdot1 \\\\\n",
    "\\end{array} \\right]\n",
    "=\n",
    "\\left[ \\begin{array}{c}\n",
    "3 & 6 & 18  \\\\\n",
    "12 & 24 & 9  \\\\\n",
    "27 & 6 & 3 \\\\\n",
    "\\end{array} \\right]\n",
    "$"
   ]
  },
  {
   "cell_type": "code",
   "execution_count": 16,
   "metadata": {
    "slideshow": {
     "slide_type": "slide"
    }
   },
   "outputs": [],
   "source": [
    "v = np.array([1, 3, 7])"
   ]
  },
  {
   "cell_type": "code",
   "execution_count": 17,
   "metadata": {},
   "outputs": [
    {
     "data": {
      "text/plain": [
       "array([ 2,  6, 14])"
      ]
     },
     "execution_count": 17,
     "metadata": {},
     "output_type": "execute_result"
    }
   ],
   "source": [
    "# Multiply by a scalar\n",
    "# /scrub/\n",
    "2 * v"
   ]
  },
  {
   "cell_type": "code",
   "execution_count": 18,
   "metadata": {
    "slideshow": {
     "slide_type": "slide"
    }
   },
   "outputs": [],
   "source": [
    "v = np.array([[1, 2, 6], [4, 8, 3], [9, 2, 1]])"
   ]
  },
  {
   "cell_type": "code",
   "execution_count": 19,
   "metadata": {},
   "outputs": [
    {
     "data": {
      "text/plain": [
       "array([[ 3,  6, 18],\n",
       "       [12, 24,  9],\n",
       "       [27,  6,  3]])"
      ]
     },
     "execution_count": 19,
     "metadata": {},
     "output_type": "execute_result"
    }
   ],
   "source": [
    "# Multiply by a scalar\n",
    "# /scrub/\n",
    "3 * v"
   ]
  },
  {
   "cell_type": "markdown",
   "metadata": {
    "slideshow": {
     "slide_type": "slide"
    }
   },
   "source": [
    "##### Dot Product: Multiplying *Two Vectors* and Reducing the Result to a Single Number\n",
    "Suppose three girl scout troops have 1, 3, and 7 members, respectively. Each member of the first troop sells 5 boxes of girl scout cookies; each member of the second troop sells 4; and each member of the third troop sells 2. How many boxes did they sell in all?\n",
    "\n",
    "$1 \\cdot 5 + 3 \\cdot 4 + 7 \\cdot 2 = 5 + 12 + 14 = 31$\n",
    "\n",
    "This calculation is an examples of a **dot product**, which you calculate by multiplying corresponding elements of two vectors and adding the results:\n",
    "\n",
    "$\\vec{v} = \\left[ \\begin{array}{c}\n",
    "1 \\\\\n",
    "3 \\\\\n",
    "7\n",
    "\\end{array} \\right], \\vec{w} = \\left[ \\begin{array}{c}\n",
    "5 \\\\\n",
    "4 \\\\\n",
    "2\n",
    "\\end{array} \\right]$\n",
    "\n",
    "$ \\vec{v} \\cdot \\vec{w} = 1 \\cdot 5 + 3 \\cdot 4 + 7 \\cdot 2 = 31 $"
   ]
  },
  {
   "cell_type": "markdown",
   "metadata": {
    "slideshow": {
     "slide_type": "notes"
    }
   },
   "source": [
    "If you think of vectors as arrows in space, then the dot product of two vectors reflects both *how big they are* and *the extent to which they point in the same direction.*"
   ]
  },
  {
   "cell_type": "markdown",
   "metadata": {
    "slideshow": {
     "slide_type": "slide"
    }
   },
   "source": [
    "/scrub/\n",
    "\n",
    "![](../assets/images/dot_product_sizes.png)"
   ]
  },
  {
   "cell_type": "code",
   "execution_count": 20,
   "metadata": {
    "slideshow": {
     "slide_type": "slide"
    }
   },
   "outputs": [],
   "source": [
    "v = np.array([1, 3, 7])\n",
    "w = np.array([5, 4, 2])"
   ]
  },
  {
   "cell_type": "code",
   "execution_count": 21,
   "metadata": {},
   "outputs": [
    {
     "name": "stdout",
     "output_type": "stream",
     "text": [
      "31\n",
      "31\n"
     ]
    }
   ],
   "source": [
    "# Calculate the dot product of v and w\n",
    "# /scrub/\n",
    "print(v@w)  # new syntax, recommended\n",
    "print(v.dot(w))  # old syntax, still common"
   ]
  },
  {
   "cell_type": "markdown",
   "metadata": {
    "slideshow": {
     "slide_type": "slide"
    }
   },
   "source": [
    "##### Matrix Multiplication\n",
    "Matrix multiplication, $\\mathbf{A}_{mn}$ x $\\mathbf{B}_{ij}$, is valid when the left matrix has the same number of columns as the right matrix has rows ($n = i$). Each entry is the dot product of corresponding row and column vectors.\n",
    "\n",
    "![](../assets/images/matrix-multiply-a.gif)\n",
    "(Image: mathisfun.com!)"
   ]
  },
  {
   "cell_type": "markdown",
   "metadata": {
    "slideshow": {
     "slide_type": "notes"
    }
   },
   "source": [
    "/scrub/\n",
    "\n",
    "![](../assets/images/matrix_multiplication.png)"
   ]
  },
  {
   "cell_type": "markdown",
   "metadata": {},
   "source": [
    "**Convention:** Use capital letters for matrices, lowercase for vectors."
   ]
  },
  {
   "cell_type": "code",
   "execution_count": 22,
   "metadata": {
    "slideshow": {
     "slide_type": "slide"
    }
   },
   "outputs": [],
   "source": [
    "A = np.array([[1, 2, 3], [4, 5, 6]])\n",
    "B = np.array([[7, 8], [9, 10], [11, 12]])"
   ]
  },
  {
   "cell_type": "code",
   "execution_count": 23,
   "metadata": {},
   "outputs": [
    {
     "name": "stdout",
     "output_type": "stream",
     "text": [
      "[[ 58  64]\n",
      " [139 154]]\n",
      "[[ 58  64]\n",
      " [139 154]]\n"
     ]
    }
   ],
   "source": [
    "# Calculate the matrix product of A and B\n",
    "# /scrub/\n",
    "print(A @ B)\n",
    "print(A.dot(B))"
   ]
  },
  {
   "cell_type": "markdown",
   "metadata": {
    "slideshow": {
     "slide_type": "slide"
    }
   },
   "source": [
    "**Exercise.** Compute this matrix product by hand, and then with Python. Make sure that your answers agree!\n",
    "\n",
    "$\n",
    "\\left[ \\begin{array}{c}\n",
    "1 & 2 \\\\\n",
    "4 & 8 \\\\\n",
    "\\end{array} \\right]\n",
    "\\times \\left[ \\begin{array}{c}\n",
    "2 & 9 \\\\\n",
    "3 & 6 \\\\\n",
    "\\end{array} \\right]\n",
    "$"
   ]
  },
  {
   "cell_type": "markdown",
   "metadata": {
    "slideshow": {
     "slide_type": "slide"
    }
   },
   "source": [
    "/scrub/\n",
    "\n",
    "$\n",
    "\\left[ \\begin{array}{c}\n",
    "1\\cdot2 + 2\\cdot3 & 1\\cdot9 + 2\\cdot6 \\\\\n",
    "4\\cdot2 + 8\\cdot3 & 4\\cdot9 + 8\\cdot6 \\\\\n",
    "\\end{array} \\right]\n",
    "= \\left[ \\begin{array}{c}\n",
    "8 & 21 \\\\\n",
    "32 & 84 \\\\\n",
    "\\end{array} \\right]\n",
    "$"
   ]
  },
  {
   "cell_type": "code",
   "execution_count": 24,
   "metadata": {
    "slideshow": {
     "slide_type": "slide"
    }
   },
   "outputs": [
    {
     "name": "stdout",
     "output_type": "stream",
     "text": [
      "[[ 8 21]\n",
      " [32 84]]\n"
     ]
    }
   ],
   "source": [
    "# /scrub/\n",
    "A = np.array([[1, 2], [4, 8]])\n",
    "B = np.array([[2, 9], [3, 6]])\n",
    "\n",
    "print(A @ B)"
   ]
  },
  {
   "cell_type": "markdown",
   "metadata": {
    "slideshow": {
     "slide_type": "slide"
    }
   },
   "source": [
    "<a id=\"vector-norm\"></a>\n",
    "##### Vector Norm\n",
    "\n",
    "The dot product of a vector with **itself** just reflects how big that vector is. The *square root* of that number is the *length of the arrow*. This value is often called the vector's **norm** or **magnitude**.\n",
    "\n",
    "$\n",
    "\\vec{v} = \\left[ \\begin{array}{c}\n",
    "3 \\\\\n",
    "4\n",
    "\\end{array}\\right]\n",
    "$\n",
    "\n",
    "$\n",
    "||\\vec{v}||=\\sqrt{\\vec{v}\\cdot\\vec{v}} \\\\\n",
    "= \\sqrt{3\\cdot3 + 4\\cdot4} \\\\\n",
    "= \\sqrt{9 + 16} \\\\\n",
    "= \\sqrt{25} \\\\\n",
    "= 5\n",
    "$"
   ]
  },
  {
   "cell_type": "code",
   "execution_count": 25,
   "metadata": {
    "slideshow": {
     "slide_type": "notes"
    }
   },
   "outputs": [],
   "source": [
    "x = np.array([3,4])"
   ]
  },
  {
   "cell_type": "code",
   "execution_count": 26,
   "metadata": {},
   "outputs": [
    {
     "data": {
      "text/plain": [
       "5.0"
      ]
     },
     "execution_count": 26,
     "metadata": {},
     "output_type": "execute_result"
    }
   ],
   "source": [
    "# Calculate the norm of the vector x with np.linalg.norm.\n",
    "# /scrub/\n",
    "np.linalg.norm(x)"
   ]
  },
  {
   "cell_type": "markdown",
   "metadata": {
    "slideshow": {
     "slide_type": "slide"
    }
   },
   "source": [
    "<a id=\"linear-algebra-applications-to-machine-learning\"></a>\n",
    "# Example Application to Machine Learning\n",
    "\n",
    "Linear regression finds the set of coefficients that maximize predictive accuracy on some training data, meaning that it minimizes the **norm** of the **difference** between the **vector** of its predictions and the **vector** of true values.\n",
    "\n",
    "$$\\| \\vec{actual} - \\vec{predicted} \\| =\\sqrt{(actual_1 - predicted_1)^2 + (actual_2 - predicted_2)^2}$$\n",
    "\n",
    "The algorithm it uses to find those coefficients simply **inverts** and **multiplies matrices**."
   ]
  }
 ],
 "metadata": {
  "celltoolbar": "Slideshow",
  "kernelspec": {
   "display_name": "Python 3",
   "language": "python",
   "name": "python3"
  },
  "language_info": {
   "codemirror_mode": {
    "name": "ipython",
    "version": 3
   },
   "file_extension": ".py",
   "mimetype": "text/x-python",
   "name": "python",
   "nbconvert_exporter": "python",
   "pygments_lexer": "ipython3",
   "version": "3.6.4"
  }
 },
 "nbformat": 4,
 "nbformat_minor": 2
}

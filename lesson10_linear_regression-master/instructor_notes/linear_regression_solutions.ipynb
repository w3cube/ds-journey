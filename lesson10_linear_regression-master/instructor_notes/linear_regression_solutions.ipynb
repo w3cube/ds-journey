{
 "cells": [
  {
   "cell_type": "markdown",
   "metadata": {},
   "source": [
    "<img src=\"http://imgur.com/1ZcRyrc.png\" style=\"float: left; margin: 20px; height: 55px\">\n",
    "\n",
    "# Linear Regression\n",
    "\n",
    "_Authors: Kevin Markham (Washington, D.C.), Ed Podojil (New York City)_"
   ]
  },
  {
   "cell_type": "markdown",
   "metadata": {},
   "source": [
    "#### Learning Objectives\n",
    "- Define \"data modeling\" and \"simple linear regression.\"\n",
    "- Build a linear regression model using a data set that meets the linearity assumption using the scikit-learn library.\n",
    "- Understand and identify multicollinearity in a multiple regression."
   ]
  },
  {
   "cell_type": "code",
   "execution_count": 1,
   "metadata": {
    "collapsed": true
   },
   "outputs": [],
   "source": [
    "import pandas as pd\n",
    "import numpy as np\n",
    "import seaborn as sns\n",
    "import matplotlib.pyplot as plt\n",
    "\n",
    "%matplotlib inline\n",
    "plt.rcParams['figure.figsize'] = (8, 6)\n",
    "plt.rcParams['font.size'] = 14\n",
    "plt.style.use(\"fivethirtyeight\")"
   ]
  },
  {
   "cell_type": "markdown",
   "metadata": {},
   "source": [
    "<a id=\"introduce-the-bikeshare-dataset\"></a>\n",
    "## Bikeshare Data Set\n",
    "---"
   ]
  },
  {
   "cell_type": "markdown",
   "metadata": {},
   "source": [
    "We are going to use bikeshare data to build a simple demand forecasting model.\n",
    "\n",
    "**Possible applications:**\n",
    "\n",
    "* Find where to site new bikeshare stations and know how large of a station to build.\n",
    "* Calculate the expected wear and tear on bikes and what the replacement costs will be.\n",
    "* Use a slightly different research design to forecast full and empty stations and send a service vehicle to \"rebalance\" the bikes from one station to another, as sometimes bikeshare stations have no bikes or are completely full and prevent use of the station."
   ]
  },
  {
   "cell_type": "code",
   "execution_count": 2,
   "metadata": {
    "collapsed": true
   },
   "outputs": [],
   "source": [
    "# Read the data and set the datetime as the index.\n",
    "# /scrub/\n",
    "path = '../data/bikeshare.csv'\n",
    "bikes = pd.read_csv(path, index_col='datetime', parse_dates=True)"
   ]
  },
  {
   "cell_type": "code",
   "execution_count": 3,
   "metadata": {},
   "outputs": [
    {
     "data": {
      "text/html": [
       "<div>\n",
       "<style scoped>\n",
       "    .dataframe tbody tr th:only-of-type {\n",
       "        vertical-align: middle;\n",
       "    }\n",
       "\n",
       "    .dataframe tbody tr th {\n",
       "        vertical-align: top;\n",
       "    }\n",
       "\n",
       "    .dataframe thead th {\n",
       "        text-align: right;\n",
       "    }\n",
       "</style>\n",
       "<table border=\"1\" class=\"dataframe\">\n",
       "  <thead>\n",
       "    <tr style=\"text-align: right;\">\n",
       "      <th></th>\n",
       "      <th>season</th>\n",
       "      <th>holiday</th>\n",
       "      <th>workingday</th>\n",
       "      <th>weather</th>\n",
       "      <th>temp</th>\n",
       "      <th>atemp</th>\n",
       "      <th>humidity</th>\n",
       "      <th>windspeed</th>\n",
       "      <th>casual</th>\n",
       "      <th>registered</th>\n",
       "      <th>count</th>\n",
       "    </tr>\n",
       "    <tr>\n",
       "      <th>datetime</th>\n",
       "      <th></th>\n",
       "      <th></th>\n",
       "      <th></th>\n",
       "      <th></th>\n",
       "      <th></th>\n",
       "      <th></th>\n",
       "      <th></th>\n",
       "      <th></th>\n",
       "      <th></th>\n",
       "      <th></th>\n",
       "      <th></th>\n",
       "    </tr>\n",
       "  </thead>\n",
       "  <tbody>\n",
       "    <tr>\n",
       "      <th>2011-01-01 00:00:00</th>\n",
       "      <td>1</td>\n",
       "      <td>0</td>\n",
       "      <td>0</td>\n",
       "      <td>1</td>\n",
       "      <td>3.28</td>\n",
       "      <td>3.0014</td>\n",
       "      <td>81</td>\n",
       "      <td>0.0</td>\n",
       "      <td>3</td>\n",
       "      <td>13</td>\n",
       "      <td>16</td>\n",
       "    </tr>\n",
       "    <tr>\n",
       "      <th>2011-01-01 01:00:00</th>\n",
       "      <td>1</td>\n",
       "      <td>0</td>\n",
       "      <td>0</td>\n",
       "      <td>1</td>\n",
       "      <td>2.34</td>\n",
       "      <td>1.9982</td>\n",
       "      <td>80</td>\n",
       "      <td>0.0</td>\n",
       "      <td>8</td>\n",
       "      <td>32</td>\n",
       "      <td>40</td>\n",
       "    </tr>\n",
       "    <tr>\n",
       "      <th>2011-01-01 02:00:00</th>\n",
       "      <td>1</td>\n",
       "      <td>0</td>\n",
       "      <td>0</td>\n",
       "      <td>1</td>\n",
       "      <td>2.34</td>\n",
       "      <td>1.9982</td>\n",
       "      <td>80</td>\n",
       "      <td>0.0</td>\n",
       "      <td>5</td>\n",
       "      <td>27</td>\n",
       "      <td>32</td>\n",
       "    </tr>\n",
       "    <tr>\n",
       "      <th>2011-01-01 03:00:00</th>\n",
       "      <td>1</td>\n",
       "      <td>0</td>\n",
       "      <td>0</td>\n",
       "      <td>1</td>\n",
       "      <td>3.28</td>\n",
       "      <td>3.0014</td>\n",
       "      <td>75</td>\n",
       "      <td>0.0</td>\n",
       "      <td>3</td>\n",
       "      <td>10</td>\n",
       "      <td>13</td>\n",
       "    </tr>\n",
       "    <tr>\n",
       "      <th>2011-01-01 04:00:00</th>\n",
       "      <td>1</td>\n",
       "      <td>0</td>\n",
       "      <td>0</td>\n",
       "      <td>1</td>\n",
       "      <td>3.28</td>\n",
       "      <td>3.0014</td>\n",
       "      <td>75</td>\n",
       "      <td>0.0</td>\n",
       "      <td>0</td>\n",
       "      <td>1</td>\n",
       "      <td>1</td>\n",
       "    </tr>\n",
       "  </tbody>\n",
       "</table>\n",
       "</div>"
      ],
      "text/plain": [
       "                     season  holiday  workingday  weather  temp   atemp  \\\n",
       "datetime                                                                  \n",
       "2011-01-01 00:00:00       1        0           0        1  3.28  3.0014   \n",
       "2011-01-01 01:00:00       1        0           0        1  2.34  1.9982   \n",
       "2011-01-01 02:00:00       1        0           0        1  2.34  1.9982   \n",
       "2011-01-01 03:00:00       1        0           0        1  3.28  3.0014   \n",
       "2011-01-01 04:00:00       1        0           0        1  3.28  3.0014   \n",
       "\n",
       "                     humidity  windspeed  casual  registered  count  \n",
       "datetime                                                             \n",
       "2011-01-01 00:00:00        81        0.0       3          13     16  \n",
       "2011-01-01 01:00:00        80        0.0       8          32     40  \n",
       "2011-01-01 02:00:00        80        0.0       5          27     32  \n",
       "2011-01-01 03:00:00        75        0.0       3          10     13  \n",
       "2011-01-01 04:00:00        75        0.0       0           1      1  "
      ]
     },
     "execution_count": 3,
     "metadata": {},
     "output_type": "execute_result"
    }
   ],
   "source": [
    "# Preview the first five rows of the DataFrame.\n",
    "# /scrub/\n",
    "bikes.head()"
   ]
  },
  {
   "cell_type": "markdown",
   "metadata": {},
   "source": [
    "Each observation is an hour of events.\n",
    "\n",
    "`count` indicates the total number of riders. It will be the target variable that we try to forecast."
   ]
  },
  {
   "cell_type": "markdown",
   "metadata": {},
   "source": [
    "`causal` and `registered` are segments of the total users, so they are alternative target variables  that aren't available for forecasting total users."
   ]
  },
  {
   "cell_type": "markdown",
   "metadata": {},
   "source": [
    "#### Data dictionary"
   ]
  },
  {
   "cell_type": "markdown",
   "metadata": {},
   "source": [
    "| Variable| Description |\n",
    "|---------|----------------|\n",
    "|datetime| hourly date + timestamp  |\n",
    "|season|  1 = spring, 2 = summer, 3 = fall, 4 = winter |\n",
    "|holiday| whether the day is considered a holiday|\n",
    "|workingday| whether the day is neither a weekend nor holiday|\n",
    "|weather| See below|\n",
    "|temp| temp_celsius in Celsius|\n",
    "|atemp| \"feels like\" temp_celsius in Celsius|\n",
    "|humidity| relative humidity|\n",
    "|windspeed| wind speed|\n",
    "|casual| number of non-num_registered_users user rentals initiated|\n",
    "|registered| number of num_registered_users user rentals initiated|\n",
    "|count| number of total rentals|\n",
    "\n",
    "_Details on Weather Variable_:\n",
    "\n",
    "- **1**: Clear, Few clouds, Partly cloudy, Partly cloudy\n",
    "- **2**: Mist + Cloudy, Mist + Broken clouds, Mist + Few clouds, Mist\n",
    "- **3**: Light Snow, Light Rain + Thunderstorm + Scattered clouds, Light Rain + Scattered clouds\n",
    "- **4**: Heavy Rain + Ice Pallets + Thunderstorm + Mist, Snow + Fog"
   ]
  },
  {
   "cell_type": "markdown",
   "metadata": {},
   "source": [
    "#### Exercise:\n",
    "\n",
    "- Rename the columns in `bikes` as indicated below.\n",
    "\n",
    "| old name | new name |\n",
    "| ---    | --- |\n",
    "| temp | temp_celsius\n",
    "| windspeed | windspeed_knots\n",
    "| casual | num_casual_users\n",
    "| registered | num_registered_users\n",
    "| season | season_num\n",
    "| holiday | is_holiday\n",
    "| workingday | is_workingday\n",
    "| humidity | humidity_percent\n",
    "| count | num_total_users\n",
    "\n",
    "Using these more explicit names will make it easier to avoid mistakes."
   ]
  },
  {
   "cell_type": "code",
   "execution_count": 4,
   "metadata": {
    "collapsed": true
   },
   "outputs": [],
   "source": [
    "# /scrub/\n",
    "\n",
    "bikes.rename(columns={'temp':'temp_celsius',\n",
    "                      'atemp':'atemp_celsius',\n",
    "                      'windspeed': 'windspeed_knots',\n",
    "                      'casual': 'num_casual_users',\n",
    "                      'registered': 'num_registered_users',\n",
    "                      'season': 'season_num',\n",
    "                      'holiday': 'is_holiday',\n",
    "                      'workingday': 'is_workingday',\n",
    "                      'humidity': 'humidity_percent',\n",
    "                      'count': 'num_total_users'\n",
    "                      },\n",
    "             inplace=True\n",
    "             )"
   ]
  },
  {
   "cell_type": "markdown",
   "metadata": {},
   "source": [
    "<a id=\"visualizing-the-data\"></a>\n",
    "## Our First Model"
   ]
  },
  {
   "cell_type": "code",
   "execution_count": 5,
   "metadata": {},
   "outputs": [
    {
     "data": {
      "image/png": "[encoded data removed]",
      "text/plain": [
       "<matplotlib.figure.Figure at 0x1a12b89080>"
      ]
     },
     "metadata": {},
     "output_type": "display_data"
    }
   ],
   "source": [
    "# make a scatterplot of `num_total_users` against `temp_celsius`\n",
    "# /scrub/\n",
    "fig, ax = plt.subplots(figsize=(8, 6))\n",
    "bikes.plot(kind='scatter', x='temp_celsius', y='num_total_users', alpha=0.2, ax=ax);"
   ]
  },
  {
   "cell_type": "code",
   "execution_count": 6,
   "metadata": {},
   "outputs": [
    {
     "data": {
      "image/png": "[encoded data removed]",
      "text/plain": [
       "<matplotlib.figure.Figure at 0x1a12ada390>"
      ]
     },
     "metadata": {},
     "output_type": "display_data"
    }
   ],
   "source": [
    "# Use Seaborn to create a scatterplot with regression line\n",
    "# sns.lmplot does not allow us to pass in an Axes object.\n",
    "# It creates a FaceGrid object that has the relevant Axes object\n",
    "# as its ax attribute.\n",
    "# /scrub/\n",
    "g = sns.lmplot(x='temp_celsius',\n",
    "               y='num_total_users',\n",
    "               data=bikes,\n",
    "               aspect=1.5, # aspect ratio (width:height)\n",
    "               scatter_kws={'alpha':0.2}, # this is how you pass arguments to the underlying scatterplot\n",
    "               );\n",
    "ax = g.ax\n",
    "ax.set_title('We just created a statistical model');"
   ]
  },
  {
   "cell_type": "markdown",
   "metadata": {},
   "source": [
    "We just created a linear regression model!\n",
    "\n",
    "- **Formula for a line:** $y = mx + b$\n",
    "- **Alternative notation:** $y = \\beta_0 + \\beta_1 * x$\n",
    "- **Our model:** $\\mbox{num_total_users} = \\beta_0 + \\beta_1 * \\mbox{temp_celsius} + \\epsilon$"
   ]
  },
  {
   "cell_type": "markdown",
   "metadata": {},
   "source": [
    "We call $\\beta_0$ the **model intercept** and $\\beta_1$ the **coefficient of `temp_celsius`**.\n",
    "\n",
    "We call $\\epsilon$ the **noise** or **error term**. It accounts for the fact that our points do not lie exactly on a line. Linear regression is designed to be optimal when this noise is normally distributed with constant variance. We ignore it when we use the model to make predictions."
   ]
  },
  {
   "cell_type": "markdown",
   "metadata": {},
   "source": [
    "**Exercise.** Answer each question below in terms of $\\beta_0$ (\"beta naught\"), $\\beta_1$, and $\\epsilon$ (\"epsilon\")."
   ]
  },
  {
   "cell_type": "markdown",
   "metadata": {},
   "source": [
    "- What would our model predict for `num_total_users` at `temp_celsius=0`?"
   ]
  },
  {
   "cell_type": "markdown",
   "metadata": {},
   "source": [
    "/scrub/\n",
    "\n",
    "$\\beta_0$"
   ]
  },
  {
   "cell_type": "markdown",
   "metadata": {},
   "source": [
    "- If `temp_celsius` increases by 5, how does our model's prediction for `num_total_users` change? What if $\\alpha$ were negative?"
   ]
  },
  {
   "cell_type": "markdown",
   "metadata": {},
   "source": [
    "/scrub/\n",
    "\n",
    "It increases by $5*\\beta_1$. If $\\beta_1$ were negative, then it would decrease by $5 * |\\beta_1|$."
   ]
  },
  {
   "cell_type": "markdown",
   "metadata": {},
   "source": [
    "- I claim that this model does *not* tell us how the number of total uses would change if we were (somehow) to intervene to increase $temp\\_celsius$ by 5. Why not?"
   ]
  },
  {
   "cell_type": "markdown",
   "metadata": {},
   "source": [
    "/scrub/\n",
    "\n",
    "The model is not causal. It could be that, e.g., the bikes are used more during the summer because there are tourists during that time. In this scenario, the relationship between temp and usage is confounded by season, which introduces bias into naive inferences from correlation to causation."
   ]
  },
  {
   "cell_type": "markdown",
   "metadata": {},
   "source": [
    "---"
   ]
  },
  {
   "cell_type": "markdown",
   "metadata": {},
   "source": [
    "**Takeaways:**\n",
    "\n",
    "- Linear regression with one input feature chooses the *line* that \"best fits\" a scatterplot of the target variable against that input feature.\n",
    "- The model intercept tells you what the model would predict if all of the input variables were zero.\n",
    "- The coefficient on a variable tells you how much and in what direction the model's prediction would change if the relevant variable were to increase by 1."
   ]
  },
  {
   "cell_type": "markdown",
   "metadata": {},
   "source": [
    "# Building a Linear Regression Models with scikit-learn"
   ]
  },
  {
   "cell_type": "markdown",
   "metadata": {},
   "source": [
    "When we called `sns.lmplot`, `seaborn` created a linear regression model which it then displayed to us.\n",
    "\n",
    "A more typical workflow for creating a linear regression model uses scikit-learn."
   ]
  },
  {
   "cell_type": "markdown",
   "metadata": {},
   "source": [
    "scikit-learn is the most popular Python library for machine learning.\n",
    "\n",
    "**Strengths:**\n",
    "\n",
    "- Includes good implementations of a wide range of algorithms.\n",
    "- Provides consistent interface across model types.\n",
    "- Provides excellent documentation.\n",
    "- Large community --> tons of resources for learning and getting questions answered.\n",
    "\n",
    "**Limitations:**\n",
    "\n",
    "- Designed primarily for single-thread, in-memory computing.\n",
    "- Has only basic capabilites for deep learning.\n",
    "- Reflects machine learning rather than statistics mindset: focuses on predictive accuracy on held-out data rather than hypothesis testing, parameter estimation, and model interpretation."
   ]
  },
  {
   "cell_type": "code",
   "execution_count": 7,
   "metadata": {
    "collapsed": true
   },
   "outputs": [],
   "source": [
    "# 1. Import the LinearRegression model class.\n",
    "# /scrub/\n",
    "from sklearn.linear_model import LinearRegression"
   ]
  },
  {
   "cell_type": "code",
   "execution_count": 8,
   "metadata": {},
   "outputs": [
    {
     "data": {
      "text/plain": [
       "sklearn.linear_model.base.LinearRegression"
      ]
     },
     "execution_count": 8,
     "metadata": {},
     "output_type": "execute_result"
    }
   ],
   "source": [
    "# 2. Make an instance of the LinearRegression class.\n",
    "# /scrub/\n",
    "lr_celsius = LinearRegression()\n",
    "type(lr_celsius)"
   ]
  },
  {
   "cell_type": "code",
   "execution_count": 9,
   "metadata": {},
   "outputs": [
    {
     "data": {
      "text/plain": [
       "LinearRegression(copy_X=True, fit_intercept=True, n_jobs=1, normalize=False)"
      ]
     },
     "execution_count": 9,
     "metadata": {},
     "output_type": "execute_result"
    }
   ],
   "source": [
    "# 3. Train the model instance on our data.\n",
    "# We will use just temp_celsius for now.\n",
    "# Fitting changes the model `lr_celsius` in-place. scikit-learn is figuring out\n",
    "# the values to use for $\\beta_0$ and $\\beta_1$ and storing them inside the model\n",
    "# so that it can be used for prediction.\n",
    "# /scrub/\n",
    "X = bikes.loc[:, ['temp_celsius']] # scikit-learn expects 2d features\n",
    "y = bikes.loc[:, 'num_total_users']\n",
    "lr_celsius.fit(X, y)"
   ]
  },
  {
   "cell_type": "code",
   "execution_count": 10,
   "metadata": {
    "collapsed": true
   },
   "outputs": [],
   "source": [
    "# 4. Use the model to make predictions.\n",
    "# We will add the fitted values to our DataFrame.\n",
    "# /scrub/\n",
    "bikes.loc[:, 'predictions'] = lr_celsius.predict(X)"
   ]
  },
  {
   "cell_type": "code",
   "execution_count": 11,
   "metadata": {},
   "outputs": [
    {
     "data": {
      "image/png": "[encoded data removed]",
      "text/plain": [
       "<matplotlib.figure.Figure at 0x1a1c650898>"
      ]
     },
     "metadata": {},
     "output_type": "display_data"
    }
   ],
   "source": [
    "# Let's compare fitted values to actual.\n",
    "# /scrub/\n",
    "fig, ax = plt.subplots()\n",
    "bikes.plot(kind='scatter', x='num_total_users', y='predictions', ax=ax, alpha=.2)\n",
    "ax.plot([0, 400], [0, 400], 'r');"
   ]
  },
  {
   "cell_type": "markdown",
   "metadata": {},
   "source": [
    "**Exercise.**"
   ]
  },
  {
   "cell_type": "markdown",
   "metadata": {},
   "source": [
    "- What would the plot above look like if our model's predictions were perfectly accurate?"
   ]
  },
  {
   "cell_type": "markdown",
   "metadata": {},
   "source": [
    "/scrub/\n",
    "\n",
    "The points would lie exactly on the red line."
   ]
  },
  {
   "cell_type": "markdown",
   "metadata": {},
   "source": [
    "- What would we see if our model couldn't be perfectly accurate because `num_total_users` is affected by factors that are not perfectly correlated with `temp_celsius`, but we satisfied the conditions for linear regression to be optimal? Is that what we do see?"
   ]
  },
  {
   "cell_type": "markdown",
   "metadata": {},
   "source": [
    "/scrub/\n",
    "\n",
    "Those conditions are that $\\epsilon$ is normally distributed. In that case, we woudl expect our errors to be roughly normally distributed with constant variance. Instead, we see right-skewed errors that get more skewed as the predicted number of users increases."
   ]
  },
  {
   "cell_type": "markdown",
   "metadata": {},
   "source": [
    "---"
   ]
  },
  {
   "cell_type": "code",
   "execution_count": 12,
   "metadata": {
    "collapsed": true
   },
   "outputs": [],
   "source": [
    "# Drop the fitted values from our DataFrame\n",
    "# /scrub/\n",
    "bikes.drop('predictions', axis=1, inplace=True)"
   ]
  },
  {
   "cell_type": "markdown",
   "metadata": {},
   "source": [
    "<a id=\"scikit-learns--step-modeling-pattern\"></a>\n",
    "### scikit-learn's Four-Step Modeling Pattern"
   ]
  },
  {
   "cell_type": "markdown",
   "metadata": {},
   "source": [
    "1. Import the class you plan to use.\n",
    "2. \"Instantiate\" the class. You can specify \"hyperparameters\" at this point.\n",
    "3. Fit the model instance with data. (This step changes the model object in-place.)\n",
    "4. Use the fitted model to make predictions."
   ]
  },
  {
   "cell_type": "markdown",
   "metadata": {},
   "source": [
    "# Linear Regression with Multiple Features"
   ]
  },
  {
   "cell_type": "markdown",
   "metadata": {},
   "source": [
    "- **Using `temp_celsius` only:** $\\mbox{num_total_users} = \\beta_0 +  \\beta_1 * \\mbox{temp_celsius} + \\epsilon$\n",
    "- **Using `temp_celsius` and `humidity_percent`:** $\\mbox{num_total_users} = \\beta_0 +  \\beta_1 * \\mbox{temp_celsius} +  \\beta_2 * \\mbox{humidity_percent} + \\epsilon$"
   ]
  },
  {
   "cell_type": "markdown",
   "metadata": {},
   "source": [
    "Linear regression with two input features chooses the \"plane\" that \"best fits\" a 3D scatterplot of the target variable against those input features.\n",
    "\n",
    "In general, linear regression chooses the \"hyperplane\" that \"best fits\" a scatterplot of the target variable against the input features."
   ]
  },
  {
   "cell_type": "markdown",
   "metadata": {},
   "source": [
    "**Exercise.** Answer each question below for the second model written out above, in terms of $\\beta_0$, $\\beta_1$, $\\beta_2$, and $\\epsilon$ (\"epsilon\")."
   ]
  },
  {
   "cell_type": "markdown",
   "metadata": {},
   "source": [
    "- What would our model predict for `num_total_users` at `temp_celsius=0` and `humidity_percent=0`?"
   ]
  },
  {
   "cell_type": "markdown",
   "metadata": {},
   "source": [
    "/scrub/\n",
    "\n",
    "$\\beta_0$"
   ]
  },
  {
   "cell_type": "markdown",
   "metadata": {},
   "source": [
    "- If `temp_celsius` increases by 5 while `percent_humidity` remains the same, how does our model's prediction for `num_total_users` change?"
   ]
  },
  {
   "cell_type": "markdown",
   "metadata": {},
   "source": [
    "/scrub/\n",
    "\n",
    "It increases by $5*\\beta_1$."
   ]
  },
  {
   "cell_type": "markdown",
   "metadata": {},
   "source": [
    "- If `percent_humidity` decreases by 3 while `temp_celsius` remains the same, how does our model's prediction for `num_total_users` change?"
   ]
  },
  {
   "cell_type": "markdown",
   "metadata": {},
   "source": [
    "/scrub/\n",
    "\n",
    "It decreases by $3*\\beta_2$"
   ]
  },
  {
   "cell_type": "markdown",
   "metadata": {},
   "source": [
    "- Why does the previous question say \"while `temp_celsius` remains the same?\""
   ]
  },
  {
   "cell_type": "markdown",
   "metadata": {},
   "source": [
    "/scrub/\n",
    "\n",
    "`humidity_percent` might be correlated with temperature, for instance. In that case, a typical day with `humidity_percent` 60 would be warmer than a typical day with `humidity_percent` 57. The coefficient on `humidity_percent` doesn't reflect this relationship. It only reflects the influence of `humidity_percent` on the model's predictions *all else being equal*."
   ]
  },
  {
   "cell_type": "markdown",
   "metadata": {},
   "source": [
    "- What would it mean if a feature had a coefficient of 0?"
   ]
  },
  {
   "cell_type": "markdown",
   "metadata": {},
   "source": [
    "/scrub/\n",
    "\n",
    "It would mean that the feature made no difference to the model's predictions, holding all other features fixed."
   ]
  },
  {
   "cell_type": "markdown",
   "metadata": {},
   "source": [
    "**Takeaways:** Interpretation of the parameters of a linear regression model does not change as we add more variables, except that each coefficient tells us how the model's prediction would change if the associated variable were to change *while all other variables remained the same*."
   ]
  },
  {
   "cell_type": "markdown",
   "metadata": {},
   "source": [
    "---"
   ]
  },
  {
   "cell_type": "markdown",
   "metadata": {},
   "source": [
    "### Exercise"
   ]
  },
  {
   "cell_type": "markdown",
   "metadata": {},
   "source": [
    "Build another linear regression model, this time using all of our features as inputs instead of just `temp_celsius`."
   ]
  },
  {
   "cell_type": "markdown",
   "metadata": {},
   "source": [
    "**Model using all columns as given:** $\\mbox{num_total_users} = \\beta_0 + \\beta_1 * \\mbox{season_num} + \\beta_2 * \\mbox{is_holiday} + \\beta_3 * \\mbox{is_workingday} + \\beta_4 * \\mbox{weather} + \\beta_5 * \\mbox{temp_celsius} + \\beta_6 * \\mbox{atemp_celsius} + \\beta_7 * \\mbox{humidity_percent} + \\beta_8 * \\mbox{windspeed_knots} + \\epsilon$"
   ]
  },
  {
   "cell_type": "markdown",
   "metadata": {},
   "source": [
    "- Store a pandas DataFrame with the values of the feature variables (everything except `num_casual_users`, and `num_total_users`) as a Python variable X."
   ]
  },
  {
   "cell_type": "code",
   "execution_count": 13,
   "metadata": {},
   "outputs": [
    {
     "data": {
      "text/plain": [
       "Index(['season_num', 'is_holiday', 'is_workingday', 'weather', 'temp_celsius',\n",
       "       'atemp_celsius', 'humidity_percent', 'windspeed_knots',\n",
       "       'num_casual_users', 'num_registered_users', 'num_total_users'],\n",
       "      dtype='object')"
      ]
     },
     "execution_count": 13,
     "metadata": {},
     "output_type": "execute_result"
    }
   ],
   "source": [
    "# /scrub/\n",
    "bikes.columns"
   ]
  },
  {
   "cell_type": "code",
   "execution_count": 14,
   "metadata": {
    "collapsed": true
   },
   "outputs": [],
   "source": [
    "# /scrub/\n",
    "X = bikes.loc[:, ['season_num',\n",
    "                  'is_holiday',\n",
    "                  'is_workingday',\n",
    "                  'weather',\n",
    "                  'temp_celsius',\n",
    "                  'atemp_celsius',\n",
    "                  'humidity_percent',\n",
    "                  'windspeed_knots']]"
   ]
  },
  {
   "cell_type": "markdown",
   "metadata": {},
   "source": [
    "Run the cell below to check your work. (You do not have to understand how this code works -- just know that it will raise an error if your X or y has the wrong type or shape.)"
   ]
  },
  {
   "cell_type": "code",
   "execution_count": 15,
   "metadata": {
    "collapsed": true,
    "scrolled": true
   },
   "outputs": [],
   "source": [
    "# Tests\n",
    "assert isinstance(y, pd.Series)\n",
    "assert isinstance(X, pd.DataFrame)\n",
    "assert y.shape == (bikes.shape[0],)\n",
    "assert X.shape == (bikes.shape[0], 8)"
   ]
  },
  {
   "cell_type": "markdown",
   "metadata": {},
   "source": [
    "- Make a new instance of the LinearRegression class. Call it lr_all to distinguish it from our last model."
   ]
  },
  {
   "cell_type": "code",
   "execution_count": 16,
   "metadata": {
    "collapsed": true
   },
   "outputs": [],
   "source": [
    "# /scrub/\n",
    "lr_all = LinearRegression()"
   ]
  },
  {
   "cell_type": "markdown",
   "metadata": {},
   "source": [
    "- Train the model instance using our new feature matrix $X$ and the same target variable $y$."
   ]
  },
  {
   "cell_type": "code",
   "execution_count": 17,
   "metadata": {},
   "outputs": [
    {
     "data": {
      "text/plain": [
       "LinearRegression(copy_X=True, fit_intercept=True, n_jobs=1, normalize=False)"
      ]
     },
     "execution_count": 17,
     "metadata": {},
     "output_type": "execute_result"
    }
   ],
   "source": [
    "# /scrub/\n",
    "lr_all.fit(X, y)"
   ]
  },
  {
   "cell_type": "markdown",
   "metadata": {},
   "source": [
    "- Store `lr_all`'s fitted values in a new `predictions` column of the `bikes` DataFrame."
   ]
  },
  {
   "cell_type": "code",
   "execution_count": 18,
   "metadata": {
    "collapsed": true
   },
   "outputs": [],
   "source": [
    "# /scrub/\n",
    "bikes.loc[:, 'predictions'] = lr_all.predict(X)"
   ]
  },
  {
   "cell_type": "code",
   "execution_count": 19,
   "metadata": {
    "scrolled": false
   },
   "outputs": [
    {
     "data": {
      "image/png": "[encoded data removed]",
      "text/plain": [
       "<matplotlib.figure.Figure at 0x10b7895c0>"
      ]
     },
     "metadata": {},
     "output_type": "display_data"
    }
   ],
   "source": [
    "# Compare predicted values to actual\n",
    "# /scrub/\n",
    "fig, ax = plt.subplots()\n",
    "bikes.plot(kind='scatter', x='num_total_users', y='predictions', ax=ax, alpha=.2)\n",
    "ax.plot([0, 500], [0, 500], 'r');"
   ]
  },
  {
   "cell_type": "markdown",
   "metadata": {},
   "source": [
    "The plot above shows how well the model fits the data it was trained on. How well it would predict new data that it wasn't trained on is a further issue."
   ]
  },
  {
   "cell_type": "code",
   "execution_count": 20,
   "metadata": {
    "collapsed": true
   },
   "outputs": [],
   "source": [
    "# Drop the fitted values from our DataFrame\n",
    "# /scrub/\n",
    "bikes.drop('predictions', axis=1, inplace=True)"
   ]
  },
  {
   "cell_type": "markdown",
   "metadata": {},
   "source": [
    "---"
   ]
  },
  {
   "cell_type": "markdown",
   "metadata": {},
   "source": [
    "#### Explore the intercept and coefficients of the linear model"
   ]
  },
  {
   "cell_type": "code",
   "execution_count": 21,
   "metadata": {
    "scrolled": true
   },
   "outputs": [
    {
     "name": "stdout",
     "output_type": "stream",
     "text": [
      "216.0993030302431\n",
      "[ 19.80244456 -21.83281619   3.31021316   8.51301983   1.4708144\n",
      "   4.43306071  -3.04462961  52.92027726]\n"
     ]
    }
   ],
   "source": [
    "# Print intercept and coefficients\n",
    "# /scrub/\n",
    "print(lr_all.intercept_)\n",
    "print(lr_all.coef_)"
   ]
  },
  {
   "cell_type": "code",
   "execution_count": 22,
   "metadata": {},
   "outputs": [
    {
     "data": {
      "text/plain": [
       "[('a', 1), ('b', 2), ('c', 3)]"
      ]
     },
     "execution_count": 22,
     "metadata": {},
     "output_type": "execute_result"
    }
   ],
   "source": [
    "# `zip` example\n",
    "# /scrub/\n",
    "list(zip(['a', 'b', 'c'], [1, 2, 3]))"
   ]
  },
  {
   "cell_type": "code",
   "execution_count": 23,
   "metadata": {},
   "outputs": [
    {
     "data": {
      "text/plain": [
       "[('season_num', 19.80244455924721),\n",
       " ('is_holiday', -21.832816189342477),\n",
       " ('is_workingday', 3.3102131572972446),\n",
       " ('weather', 8.513019833477136),\n",
       " ('temp_celsius', 1.4708143995910972),\n",
       " ('atemp_celsius', 4.4330607149445225),\n",
       " ('humidity_percent', -3.0446296119068386),\n",
       " ('windspeed_knots', 52.92027726014757)]"
      ]
     },
     "execution_count": 23,
     "metadata": {},
     "output_type": "execute_result"
    }
   ],
   "source": [
    "# Use `zip` to get variable names next to coefficients\n",
    "# /scrub/\n",
    "list(zip(X.columns, lr_all.coef_))"
   ]
  },
  {
   "cell_type": "markdown",
   "metadata": {},
   "source": [
    "**Exercise.** How do the model's predictions change for a holiday vs. a non-holiday, all else being equal?"
   ]
  },
  {
   "cell_type": "code",
   "execution_count": 24,
   "metadata": {},
   "outputs": [
    {
     "data": {
      "text/plain": [
       "Index(['season_num', 'is_holiday', 'is_workingday', 'weather', 'temp_celsius',\n",
       "       'atemp_celsius', 'humidity_percent', 'windspeed_knots'],\n",
       "      dtype='object')"
      ]
     },
     "execution_count": 24,
     "metadata": {},
     "output_type": "execute_result"
    }
   ],
   "source": [
    "# /scrub/\n",
    "X.columns"
   ]
  },
  {
   "cell_type": "markdown",
   "metadata": {},
   "source": [
    "They decrease by 21.8"
   ]
  },
  {
   "cell_type": "markdown",
   "metadata": {},
   "source": [
    "---"
   ]
  },
  {
   "cell_type": "code",
   "execution_count": 25,
   "metadata": {},
   "outputs": [
    {
     "name": "stdout",
     "output_type": "stream",
     "text": [
      "Help on LinearRegression in module sklearn.linear_model.base object:\n",
      "\n",
      "class LinearRegression(LinearModel, sklearn.base.RegressorMixin)\n",
      " |  Ordinary least squares Linear Regression.\n",
      " |  \n",
      " |  Parameters\n",
      " |  ----------\n",
      " |  fit_intercept : boolean, optional, default True\n",
      " |      whether to calculate the intercept for this model. If set\n",
      " |      to False, no intercept will be used in calculations\n",
      " |      (e.g. data is expected to be already centered).\n",
      " |  \n",
      " |  normalize : boolean, optional, default False\n",
      " |      This parameter is ignored when ``fit_intercept`` is set to False.\n",
      " |      If True, the regressors X will be normalized before regression by\n",
      " |      subtracting the mean and dividing by the l2-norm.\n",
      " |      If you wish to standardize, please use\n",
      " |      :class:`sklearn.preprocessing.StandardScaler` before calling ``fit`` on\n",
      " |      an estimator with ``normalize=False``.\n",
      " |  \n",
      " |  copy_X : boolean, optional, default True\n",
      " |      If True, X will be copied; else, it may be overwritten.\n",
      " |  \n",
      " |  n_jobs : int, optional, default 1\n",
      " |      The number of jobs to use for the computation.\n",
      " |      If -1 all CPUs are used. This will only provide speedup for\n",
      " |      n_targets > 1 and sufficient large problems.\n",
      " |  \n",
      " |  Attributes\n",
      " |  ----------\n",
      " |  coef_ : array, shape (n_features, ) or (n_targets, n_features)\n",
      " |      Estimated coefficients for the linear regression problem.\n",
      " |      If multiple targets are passed during the fit (y 2D), this\n",
      " |      is a 2D array of shape (n_targets, n_features), while if only\n",
      " |      one target is passed, this is a 1D array of length n_features.\n",
      " |  \n",
      " |  intercept_ : array\n",
      " |      Independent term in the linear model.\n",
      " |  \n",
      " |  Notes\n",
      " |  -----\n",
      " |  From the implementation point of view, this is just plain Ordinary\n",
      " |  Least Squares (scipy.linalg.lstsq) wrapped as a predictor object.\n",
      " |  \n",
      " |  Method resolution order:\n",
      " |      LinearRegression\n",
      " |      LinearModel\n",
      " |      abc.NewBase\n",
      " |      sklearn.base.BaseEstimator\n",
      " |      sklearn.base.RegressorMixin\n",
      " |      builtins.object\n",
      " |  \n",
      " |  Methods defined here:\n",
      " |  \n",
      " |  __init__(self, fit_intercept=True, normalize=False, copy_X=True, n_jobs=1)\n",
      " |      Initialize self.  See help(type(self)) for accurate signature.\n",
      " |  \n",
      " |  fit(self, X, y, sample_weight=None)\n",
      " |      Fit linear model.\n",
      " |      \n",
      " |      Parameters\n",
      " |      ----------\n",
      " |      X : numpy array or sparse matrix of shape [n_samples,n_features]\n",
      " |          Training data\n",
      " |      \n",
      " |      y : numpy array of shape [n_samples, n_targets]\n",
      " |          Target values. Will be cast to X's dtype if necessary\n",
      " |      \n",
      " |      sample_weight : numpy array of shape [n_samples]\n",
      " |          Individual weights for each sample\n",
      " |      \n",
      " |          .. versionadded:: 0.17\n",
      " |             parameter *sample_weight* support to LinearRegression.\n",
      " |      \n",
      " |      Returns\n",
      " |      -------\n",
      " |      self : returns an instance of self.\n",
      " |  \n",
      " |  ----------------------------------------------------------------------\n",
      " |  Data and other attributes defined here:\n",
      " |  \n",
      " |  __abstractmethods__ = frozenset()\n",
      " |  \n",
      " |  ----------------------------------------------------------------------\n",
      " |  Methods inherited from LinearModel:\n",
      " |  \n",
      " |  predict(self, X)\n",
      " |      Predict using the linear model\n",
      " |      \n",
      " |      Parameters\n",
      " |      ----------\n",
      " |      X : {array-like, sparse matrix}, shape = (n_samples, n_features)\n",
      " |          Samples.\n",
      " |      \n",
      " |      Returns\n",
      " |      -------\n",
      " |      C : array, shape = (n_samples,)\n",
      " |          Returns predicted values.\n",
      " |  \n",
      " |  ----------------------------------------------------------------------\n",
      " |  Methods inherited from sklearn.base.BaseEstimator:\n",
      " |  \n",
      " |  __getstate__(self)\n",
      " |  \n",
      " |  __repr__(self)\n",
      " |      Return repr(self).\n",
      " |  \n",
      " |  __setstate__(self, state)\n",
      " |  \n",
      " |  get_params(self, deep=True)\n",
      " |      Get parameters for this estimator.\n",
      " |      \n",
      " |      Parameters\n",
      " |      ----------\n",
      " |      deep : boolean, optional\n",
      " |          If True, will return the parameters for this estimator and\n",
      " |          contained subobjects that are estimators.\n",
      " |      \n",
      " |      Returns\n",
      " |      -------\n",
      " |      params : mapping of string to any\n",
      " |          Parameter names mapped to their values.\n",
      " |  \n",
      " |  set_params(self, **params)\n",
      " |      Set the parameters of this estimator.\n",
      " |      \n",
      " |      The method works on simple estimators as well as on nested objects\n",
      " |      (such as pipelines). The latter have parameters of the form\n",
      " |      ``<component>__<parameter>`` so that it's possible to update each\n",
      " |      component of a nested object.\n",
      " |      \n",
      " |      Returns\n",
      " |      -------\n",
      " |      self\n",
      " |  \n",
      " |  ----------------------------------------------------------------------\n",
      " |  Data descriptors inherited from sklearn.base.BaseEstimator:\n",
      " |  \n",
      " |  __dict__\n",
      " |      dictionary for instance variables (if defined)\n",
      " |  \n",
      " |  __weakref__\n",
      " |      list of weak references to the object (if defined)\n",
      " |  \n",
      " |  ----------------------------------------------------------------------\n",
      " |  Methods inherited from sklearn.base.RegressorMixin:\n",
      " |  \n",
      " |  score(self, X, y, sample_weight=None)\n",
      " |      Returns the coefficient of determination R^2 of the prediction.\n",
      " |      \n",
      " |      The coefficient R^2 is defined as (1 - u/v), where u is the residual\n",
      " |      sum of squares ((y_true - y_pred) ** 2).sum() and v is the total\n",
      " |      sum of squares ((y_true - y_true.mean()) ** 2).sum().\n",
      " |      The best possible score is 1.0 and it can be negative (because the\n",
      " |      model can be arbitrarily worse). A constant model that always\n",
      " |      predicts the expected value of y, disregarding the input features,\n",
      " |      would get a R^2 score of 0.0.\n",
      " |      \n",
      " |      Parameters\n",
      " |      ----------\n",
      " |      X : array-like, shape = (n_samples, n_features)\n",
      " |          Test samples.\n",
      " |      \n",
      " |      y : array-like, shape = (n_samples) or (n_samples, n_outputs)\n",
      " |          True values for X.\n",
      " |      \n",
      " |      sample_weight : array-like, shape = [n_samples], optional\n",
      " |          Sample weights.\n",
      " |      \n",
      " |      Returns\n",
      " |      -------\n",
      " |      score : float\n",
      " |          R^2 of self.predict(X) wrt. y.\n",
      "\n"
     ]
    }
   ],
   "source": [
    "# Look at the documentation for a LinearRegression model object\n",
    "# /scrub/\n",
    "help(lr_all)"
   ]
  },
  {
   "cell_type": "markdown",
   "metadata": {},
   "source": [
    "# A Little Theory"
   ]
  },
  {
   "cell_type": "markdown",
   "metadata": {},
   "source": [
    "Fitting a linear regression selects the coefficients and intercept that minimize the **sum of squared errors** of the fitted values on the training set.\n",
    "\n",
    "![Estimating coefficients](../assets/estimating_coefficients.png)\n",
    "\n",
    "In the diagram above:\n",
    "\n",
    "- The black dots are the **observed values** of x and y.\n",
    "- The blue line is our **least squares line**.\n",
    "- The red lines are the **residuals**, which are the vertical distances between the observed values and the least squares line."
   ]
  },
  {
   "cell_type": "markdown",
   "metadata": {},
   "source": [
    "**Justification:** Minimizing the sum of squared errors maximizes *the probability of the data given the model* (call the **likelihood** of the model on the data) on the assumption that the target variable really is a linear function of the features plus normally distributed noise: $y = \\beta_0 + \\sum \\beta_i x_i + \\epsilon$ where $\\epsilon \\sim \\mathcal{N}(0, \\sigma^2)$\n",
    "\n",
    "![](../assets/400px-Linear_regression.svg.png)"
   ]
  },
  {
   "cell_type": "markdown",
   "metadata": {},
   "source": [
    "<a id=\"overview-of-supervised-learning\"></a>\n",
    "## Overview of Supervised Learning\n",
    "---\n",
    "\n",
    "![Supervised learning diagram](../assets/supervised_learning.png)"
   ]
  },
  {
   "cell_type": "markdown",
   "metadata": {},
   "source": [
    "<a id=\"does-the-scale-of-the-features-matter\"></a>\n",
    "### Does the Scale of the Features Matter?\n",
    "\n",
    "Let's say that temp_celsius was measured in Fahrenheit, rather than Celsius. How would that affect our first model?"
   ]
  },
  {
   "cell_type": "code",
   "execution_count": 26,
   "metadata": {},
   "outputs": [
    {
     "data": {
      "text/html": [
       "<div>\n",
       "<style scoped>\n",
       "    .dataframe tbody tr th:only-of-type {\n",
       "        vertical-align: middle;\n",
       "    }\n",
       "\n",
       "    .dataframe tbody tr th {\n",
       "        vertical-align: top;\n",
       "    }\n",
       "\n",
       "    .dataframe thead th {\n",
       "        text-align: right;\n",
       "    }\n",
       "</style>\n",
       "<table border=\"1\" class=\"dataframe\">\n",
       "  <thead>\n",
       "    <tr style=\"text-align: right;\">\n",
       "      <th></th>\n",
       "      <th>season_num</th>\n",
       "      <th>is_holiday</th>\n",
       "      <th>is_workingday</th>\n",
       "      <th>weather</th>\n",
       "      <th>temp_celsius</th>\n",
       "      <th>atemp_celsius</th>\n",
       "      <th>humidity_percent</th>\n",
       "      <th>windspeed_knots</th>\n",
       "      <th>num_casual_users</th>\n",
       "      <th>num_registered_users</th>\n",
       "      <th>num_total_users</th>\n",
       "      <th>temp_fahrenheit</th>\n",
       "    </tr>\n",
       "    <tr>\n",
       "      <th>datetime</th>\n",
       "      <th></th>\n",
       "      <th></th>\n",
       "      <th></th>\n",
       "      <th></th>\n",
       "      <th></th>\n",
       "      <th></th>\n",
       "      <th></th>\n",
       "      <th></th>\n",
       "      <th></th>\n",
       "      <th></th>\n",
       "      <th></th>\n",
       "      <th></th>\n",
       "    </tr>\n",
       "  </thead>\n",
       "  <tbody>\n",
       "    <tr>\n",
       "      <th>2011-01-01 00:00:00</th>\n",
       "      <td>1</td>\n",
       "      <td>0</td>\n",
       "      <td>0</td>\n",
       "      <td>1</td>\n",
       "      <td>3.28</td>\n",
       "      <td>3.0014</td>\n",
       "      <td>81</td>\n",
       "      <td>0.0</td>\n",
       "      <td>3</td>\n",
       "      <td>13</td>\n",
       "      <td>16</td>\n",
       "      <td>37.904</td>\n",
       "    </tr>\n",
       "    <tr>\n",
       "      <th>2011-01-01 01:00:00</th>\n",
       "      <td>1</td>\n",
       "      <td>0</td>\n",
       "      <td>0</td>\n",
       "      <td>1</td>\n",
       "      <td>2.34</td>\n",
       "      <td>1.9982</td>\n",
       "      <td>80</td>\n",
       "      <td>0.0</td>\n",
       "      <td>8</td>\n",
       "      <td>32</td>\n",
       "      <td>40</td>\n",
       "      <td>36.212</td>\n",
       "    </tr>\n",
       "    <tr>\n",
       "      <th>2011-01-01 02:00:00</th>\n",
       "      <td>1</td>\n",
       "      <td>0</td>\n",
       "      <td>0</td>\n",
       "      <td>1</td>\n",
       "      <td>2.34</td>\n",
       "      <td>1.9982</td>\n",
       "      <td>80</td>\n",
       "      <td>0.0</td>\n",
       "      <td>5</td>\n",
       "      <td>27</td>\n",
       "      <td>32</td>\n",
       "      <td>36.212</td>\n",
       "    </tr>\n",
       "    <tr>\n",
       "      <th>2011-01-01 03:00:00</th>\n",
       "      <td>1</td>\n",
       "      <td>0</td>\n",
       "      <td>0</td>\n",
       "      <td>1</td>\n",
       "      <td>3.28</td>\n",
       "      <td>3.0014</td>\n",
       "      <td>75</td>\n",
       "      <td>0.0</td>\n",
       "      <td>3</td>\n",
       "      <td>10</td>\n",
       "      <td>13</td>\n",
       "      <td>37.904</td>\n",
       "    </tr>\n",
       "    <tr>\n",
       "      <th>2011-01-01 04:00:00</th>\n",
       "      <td>1</td>\n",
       "      <td>0</td>\n",
       "      <td>0</td>\n",
       "      <td>1</td>\n",
       "      <td>3.28</td>\n",
       "      <td>3.0014</td>\n",
       "      <td>75</td>\n",
       "      <td>0.0</td>\n",
       "      <td>0</td>\n",
       "      <td>1</td>\n",
       "      <td>1</td>\n",
       "      <td>37.904</td>\n",
       "    </tr>\n",
       "  </tbody>\n",
       "</table>\n",
       "</div>"
      ],
      "text/plain": [
       "                     season_num  is_holiday  is_workingday  weather  \\\n",
       "datetime                                                              \n",
       "2011-01-01 00:00:00           1           0              0        1   \n",
       "2011-01-01 01:00:00           1           0              0        1   \n",
       "2011-01-01 02:00:00           1           0              0        1   \n",
       "2011-01-01 03:00:00           1           0              0        1   \n",
       "2011-01-01 04:00:00           1           0              0        1   \n",
       "\n",
       "                     temp_celsius  atemp_celsius  humidity_percent  \\\n",
       "datetime                                                             \n",
       "2011-01-01 00:00:00          3.28         3.0014                81   \n",
       "2011-01-01 01:00:00          2.34         1.9982                80   \n",
       "2011-01-01 02:00:00          2.34         1.9982                80   \n",
       "2011-01-01 03:00:00          3.28         3.0014                75   \n",
       "2011-01-01 04:00:00          3.28         3.0014                75   \n",
       "\n",
       "                     windspeed_knots  num_casual_users  num_registered_users  \\\n",
       "datetime                                                                       \n",
       "2011-01-01 00:00:00              0.0                 3                    13   \n",
       "2011-01-01 01:00:00              0.0                 8                    32   \n",
       "2011-01-01 02:00:00              0.0                 5                    27   \n",
       "2011-01-01 03:00:00              0.0                 3                    10   \n",
       "2011-01-01 04:00:00              0.0                 0                     1   \n",
       "\n",
       "                     num_total_users  temp_fahrenheit  \n",
       "datetime                                               \n",
       "2011-01-01 00:00:00               16           37.904  \n",
       "2011-01-01 01:00:00               40           36.212  \n",
       "2011-01-01 02:00:00               32           36.212  \n",
       "2011-01-01 03:00:00               13           37.904  \n",
       "2011-01-01 04:00:00                1           37.904  "
      ]
     },
     "execution_count": 26,
     "metadata": {},
     "output_type": "execute_result"
    }
   ],
   "source": [
    "# Create a new column for Fahrenheit temp_celsius.\n",
    "# /scrub/\n",
    "bikes.loc[:, 'temp_fahrenheit'] = bikes.loc[:, 'temp_celsius'] * 1.8 + 32\n",
    "bikes.head()"
   ]
  },
  {
   "cell_type": "code",
   "execution_count": 27,
   "metadata": {
    "scrolled": true
   },
   "outputs": [
    {
     "data": {
      "image/png": "[encoded data removed]",
      "text/plain": [
       "<matplotlib.figure.Figure at 0x1a1ca28e10>"
      ]
     },
     "metadata": {},
     "output_type": "display_data"
    }
   ],
   "source": [
    "# Seaborn scatterplot with regression line\n",
    "# /scrub/\n",
    "sns.lmplot(x='temp_fahrenheit',\n",
    "           y='num_total_users',\n",
    "           data=bikes,\n",
    "           aspect=1.5,\n",
    "           scatter_kws={'alpha':0.2});"
   ]
  },
  {
   "cell_type": "markdown",
   "metadata": {},
   "source": [
    "#### Rebuild the first model using temp_fahrenheit instead or temp_celsius."
   ]
  },
  {
   "cell_type": "code",
   "execution_count": 28,
   "metadata": {
    "scrolled": true
   },
   "outputs": [],
   "source": [
    "# Create X and y.\n",
    "# /scrub/\n",
    "feature_cols = ['temp_fahrenheit']\n",
    "X = bikes.loc[:, feature_cols]\n",
    "y = bikes.loc[:, 'num_total_users']"
   ]
  },
  {
   "cell_type": "code",
   "execution_count": 29,
   "metadata": {},
   "outputs": [
    {
     "data": {
      "text/plain": [
       "LinearRegression(copy_X=True, fit_intercept=True, n_jobs=1, normalize=False)"
      ]
     },
     "execution_count": 29,
     "metadata": {},
     "output_type": "execute_result"
    }
   ],
   "source": [
    "# Instantiate and fit.\n",
    "# /scrub/\n",
    "lr_fahrenheit = LinearRegression()\n",
    "lr_fahrenheit.fit(X, y)"
   ]
  },
  {
   "cell_type": "code",
   "execution_count": 30,
   "metadata": {},
   "outputs": [
    {
     "name": "stdout",
     "output_type": "stream",
     "text": [
      "-79.3593624455207\n",
      "[4.50703218]\n"
     ]
    }
   ],
   "source": [
    "# Print the coefficients.\n",
    "# /scrub/\n",
    "print(lr_fahrenheit.intercept_)\n",
    "print(lr_fahrenheit.coef_)"
   ]
  },
  {
   "cell_type": "markdown",
   "metadata": {},
   "source": [
    "#### Convert 25 degrees Celsius to Fahrenheit."
   ]
  },
  {
   "cell_type": "code",
   "execution_count": 31,
   "metadata": {},
   "outputs": [
    {
     "data": {
      "text/plain": [
       "77.0"
      ]
     },
     "execution_count": 31,
     "metadata": {},
     "output_type": "execute_result"
    }
   ],
   "source": [
    "25*1.8 + 32"
   ]
  },
  {
   "cell_type": "code",
   "execution_count": 32,
   "metadata": {},
   "outputs": [
    {
     "data": {
      "text/plain": [
       "array([267.68211526])"
      ]
     },
     "execution_count": 32,
     "metadata": {},
     "output_type": "execute_result"
    }
   ],
   "source": [
    "# Predict rentals for 25 degree celsius\n",
    "# /scrub/\n",
    "lr_celsius.predict(25)"
   ]
  },
  {
   "cell_type": "code",
   "execution_count": 33,
   "metadata": {},
   "outputs": [
    {
     "data": {
      "text/plain": [
       "array([267.68211526])"
      ]
     },
     "execution_count": 33,
     "metadata": {},
     "output_type": "execute_result"
    }
   ],
   "source": [
    "# Predict rentals for for 77 degrees Fahrenheit\n",
    "# /scrub/\n",
    "lr_fahrenheit.predict(77)"
   ]
  },
  {
   "cell_type": "markdown",
   "metadata": {},
   "source": [
    "**Conclusion:** The scale of the features is irrelevant for linear regression models. When changing the scale, we simply change our interpretation of the coefficients."
   ]
  },
  {
   "cell_type": "code",
   "execution_count": 34,
   "metadata": {
    "collapsed": true
   },
   "outputs": [],
   "source": [
    "# Remove the temp_fahrenheit column.\n",
    "# /scrub/\n",
    "bikes.drop('temp_fahrenheit', axis=1, inplace=True)"
   ]
  },
  {
   "cell_type": "markdown",
   "metadata": {},
   "source": [
    "<a id=\"visualizing-the-data-part-\"></a>\n",
    "### Exploring the Data"
   ]
  },
  {
   "cell_type": "markdown",
   "metadata": {},
   "source": [
    "Blindly throwing all of your variables into a linear regression model is not a great strategy. Let's inspect our data and come up with something smarter."
   ]
  },
  {
   "cell_type": "code",
   "execution_count": 35,
   "metadata": {
    "collapsed": true
   },
   "outputs": [],
   "source": [
    "# Create feature column variables\n",
    "# /scrub/\n",
    "feature_cols = ['temp_celsius', 'season_num', 'weather', 'humidity_percent']"
   ]
  },
  {
   "cell_type": "markdown",
   "metadata": {},
   "source": [
    "#### Create a subset of scatterplot matrix using Seaborn.\n",
    "We can use pairplot with the `y_vars` argument to only show relationships with the `num_total_users` variable"
   ]
  },
  {
   "cell_type": "code",
   "execution_count": 36,
   "metadata": {},
   "outputs": [
    {
     "data": {
      "image/png": "[encoded data removed]",
      "text/plain": [
       "<matplotlib.figure.Figure at 0x1a1ca2ec88>"
      ]
     },
     "metadata": {},
     "output_type": "display_data"
    }
   ],
   "source": [
    "# Multiple scatterplots in Seaborn\n",
    "# /scrub/\n",
    "sns.pairplot(bikes,\n",
    "             x_vars=feature_cols,\n",
    "             y_vars='num_total_users',\n",
    "             kind='reg',\n",
    "             plot_kws={'scatter_kws': {'s':1, 'alpha':.3},\n",
    "                       'line_kws': {'color':'red'}\n",
    "                       }\n",
    "             );"
   ]
  },
  {
   "cell_type": "markdown",
   "metadata": {},
   "source": [
    "**Exercise.**"
   ]
  },
  {
   "cell_type": "markdown",
   "metadata": {},
   "source": [
    "/poll \"Which is the best interpretation of the slope of the line for `num_total_users` against `humidity_percent`?\" \"How much a linear regression model's predictions for `num_total_users` against `humidity_percent` would change given a one-unit change in `humidity_percent`\" \"How much a linear regression model's predictions for `num_total_users` against `temp_celsius`, `season_num`, `weather`, and `humidity_percent` would change given a one-unit change in `humidity_percent`\" \"How much a linear regression model's predictions for `num_total_users` against `temp_celsius`, `season_num`, `weather`, and `humidity_percent` would change given a one-unit change in `humidity_percent`, holding all of those other variables constant\""
   ]
  },
  {
   "cell_type": "markdown",
   "metadata": {},
   "source": [
    "#### Explore the season_num variable using a cross-tab."
   ]
  },
  {
   "cell_type": "code",
   "execution_count": 37,
   "metadata": {},
   "outputs": [
    {
     "data": {
      "text/html": [
       "<div>\n",
       "<style scoped>\n",
       "    .dataframe tbody tr th:only-of-type {\n",
       "        vertical-align: middle;\n",
       "    }\n",
       "\n",
       "    .dataframe tbody tr th {\n",
       "        vertical-align: top;\n",
       "    }\n",
       "\n",
       "    .dataframe thead th {\n",
       "        text-align: right;\n",
       "    }\n",
       "</style>\n",
       "<table border=\"1\" class=\"dataframe\">\n",
       "  <thead>\n",
       "    <tr style=\"text-align: right;\">\n",
       "      <th>col_0</th>\n",
       "      <th>1</th>\n",
       "      <th>2</th>\n",
       "      <th>3</th>\n",
       "      <th>4</th>\n",
       "      <th>5</th>\n",
       "      <th>6</th>\n",
       "      <th>7</th>\n",
       "      <th>8</th>\n",
       "      <th>9</th>\n",
       "      <th>10</th>\n",
       "      <th>11</th>\n",
       "      <th>12</th>\n",
       "    </tr>\n",
       "    <tr>\n",
       "      <th>season_num</th>\n",
       "      <th></th>\n",
       "      <th></th>\n",
       "      <th></th>\n",
       "      <th></th>\n",
       "      <th></th>\n",
       "      <th></th>\n",
       "      <th></th>\n",
       "      <th></th>\n",
       "      <th></th>\n",
       "      <th></th>\n",
       "      <th></th>\n",
       "      <th></th>\n",
       "    </tr>\n",
       "  </thead>\n",
       "  <tbody>\n",
       "    <tr>\n",
       "      <th>1</th>\n",
       "      <td>1429</td>\n",
       "      <td>1341</td>\n",
       "      <td>949</td>\n",
       "      <td>0</td>\n",
       "      <td>0</td>\n",
       "      <td>0</td>\n",
       "      <td>0</td>\n",
       "      <td>0</td>\n",
       "      <td>0</td>\n",
       "      <td>0</td>\n",
       "      <td>0</td>\n",
       "      <td>523</td>\n",
       "    </tr>\n",
       "    <tr>\n",
       "      <th>2</th>\n",
       "      <td>0</td>\n",
       "      <td>0</td>\n",
       "      <td>524</td>\n",
       "      <td>1437</td>\n",
       "      <td>1488</td>\n",
       "      <td>960</td>\n",
       "      <td>0</td>\n",
       "      <td>0</td>\n",
       "      <td>0</td>\n",
       "      <td>0</td>\n",
       "      <td>0</td>\n",
       "      <td>0</td>\n",
       "    </tr>\n",
       "    <tr>\n",
       "      <th>3</th>\n",
       "      <td>0</td>\n",
       "      <td>0</td>\n",
       "      <td>0</td>\n",
       "      <td>0</td>\n",
       "      <td>0</td>\n",
       "      <td>480</td>\n",
       "      <td>1488</td>\n",
       "      <td>1475</td>\n",
       "      <td>1053</td>\n",
       "      <td>0</td>\n",
       "      <td>0</td>\n",
       "      <td>0</td>\n",
       "    </tr>\n",
       "    <tr>\n",
       "      <th>4</th>\n",
       "      <td>0</td>\n",
       "      <td>0</td>\n",
       "      <td>0</td>\n",
       "      <td>0</td>\n",
       "      <td>0</td>\n",
       "      <td>0</td>\n",
       "      <td>0</td>\n",
       "      <td>0</td>\n",
       "      <td>384</td>\n",
       "      <td>1451</td>\n",
       "      <td>1437</td>\n",
       "      <td>960</td>\n",
       "    </tr>\n",
       "  </tbody>\n",
       "</table>\n",
       "</div>"
      ],
      "text/plain": [
       "col_0         1     2    3     4     5    6     7     8     9     10    11  \\\n",
       "season_num                                                                   \n",
       "1           1429  1341  949     0     0    0     0     0     0     0     0   \n",
       "2              0     0  524  1437  1488  960     0     0     0     0     0   \n",
       "3              0     0    0     0     0  480  1488  1475  1053     0     0   \n",
       "4              0     0    0     0     0    0     0     0   384  1451  1437   \n",
       "\n",
       "col_0        12  \n",
       "season_num       \n",
       "1           523  \n",
       "2             0  \n",
       "3             0  \n",
       "4           960  "
      ]
     },
     "execution_count": 37,
     "metadata": {},
     "output_type": "execute_result"
    }
   ],
   "source": [
    "# Cross-tabulation of season_num and month\n",
    "# /scrub/\n",
    "pd.crosstab(bikes.loc[:, 'season_num'], bikes.index.month)"
   ]
  },
  {
   "cell_type": "markdown",
   "metadata": {},
   "source": [
    "#### Explore the season_num variable using a box plot."
   ]
  },
  {
   "cell_type": "code",
   "execution_count": 38,
   "metadata": {},
   "outputs": [
    {
     "data": {
      "image/png": "[encoded data removed]",
      "text/plain": [
       "<matplotlib.figure.Figure at 0x1a1d4759e8>"
      ]
     },
     "metadata": {},
     "output_type": "display_data"
    }
   ],
   "source": [
    "# Box plot of rentals, grouped by season_num.\n",
    "# /scrub/\n",
    "fig, ax = plt.subplots()\n",
    "bikes.loc[:, 'num_total_users'].plot(kind='box', by='season_num', ax=ax);"
   ]
  },
  {
   "cell_type": "markdown",
   "metadata": {},
   "source": [
    "#### Look at rentals over time."
   ]
  },
  {
   "cell_type": "code",
   "execution_count": 39,
   "metadata": {},
   "outputs": [
    {
     "data": {
      "image/png": "[encoded data removed]",
      "text/plain": [
       "<matplotlib.figure.Figure at 0x10ec6d1d0>"
      ]
     },
     "metadata": {},
     "output_type": "display_data"
    }
   ],
   "source": [
    "# Line plot of rentals\n",
    "# /scrub/\n",
    "fig, ax = plt.subplots()\n",
    "bikes.loc[:, 'num_total_users'].plot();"
   ]
  },
  {
   "cell_type": "markdown",
   "metadata": {},
   "source": [
    "- **Trend:** System is generally growing over time.\n",
    "- **Seasonality:** Periodic patterns in the data:\n",
    "    - Yearly\n",
    "    - Weekly\n",
    "    - Daily\n",
    "\n",
    "A good model will account for both."
   ]
  },
  {
   "cell_type": "markdown",
   "metadata": {},
   "source": [
    "#### Look at the correlation matrix"
   ]
  },
  {
   "cell_type": "code",
   "execution_count": 40,
   "metadata": {},
   "outputs": [
    {
     "data": {
      "image/png": "[encoded data removed]",
      "text/plain": [
       "<matplotlib.figure.Figure at 0x10aa7f2e8>"
      ]
     },
     "metadata": {},
     "output_type": "display_data"
    }
   ],
   "source": [
    "# Visualize correlation matrix in Seaborn using a heat map.\n",
    "# /scrub/\n",
    "sns.heatmap(bikes.corr(),\n",
    "            vmin=-1,\n",
    "            vmax=1,\n",
    "            cmap=sns.diverging_palette(220, 10, n=21),\n",
    "            );"
   ]
  },
  {
   "cell_type": "markdown",
   "metadata": {},
   "source": [
    "**Exercise.**\n",
    "\n",
    "- We have two pairs of variables that are extremely strongly correlated. Which are they?"
   ]
  },
  {
   "cell_type": "markdown",
   "metadata": {},
   "source": [
    "/scrub/\n",
    "\n",
    "- `num_registered_users` and `num_total_users`\n",
    "- `temp_celsius` and `atemp_celsius`"
   ]
  },
  {
   "cell_type": "markdown",
   "metadata": {},
   "source": [
    "- Which features are positively correlated with `num_total_users` (leaving aside `num_casual users` and `num_registered_users`)?"
   ]
  },
  {
   "cell_type": "markdown",
   "metadata": {},
   "source": [
    "/scrub/\n",
    "\n",
    "`season_num`, `temp_celsius`, `atemp_celsius`"
   ]
  },
  {
   "cell_type": "markdown",
   "metadata": {},
   "source": [
    "- Which features are negatively correlated with `num_total_users` (leaving aside `num_casual users` and `num_registered_users`)?"
   ]
  },
  {
   "cell_type": "markdown",
   "metadata": {},
   "source": [
    "/scrub/\n",
    "\n",
    "`weather` and `humidity_percent`"
   ]
  },
  {
   "cell_type": "markdown",
   "metadata": {},
   "source": [
    "- Which features show very little correlation with `num_total_users` (leaving aside `num_casual users` and `num_registered_users`)?"
   ]
  },
  {
   "cell_type": "markdown",
   "metadata": {},
   "source": [
    "/scrub/\n",
    "\n",
    "`is_holiday` and `is_workingday`"
   ]
  },
  {
   "cell_type": "markdown",
   "metadata": {},
   "source": [
    "<a id=\"adding-more-features-to-the-model\"></a>\n",
    "### Adding More Features to the Model"
   ]
  },
  {
   "cell_type": "markdown",
   "metadata": {},
   "source": [
    "We want features that are strongly correlated with the target and not with each other."
   ]
  },
  {
   "cell_type": "markdown",
   "metadata": {},
   "source": [
    "**Exercise.**\n",
    "\n",
    "- Create another `LinearRegression` instance that is fit using `temp_celsius` and `atemp_celsius`, and print the coefficients."
   ]
  },
  {
   "cell_type": "code",
   "execution_count": 41,
   "metadata": {},
   "outputs": [
    {
     "data": {
      "text/plain": [
       "[('temp_celsius', 7.186045916463201), ('atemp_celsius', 0.748593908995792)]"
      ]
     },
     "execution_count": 41,
     "metadata": {},
     "output_type": "execute_result"
    }
   ],
   "source": [
    "# /scrub/\n",
    "\n",
    "feature_cols = ['temp_celsius', 'atemp_celsius']\n",
    "\n",
    "# Create X and y.\n",
    "X = bikes.loc[:, feature_cols]\n",
    "y = bikes.loc[:, 'num_total_users']\n",
    "\n",
    "# Instantiate and fit.\n",
    "lr_temp_atemp = LinearRegression()\n",
    "lr_temp_atemp.fit(X, y)\n",
    "\n",
    "# Print the coefficients.\n",
    "list(zip(X.columns, lr_temp_atemp.coef_))"
   ]
  },
  {
   "cell_type": "markdown",
   "metadata": {},
   "source": [
    "- Create another `LinearRegression` instance that is fit using `atemp_celsius` only, and print the coefficients."
   ]
  },
  {
   "cell_type": "code",
   "execution_count": 42,
   "metadata": {},
   "outputs": [
    {
     "data": {
      "text/plain": [
       "[('atemp_celsius', 6.411820794076331)]"
      ]
     },
     "execution_count": 42,
     "metadata": {},
     "output_type": "execute_result"
    }
   ],
   "source": [
    "# /scrub/\n",
    "\n",
    "feature_cols = ['atemp_celsius']\n",
    "\n",
    "# Create X and y.\n",
    "X = bikes[feature_cols]\n",
    "y = bikes.num_total_users\n",
    "\n",
    "# Instantiate and fit.\n",
    "lr_atemp = LinearRegression()\n",
    "lr_atemp.fit(X, y)\n",
    "\n",
    "# Print the coefficients.\n",
    "list(zip(X.columns, lr_atemp.coef_))"
   ]
  },
  {
   "cell_type": "markdown",
   "metadata": {},
   "source": [
    "- Why is the coefficient for `atemp_celsius` so different in the two models?"
   ]
  },
  {
   "cell_type": "markdown",
   "metadata": {},
   "source": [
    "/scrub/\n",
    "\n",
    "Remember how we interpret regression coefficients: the coefficient on `atemp_celsius` indicates how much the model's prediction increases when `atemp_celsius` is increased by one *holding all other features fixed*. Well, when you hold `temp_celsius` fixed, changes in `atemp_celsius` just reflect factors such as wind and humidity. When `temp_celsius` isn't in the model, it reflects temp itself as well.\n",
    "\n",
    "This case is an example of *colinearity* (or *multicolinearity*)."
   ]
  },
  {
   "cell_type": "markdown",
   "metadata": {},
   "source": [
    "<a id=\"what-is-multicollinearity\"></a>\n",
    "## What Is Colinearity?\n",
    "---\n",
    "\n",
    "Colinearity happens when two or more features are highly correlated with each other. It causes problems:\n",
    "\n",
    "- Coefficients become hard to interpret\n",
    "- Adding a variable to the model that is colinear with another variable in the model adds complexity while contributing limited new information, which can lead to overfitting.\n",
    "- Model fitting can become numerically unstable."
   ]
  },
  {
   "cell_type": "markdown",
   "metadata": {},
   "source": [
    "## How to Select a Model"
   ]
  },
  {
   "cell_type": "markdown",
   "metadata": {},
   "source": [
    "#### Recall: Model Bias and Variance"
   ]
  },
  {
   "cell_type": "code",
   "execution_count": 43,
   "metadata": {},
   "outputs": [
    {
     "name": "stdout",
     "output_type": "stream",
     "text": [
      "(2000, 3003)\n"
     ]
    }
   ],
   "source": [
    "# You do not need to understand how this code works, just that it creates a LOT of features\n",
    "from sklearn.preprocessing import PolynomialFeatures\n",
    "\n",
    "X = (bikes.iloc[:2000, :]\n",
    "     .loc[:, ['season_num',\n",
    "              'is_holiday',\n",
    "              'is_workingday',\n",
    "              'weather',\n",
    "              'temp_celsius',\n",
    "              'atemp_celsius',\n",
    "              'humidity_percent',\n",
    "              'windspeed_knots']]\n",
    "              )\n",
    "pf = PolynomialFeatures(degree=6)\n",
    "X = pf.fit_transform(X)\n",
    "print(X.shape)"
   ]
  },
  {
   "cell_type": "code",
   "execution_count": 44,
   "metadata": {},
   "outputs": [
    {
     "data": {
      "text/plain": [
       "<matplotlib.collections.PathCollection at 0x1a1c7990f0>"
      ]
     },
     "execution_count": 44,
     "metadata": {},
     "output_type": "execute_result"
    },
    {
     "data": {
      "image/png": "[encoded data removed]",
      "text/plain": [
       "<matplotlib.figure.Figure at 0x1a12823be0>"
      ]
     },
     "metadata": {},
     "output_type": "display_data"
    }
   ],
   "source": [
    "# Fit a model on the first 1000 rows and look at the fit\n",
    "# /scrub/\n",
    "lr_poly = LinearRegression()\n",
    "lr_poly.fit(X[:1000], y.iloc[:1000])\n",
    "plt.scatter(y.iloc[:1000], lr_poly.predict(X[:1000]))"
   ]
  },
  {
   "cell_type": "code",
   "execution_count": 45,
   "metadata": {
    "scrolled": true
   },
   "outputs": [
    {
     "data": {
      "text/plain": [
       "<matplotlib.collections.PathCollection at 0x1a1c729748>"
      ]
     },
     "execution_count": 45,
     "metadata": {},
     "output_type": "execute_result"
    },
    {
     "data": {
      "image/png": "[encoded data removed]",
      "text/plain": [
       "<matplotlib.figure.Figure at 0x1a1c62add8>"
      ]
     },
     "metadata": {},
     "output_type": "display_data"
    }
   ],
   "source": [
    "# See how the model does on the next 1000 rows\n",
    "# /scrub/\n",
    "plt.scatter(y.iloc[1001:2000], lr_poly.predict(X[1001:2000, :]))"
   ]
  },
  {
   "cell_type": "markdown",
   "metadata": {},
   "source": [
    "**Moral 1:** Models that are too complicated for the sample size will fit the training data well but generalize poorly; this phenomenon is called **overfitting**."
   ]
  },
  {
   "cell_type": "markdown",
   "metadata": {},
   "source": [
    "**Exercise.**\n",
    "\n",
    "- Does this overly complicated model have more of a bias problem or more of a variance problem?"
   ]
  },
  {
   "cell_type": "markdown",
   "metadata": {},
   "source": [
    "/scrub/\n",
    "\n",
    "Variance"
   ]
  },
  {
   "cell_type": "markdown",
   "metadata": {},
   "source": [
    "**Moral 2:** If our primary concern is how well our model generalizes to new data, then we can evaluate it by seeing how it does on data that we hold out from the training set."
   ]
  },
  {
   "cell_type": "markdown",
   "metadata": {},
   "source": [
    "**Notes:**\n",
    "\n",
    "- If you have a stats background then you might be used to using p-values to decide what variables to keep, or perhaps specialized model selection criteria such as adjusted R-squared, AIC, or BIC. But if what you really care about is predictive accuracy on data that the model hasn't seen before, then using a holdout set is a more direct approach.\n",
    "- In a business context, you may sacrifice some predictive accuracy by using fewer input features for the sake of computational performance, maintainability, and interpretability."
   ]
  },
  {
   "cell_type": "markdown",
   "metadata": {},
   "source": [
    "<a id=\"evaluation-metrics-for-regression-problems\"></a>\n",
    "### Evaluation Metrics for Regression Problems\n",
    "\n",
    "**Mean absolute error (MAE)** is the mean of the absolute value of the errors:\n",
    "\n",
    "$$\\frac 1n\\sum_{i=1}^n|y_i-\\hat{y}_i|$$\n",
    "\n",
    "**Mean squared error (MSE)** is the mean of the squared errors:\n",
    "\n",
    "$$\\frac 1n\\sum_{i=1}^n(y_i-\\hat{y}_i)^2$$\n",
    "\n",
    "**Root mean squared error (RMSE)** is the square root of the mean of the squared errors:\n",
    "\n",
    "$$\\sqrt{\\frac 1n\\sum_{i=1}^n(y_i-\\hat{y}_i)^2}$$"
   ]
  },
  {
   "cell_type": "markdown",
   "metadata": {},
   "source": [
    "**Exercise.** Calculate MAE, MSE, and RMSE for the values below."
   ]
  },
  {
   "cell_type": "code",
   "execution_count": 46,
   "metadata": {
    "collapsed": true
   },
   "outputs": [],
   "source": [
    "# Example true and predicted response values\n",
    "# /scrub/\n",
    "true = [10, 7, 5, 5]\n",
    "pred = [8, 6, 5, 10]"
   ]
  },
  {
   "cell_type": "code",
   "execution_count": 47,
   "metadata": {
    "collapsed": true
   },
   "outputs": [],
   "source": [
    "# Fill in these calculations. Hint: Turn the lists in numpy arrays.\n",
    "mae = None\n",
    "mse = None\n",
    "rmse = None\n",
    "\n",
    "# /scrub/\n",
    "\n",
    "true = np.array(true)\n",
    "pred = np.array(pred)\n",
    "n = len(true)\n",
    "\n",
    "mae = sum(abs(true - pred))/n\n",
    "mse = sum((true - pred)**2)/n\n",
    "rmse = np.sqrt(mse)"
   ]
  },
  {
   "cell_type": "code",
   "execution_count": 48,
   "metadata": {},
   "outputs": [
    {
     "name": "stdout",
     "output_type": "stream",
     "text": [
      "2.0\n",
      "7.5\n",
      "2.7386127875258306\n"
     ]
    }
   ],
   "source": [
    "# Run this cell to check your answers.\n",
    "\n",
    "from sklearn import metrics\n",
    "print(mae)\n",
    "print(mse)\n",
    "print(rmse)\n",
    "np.testing.assert_almost_equal(mae, metrics.mean_absolute_error(true, pred))\n",
    "np.testing.assert_almost_equal(mse, metrics.mean_squared_error(true, pred))\n",
    "np.testing.assert_almost_equal(rmse, np.sqrt(metrics.mean_squared_error(true, pred)))"
   ]
  },
  {
   "cell_type": "code",
   "execution_count": 49,
   "metadata": {},
   "outputs": [
    {
     "name": "stdout",
     "output_type": "stream",
     "text": [
      "2.0 7.5\n",
      "2.0 16.0\n"
     ]
    }
   ],
   "source": [
    "# Compare:\n",
    "# /scrub/\n",
    "true = [10, 7, 5, 5]\n",
    "pred = [8, 6, 5, 10]\n",
    "pred2 = [10, 7, 5, 13]\n",
    "print(metrics.mean_absolute_error(true, pred), metrics.mean_squared_error(true, pred))\n",
    "print(metrics.mean_absolute_error(true, pred2), metrics.mean_squared_error(true, pred2))"
   ]
  },
  {
   "cell_type": "markdown",
   "metadata": {},
   "source": [
    "Let's compare these metrics:\n",
    "\n",
    "- MAE is the easiest to understand, because it's the average error.\n",
    "- MSE is more popular than MAE, primary because the fact that it is continuous and differentiable makes it easier to work with.\n",
    "- RMSE is even more popular than MSE, because RMSE is interpretable in the \"y\" units.\n",
    "- MSE/MSE punishes large errors more than MAE."
   ]
  },
  {
   "cell_type": "markdown",
   "metadata": {},
   "source": [
    "<a id=\"comparing-models-with-traintest-split-and-rmse\"></a>\n",
    "### Comparing Models With Train/Test Split and RMSE"
   ]
  },
  {
   "cell_type": "code",
   "execution_count": 50,
   "metadata": {
    "collapsed": true
   },
   "outputs": [],
   "source": [
    "# Define a function that accepts a list of features and returns testing RMSE.\n",
    "# /scrub/\n",
    "from sklearn.model_selection import train_test_split\n",
    "\n",
    "def train_test_rmse(df, feature_cols):\n",
    "    X = df.loc[:, feature_cols]\n",
    "    y = df.loc[:, 'num_total_users']\n",
    "    \n",
    "    X_train, X_test, y_train, y_test = train_test_split(X, y, random_state=123)\n",
    "    \n",
    "    linreg = LinearRegression()\n",
    "    linreg.fit(X_train, y_train)\n",
    "    \n",
    "    y_pred = linreg.predict(X_test)\n",
    "    return np.sqrt(metrics.mean_squared_error(y_test, y_pred))"
   ]
  },
  {
   "cell_type": "code",
   "execution_count": 51,
   "metadata": {},
   "outputs": [
    {
     "name": "stdout",
     "output_type": "stream",
     "text": [
      "158.02916161835586\n",
      "166.53297370241094\n",
      "158.05455276955826\n"
     ]
    }
   ],
   "source": [
    "# Compare different sets of features.\n",
    "# /scrub/\n",
    "print(train_test_rmse(bikes, ['temp_celsius', 'season_num', 'weather', 'humidity_percent']))\n",
    "print(train_test_rmse(bikes, ['temp_celsius', 'season_num', 'weather']))\n",
    "print(train_test_rmse(bikes, ['temp_celsius', 'season_num', 'humidity_percent']))"
   ]
  },
  {
   "cell_type": "code",
   "execution_count": 52,
   "metadata": {},
   "outputs": [
    {
     "name": "stdout",
     "output_type": "stream",
     "text": [
      "1.747722643964534e-13\n"
     ]
    }
   ],
   "source": [
    "# Using these as features is not allowed!\n",
    "print(train_test_rmse(bikes, ['num_casual_users', 'num_registered_users']))"
   ]
  },
  {
   "cell_type": "markdown",
   "metadata": {},
   "source": [
    "<a id=\"comparing-testing-rmse-with-null-rmse\"></a>\n",
    "### Comparing Testing (R)MSE With Null (R)MSE\n",
    "\n",
    "Null RMSE is the RMSE that could be achieved by always predicting the mean response value. It is a baseline against which you may want to measure your regression model."
   ]
  },
  {
   "cell_type": "code",
   "execution_count": 65,
   "metadata": {},
   "outputs": [
    {
     "name": "stdout",
     "output_type": "stream",
     "text": [
      "189.46308763450142\n"
     ]
    }
   ],
   "source": [
    "# /scrub/\n",
    "null_pred = y - np.mean(y)\n",
    "null_rmse = np.sqrt(metrics.mean_squared_error(null_pred, y))\n",
    "print(null_rmse)"
   ]
  },
  {
   "cell_type": "markdown",
   "metadata": {},
   "source": [
    "**R-squared** is a metric that directly addresses the question of how well your model does compared to the null model.\n",
    "\n",
    "$$R^2=1-\\frac{\\mbox{Mean Squared Error}}{\\mbox{Mean Squared Total}}$$\n",
    "\n",
    "\"Mean Squared Total\" is exactly the MSE of the null model, which is essentially the variance of the data.\n",
    "\n",
    "**R-squared properties:**\n",
    "\n",
    "- *Typically* greater than 0 (unless your model is worse than the null model, which can happen)\n",
    "- Never greater than 1"
   ]
  },
  {
   "cell_type": "markdown",
   "metadata": {},
   "source": [
    "![](../assets/r_squared.png)"
   ]
  },
  {
   "cell_type": "markdown",
   "metadata": {},
   "source": [
    "**Aside:** Despite common usage, R-squared *does not tell you how much of the variance in the data the model explains*, at least in the normal sense of \"explains.\"\n",
    "\n",
    "Explanations are usually *causal*, and R-squared *does nothing to distinguish between causation and association*."
   ]
  },
  {
   "cell_type": "code",
   "execution_count": 67,
   "metadata": {},
   "outputs": [
    {
     "data": {
      "text/plain": [
       "0.24894284758836094"
      ]
     },
     "execution_count": 67,
     "metadata": {},
     "output_type": "execute_result"
    }
   ],
   "source": [
    "# Use the sklearn .score() method to calculate test-set R-squared\n",
    "# for a linear regression model with features\n",
    "# ['temp_celsius', 'season_num', 'humidity_percent']\n",
    "# /scrub/\n",
    "feature_cols = ['temp_celsius', 'season_num', 'humidity_percent']\n",
    "\n",
    "X = bikes.loc[:, feature_cols]\n",
    "y = bikes.loc[:, 'num_total_users']\n",
    "\n",
    "X_train, X_test, y_train, y_test = train_test_split(X, y, random_state=123)\n",
    "\n",
    "linreg = LinearRegression()\n",
    "linreg.fit(X_train, y_train)\n",
    "linreg.score(X_test, y_test)"
   ]
  },
  {
   "cell_type": "markdown",
   "metadata": {},
   "source": [
    "<a id=\"handling-categorical-features\"></a>\n",
    "## Handling Categorical and Ordinal Features"
   ]
  },
  {
   "cell_type": "markdown",
   "metadata": {},
   "source": [
    "**Exercise.**\n",
    "\n",
    "We are representing `season` as follows:\n",
    "\n",
    "1: winter\n",
    "2: spring\n",
    "3: summer\n",
    "4: fall\n",
    "\n",
    "- Suppose we fit linear regression model for ridership against season only and get a coefficient 10 for `season`. What does this coefficient imply about the relationship between predicted ridership for fall relative to summer? How could we get this result even though ridership is higher in summer than fall?"
   ]
  },
  {
   "cell_type": "markdown",
   "metadata": {},
   "source": [
    "/scrub/\n",
    "\n",
    "This coefficient implies that predicted ridership is higher for fall relative to summer by 10. We get this result even though ridership is higher in summer than fall because by ordering the seasons in the way that we have we are forcing the model predictions either to increase or to decrease from winter, to spring, to summer, to fall."
   ]
  },
  {
   "cell_type": "markdown",
   "metadata": {},
   "source": [
    "#### Dummy Coding\n",
    "\n",
    "Here's a better representation:\n",
    "\n",
    "- `is_spring`: 1 in spring, 0 otherwise\n",
    "- `is_summer`: 1 in summer, 0 otherwise\n",
    "- `is_fall`: 1 in fall, 0 otherwise\n",
    "\n",
    "Instead of having one variable with 4 levels, we have 3 binary variables.\n",
    "\n",
    "Our model now has three \"degrees of freedom\" to capture the impact of the season, instead of just one.\n",
    "\n",
    "This process is called \"dummy coding.\""
   ]
  },
  {
   "cell_type": "markdown",
   "metadata": {},
   "source": [
    "**Exercise**\n",
    "\n",
    "- Why is `is_winter` unnecessary?"
   ]
  },
  {
   "cell_type": "markdown",
   "metadata": {},
   "source": [
    "/scrub/\n",
    "\n",
    "It's winter if and only if `is_spring`, `is_summer`, and `is_fall` are all 0, so `is_winter` would add no new information."
   ]
  },
  {
   "cell_type": "markdown",
   "metadata": {},
   "source": [
    "- In fact, including `is_winter` would be harmful. Why?"
   ]
  },
  {
   "cell_type": "markdown",
   "metadata": {},
   "source": [
    "/scrub/\n",
    "\n",
    "`is_winter` is completely colinear with `is_spring`, `is_summer`, and `is_fall` (`is_winter` = 3 - `is_spring` - `is_summer` - `is_fall`), so it would actually break the most straightforward algorithms for fitting linear regression."
   ]
  },
  {
   "cell_type": "markdown",
   "metadata": {},
   "source": [
    "- Suppose you build a model with these variables and find that the coefficient on `is_summer` is 30. What does that coefficient mean?"
   ]
  },
  {
   "cell_type": "markdown",
   "metadata": {},
   "source": [
    "/scrub/\n",
    "\n",
    "A coefficient of 30 on `is_summer` means that all else being equal, the model predicts 30 more riders in summer than *in winter*."
   ]
  },
  {
   "cell_type": "markdown",
   "metadata": {},
   "source": [
    "- Could you use `is_winter`, `is_spring`, and `is_summer` instead? Why or why not? Is there any reason to prefer one set of dummy variables over another?"
   ]
  },
  {
   "cell_type": "markdown",
   "metadata": {},
   "source": [
    "/scrub/\n",
    "\n",
    "Yes, you can drop any of the dummy variables for season. However, for interpreting your model it is helpful to drop the variable that is a natural \"baseline\" against which to compare the others."
   ]
  },
  {
   "cell_type": "code",
   "execution_count": 54,
   "metadata": {},
   "outputs": [
    {
     "data": {
      "text/html": [
       "<div>\n",
       "<style scoped>\n",
       "    .dataframe tbody tr th:only-of-type {\n",
       "        vertical-align: middle;\n",
       "    }\n",
       "\n",
       "    .dataframe tbody tr th {\n",
       "        vertical-align: top;\n",
       "    }\n",
       "\n",
       "    .dataframe thead th {\n",
       "        text-align: right;\n",
       "    }\n",
       "</style>\n",
       "<table border=\"1\" class=\"dataframe\">\n",
       "  <thead>\n",
       "    <tr style=\"text-align: right;\">\n",
       "      <th></th>\n",
       "      <th>is_holiday</th>\n",
       "      <th>is_workingday</th>\n",
       "      <th>weather</th>\n",
       "      <th>temp_celsius</th>\n",
       "      <th>atemp_celsius</th>\n",
       "      <th>humidity_percent</th>\n",
       "      <th>windspeed_knots</th>\n",
       "      <th>num_casual_users</th>\n",
       "      <th>num_registered_users</th>\n",
       "      <th>num_total_users</th>\n",
       "      <th>season_num_1</th>\n",
       "      <th>season_num_2</th>\n",
       "      <th>season_num_3</th>\n",
       "      <th>season_num_4</th>\n",
       "    </tr>\n",
       "    <tr>\n",
       "      <th>datetime</th>\n",
       "      <th></th>\n",
       "      <th></th>\n",
       "      <th></th>\n",
       "      <th></th>\n",
       "      <th></th>\n",
       "      <th></th>\n",
       "      <th></th>\n",
       "      <th></th>\n",
       "      <th></th>\n",
       "      <th></th>\n",
       "      <th></th>\n",
       "      <th></th>\n",
       "      <th></th>\n",
       "      <th></th>\n",
       "    </tr>\n",
       "  </thead>\n",
       "  <tbody>\n",
       "    <tr>\n",
       "      <th>2011-01-01 00:00:00</th>\n",
       "      <td>0</td>\n",
       "      <td>0</td>\n",
       "      <td>1</td>\n",
       "      <td>3.28</td>\n",
       "      <td>3.0014</td>\n",
       "      <td>81</td>\n",
       "      <td>0.0000</td>\n",
       "      <td>3</td>\n",
       "      <td>13</td>\n",
       "      <td>16</td>\n",
       "      <td>1</td>\n",
       "      <td>0</td>\n",
       "      <td>0</td>\n",
       "      <td>0</td>\n",
       "    </tr>\n",
       "    <tr>\n",
       "      <th>2011-02-14 08:00:00</th>\n",
       "      <td>0</td>\n",
       "      <td>1</td>\n",
       "      <td>1</td>\n",
       "      <td>9.86</td>\n",
       "      <td>9.9974</td>\n",
       "      <td>40</td>\n",
       "      <td>0.4627</td>\n",
       "      <td>7</td>\n",
       "      <td>249</td>\n",
       "      <td>256</td>\n",
       "      <td>1</td>\n",
       "      <td>0</td>\n",
       "      <td>0</td>\n",
       "      <td>0</td>\n",
       "    </tr>\n",
       "    <tr>\n",
       "      <th>2011-03-29 05:00:00</th>\n",
       "      <td>0</td>\n",
       "      <td>1</td>\n",
       "      <td>1</td>\n",
       "      <td>2.34</td>\n",
       "      <td>-2.0014</td>\n",
       "      <td>37</td>\n",
       "      <td>0.2537</td>\n",
       "      <td>0</td>\n",
       "      <td>8</td>\n",
       "      <td>8</td>\n",
       "      <td>0</td>\n",
       "      <td>1</td>\n",
       "      <td>0</td>\n",
       "      <td>0</td>\n",
       "    </tr>\n",
       "    <tr>\n",
       "      <th>2011-05-09 22:00:00</th>\n",
       "      <td>0</td>\n",
       "      <td>1</td>\n",
       "      <td>1</td>\n",
       "      <td>16.44</td>\n",
       "      <td>17.0000</td>\n",
       "      <td>68</td>\n",
       "      <td>0.0896</td>\n",
       "      <td>21</td>\n",
       "      <td>95</td>\n",
       "      <td>116</td>\n",
       "      <td>0</td>\n",
       "      <td>1</td>\n",
       "      <td>0</td>\n",
       "      <td>0</td>\n",
       "    </tr>\n",
       "    <tr>\n",
       "      <th>2011-06-20 14:00:00</th>\n",
       "      <td>0</td>\n",
       "      <td>1</td>\n",
       "      <td>1</td>\n",
       "      <td>23.02</td>\n",
       "      <td>24.9992</td>\n",
       "      <td>61</td>\n",
       "      <td>0.1045</td>\n",
       "      <td>45</td>\n",
       "      <td>130</td>\n",
       "      <td>175</td>\n",
       "      <td>0</td>\n",
       "      <td>1</td>\n",
       "      <td>0</td>\n",
       "      <td>0</td>\n",
       "    </tr>\n",
       "    <tr>\n",
       "      <th>2011-08-01 06:00:00</th>\n",
       "      <td>0</td>\n",
       "      <td>1</td>\n",
       "      <td>1</td>\n",
       "      <td>23.02</td>\n",
       "      <td>24.0026</td>\n",
       "      <td>83</td>\n",
       "      <td>0.0896</td>\n",
       "      <td>3</td>\n",
       "      <td>97</td>\n",
       "      <td>100</td>\n",
       "      <td>0</td>\n",
       "      <td>0</td>\n",
       "      <td>1</td>\n",
       "      <td>0</td>\n",
       "    </tr>\n",
       "    <tr>\n",
       "      <th>2011-09-12 14:00:00</th>\n",
       "      <td>0</td>\n",
       "      <td>1</td>\n",
       "      <td>1</td>\n",
       "      <td>26.78</td>\n",
       "      <td>28.0022</td>\n",
       "      <td>51</td>\n",
       "      <td>0.1642</td>\n",
       "      <td>60</td>\n",
       "      <td>129</td>\n",
       "      <td>189</td>\n",
       "      <td>0</td>\n",
       "      <td>0</td>\n",
       "      <td>1</td>\n",
       "      <td>0</td>\n",
       "    </tr>\n",
       "    <tr>\n",
       "      <th>2011-10-24 07:00:00</th>\n",
       "      <td>0</td>\n",
       "      <td>1</td>\n",
       "      <td>2</td>\n",
       "      <td>9.86</td>\n",
       "      <td>9.9974</td>\n",
       "      <td>94</td>\n",
       "      <td>0.1045</td>\n",
       "      <td>11</td>\n",
       "      <td>274</td>\n",
       "      <td>285</td>\n",
       "      <td>0</td>\n",
       "      <td>0</td>\n",
       "      <td>0</td>\n",
       "      <td>1</td>\n",
       "    </tr>\n",
       "    <tr>\n",
       "      <th>2011-12-05 00:00:00</th>\n",
       "      <td>0</td>\n",
       "      <td>1</td>\n",
       "      <td>1</td>\n",
       "      <td>7.04</td>\n",
       "      <td>5.9978</td>\n",
       "      <td>87</td>\n",
       "      <td>0.0896</td>\n",
       "      <td>3</td>\n",
       "      <td>21</td>\n",
       "      <td>24</td>\n",
       "      <td>0</td>\n",
       "      <td>0</td>\n",
       "      <td>0</td>\n",
       "      <td>1</td>\n",
       "    </tr>\n",
       "    <tr>\n",
       "      <th>2012-01-15 21:00:00</th>\n",
       "      <td>0</td>\n",
       "      <td>0</td>\n",
       "      <td>1</td>\n",
       "      <td>-0.48</td>\n",
       "      <td>-4.9978</td>\n",
       "      <td>40</td>\n",
       "      <td>0.1642</td>\n",
       "      <td>1</td>\n",
       "      <td>71</td>\n",
       "      <td>72</td>\n",
       "      <td>1</td>\n",
       "      <td>0</td>\n",
       "      <td>0</td>\n",
       "      <td>0</td>\n",
       "    </tr>\n",
       "    <tr>\n",
       "      <th>2012-02-26 17:00:00</th>\n",
       "      <td>0</td>\n",
       "      <td>0</td>\n",
       "      <td>1</td>\n",
       "      <td>8.92</td>\n",
       "      <td>7.0010</td>\n",
       "      <td>32</td>\n",
       "      <td>0.2239</td>\n",
       "      <td>46</td>\n",
       "      <td>241</td>\n",
       "      <td>287</td>\n",
       "      <td>1</td>\n",
       "      <td>0</td>\n",
       "      <td>0</td>\n",
       "      <td>0</td>\n",
       "    </tr>\n",
       "    <tr>\n",
       "      <th>2012-04-08 12:00:00</th>\n",
       "      <td>0</td>\n",
       "      <td>0</td>\n",
       "      <td>1</td>\n",
       "      <td>17.38</td>\n",
       "      <td>18.0032</td>\n",
       "      <td>24</td>\n",
       "      <td>0.2537</td>\n",
       "      <td>198</td>\n",
       "      <td>259</td>\n",
       "      <td>457</td>\n",
       "      <td>0</td>\n",
       "      <td>1</td>\n",
       "      <td>0</td>\n",
       "      <td>0</td>\n",
       "    </tr>\n",
       "    <tr>\n",
       "      <th>2012-05-20 05:00:00</th>\n",
       "      <td>0</td>\n",
       "      <td>0</td>\n",
       "      <td>1</td>\n",
       "      <td>15.50</td>\n",
       "      <td>15.9968</td>\n",
       "      <td>72</td>\n",
       "      <td>0.1045</td>\n",
       "      <td>1</td>\n",
       "      <td>7</td>\n",
       "      <td>8</td>\n",
       "      <td>0</td>\n",
       "      <td>1</td>\n",
       "      <td>0</td>\n",
       "      <td>0</td>\n",
       "    </tr>\n",
       "    <tr>\n",
       "      <th>2012-06-30 21:00:00</th>\n",
       "      <td>0</td>\n",
       "      <td>0</td>\n",
       "      <td>1</td>\n",
       "      <td>30.54</td>\n",
       "      <td>34.9982</td>\n",
       "      <td>52</td>\n",
       "      <td>0.1642</td>\n",
       "      <td>48</td>\n",
       "      <td>165</td>\n",
       "      <td>213</td>\n",
       "      <td>0</td>\n",
       "      <td>0</td>\n",
       "      <td>1</td>\n",
       "      <td>0</td>\n",
       "    </tr>\n",
       "    <tr>\n",
       "      <th>2012-08-11 13:00:00</th>\n",
       "      <td>0</td>\n",
       "      <td>0</td>\n",
       "      <td>1</td>\n",
       "      <td>29.60</td>\n",
       "      <td>32.9984</td>\n",
       "      <td>49</td>\n",
       "      <td>0.3582</td>\n",
       "      <td>228</td>\n",
       "      <td>341</td>\n",
       "      <td>569</td>\n",
       "      <td>0</td>\n",
       "      <td>0</td>\n",
       "      <td>1</td>\n",
       "      <td>0</td>\n",
       "    </tr>\n",
       "    <tr>\n",
       "      <th>2012-09-22 05:00:00</th>\n",
       "      <td>0</td>\n",
       "      <td>0</td>\n",
       "      <td>1</td>\n",
       "      <td>18.32</td>\n",
       "      <td>18.9998</td>\n",
       "      <td>83</td>\n",
       "      <td>0.3284</td>\n",
       "      <td>2</td>\n",
       "      <td>15</td>\n",
       "      <td>17</td>\n",
       "      <td>0</td>\n",
       "      <td>0</td>\n",
       "      <td>1</td>\n",
       "      <td>0</td>\n",
       "    </tr>\n",
       "    <tr>\n",
       "      <th>2012-11-04 09:00:00</th>\n",
       "      <td>0</td>\n",
       "      <td>0</td>\n",
       "      <td>1</td>\n",
       "      <td>7.04</td>\n",
       "      <td>5.9978</td>\n",
       "      <td>53</td>\n",
       "      <td>0.0000</td>\n",
       "      <td>56</td>\n",
       "      <td>161</td>\n",
       "      <td>217</td>\n",
       "      <td>0</td>\n",
       "      <td>0</td>\n",
       "      <td>0</td>\n",
       "      <td>1</td>\n",
       "    </tr>\n",
       "    <tr>\n",
       "      <th>2012-12-16 03:00:00</th>\n",
       "      <td>0</td>\n",
       "      <td>0</td>\n",
       "      <td>2</td>\n",
       "      <td>7.98</td>\n",
       "      <td>5.9978</td>\n",
       "      <td>87</td>\n",
       "      <td>0.1940</td>\n",
       "      <td>1</td>\n",
       "      <td>37</td>\n",
       "      <td>38</td>\n",
       "      <td>0</td>\n",
       "      <td>0</td>\n",
       "      <td>0</td>\n",
       "      <td>1</td>\n",
       "    </tr>\n",
       "  </tbody>\n",
       "</table>\n",
       "</div>"
      ],
      "text/plain": [
       "                     is_holiday  is_workingday  weather  temp_celsius  \\\n",
       "datetime                                                                \n",
       "2011-01-01 00:00:00           0              0        1          3.28   \n",
       "2011-02-14 08:00:00           0              1        1          9.86   \n",
       "2011-03-29 05:00:00           0              1        1          2.34   \n",
       "2011-05-09 22:00:00           0              1        1         16.44   \n",
       "2011-06-20 14:00:00           0              1        1         23.02   \n",
       "2011-08-01 06:00:00           0              1        1         23.02   \n",
       "2011-09-12 14:00:00           0              1        1         26.78   \n",
       "2011-10-24 07:00:00           0              1        2          9.86   \n",
       "2011-12-05 00:00:00           0              1        1          7.04   \n",
       "2012-01-15 21:00:00           0              0        1         -0.48   \n",
       "2012-02-26 17:00:00           0              0        1          8.92   \n",
       "2012-04-08 12:00:00           0              0        1         17.38   \n",
       "2012-05-20 05:00:00           0              0        1         15.50   \n",
       "2012-06-30 21:00:00           0              0        1         30.54   \n",
       "2012-08-11 13:00:00           0              0        1         29.60   \n",
       "2012-09-22 05:00:00           0              0        1         18.32   \n",
       "2012-11-04 09:00:00           0              0        1          7.04   \n",
       "2012-12-16 03:00:00           0              0        2          7.98   \n",
       "\n",
       "                     atemp_celsius  humidity_percent  windspeed_knots  \\\n",
       "datetime                                                                \n",
       "2011-01-01 00:00:00         3.0014                81           0.0000   \n",
       "2011-02-14 08:00:00         9.9974                40           0.4627   \n",
       "2011-03-29 05:00:00        -2.0014                37           0.2537   \n",
       "2011-05-09 22:00:00        17.0000                68           0.0896   \n",
       "2011-06-20 14:00:00        24.9992                61           0.1045   \n",
       "2011-08-01 06:00:00        24.0026                83           0.0896   \n",
       "2011-09-12 14:00:00        28.0022                51           0.1642   \n",
       "2011-10-24 07:00:00         9.9974                94           0.1045   \n",
       "2011-12-05 00:00:00         5.9978                87           0.0896   \n",
       "2012-01-15 21:00:00        -4.9978                40           0.1642   \n",
       "2012-02-26 17:00:00         7.0010                32           0.2239   \n",
       "2012-04-08 12:00:00        18.0032                24           0.2537   \n",
       "2012-05-20 05:00:00        15.9968                72           0.1045   \n",
       "2012-06-30 21:00:00        34.9982                52           0.1642   \n",
       "2012-08-11 13:00:00        32.9984                49           0.3582   \n",
       "2012-09-22 05:00:00        18.9998                83           0.3284   \n",
       "2012-11-04 09:00:00         5.9978                53           0.0000   \n",
       "2012-12-16 03:00:00         5.9978                87           0.1940   \n",
       "\n",
       "                     num_casual_users  num_registered_users  num_total_users  \\\n",
       "datetime                                                                       \n",
       "2011-01-01 00:00:00                 3                    13               16   \n",
       "2011-02-14 08:00:00                 7                   249              256   \n",
       "2011-03-29 05:00:00                 0                     8                8   \n",
       "2011-05-09 22:00:00                21                    95              116   \n",
       "2011-06-20 14:00:00                45                   130              175   \n",
       "2011-08-01 06:00:00                 3                    97              100   \n",
       "2011-09-12 14:00:00                60                   129              189   \n",
       "2011-10-24 07:00:00                11                   274              285   \n",
       "2011-12-05 00:00:00                 3                    21               24   \n",
       "2012-01-15 21:00:00                 1                    71               72   \n",
       "2012-02-26 17:00:00                46                   241              287   \n",
       "2012-04-08 12:00:00               198                   259              457   \n",
       "2012-05-20 05:00:00                 1                     7                8   \n",
       "2012-06-30 21:00:00                48                   165              213   \n",
       "2012-08-11 13:00:00               228                   341              569   \n",
       "2012-09-22 05:00:00                 2                    15               17   \n",
       "2012-11-04 09:00:00                56                   161              217   \n",
       "2012-12-16 03:00:00                 1                    37               38   \n",
       "\n",
       "                     season_num_1  season_num_2  season_num_3  season_num_4  \n",
       "datetime                                                                     \n",
       "2011-01-01 00:00:00             1             0             0             0  \n",
       "2011-02-14 08:00:00             1             0             0             0  \n",
       "2011-03-29 05:00:00             0             1             0             0  \n",
       "2011-05-09 22:00:00             0             1             0             0  \n",
       "2011-06-20 14:00:00             0             1             0             0  \n",
       "2011-08-01 06:00:00             0             0             1             0  \n",
       "2011-09-12 14:00:00             0             0             1             0  \n",
       "2011-10-24 07:00:00             0             0             0             1  \n",
       "2011-12-05 00:00:00             0             0             0             1  \n",
       "2012-01-15 21:00:00             1             0             0             0  \n",
       "2012-02-26 17:00:00             1             0             0             0  \n",
       "2012-04-08 12:00:00             0             1             0             0  \n",
       "2012-05-20 05:00:00             0             1             0             0  \n",
       "2012-06-30 21:00:00             0             0             1             0  \n",
       "2012-08-11 13:00:00             0             0             1             0  \n",
       "2012-09-22 05:00:00             0             0             1             0  \n",
       "2012-11-04 09:00:00             0             0             0             1  \n",
       "2012-12-16 03:00:00             0             0             0             1  "
      ]
     },
     "execution_count": 54,
     "metadata": {},
     "output_type": "execute_result"
    }
   ],
   "source": [
    "# Dummy coding with pandas\n",
    "# /scrub/\n",
    "bikes_sample_seasons = bikes.loc[::1000, :]  # taking a subset for efficiency, skipping to get variety\n",
    "dummies = pd.get_dummies(bikes_sample_seasons, columns=['season_num'])\n",
    "dummies"
   ]
  },
  {
   "cell_type": "code",
   "execution_count": 55,
   "metadata": {},
   "outputs": [
    {
     "data": {
      "text/html": [
       "<div>\n",
       "<style scoped>\n",
       "    .dataframe tbody tr th:only-of-type {\n",
       "        vertical-align: middle;\n",
       "    }\n",
       "\n",
       "    .dataframe tbody tr th {\n",
       "        vertical-align: top;\n",
       "    }\n",
       "\n",
       "    .dataframe thead th {\n",
       "        text-align: right;\n",
       "    }\n",
       "</style>\n",
       "<table border=\"1\" class=\"dataframe\">\n",
       "  <thead>\n",
       "    <tr style=\"text-align: right;\">\n",
       "      <th></th>\n",
       "      <th>is_holiday</th>\n",
       "      <th>is_workingday</th>\n",
       "      <th>weather</th>\n",
       "      <th>temp_celsius</th>\n",
       "      <th>atemp_celsius</th>\n",
       "      <th>humidity_percent</th>\n",
       "      <th>windspeed_knots</th>\n",
       "      <th>num_casual_users</th>\n",
       "      <th>num_registered_users</th>\n",
       "      <th>num_total_users</th>\n",
       "      <th>season_num_2</th>\n",
       "      <th>season_num_3</th>\n",
       "      <th>season_num_4</th>\n",
       "    </tr>\n",
       "    <tr>\n",
       "      <th>datetime</th>\n",
       "      <th></th>\n",
       "      <th></th>\n",
       "      <th></th>\n",
       "      <th></th>\n",
       "      <th></th>\n",
       "      <th></th>\n",
       "      <th></th>\n",
       "      <th></th>\n",
       "      <th></th>\n",
       "      <th></th>\n",
       "      <th></th>\n",
       "      <th></th>\n",
       "      <th></th>\n",
       "    </tr>\n",
       "  </thead>\n",
       "  <tbody>\n",
       "    <tr>\n",
       "      <th>2011-01-01 00:00:00</th>\n",
       "      <td>0</td>\n",
       "      <td>0</td>\n",
       "      <td>1</td>\n",
       "      <td>3.28</td>\n",
       "      <td>3.0014</td>\n",
       "      <td>81</td>\n",
       "      <td>0.0000</td>\n",
       "      <td>3</td>\n",
       "      <td>13</td>\n",
       "      <td>16</td>\n",
       "      <td>0</td>\n",
       "      <td>0</td>\n",
       "      <td>0</td>\n",
       "    </tr>\n",
       "    <tr>\n",
       "      <th>2011-02-14 08:00:00</th>\n",
       "      <td>0</td>\n",
       "      <td>1</td>\n",
       "      <td>1</td>\n",
       "      <td>9.86</td>\n",
       "      <td>9.9974</td>\n",
       "      <td>40</td>\n",
       "      <td>0.4627</td>\n",
       "      <td>7</td>\n",
       "      <td>249</td>\n",
       "      <td>256</td>\n",
       "      <td>0</td>\n",
       "      <td>0</td>\n",
       "      <td>0</td>\n",
       "    </tr>\n",
       "    <tr>\n",
       "      <th>2011-03-29 05:00:00</th>\n",
       "      <td>0</td>\n",
       "      <td>1</td>\n",
       "      <td>1</td>\n",
       "      <td>2.34</td>\n",
       "      <td>-2.0014</td>\n",
       "      <td>37</td>\n",
       "      <td>0.2537</td>\n",
       "      <td>0</td>\n",
       "      <td>8</td>\n",
       "      <td>8</td>\n",
       "      <td>1</td>\n",
       "      <td>0</td>\n",
       "      <td>0</td>\n",
       "    </tr>\n",
       "    <tr>\n",
       "      <th>2011-05-09 22:00:00</th>\n",
       "      <td>0</td>\n",
       "      <td>1</td>\n",
       "      <td>1</td>\n",
       "      <td>16.44</td>\n",
       "      <td>17.0000</td>\n",
       "      <td>68</td>\n",
       "      <td>0.0896</td>\n",
       "      <td>21</td>\n",
       "      <td>95</td>\n",
       "      <td>116</td>\n",
       "      <td>1</td>\n",
       "      <td>0</td>\n",
       "      <td>0</td>\n",
       "    </tr>\n",
       "    <tr>\n",
       "      <th>2011-06-20 14:00:00</th>\n",
       "      <td>0</td>\n",
       "      <td>1</td>\n",
       "      <td>1</td>\n",
       "      <td>23.02</td>\n",
       "      <td>24.9992</td>\n",
       "      <td>61</td>\n",
       "      <td>0.1045</td>\n",
       "      <td>45</td>\n",
       "      <td>130</td>\n",
       "      <td>175</td>\n",
       "      <td>1</td>\n",
       "      <td>0</td>\n",
       "      <td>0</td>\n",
       "    </tr>\n",
       "    <tr>\n",
       "      <th>2011-08-01 06:00:00</th>\n",
       "      <td>0</td>\n",
       "      <td>1</td>\n",
       "      <td>1</td>\n",
       "      <td>23.02</td>\n",
       "      <td>24.0026</td>\n",
       "      <td>83</td>\n",
       "      <td>0.0896</td>\n",
       "      <td>3</td>\n",
       "      <td>97</td>\n",
       "      <td>100</td>\n",
       "      <td>0</td>\n",
       "      <td>1</td>\n",
       "      <td>0</td>\n",
       "    </tr>\n",
       "    <tr>\n",
       "      <th>2011-09-12 14:00:00</th>\n",
       "      <td>0</td>\n",
       "      <td>1</td>\n",
       "      <td>1</td>\n",
       "      <td>26.78</td>\n",
       "      <td>28.0022</td>\n",
       "      <td>51</td>\n",
       "      <td>0.1642</td>\n",
       "      <td>60</td>\n",
       "      <td>129</td>\n",
       "      <td>189</td>\n",
       "      <td>0</td>\n",
       "      <td>1</td>\n",
       "      <td>0</td>\n",
       "    </tr>\n",
       "    <tr>\n",
       "      <th>2011-10-24 07:00:00</th>\n",
       "      <td>0</td>\n",
       "      <td>1</td>\n",
       "      <td>2</td>\n",
       "      <td>9.86</td>\n",
       "      <td>9.9974</td>\n",
       "      <td>94</td>\n",
       "      <td>0.1045</td>\n",
       "      <td>11</td>\n",
       "      <td>274</td>\n",
       "      <td>285</td>\n",
       "      <td>0</td>\n",
       "      <td>0</td>\n",
       "      <td>1</td>\n",
       "    </tr>\n",
       "    <tr>\n",
       "      <th>2011-12-05 00:00:00</th>\n",
       "      <td>0</td>\n",
       "      <td>1</td>\n",
       "      <td>1</td>\n",
       "      <td>7.04</td>\n",
       "      <td>5.9978</td>\n",
       "      <td>87</td>\n",
       "      <td>0.0896</td>\n",
       "      <td>3</td>\n",
       "      <td>21</td>\n",
       "      <td>24</td>\n",
       "      <td>0</td>\n",
       "      <td>0</td>\n",
       "      <td>1</td>\n",
       "    </tr>\n",
       "    <tr>\n",
       "      <th>2012-01-15 21:00:00</th>\n",
       "      <td>0</td>\n",
       "      <td>0</td>\n",
       "      <td>1</td>\n",
       "      <td>-0.48</td>\n",
       "      <td>-4.9978</td>\n",
       "      <td>40</td>\n",
       "      <td>0.1642</td>\n",
       "      <td>1</td>\n",
       "      <td>71</td>\n",
       "      <td>72</td>\n",
       "      <td>0</td>\n",
       "      <td>0</td>\n",
       "      <td>0</td>\n",
       "    </tr>\n",
       "    <tr>\n",
       "      <th>2012-02-26 17:00:00</th>\n",
       "      <td>0</td>\n",
       "      <td>0</td>\n",
       "      <td>1</td>\n",
       "      <td>8.92</td>\n",
       "      <td>7.0010</td>\n",
       "      <td>32</td>\n",
       "      <td>0.2239</td>\n",
       "      <td>46</td>\n",
       "      <td>241</td>\n",
       "      <td>287</td>\n",
       "      <td>0</td>\n",
       "      <td>0</td>\n",
       "      <td>0</td>\n",
       "    </tr>\n",
       "    <tr>\n",
       "      <th>2012-04-08 12:00:00</th>\n",
       "      <td>0</td>\n",
       "      <td>0</td>\n",
       "      <td>1</td>\n",
       "      <td>17.38</td>\n",
       "      <td>18.0032</td>\n",
       "      <td>24</td>\n",
       "      <td>0.2537</td>\n",
       "      <td>198</td>\n",
       "      <td>259</td>\n",
       "      <td>457</td>\n",
       "      <td>1</td>\n",
       "      <td>0</td>\n",
       "      <td>0</td>\n",
       "    </tr>\n",
       "    <tr>\n",
       "      <th>2012-05-20 05:00:00</th>\n",
       "      <td>0</td>\n",
       "      <td>0</td>\n",
       "      <td>1</td>\n",
       "      <td>15.50</td>\n",
       "      <td>15.9968</td>\n",
       "      <td>72</td>\n",
       "      <td>0.1045</td>\n",
       "      <td>1</td>\n",
       "      <td>7</td>\n",
       "      <td>8</td>\n",
       "      <td>1</td>\n",
       "      <td>0</td>\n",
       "      <td>0</td>\n",
       "    </tr>\n",
       "    <tr>\n",
       "      <th>2012-06-30 21:00:00</th>\n",
       "      <td>0</td>\n",
       "      <td>0</td>\n",
       "      <td>1</td>\n",
       "      <td>30.54</td>\n",
       "      <td>34.9982</td>\n",
       "      <td>52</td>\n",
       "      <td>0.1642</td>\n",
       "      <td>48</td>\n",
       "      <td>165</td>\n",
       "      <td>213</td>\n",
       "      <td>0</td>\n",
       "      <td>1</td>\n",
       "      <td>0</td>\n",
       "    </tr>\n",
       "    <tr>\n",
       "      <th>2012-08-11 13:00:00</th>\n",
       "      <td>0</td>\n",
       "      <td>0</td>\n",
       "      <td>1</td>\n",
       "      <td>29.60</td>\n",
       "      <td>32.9984</td>\n",
       "      <td>49</td>\n",
       "      <td>0.3582</td>\n",
       "      <td>228</td>\n",
       "      <td>341</td>\n",
       "      <td>569</td>\n",
       "      <td>0</td>\n",
       "      <td>1</td>\n",
       "      <td>0</td>\n",
       "    </tr>\n",
       "    <tr>\n",
       "      <th>2012-09-22 05:00:00</th>\n",
       "      <td>0</td>\n",
       "      <td>0</td>\n",
       "      <td>1</td>\n",
       "      <td>18.32</td>\n",
       "      <td>18.9998</td>\n",
       "      <td>83</td>\n",
       "      <td>0.3284</td>\n",
       "      <td>2</td>\n",
       "      <td>15</td>\n",
       "      <td>17</td>\n",
       "      <td>0</td>\n",
       "      <td>1</td>\n",
       "      <td>0</td>\n",
       "    </tr>\n",
       "    <tr>\n",
       "      <th>2012-11-04 09:00:00</th>\n",
       "      <td>0</td>\n",
       "      <td>0</td>\n",
       "      <td>1</td>\n",
       "      <td>7.04</td>\n",
       "      <td>5.9978</td>\n",
       "      <td>53</td>\n",
       "      <td>0.0000</td>\n",
       "      <td>56</td>\n",
       "      <td>161</td>\n",
       "      <td>217</td>\n",
       "      <td>0</td>\n",
       "      <td>0</td>\n",
       "      <td>1</td>\n",
       "    </tr>\n",
       "    <tr>\n",
       "      <th>2012-12-16 03:00:00</th>\n",
       "      <td>0</td>\n",
       "      <td>0</td>\n",
       "      <td>2</td>\n",
       "      <td>7.98</td>\n",
       "      <td>5.9978</td>\n",
       "      <td>87</td>\n",
       "      <td>0.1940</td>\n",
       "      <td>1</td>\n",
       "      <td>37</td>\n",
       "      <td>38</td>\n",
       "      <td>0</td>\n",
       "      <td>0</td>\n",
       "      <td>1</td>\n",
       "    </tr>\n",
       "  </tbody>\n",
       "</table>\n",
       "</div>"
      ],
      "text/plain": [
       "                     is_holiday  is_workingday  weather  temp_celsius  \\\n",
       "datetime                                                                \n",
       "2011-01-01 00:00:00           0              0        1          3.28   \n",
       "2011-02-14 08:00:00           0              1        1          9.86   \n",
       "2011-03-29 05:00:00           0              1        1          2.34   \n",
       "2011-05-09 22:00:00           0              1        1         16.44   \n",
       "2011-06-20 14:00:00           0              1        1         23.02   \n",
       "2011-08-01 06:00:00           0              1        1         23.02   \n",
       "2011-09-12 14:00:00           0              1        1         26.78   \n",
       "2011-10-24 07:00:00           0              1        2          9.86   \n",
       "2011-12-05 00:00:00           0              1        1          7.04   \n",
       "2012-01-15 21:00:00           0              0        1         -0.48   \n",
       "2012-02-26 17:00:00           0              0        1          8.92   \n",
       "2012-04-08 12:00:00           0              0        1         17.38   \n",
       "2012-05-20 05:00:00           0              0        1         15.50   \n",
       "2012-06-30 21:00:00           0              0        1         30.54   \n",
       "2012-08-11 13:00:00           0              0        1         29.60   \n",
       "2012-09-22 05:00:00           0              0        1         18.32   \n",
       "2012-11-04 09:00:00           0              0        1          7.04   \n",
       "2012-12-16 03:00:00           0              0        2          7.98   \n",
       "\n",
       "                     atemp_celsius  humidity_percent  windspeed_knots  \\\n",
       "datetime                                                                \n",
       "2011-01-01 00:00:00         3.0014                81           0.0000   \n",
       "2011-02-14 08:00:00         9.9974                40           0.4627   \n",
       "2011-03-29 05:00:00        -2.0014                37           0.2537   \n",
       "2011-05-09 22:00:00        17.0000                68           0.0896   \n",
       "2011-06-20 14:00:00        24.9992                61           0.1045   \n",
       "2011-08-01 06:00:00        24.0026                83           0.0896   \n",
       "2011-09-12 14:00:00        28.0022                51           0.1642   \n",
       "2011-10-24 07:00:00         9.9974                94           0.1045   \n",
       "2011-12-05 00:00:00         5.9978                87           0.0896   \n",
       "2012-01-15 21:00:00        -4.9978                40           0.1642   \n",
       "2012-02-26 17:00:00         7.0010                32           0.2239   \n",
       "2012-04-08 12:00:00        18.0032                24           0.2537   \n",
       "2012-05-20 05:00:00        15.9968                72           0.1045   \n",
       "2012-06-30 21:00:00        34.9982                52           0.1642   \n",
       "2012-08-11 13:00:00        32.9984                49           0.3582   \n",
       "2012-09-22 05:00:00        18.9998                83           0.3284   \n",
       "2012-11-04 09:00:00         5.9978                53           0.0000   \n",
       "2012-12-16 03:00:00         5.9978                87           0.1940   \n",
       "\n",
       "                     num_casual_users  num_registered_users  num_total_users  \\\n",
       "datetime                                                                       \n",
       "2011-01-01 00:00:00                 3                    13               16   \n",
       "2011-02-14 08:00:00                 7                   249              256   \n",
       "2011-03-29 05:00:00                 0                     8                8   \n",
       "2011-05-09 22:00:00                21                    95              116   \n",
       "2011-06-20 14:00:00                45                   130              175   \n",
       "2011-08-01 06:00:00                 3                    97              100   \n",
       "2011-09-12 14:00:00                60                   129              189   \n",
       "2011-10-24 07:00:00                11                   274              285   \n",
       "2011-12-05 00:00:00                 3                    21               24   \n",
       "2012-01-15 21:00:00                 1                    71               72   \n",
       "2012-02-26 17:00:00                46                   241              287   \n",
       "2012-04-08 12:00:00               198                   259              457   \n",
       "2012-05-20 05:00:00                 1                     7                8   \n",
       "2012-06-30 21:00:00                48                   165              213   \n",
       "2012-08-11 13:00:00               228                   341              569   \n",
       "2012-09-22 05:00:00                 2                    15               17   \n",
       "2012-11-04 09:00:00                56                   161              217   \n",
       "2012-12-16 03:00:00                 1                    37               38   \n",
       "\n",
       "                     season_num_2  season_num_3  season_num_4  \n",
       "datetime                                                       \n",
       "2011-01-01 00:00:00             0             0             0  \n",
       "2011-02-14 08:00:00             0             0             0  \n",
       "2011-03-29 05:00:00             1             0             0  \n",
       "2011-05-09 22:00:00             1             0             0  \n",
       "2011-06-20 14:00:00             1             0             0  \n",
       "2011-08-01 06:00:00             0             1             0  \n",
       "2011-09-12 14:00:00             0             1             0  \n",
       "2011-10-24 07:00:00             0             0             1  \n",
       "2011-12-05 00:00:00             0             0             1  \n",
       "2012-01-15 21:00:00             0             0             0  \n",
       "2012-02-26 17:00:00             0             0             0  \n",
       "2012-04-08 12:00:00             1             0             0  \n",
       "2012-05-20 05:00:00             1             0             0  \n",
       "2012-06-30 21:00:00             0             1             0  \n",
       "2012-08-11 13:00:00             0             1             0  \n",
       "2012-09-22 05:00:00             0             1             0  \n",
       "2012-11-04 09:00:00             0             0             1  \n",
       "2012-12-16 03:00:00             0             0             1  "
      ]
     },
     "execution_count": 55,
     "metadata": {},
     "output_type": "execute_result"
    }
   ],
   "source": [
    "# Drop a redundant column\n",
    "# /scrub/\n",
    "dummies.drop('season_num_1', axis=1)"
   ]
  },
  {
   "cell_type": "markdown",
   "metadata": {},
   "source": [
    "Unlike `season`, our variable `weather` is at least ordinal:\n",
    "\n",
    "1: Clear, 2: Mist, 3: Light Rain or Snow 4: Heavy Rain or Snow\n",
    "\n",
    "However, there's no reason to assume that the difference between Clear and Mist has the same impact on ridership as the difference between Mist and List Rain/Snow or the difference between Light Rain/Snow and Heavy Rain/Snow. Here too our model can benefit from the additional degrees of freedom that dummy coding provides."
   ]
  },
  {
   "cell_type": "markdown",
   "metadata": {},
   "source": [
    "**Exercise.**\n",
    "\n",
    "- Use pandas to create dummy columns for `weather`, and drop the column that you want to use as a baseline."
   ]
  },
  {
   "cell_type": "code",
   "execution_count": 56,
   "metadata": {},
   "outputs": [
    {
     "data": {
      "text/html": [
       "<div>\n",
       "<style scoped>\n",
       "    .dataframe tbody tr th:only-of-type {\n",
       "        vertical-align: middle;\n",
       "    }\n",
       "\n",
       "    .dataframe tbody tr th {\n",
       "        vertical-align: top;\n",
       "    }\n",
       "\n",
       "    .dataframe thead th {\n",
       "        text-align: right;\n",
       "    }\n",
       "</style>\n",
       "<table border=\"1\" class=\"dataframe\">\n",
       "  <thead>\n",
       "    <tr style=\"text-align: right;\">\n",
       "      <th></th>\n",
       "      <th>season_num</th>\n",
       "      <th>is_holiday</th>\n",
       "      <th>is_workingday</th>\n",
       "      <th>temp_celsius</th>\n",
       "      <th>atemp_celsius</th>\n",
       "      <th>humidity_percent</th>\n",
       "      <th>windspeed_knots</th>\n",
       "      <th>num_casual_users</th>\n",
       "      <th>num_registered_users</th>\n",
       "      <th>num_total_users</th>\n",
       "      <th>weather_2</th>\n",
       "      <th>weather_3</th>\n",
       "      <th>weather_4</th>\n",
       "    </tr>\n",
       "    <tr>\n",
       "      <th>datetime</th>\n",
       "      <th></th>\n",
       "      <th></th>\n",
       "      <th></th>\n",
       "      <th></th>\n",
       "      <th></th>\n",
       "      <th></th>\n",
       "      <th></th>\n",
       "      <th></th>\n",
       "      <th></th>\n",
       "      <th></th>\n",
       "      <th></th>\n",
       "      <th></th>\n",
       "      <th></th>\n",
       "    </tr>\n",
       "  </thead>\n",
       "  <tbody>\n",
       "    <tr>\n",
       "      <th>2011-01-01 00:00:00</th>\n",
       "      <td>1</td>\n",
       "      <td>0</td>\n",
       "      <td>0</td>\n",
       "      <td>3.28</td>\n",
       "      <td>3.0014</td>\n",
       "      <td>81</td>\n",
       "      <td>0.0000</td>\n",
       "      <td>3</td>\n",
       "      <td>13</td>\n",
       "      <td>16</td>\n",
       "      <td>0</td>\n",
       "      <td>0</td>\n",
       "      <td>0</td>\n",
       "    </tr>\n",
       "    <tr>\n",
       "      <th>2011-01-01 01:00:00</th>\n",
       "      <td>1</td>\n",
       "      <td>0</td>\n",
       "      <td>0</td>\n",
       "      <td>2.34</td>\n",
       "      <td>1.9982</td>\n",
       "      <td>80</td>\n",
       "      <td>0.0000</td>\n",
       "      <td>8</td>\n",
       "      <td>32</td>\n",
       "      <td>40</td>\n",
       "      <td>0</td>\n",
       "      <td>0</td>\n",
       "      <td>0</td>\n",
       "    </tr>\n",
       "    <tr>\n",
       "      <th>2011-01-01 02:00:00</th>\n",
       "      <td>1</td>\n",
       "      <td>0</td>\n",
       "      <td>0</td>\n",
       "      <td>2.34</td>\n",
       "      <td>1.9982</td>\n",
       "      <td>80</td>\n",
       "      <td>0.0000</td>\n",
       "      <td>5</td>\n",
       "      <td>27</td>\n",
       "      <td>32</td>\n",
       "      <td>0</td>\n",
       "      <td>0</td>\n",
       "      <td>0</td>\n",
       "    </tr>\n",
       "    <tr>\n",
       "      <th>2011-01-01 03:00:00</th>\n",
       "      <td>1</td>\n",
       "      <td>0</td>\n",
       "      <td>0</td>\n",
       "      <td>3.28</td>\n",
       "      <td>3.0014</td>\n",
       "      <td>75</td>\n",
       "      <td>0.0000</td>\n",
       "      <td>3</td>\n",
       "      <td>10</td>\n",
       "      <td>13</td>\n",
       "      <td>0</td>\n",
       "      <td>0</td>\n",
       "      <td>0</td>\n",
       "    </tr>\n",
       "    <tr>\n",
       "      <th>2011-01-01 04:00:00</th>\n",
       "      <td>1</td>\n",
       "      <td>0</td>\n",
       "      <td>0</td>\n",
       "      <td>3.28</td>\n",
       "      <td>3.0014</td>\n",
       "      <td>75</td>\n",
       "      <td>0.0000</td>\n",
       "      <td>0</td>\n",
       "      <td>1</td>\n",
       "      <td>1</td>\n",
       "      <td>0</td>\n",
       "      <td>0</td>\n",
       "      <td>0</td>\n",
       "    </tr>\n",
       "    <tr>\n",
       "      <th>2011-01-01 05:00:00</th>\n",
       "      <td>1</td>\n",
       "      <td>0</td>\n",
       "      <td>0</td>\n",
       "      <td>3.28</td>\n",
       "      <td>1.0016</td>\n",
       "      <td>75</td>\n",
       "      <td>0.0896</td>\n",
       "      <td>0</td>\n",
       "      <td>1</td>\n",
       "      <td>1</td>\n",
       "      <td>1</td>\n",
       "      <td>0</td>\n",
       "      <td>0</td>\n",
       "    </tr>\n",
       "    <tr>\n",
       "      <th>2011-01-01 06:00:00</th>\n",
       "      <td>1</td>\n",
       "      <td>0</td>\n",
       "      <td>0</td>\n",
       "      <td>2.34</td>\n",
       "      <td>1.9982</td>\n",
       "      <td>80</td>\n",
       "      <td>0.0000</td>\n",
       "      <td>2</td>\n",
       "      <td>0</td>\n",
       "      <td>2</td>\n",
       "      <td>0</td>\n",
       "      <td>0</td>\n",
       "      <td>0</td>\n",
       "    </tr>\n",
       "    <tr>\n",
       "      <th>2011-01-01 07:00:00</th>\n",
       "      <td>1</td>\n",
       "      <td>0</td>\n",
       "      <td>0</td>\n",
       "      <td>1.40</td>\n",
       "      <td>1.0016</td>\n",
       "      <td>86</td>\n",
       "      <td>0.0000</td>\n",
       "      <td>1</td>\n",
       "      <td>2</td>\n",
       "      <td>3</td>\n",
       "      <td>0</td>\n",
       "      <td>0</td>\n",
       "      <td>0</td>\n",
       "    </tr>\n",
       "    <tr>\n",
       "      <th>2011-01-01 08:00:00</th>\n",
       "      <td>1</td>\n",
       "      <td>0</td>\n",
       "      <td>0</td>\n",
       "      <td>3.28</td>\n",
       "      <td>3.0014</td>\n",
       "      <td>75</td>\n",
       "      <td>0.0000</td>\n",
       "      <td>1</td>\n",
       "      <td>7</td>\n",
       "      <td>8</td>\n",
       "      <td>0</td>\n",
       "      <td>0</td>\n",
       "      <td>0</td>\n",
       "    </tr>\n",
       "    <tr>\n",
       "      <th>2011-01-01 09:00:00</th>\n",
       "      <td>1</td>\n",
       "      <td>0</td>\n",
       "      <td>0</td>\n",
       "      <td>7.04</td>\n",
       "      <td>7.0010</td>\n",
       "      <td>76</td>\n",
       "      <td>0.0000</td>\n",
       "      <td>8</td>\n",
       "      <td>6</td>\n",
       "      <td>14</td>\n",
       "      <td>0</td>\n",
       "      <td>0</td>\n",
       "      <td>0</td>\n",
       "    </tr>\n",
       "    <tr>\n",
       "      <th>2011-01-01 10:00:00</th>\n",
       "      <td>1</td>\n",
       "      <td>0</td>\n",
       "      <td>0</td>\n",
       "      <td>9.86</td>\n",
       "      <td>9.9974</td>\n",
       "      <td>76</td>\n",
       "      <td>0.2537</td>\n",
       "      <td>12</td>\n",
       "      <td>24</td>\n",
       "      <td>36</td>\n",
       "      <td>0</td>\n",
       "      <td>0</td>\n",
       "      <td>0</td>\n",
       "    </tr>\n",
       "    <tr>\n",
       "      <th>2011-01-01 11:00:00</th>\n",
       "      <td>1</td>\n",
       "      <td>0</td>\n",
       "      <td>0</td>\n",
       "      <td>8.92</td>\n",
       "      <td>5.9978</td>\n",
       "      <td>81</td>\n",
       "      <td>0.2836</td>\n",
       "      <td>26</td>\n",
       "      <td>30</td>\n",
       "      <td>56</td>\n",
       "      <td>0</td>\n",
       "      <td>0</td>\n",
       "      <td>0</td>\n",
       "    </tr>\n",
       "    <tr>\n",
       "      <th>2011-01-01 12:00:00</th>\n",
       "      <td>1</td>\n",
       "      <td>0</td>\n",
       "      <td>0</td>\n",
       "      <td>11.74</td>\n",
       "      <td>11.9972</td>\n",
       "      <td>77</td>\n",
       "      <td>0.2836</td>\n",
       "      <td>29</td>\n",
       "      <td>55</td>\n",
       "      <td>84</td>\n",
       "      <td>0</td>\n",
       "      <td>0</td>\n",
       "      <td>0</td>\n",
       "    </tr>\n",
       "    <tr>\n",
       "      <th>2011-01-01 13:00:00</th>\n",
       "      <td>1</td>\n",
       "      <td>0</td>\n",
       "      <td>0</td>\n",
       "      <td>13.62</td>\n",
       "      <td>13.9970</td>\n",
       "      <td>72</td>\n",
       "      <td>0.2985</td>\n",
       "      <td>47</td>\n",
       "      <td>47</td>\n",
       "      <td>94</td>\n",
       "      <td>1</td>\n",
       "      <td>0</td>\n",
       "      <td>0</td>\n",
       "    </tr>\n",
       "    <tr>\n",
       "      <th>2011-01-01 14:00:00</th>\n",
       "      <td>1</td>\n",
       "      <td>0</td>\n",
       "      <td>0</td>\n",
       "      <td>13.62</td>\n",
       "      <td>13.9970</td>\n",
       "      <td>72</td>\n",
       "      <td>0.2836</td>\n",
       "      <td>35</td>\n",
       "      <td>71</td>\n",
       "      <td>106</td>\n",
       "      <td>1</td>\n",
       "      <td>0</td>\n",
       "      <td>0</td>\n",
       "    </tr>\n",
       "    <tr>\n",
       "      <th>2011-01-01 15:00:00</th>\n",
       "      <td>1</td>\n",
       "      <td>0</td>\n",
       "      <td>0</td>\n",
       "      <td>12.68</td>\n",
       "      <td>13.0004</td>\n",
       "      <td>77</td>\n",
       "      <td>0.2985</td>\n",
       "      <td>40</td>\n",
       "      <td>70</td>\n",
       "      <td>110</td>\n",
       "      <td>1</td>\n",
       "      <td>0</td>\n",
       "      <td>0</td>\n",
       "    </tr>\n",
       "    <tr>\n",
       "      <th>2011-01-01 16:00:00</th>\n",
       "      <td>1</td>\n",
       "      <td>0</td>\n",
       "      <td>0</td>\n",
       "      <td>11.74</td>\n",
       "      <td>11.9972</td>\n",
       "      <td>82</td>\n",
       "      <td>0.2985</td>\n",
       "      <td>41</td>\n",
       "      <td>52</td>\n",
       "      <td>93</td>\n",
       "      <td>1</td>\n",
       "      <td>0</td>\n",
       "      <td>0</td>\n",
       "    </tr>\n",
       "    <tr>\n",
       "      <th>2011-01-01 17:00:00</th>\n",
       "      <td>1</td>\n",
       "      <td>0</td>\n",
       "      <td>0</td>\n",
       "      <td>12.68</td>\n",
       "      <td>13.0004</td>\n",
       "      <td>82</td>\n",
       "      <td>0.2836</td>\n",
       "      <td>15</td>\n",
       "      <td>52</td>\n",
       "      <td>67</td>\n",
       "      <td>1</td>\n",
       "      <td>0</td>\n",
       "      <td>0</td>\n",
       "    </tr>\n",
       "    <tr>\n",
       "      <th>2011-01-01 18:00:00</th>\n",
       "      <td>1</td>\n",
       "      <td>0</td>\n",
       "      <td>0</td>\n",
       "      <td>11.74</td>\n",
       "      <td>11.9972</td>\n",
       "      <td>88</td>\n",
       "      <td>0.2537</td>\n",
       "      <td>9</td>\n",
       "      <td>26</td>\n",
       "      <td>35</td>\n",
       "      <td>0</td>\n",
       "      <td>1</td>\n",
       "      <td>0</td>\n",
       "    </tr>\n",
       "    <tr>\n",
       "      <th>2011-01-01 19:00:00</th>\n",
       "      <td>1</td>\n",
       "      <td>0</td>\n",
       "      <td>0</td>\n",
       "      <td>11.74</td>\n",
       "      <td>11.9972</td>\n",
       "      <td>88</td>\n",
       "      <td>0.2537</td>\n",
       "      <td>6</td>\n",
       "      <td>31</td>\n",
       "      <td>37</td>\n",
       "      <td>0</td>\n",
       "      <td>1</td>\n",
       "      <td>0</td>\n",
       "    </tr>\n",
       "    <tr>\n",
       "      <th>2011-01-01 20:00:00</th>\n",
       "      <td>1</td>\n",
       "      <td>0</td>\n",
       "      <td>0</td>\n",
       "      <td>10.80</td>\n",
       "      <td>11.0006</td>\n",
       "      <td>87</td>\n",
       "      <td>0.2537</td>\n",
       "      <td>11</td>\n",
       "      <td>25</td>\n",
       "      <td>36</td>\n",
       "      <td>1</td>\n",
       "      <td>0</td>\n",
       "      <td>0</td>\n",
       "    </tr>\n",
       "    <tr>\n",
       "      <th>2011-01-01 21:00:00</th>\n",
       "      <td>1</td>\n",
       "      <td>0</td>\n",
       "      <td>0</td>\n",
       "      <td>10.80</td>\n",
       "      <td>11.0006</td>\n",
       "      <td>87</td>\n",
       "      <td>0.1940</td>\n",
       "      <td>3</td>\n",
       "      <td>31</td>\n",
       "      <td>34</td>\n",
       "      <td>1</td>\n",
       "      <td>0</td>\n",
       "      <td>0</td>\n",
       "    </tr>\n",
       "    <tr>\n",
       "      <th>2011-01-01 22:00:00</th>\n",
       "      <td>1</td>\n",
       "      <td>0</td>\n",
       "      <td>0</td>\n",
       "      <td>10.80</td>\n",
       "      <td>11.0006</td>\n",
       "      <td>94</td>\n",
       "      <td>0.2239</td>\n",
       "      <td>11</td>\n",
       "      <td>17</td>\n",
       "      <td>28</td>\n",
       "      <td>1</td>\n",
       "      <td>0</td>\n",
       "      <td>0</td>\n",
       "    </tr>\n",
       "    <tr>\n",
       "      <th>2011-01-01 23:00:00</th>\n",
       "      <td>1</td>\n",
       "      <td>0</td>\n",
       "      <td>0</td>\n",
       "      <td>13.62</td>\n",
       "      <td>13.9970</td>\n",
       "      <td>88</td>\n",
       "      <td>0.2985</td>\n",
       "      <td>15</td>\n",
       "      <td>24</td>\n",
       "      <td>39</td>\n",
       "      <td>1</td>\n",
       "      <td>0</td>\n",
       "      <td>0</td>\n",
       "    </tr>\n",
       "    <tr>\n",
       "      <th>2011-01-02 00:00:00</th>\n",
       "      <td>1</td>\n",
       "      <td>0</td>\n",
       "      <td>0</td>\n",
       "      <td>13.62</td>\n",
       "      <td>13.9970</td>\n",
       "      <td>88</td>\n",
       "      <td>0.2985</td>\n",
       "      <td>4</td>\n",
       "      <td>13</td>\n",
       "      <td>17</td>\n",
       "      <td>1</td>\n",
       "      <td>0</td>\n",
       "      <td>0</td>\n",
       "    </tr>\n",
       "    <tr>\n",
       "      <th>2011-01-02 01:00:00</th>\n",
       "      <td>1</td>\n",
       "      <td>0</td>\n",
       "      <td>0</td>\n",
       "      <td>12.68</td>\n",
       "      <td>13.0004</td>\n",
       "      <td>94</td>\n",
       "      <td>0.2537</td>\n",
       "      <td>1</td>\n",
       "      <td>16</td>\n",
       "      <td>17</td>\n",
       "      <td>1</td>\n",
       "      <td>0</td>\n",
       "      <td>0</td>\n",
       "    </tr>\n",
       "    <tr>\n",
       "      <th>2011-01-02 02:00:00</th>\n",
       "      <td>1</td>\n",
       "      <td>0</td>\n",
       "      <td>0</td>\n",
       "      <td>11.74</td>\n",
       "      <td>11.9972</td>\n",
       "      <td>100</td>\n",
       "      <td>0.2836</td>\n",
       "      <td>1</td>\n",
       "      <td>8</td>\n",
       "      <td>9</td>\n",
       "      <td>1</td>\n",
       "      <td>0</td>\n",
       "      <td>0</td>\n",
       "    </tr>\n",
       "    <tr>\n",
       "      <th>2011-01-02 03:00:00</th>\n",
       "      <td>1</td>\n",
       "      <td>0</td>\n",
       "      <td>0</td>\n",
       "      <td>13.62</td>\n",
       "      <td>13.9970</td>\n",
       "      <td>94</td>\n",
       "      <td>0.1940</td>\n",
       "      <td>2</td>\n",
       "      <td>4</td>\n",
       "      <td>6</td>\n",
       "      <td>1</td>\n",
       "      <td>0</td>\n",
       "      <td>0</td>\n",
       "    </tr>\n",
       "    <tr>\n",
       "      <th>2011-01-02 04:00:00</th>\n",
       "      <td>1</td>\n",
       "      <td>0</td>\n",
       "      <td>0</td>\n",
       "      <td>13.62</td>\n",
       "      <td>13.9970</td>\n",
       "      <td>94</td>\n",
       "      <td>0.1940</td>\n",
       "      <td>2</td>\n",
       "      <td>1</td>\n",
       "      <td>3</td>\n",
       "      <td>1</td>\n",
       "      <td>0</td>\n",
       "      <td>0</td>\n",
       "    </tr>\n",
       "    <tr>\n",
       "      <th>2011-01-02 06:00:00</th>\n",
       "      <td>1</td>\n",
       "      <td>0</td>\n",
       "      <td>0</td>\n",
       "      <td>11.74</td>\n",
       "      <td>11.9972</td>\n",
       "      <td>77</td>\n",
       "      <td>0.2985</td>\n",
       "      <td>0</td>\n",
       "      <td>2</td>\n",
       "      <td>2</td>\n",
       "      <td>0</td>\n",
       "      <td>1</td>\n",
       "      <td>0</td>\n",
       "    </tr>\n",
       "    <tr>\n",
       "      <th>...</th>\n",
       "      <td>...</td>\n",
       "      <td>...</td>\n",
       "      <td>...</td>\n",
       "      <td>...</td>\n",
       "      <td>...</td>\n",
       "      <td>...</td>\n",
       "      <td>...</td>\n",
       "      <td>...</td>\n",
       "      <td>...</td>\n",
       "      <td>...</td>\n",
       "      <td>...</td>\n",
       "      <td>...</td>\n",
       "      <td>...</td>\n",
       "    </tr>\n",
       "    <tr>\n",
       "      <th>2012-12-30 18:00:00</th>\n",
       "      <td>1</td>\n",
       "      <td>0</td>\n",
       "      <td>0</td>\n",
       "      <td>3.28</td>\n",
       "      <td>-2.0014</td>\n",
       "      <td>44</td>\n",
       "      <td>0.2985</td>\n",
       "      <td>12</td>\n",
       "      <td>113</td>\n",
       "      <td>125</td>\n",
       "      <td>1</td>\n",
       "      <td>0</td>\n",
       "      <td>0</td>\n",
       "    </tr>\n",
       "    <tr>\n",
       "      <th>2012-12-30 19:00:00</th>\n",
       "      <td>1</td>\n",
       "      <td>0</td>\n",
       "      <td>0</td>\n",
       "      <td>7.98</td>\n",
       "      <td>7.9976</td>\n",
       "      <td>61</td>\n",
       "      <td>0.0000</td>\n",
       "      <td>16</td>\n",
       "      <td>86</td>\n",
       "      <td>102</td>\n",
       "      <td>0</td>\n",
       "      <td>0</td>\n",
       "      <td>0</td>\n",
       "    </tr>\n",
       "    <tr>\n",
       "      <th>2012-12-30 20:00:00</th>\n",
       "      <td>1</td>\n",
       "      <td>0</td>\n",
       "      <td>0</td>\n",
       "      <td>2.34</td>\n",
       "      <td>-2.9980</td>\n",
       "      <td>47</td>\n",
       "      <td>0.3284</td>\n",
       "      <td>9</td>\n",
       "      <td>63</td>\n",
       "      <td>72</td>\n",
       "      <td>0</td>\n",
       "      <td>0</td>\n",
       "      <td>0</td>\n",
       "    </tr>\n",
       "    <tr>\n",
       "      <th>2012-12-30 21:00:00</th>\n",
       "      <td>1</td>\n",
       "      <td>0</td>\n",
       "      <td>0</td>\n",
       "      <td>1.40</td>\n",
       "      <td>-2.0014</td>\n",
       "      <td>51</td>\n",
       "      <td>0.1642</td>\n",
       "      <td>5</td>\n",
       "      <td>42</td>\n",
       "      <td>47</td>\n",
       "      <td>0</td>\n",
       "      <td>0</td>\n",
       "      <td>0</td>\n",
       "    </tr>\n",
       "    <tr>\n",
       "      <th>2012-12-30 22:00:00</th>\n",
       "      <td>1</td>\n",
       "      <td>0</td>\n",
       "      <td>0</td>\n",
       "      <td>1.40</td>\n",
       "      <td>-2.9980</td>\n",
       "      <td>55</td>\n",
       "      <td>0.1940</td>\n",
       "      <td>6</td>\n",
       "      <td>30</td>\n",
       "      <td>36</td>\n",
       "      <td>0</td>\n",
       "      <td>0</td>\n",
       "      <td>0</td>\n",
       "    </tr>\n",
       "    <tr>\n",
       "      <th>2012-12-30 23:00:00</th>\n",
       "      <td>1</td>\n",
       "      <td>0</td>\n",
       "      <td>0</td>\n",
       "      <td>1.40</td>\n",
       "      <td>-2.9980</td>\n",
       "      <td>51</td>\n",
       "      <td>0.2239</td>\n",
       "      <td>10</td>\n",
       "      <td>39</td>\n",
       "      <td>49</td>\n",
       "      <td>0</td>\n",
       "      <td>0</td>\n",
       "      <td>0</td>\n",
       "    </tr>\n",
       "    <tr>\n",
       "      <th>2012-12-31 00:00:00</th>\n",
       "      <td>1</td>\n",
       "      <td>0</td>\n",
       "      <td>1</td>\n",
       "      <td>0.46</td>\n",
       "      <td>-4.0012</td>\n",
       "      <td>55</td>\n",
       "      <td>0.1940</td>\n",
       "      <td>4</td>\n",
       "      <td>30</td>\n",
       "      <td>34</td>\n",
       "      <td>0</td>\n",
       "      <td>0</td>\n",
       "      <td>0</td>\n",
       "    </tr>\n",
       "    <tr>\n",
       "      <th>2012-12-31 01:00:00</th>\n",
       "      <td>1</td>\n",
       "      <td>0</td>\n",
       "      <td>1</td>\n",
       "      <td>0.46</td>\n",
       "      <td>-4.0012</td>\n",
       "      <td>55</td>\n",
       "      <td>0.1940</td>\n",
       "      <td>6</td>\n",
       "      <td>13</td>\n",
       "      <td>19</td>\n",
       "      <td>0</td>\n",
       "      <td>0</td>\n",
       "      <td>0</td>\n",
       "    </tr>\n",
       "    <tr>\n",
       "      <th>2012-12-31 02:00:00</th>\n",
       "      <td>1</td>\n",
       "      <td>0</td>\n",
       "      <td>1</td>\n",
       "      <td>-0.48</td>\n",
       "      <td>-4.9978</td>\n",
       "      <td>59</td>\n",
       "      <td>0.1642</td>\n",
       "      <td>3</td>\n",
       "      <td>8</td>\n",
       "      <td>11</td>\n",
       "      <td>0</td>\n",
       "      <td>0</td>\n",
       "      <td>0</td>\n",
       "    </tr>\n",
       "    <tr>\n",
       "      <th>2012-12-31 03:00:00</th>\n",
       "      <td>1</td>\n",
       "      <td>0</td>\n",
       "      <td>1</td>\n",
       "      <td>-0.48</td>\n",
       "      <td>-4.0012</td>\n",
       "      <td>59</td>\n",
       "      <td>0.1045</td>\n",
       "      <td>0</td>\n",
       "      <td>1</td>\n",
       "      <td>1</td>\n",
       "      <td>0</td>\n",
       "      <td>0</td>\n",
       "      <td>0</td>\n",
       "    </tr>\n",
       "    <tr>\n",
       "      <th>2012-12-31 04:00:00</th>\n",
       "      <td>1</td>\n",
       "      <td>0</td>\n",
       "      <td>1</td>\n",
       "      <td>-1.42</td>\n",
       "      <td>-4.9978</td>\n",
       "      <td>69</td>\n",
       "      <td>0.1045</td>\n",
       "      <td>0</td>\n",
       "      <td>3</td>\n",
       "      <td>3</td>\n",
       "      <td>0</td>\n",
       "      <td>0</td>\n",
       "      <td>0</td>\n",
       "    </tr>\n",
       "    <tr>\n",
       "      <th>2012-12-31 05:00:00</th>\n",
       "      <td>1</td>\n",
       "      <td>0</td>\n",
       "      <td>1</td>\n",
       "      <td>-0.48</td>\n",
       "      <td>-6.0010</td>\n",
       "      <td>64</td>\n",
       "      <td>0.1940</td>\n",
       "      <td>0</td>\n",
       "      <td>9</td>\n",
       "      <td>9</td>\n",
       "      <td>0</td>\n",
       "      <td>0</td>\n",
       "      <td>0</td>\n",
       "    </tr>\n",
       "    <tr>\n",
       "      <th>2012-12-31 06:00:00</th>\n",
       "      <td>1</td>\n",
       "      <td>0</td>\n",
       "      <td>1</td>\n",
       "      <td>-0.48</td>\n",
       "      <td>-4.9978</td>\n",
       "      <td>64</td>\n",
       "      <td>0.1642</td>\n",
       "      <td>0</td>\n",
       "      <td>40</td>\n",
       "      <td>40</td>\n",
       "      <td>0</td>\n",
       "      <td>0</td>\n",
       "      <td>0</td>\n",
       "    </tr>\n",
       "    <tr>\n",
       "      <th>2012-12-31 07:00:00</th>\n",
       "      <td>1</td>\n",
       "      <td>0</td>\n",
       "      <td>1</td>\n",
       "      <td>-0.48</td>\n",
       "      <td>-4.0012</td>\n",
       "      <td>64</td>\n",
       "      <td>0.1343</td>\n",
       "      <td>2</td>\n",
       "      <td>83</td>\n",
       "      <td>85</td>\n",
       "      <td>0</td>\n",
       "      <td>0</td>\n",
       "      <td>0</td>\n",
       "    </tr>\n",
       "    <tr>\n",
       "      <th>2012-12-31 08:00:00</th>\n",
       "      <td>1</td>\n",
       "      <td>0</td>\n",
       "      <td>1</td>\n",
       "      <td>-1.42</td>\n",
       "      <td>-6.0010</td>\n",
       "      <td>69</td>\n",
       "      <td>0.1343</td>\n",
       "      <td>9</td>\n",
       "      <td>187</td>\n",
       "      <td>196</td>\n",
       "      <td>0</td>\n",
       "      <td>0</td>\n",
       "      <td>0</td>\n",
       "    </tr>\n",
       "    <tr>\n",
       "      <th>2012-12-31 09:00:00</th>\n",
       "      <td>1</td>\n",
       "      <td>0</td>\n",
       "      <td>1</td>\n",
       "      <td>0.46</td>\n",
       "      <td>-2.0014</td>\n",
       "      <td>64</td>\n",
       "      <td>0.1045</td>\n",
       "      <td>13</td>\n",
       "      <td>144</td>\n",
       "      <td>157</td>\n",
       "      <td>1</td>\n",
       "      <td>0</td>\n",
       "      <td>0</td>\n",
       "    </tr>\n",
       "    <tr>\n",
       "      <th>2012-12-31 10:00:00</th>\n",
       "      <td>1</td>\n",
       "      <td>0</td>\n",
       "      <td>1</td>\n",
       "      <td>1.40</td>\n",
       "      <td>-2.0014</td>\n",
       "      <td>69</td>\n",
       "      <td>0.1343</td>\n",
       "      <td>33</td>\n",
       "      <td>87</td>\n",
       "      <td>120</td>\n",
       "      <td>1</td>\n",
       "      <td>0</td>\n",
       "      <td>0</td>\n",
       "    </tr>\n",
       "    <tr>\n",
       "      <th>2012-12-31 11:00:00</th>\n",
       "      <td>1</td>\n",
       "      <td>0</td>\n",
       "      <td>1</td>\n",
       "      <td>2.34</td>\n",
       "      <td>-0.9982</td>\n",
       "      <td>60</td>\n",
       "      <td>0.1940</td>\n",
       "      <td>43</td>\n",
       "      <td>114</td>\n",
       "      <td>157</td>\n",
       "      <td>1</td>\n",
       "      <td>0</td>\n",
       "      <td>0</td>\n",
       "    </tr>\n",
       "    <tr>\n",
       "      <th>2012-12-31 12:00:00</th>\n",
       "      <td>1</td>\n",
       "      <td>0</td>\n",
       "      <td>1</td>\n",
       "      <td>3.28</td>\n",
       "      <td>-0.9982</td>\n",
       "      <td>56</td>\n",
       "      <td>0.1940</td>\n",
       "      <td>52</td>\n",
       "      <td>172</td>\n",
       "      <td>224</td>\n",
       "      <td>1</td>\n",
       "      <td>0</td>\n",
       "      <td>0</td>\n",
       "    </tr>\n",
       "    <tr>\n",
       "      <th>2012-12-31 13:00:00</th>\n",
       "      <td>1</td>\n",
       "      <td>0</td>\n",
       "      <td>1</td>\n",
       "      <td>4.22</td>\n",
       "      <td>1.0016</td>\n",
       "      <td>44</td>\n",
       "      <td>0.1642</td>\n",
       "      <td>38</td>\n",
       "      <td>165</td>\n",
       "      <td>203</td>\n",
       "      <td>1</td>\n",
       "      <td>0</td>\n",
       "      <td>0</td>\n",
       "    </tr>\n",
       "    <tr>\n",
       "      <th>2012-12-31 14:00:00</th>\n",
       "      <td>1</td>\n",
       "      <td>0</td>\n",
       "      <td>1</td>\n",
       "      <td>5.16</td>\n",
       "      <td>1.9982</td>\n",
       "      <td>45</td>\n",
       "      <td>0.2239</td>\n",
       "      <td>62</td>\n",
       "      <td>185</td>\n",
       "      <td>247</td>\n",
       "      <td>1</td>\n",
       "      <td>0</td>\n",
       "      <td>0</td>\n",
       "    </tr>\n",
       "    <tr>\n",
       "      <th>2012-12-31 15:00:00</th>\n",
       "      <td>1</td>\n",
       "      <td>0</td>\n",
       "      <td>1</td>\n",
       "      <td>5.16</td>\n",
       "      <td>3.0014</td>\n",
       "      <td>45</td>\n",
       "      <td>0.1343</td>\n",
       "      <td>69</td>\n",
       "      <td>246</td>\n",
       "      <td>315</td>\n",
       "      <td>1</td>\n",
       "      <td>0</td>\n",
       "      <td>0</td>\n",
       "    </tr>\n",
       "    <tr>\n",
       "      <th>2012-12-31 16:00:00</th>\n",
       "      <td>1</td>\n",
       "      <td>0</td>\n",
       "      <td>1</td>\n",
       "      <td>4.22</td>\n",
       "      <td>1.0016</td>\n",
       "      <td>48</td>\n",
       "      <td>0.1940</td>\n",
       "      <td>30</td>\n",
       "      <td>184</td>\n",
       "      <td>214</td>\n",
       "      <td>1</td>\n",
       "      <td>0</td>\n",
       "      <td>0</td>\n",
       "    </tr>\n",
       "    <tr>\n",
       "      <th>2012-12-31 17:00:00</th>\n",
       "      <td>1</td>\n",
       "      <td>0</td>\n",
       "      <td>1</td>\n",
       "      <td>4.22</td>\n",
       "      <td>3.0014</td>\n",
       "      <td>48</td>\n",
       "      <td>0.0896</td>\n",
       "      <td>14</td>\n",
       "      <td>150</td>\n",
       "      <td>164</td>\n",
       "      <td>1</td>\n",
       "      <td>0</td>\n",
       "      <td>0</td>\n",
       "    </tr>\n",
       "    <tr>\n",
       "      <th>2012-12-31 18:00:00</th>\n",
       "      <td>1</td>\n",
       "      <td>0</td>\n",
       "      <td>1</td>\n",
       "      <td>4.22</td>\n",
       "      <td>1.9982</td>\n",
       "      <td>48</td>\n",
       "      <td>0.1343</td>\n",
       "      <td>10</td>\n",
       "      <td>112</td>\n",
       "      <td>122</td>\n",
       "      <td>1</td>\n",
       "      <td>0</td>\n",
       "      <td>0</td>\n",
       "    </tr>\n",
       "    <tr>\n",
       "      <th>2012-12-31 19:00:00</th>\n",
       "      <td>1</td>\n",
       "      <td>0</td>\n",
       "      <td>1</td>\n",
       "      <td>4.22</td>\n",
       "      <td>1.0016</td>\n",
       "      <td>60</td>\n",
       "      <td>0.1642</td>\n",
       "      <td>11</td>\n",
       "      <td>108</td>\n",
       "      <td>119</td>\n",
       "      <td>1</td>\n",
       "      <td>0</td>\n",
       "      <td>0</td>\n",
       "    </tr>\n",
       "    <tr>\n",
       "      <th>2012-12-31 20:00:00</th>\n",
       "      <td>1</td>\n",
       "      <td>0</td>\n",
       "      <td>1</td>\n",
       "      <td>4.22</td>\n",
       "      <td>1.0016</td>\n",
       "      <td>60</td>\n",
       "      <td>0.1642</td>\n",
       "      <td>8</td>\n",
       "      <td>81</td>\n",
       "      <td>89</td>\n",
       "      <td>1</td>\n",
       "      <td>0</td>\n",
       "      <td>0</td>\n",
       "    </tr>\n",
       "    <tr>\n",
       "      <th>2012-12-31 21:00:00</th>\n",
       "      <td>1</td>\n",
       "      <td>0</td>\n",
       "      <td>1</td>\n",
       "      <td>4.22</td>\n",
       "      <td>1.0016</td>\n",
       "      <td>60</td>\n",
       "      <td>0.1642</td>\n",
       "      <td>7</td>\n",
       "      <td>83</td>\n",
       "      <td>90</td>\n",
       "      <td>0</td>\n",
       "      <td>0</td>\n",
       "      <td>0</td>\n",
       "    </tr>\n",
       "    <tr>\n",
       "      <th>2012-12-31 22:00:00</th>\n",
       "      <td>1</td>\n",
       "      <td>0</td>\n",
       "      <td>1</td>\n",
       "      <td>4.22</td>\n",
       "      <td>1.9982</td>\n",
       "      <td>56</td>\n",
       "      <td>0.1343</td>\n",
       "      <td>13</td>\n",
       "      <td>48</td>\n",
       "      <td>61</td>\n",
       "      <td>0</td>\n",
       "      <td>0</td>\n",
       "      <td>0</td>\n",
       "    </tr>\n",
       "    <tr>\n",
       "      <th>2012-12-31 23:00:00</th>\n",
       "      <td>1</td>\n",
       "      <td>0</td>\n",
       "      <td>1</td>\n",
       "      <td>4.22</td>\n",
       "      <td>1.9982</td>\n",
       "      <td>65</td>\n",
       "      <td>0.1343</td>\n",
       "      <td>12</td>\n",
       "      <td>37</td>\n",
       "      <td>49</td>\n",
       "      <td>0</td>\n",
       "      <td>0</td>\n",
       "      <td>0</td>\n",
       "    </tr>\n",
       "  </tbody>\n",
       "</table>\n",
       "<p>17379 rows × 13 columns</p>\n",
       "</div>"
      ],
      "text/plain": [
       "                     season_num  is_holiday  is_workingday  temp_celsius  \\\n",
       "datetime                                                                   \n",
       "2011-01-01 00:00:00           1           0              0          3.28   \n",
       "2011-01-01 01:00:00           1           0              0          2.34   \n",
       "2011-01-01 02:00:00           1           0              0          2.34   \n",
       "2011-01-01 03:00:00           1           0              0          3.28   \n",
       "2011-01-01 04:00:00           1           0              0          3.28   \n",
       "2011-01-01 05:00:00           1           0              0          3.28   \n",
       "2011-01-01 06:00:00           1           0              0          2.34   \n",
       "2011-01-01 07:00:00           1           0              0          1.40   \n",
       "2011-01-01 08:00:00           1           0              0          3.28   \n",
       "2011-01-01 09:00:00           1           0              0          7.04   \n",
       "2011-01-01 10:00:00           1           0              0          9.86   \n",
       "2011-01-01 11:00:00           1           0              0          8.92   \n",
       "2011-01-01 12:00:00           1           0              0         11.74   \n",
       "2011-01-01 13:00:00           1           0              0         13.62   \n",
       "2011-01-01 14:00:00           1           0              0         13.62   \n",
       "2011-01-01 15:00:00           1           0              0         12.68   \n",
       "2011-01-01 16:00:00           1           0              0         11.74   \n",
       "2011-01-01 17:00:00           1           0              0         12.68   \n",
       "2011-01-01 18:00:00           1           0              0         11.74   \n",
       "2011-01-01 19:00:00           1           0              0         11.74   \n",
       "2011-01-01 20:00:00           1           0              0         10.80   \n",
       "2011-01-01 21:00:00           1           0              0         10.80   \n",
       "2011-01-01 22:00:00           1           0              0         10.80   \n",
       "2011-01-01 23:00:00           1           0              0         13.62   \n",
       "2011-01-02 00:00:00           1           0              0         13.62   \n",
       "2011-01-02 01:00:00           1           0              0         12.68   \n",
       "2011-01-02 02:00:00           1           0              0         11.74   \n",
       "2011-01-02 03:00:00           1           0              0         13.62   \n",
       "2011-01-02 04:00:00           1           0              0         13.62   \n",
       "2011-01-02 06:00:00           1           0              0         11.74   \n",
       "...                         ...         ...            ...           ...   \n",
       "2012-12-30 18:00:00           1           0              0          3.28   \n",
       "2012-12-30 19:00:00           1           0              0          7.98   \n",
       "2012-12-30 20:00:00           1           0              0          2.34   \n",
       "2012-12-30 21:00:00           1           0              0          1.40   \n",
       "2012-12-30 22:00:00           1           0              0          1.40   \n",
       "2012-12-30 23:00:00           1           0              0          1.40   \n",
       "2012-12-31 00:00:00           1           0              1          0.46   \n",
       "2012-12-31 01:00:00           1           0              1          0.46   \n",
       "2012-12-31 02:00:00           1           0              1         -0.48   \n",
       "2012-12-31 03:00:00           1           0              1         -0.48   \n",
       "2012-12-31 04:00:00           1           0              1         -1.42   \n",
       "2012-12-31 05:00:00           1           0              1         -0.48   \n",
       "2012-12-31 06:00:00           1           0              1         -0.48   \n",
       "2012-12-31 07:00:00           1           0              1         -0.48   \n",
       "2012-12-31 08:00:00           1           0              1         -1.42   \n",
       "2012-12-31 09:00:00           1           0              1          0.46   \n",
       "2012-12-31 10:00:00           1           0              1          1.40   \n",
       "2012-12-31 11:00:00           1           0              1          2.34   \n",
       "2012-12-31 12:00:00           1           0              1          3.28   \n",
       "2012-12-31 13:00:00           1           0              1          4.22   \n",
       "2012-12-31 14:00:00           1           0              1          5.16   \n",
       "2012-12-31 15:00:00           1           0              1          5.16   \n",
       "2012-12-31 16:00:00           1           0              1          4.22   \n",
       "2012-12-31 17:00:00           1           0              1          4.22   \n",
       "2012-12-31 18:00:00           1           0              1          4.22   \n",
       "2012-12-31 19:00:00           1           0              1          4.22   \n",
       "2012-12-31 20:00:00           1           0              1          4.22   \n",
       "2012-12-31 21:00:00           1           0              1          4.22   \n",
       "2012-12-31 22:00:00           1           0              1          4.22   \n",
       "2012-12-31 23:00:00           1           0              1          4.22   \n",
       "\n",
       "                     atemp_celsius  humidity_percent  windspeed_knots  \\\n",
       "datetime                                                                \n",
       "2011-01-01 00:00:00         3.0014                81           0.0000   \n",
       "2011-01-01 01:00:00         1.9982                80           0.0000   \n",
       "2011-01-01 02:00:00         1.9982                80           0.0000   \n",
       "2011-01-01 03:00:00         3.0014                75           0.0000   \n",
       "2011-01-01 04:00:00         3.0014                75           0.0000   \n",
       "2011-01-01 05:00:00         1.0016                75           0.0896   \n",
       "2011-01-01 06:00:00         1.9982                80           0.0000   \n",
       "2011-01-01 07:00:00         1.0016                86           0.0000   \n",
       "2011-01-01 08:00:00         3.0014                75           0.0000   \n",
       "2011-01-01 09:00:00         7.0010                76           0.0000   \n",
       "2011-01-01 10:00:00         9.9974                76           0.2537   \n",
       "2011-01-01 11:00:00         5.9978                81           0.2836   \n",
       "2011-01-01 12:00:00        11.9972                77           0.2836   \n",
       "2011-01-01 13:00:00        13.9970                72           0.2985   \n",
       "2011-01-01 14:00:00        13.9970                72           0.2836   \n",
       "2011-01-01 15:00:00        13.0004                77           0.2985   \n",
       "2011-01-01 16:00:00        11.9972                82           0.2985   \n",
       "2011-01-01 17:00:00        13.0004                82           0.2836   \n",
       "2011-01-01 18:00:00        11.9972                88           0.2537   \n",
       "2011-01-01 19:00:00        11.9972                88           0.2537   \n",
       "2011-01-01 20:00:00        11.0006                87           0.2537   \n",
       "2011-01-01 21:00:00        11.0006                87           0.1940   \n",
       "2011-01-01 22:00:00        11.0006                94           0.2239   \n",
       "2011-01-01 23:00:00        13.9970                88           0.2985   \n",
       "2011-01-02 00:00:00        13.9970                88           0.2985   \n",
       "2011-01-02 01:00:00        13.0004                94           0.2537   \n",
       "2011-01-02 02:00:00        11.9972               100           0.2836   \n",
       "2011-01-02 03:00:00        13.9970                94           0.1940   \n",
       "2011-01-02 04:00:00        13.9970                94           0.1940   \n",
       "2011-01-02 06:00:00        11.9972                77           0.2985   \n",
       "...                            ...               ...              ...   \n",
       "2012-12-30 18:00:00        -2.0014                44           0.2985   \n",
       "2012-12-30 19:00:00         7.9976                61           0.0000   \n",
       "2012-12-30 20:00:00        -2.9980                47           0.3284   \n",
       "2012-12-30 21:00:00        -2.0014                51           0.1642   \n",
       "2012-12-30 22:00:00        -2.9980                55           0.1940   \n",
       "2012-12-30 23:00:00        -2.9980                51           0.2239   \n",
       "2012-12-31 00:00:00        -4.0012                55           0.1940   \n",
       "2012-12-31 01:00:00        -4.0012                55           0.1940   \n",
       "2012-12-31 02:00:00        -4.9978                59           0.1642   \n",
       "2012-12-31 03:00:00        -4.0012                59           0.1045   \n",
       "2012-12-31 04:00:00        -4.9978                69           0.1045   \n",
       "2012-12-31 05:00:00        -6.0010                64           0.1940   \n",
       "2012-12-31 06:00:00        -4.9978                64           0.1642   \n",
       "2012-12-31 07:00:00        -4.0012                64           0.1343   \n",
       "2012-12-31 08:00:00        -6.0010                69           0.1343   \n",
       "2012-12-31 09:00:00        -2.0014                64           0.1045   \n",
       "2012-12-31 10:00:00        -2.0014                69           0.1343   \n",
       "2012-12-31 11:00:00        -0.9982                60           0.1940   \n",
       "2012-12-31 12:00:00        -0.9982                56           0.1940   \n",
       "2012-12-31 13:00:00         1.0016                44           0.1642   \n",
       "2012-12-31 14:00:00         1.9982                45           0.2239   \n",
       "2012-12-31 15:00:00         3.0014                45           0.1343   \n",
       "2012-12-31 16:00:00         1.0016                48           0.1940   \n",
       "2012-12-31 17:00:00         3.0014                48           0.0896   \n",
       "2012-12-31 18:00:00         1.9982                48           0.1343   \n",
       "2012-12-31 19:00:00         1.0016                60           0.1642   \n",
       "2012-12-31 20:00:00         1.0016                60           0.1642   \n",
       "2012-12-31 21:00:00         1.0016                60           0.1642   \n",
       "2012-12-31 22:00:00         1.9982                56           0.1343   \n",
       "2012-12-31 23:00:00         1.9982                65           0.1343   \n",
       "\n",
       "                     num_casual_users  num_registered_users  num_total_users  \\\n",
       "datetime                                                                       \n",
       "2011-01-01 00:00:00                 3                    13               16   \n",
       "2011-01-01 01:00:00                 8                    32               40   \n",
       "2011-01-01 02:00:00                 5                    27               32   \n",
       "2011-01-01 03:00:00                 3                    10               13   \n",
       "2011-01-01 04:00:00                 0                     1                1   \n",
       "2011-01-01 05:00:00                 0                     1                1   \n",
       "2011-01-01 06:00:00                 2                     0                2   \n",
       "2011-01-01 07:00:00                 1                     2                3   \n",
       "2011-01-01 08:00:00                 1                     7                8   \n",
       "2011-01-01 09:00:00                 8                     6               14   \n",
       "2011-01-01 10:00:00                12                    24               36   \n",
       "2011-01-01 11:00:00                26                    30               56   \n",
       "2011-01-01 12:00:00                29                    55               84   \n",
       "2011-01-01 13:00:00                47                    47               94   \n",
       "2011-01-01 14:00:00                35                    71              106   \n",
       "2011-01-01 15:00:00                40                    70              110   \n",
       "2011-01-01 16:00:00                41                    52               93   \n",
       "2011-01-01 17:00:00                15                    52               67   \n",
       "2011-01-01 18:00:00                 9                    26               35   \n",
       "2011-01-01 19:00:00                 6                    31               37   \n",
       "2011-01-01 20:00:00                11                    25               36   \n",
       "2011-01-01 21:00:00                 3                    31               34   \n",
       "2011-01-01 22:00:00                11                    17               28   \n",
       "2011-01-01 23:00:00                15                    24               39   \n",
       "2011-01-02 00:00:00                 4                    13               17   \n",
       "2011-01-02 01:00:00                 1                    16               17   \n",
       "2011-01-02 02:00:00                 1                     8                9   \n",
       "2011-01-02 03:00:00                 2                     4                6   \n",
       "2011-01-02 04:00:00                 2                     1                3   \n",
       "2011-01-02 06:00:00                 0                     2                2   \n",
       "...                               ...                   ...              ...   \n",
       "2012-12-30 18:00:00                12                   113              125   \n",
       "2012-12-30 19:00:00                16                    86              102   \n",
       "2012-12-30 20:00:00                 9                    63               72   \n",
       "2012-12-30 21:00:00                 5                    42               47   \n",
       "2012-12-30 22:00:00                 6                    30               36   \n",
       "2012-12-30 23:00:00                10                    39               49   \n",
       "2012-12-31 00:00:00                 4                    30               34   \n",
       "2012-12-31 01:00:00                 6                    13               19   \n",
       "2012-12-31 02:00:00                 3                     8               11   \n",
       "2012-12-31 03:00:00                 0                     1                1   \n",
       "2012-12-31 04:00:00                 0                     3                3   \n",
       "2012-12-31 05:00:00                 0                     9                9   \n",
       "2012-12-31 06:00:00                 0                    40               40   \n",
       "2012-12-31 07:00:00                 2                    83               85   \n",
       "2012-12-31 08:00:00                 9                   187              196   \n",
       "2012-12-31 09:00:00                13                   144              157   \n",
       "2012-12-31 10:00:00                33                    87              120   \n",
       "2012-12-31 11:00:00                43                   114              157   \n",
       "2012-12-31 12:00:00                52                   172              224   \n",
       "2012-12-31 13:00:00                38                   165              203   \n",
       "2012-12-31 14:00:00                62                   185              247   \n",
       "2012-12-31 15:00:00                69                   246              315   \n",
       "2012-12-31 16:00:00                30                   184              214   \n",
       "2012-12-31 17:00:00                14                   150              164   \n",
       "2012-12-31 18:00:00                10                   112              122   \n",
       "2012-12-31 19:00:00                11                   108              119   \n",
       "2012-12-31 20:00:00                 8                    81               89   \n",
       "2012-12-31 21:00:00                 7                    83               90   \n",
       "2012-12-31 22:00:00                13                    48               61   \n",
       "2012-12-31 23:00:00                12                    37               49   \n",
       "\n",
       "                     weather_2  weather_3  weather_4  \n",
       "datetime                                              \n",
       "2011-01-01 00:00:00          0          0          0  \n",
       "2011-01-01 01:00:00          0          0          0  \n",
       "2011-01-01 02:00:00          0          0          0  \n",
       "2011-01-01 03:00:00          0          0          0  \n",
       "2011-01-01 04:00:00          0          0          0  \n",
       "2011-01-01 05:00:00          1          0          0  \n",
       "2011-01-01 06:00:00          0          0          0  \n",
       "2011-01-01 07:00:00          0          0          0  \n",
       "2011-01-01 08:00:00          0          0          0  \n",
       "2011-01-01 09:00:00          0          0          0  \n",
       "2011-01-01 10:00:00          0          0          0  \n",
       "2011-01-01 11:00:00          0          0          0  \n",
       "2011-01-01 12:00:00          0          0          0  \n",
       "2011-01-01 13:00:00          1          0          0  \n",
       "2011-01-01 14:00:00          1          0          0  \n",
       "2011-01-01 15:00:00          1          0          0  \n",
       "2011-01-01 16:00:00          1          0          0  \n",
       "2011-01-01 17:00:00          1          0          0  \n",
       "2011-01-01 18:00:00          0          1          0  \n",
       "2011-01-01 19:00:00          0          1          0  \n",
       "2011-01-01 20:00:00          1          0          0  \n",
       "2011-01-01 21:00:00          1          0          0  \n",
       "2011-01-01 22:00:00          1          0          0  \n",
       "2011-01-01 23:00:00          1          0          0  \n",
       "2011-01-02 00:00:00          1          0          0  \n",
       "2011-01-02 01:00:00          1          0          0  \n",
       "2011-01-02 02:00:00          1          0          0  \n",
       "2011-01-02 03:00:00          1          0          0  \n",
       "2011-01-02 04:00:00          1          0          0  \n",
       "2011-01-02 06:00:00          0          1          0  \n",
       "...                        ...        ...        ...  \n",
       "2012-12-30 18:00:00          1          0          0  \n",
       "2012-12-30 19:00:00          0          0          0  \n",
       "2012-12-30 20:00:00          0          0          0  \n",
       "2012-12-30 21:00:00          0          0          0  \n",
       "2012-12-30 22:00:00          0          0          0  \n",
       "2012-12-30 23:00:00          0          0          0  \n",
       "2012-12-31 00:00:00          0          0          0  \n",
       "2012-12-31 01:00:00          0          0          0  \n",
       "2012-12-31 02:00:00          0          0          0  \n",
       "2012-12-31 03:00:00          0          0          0  \n",
       "2012-12-31 04:00:00          0          0          0  \n",
       "2012-12-31 05:00:00          0          0          0  \n",
       "2012-12-31 06:00:00          0          0          0  \n",
       "2012-12-31 07:00:00          0          0          0  \n",
       "2012-12-31 08:00:00          0          0          0  \n",
       "2012-12-31 09:00:00          1          0          0  \n",
       "2012-12-31 10:00:00          1          0          0  \n",
       "2012-12-31 11:00:00          1          0          0  \n",
       "2012-12-31 12:00:00          1          0          0  \n",
       "2012-12-31 13:00:00          1          0          0  \n",
       "2012-12-31 14:00:00          1          0          0  \n",
       "2012-12-31 15:00:00          1          0          0  \n",
       "2012-12-31 16:00:00          1          0          0  \n",
       "2012-12-31 17:00:00          1          0          0  \n",
       "2012-12-31 18:00:00          1          0          0  \n",
       "2012-12-31 19:00:00          1          0          0  \n",
       "2012-12-31 20:00:00          1          0          0  \n",
       "2012-12-31 21:00:00          0          0          0  \n",
       "2012-12-31 22:00:00          0          0          0  \n",
       "2012-12-31 23:00:00          0          0          0  \n",
       "\n",
       "[17379 rows x 13 columns]"
      ]
     },
     "execution_count": 56,
     "metadata": {},
     "output_type": "execute_result"
    }
   ],
   "source": [
    "# /scrub/\n",
    "pd.get_dummies(bikes, columns=['weather']).drop('weather_1', axis=1)"
   ]
  },
  {
   "cell_type": "markdown",
   "metadata": {},
   "source": [
    "- How many dummy variables do you need for a categorical feature with $k$ possible values? Why?"
   ]
  },
  {
   "cell_type": "markdown",
   "metadata": {},
   "source": [
    "/scrub/\n",
    "\n",
    "You need $k-1$; an item much have the $k$th value when all of the $k-1$ dummies are $0$, so a dummy for that value is redundant."
   ]
  },
  {
   "cell_type": "markdown",
   "metadata": {},
   "source": [
    "#### Rerun the linear regression with dummy variables included."
   ]
  },
  {
   "cell_type": "code",
   "execution_count": 57,
   "metadata": {
    "scrolled": true
   },
   "outputs": [
    {
     "data": {
      "text/plain": [
       "[('temp_celsius', 9.714196612481729),\n",
       " ('spring', -1.9124011354723611),\n",
       " ('summer', -46.36562685353603),\n",
       " ('fall', 55.50188731518347),\n",
       " ('humidity_percent', -2.8406865326033417)]"
      ]
     },
     "execution_count": 57,
     "metadata": {},
     "output_type": "execute_result"
    }
   ],
   "source": [
    "# Include dummy variables for season_num in the model.\n",
    "# /scrub/\n",
    "dummies = pd.get_dummies(bikes, columns=['season_num']).drop('season_num_1', axis=1)\n",
    "dummies.rename(columns={'season_num_2': 'spring', 'season_num_3': 'summer', 'season_num_4': 'fall'},\n",
    "               inplace=True)\n",
    "feature_cols = ['temp_celsius', 'spring', 'summer', 'fall', 'humidity_percent']\n",
    "X = dummies.loc[:, feature_cols]\n",
    "y = dummies.loc[:, 'num_total_users']\n",
    "\n",
    "linreg = LinearRegression()\n",
    "linreg.fit(X, y)\n",
    "\n",
    "list(zip(feature_cols, linreg.coef_))"
   ]
  },
  {
   "cell_type": "markdown",
   "metadata": {},
   "source": [
    "**Exercise.**"
   ]
  },
  {
   "cell_type": "markdown",
   "metadata": {},
   "source": [
    "- What does the coefficient for summer mean?"
   ]
  },
  {
   "cell_type": "markdown",
   "metadata": {},
   "source": [
    "/scrub/\n",
    "\n",
    "Holding all other features fixed, summer is associated with a rental decrease of 46.37 bikes compared to the winter."
   ]
  },
  {
   "cell_type": "markdown",
   "metadata": {},
   "source": [
    "- Huh? How can we get a coefficient of -46.37 in summer, the most popular season?"
   ]
  },
  {
   "cell_type": "markdown",
   "metadata": {},
   "source": [
    "/scrub/\n",
    "\n",
    "The key is *holding all other features fixed*. Temp and humidity are already included in our model. Colinearity is complicating the interpretation of these coefficients. INTERPRETING LINEAR REGRESSION MODEL COEFFICIENTS IS TEMPTING BUT DANGEROUS."
   ]
  },
  {
   "cell_type": "markdown",
   "metadata": {},
   "source": [
    "- Would our model's predictions change if we dropped a different dummy column for season?"
   ]
  },
  {
   "cell_type": "markdown",
   "metadata": {},
   "source": [
    "/scrub/\n",
    "\n",
    "No. The same predictions minimize MSE on the training data regardless of which set of columns you use, so the linear regression fitting procedure will find the coefficients that yield those same predictions regardless of which set of columns you use."
   ]
  },
  {
   "cell_type": "markdown",
   "metadata": {},
   "source": [
    "- Use train_test_rmse to compare the performance of a model with `temp_celsius`, `season_num`, and `humidity_percent` to one that replaces `season_num` with its dummies."
   ]
  },
  {
   "cell_type": "code",
   "execution_count": 58,
   "metadata": {},
   "outputs": [
    {
     "name": "stdout",
     "output_type": "stream",
     "text": [
      "158.05455276955826\n",
      "156.63025984150593\n"
     ]
    }
   ],
   "source": [
    "# /scrub/\n",
    "print(train_test_rmse(bikes, ['temp_celsius', 'season_num', 'humidity_percent']))\n",
    "print(train_test_rmse(dummies, ['temp_celsius', 'spring', 'summer', 'fall', 'humidity_percent']))"
   ]
  },
  {
   "cell_type": "markdown",
   "metadata": {},
   "source": [
    "<a id=\"feature-engineering\"></a>\n",
    "**Exercise**\n",
    "\n",
    "See if you can create the following features:\n",
    "\n",
    "- **hour:** as a single numeric feature (0 through 23)\n",
    "- **hour:** as a categorical feature (use 23 dummy variables)\n",
    "- **daytime:** as a single categorical feature (daytime=1 from 7 a.m. to 8 p.m., and daytime=0 otherwise)\n",
    "\n",
    "Then, try using each of the three features (on its own) with `train_test_rmse` to see which one performs the best!"
   ]
  },
  {
   "cell_type": "code",
   "execution_count": 59,
   "metadata": {
    "collapsed": true
   },
   "outputs": [],
   "source": [
    "# /scrub/\n",
    "bikes.loc[:, 'hour'] = bikes.index.hour"
   ]
  },
  {
   "cell_type": "code",
   "execution_count": 60,
   "metadata": {
    "collapsed": true
   },
   "outputs": [],
   "source": [
    "# /scrub/\n",
    "hour_dummies = pd.get_dummies(bikes.loc[:, 'hour'], prefix='hour')\n",
    "bikes = pd.concat([bikes, hour_dummies], axis=1)"
   ]
  },
  {
   "cell_type": "code",
   "execution_count": 61,
   "metadata": {
    "collapsed": true
   },
   "outputs": [],
   "source": [
    "# /scrub/\n",
    "bikes.loc[:, 'daytime'] = ((bikes.loc[:, 'hour'] > 6) & (bikes.loc[:, 'hour'] < 21)).astype(int)"
   ]
  },
  {
   "cell_type": "code",
   "execution_count": 62,
   "metadata": {
    "scrolled": true
   },
   "outputs": [
    {
     "name": "stdout",
     "output_type": "stream",
     "text": [
      "168.89021556336135\n",
      "128.89880058068516\n",
      "147.17868346235284\n"
     ]
    }
   ],
   "source": [
    "# /scrub/\n",
    "\n",
    "print(train_test_rmse(bikes, ['hour']))\n",
    "print(train_test_rmse(bikes, bikes.columns[bikes.columns.str.startswith('hour_')]))\n",
    "print(train_test_rmse(bikes, ['daytime']))"
   ]
  },
  {
   "cell_type": "markdown",
   "metadata": {},
   "source": [
    "<a id=\"bonus-material-regularization\"></a>\n",
    "## Bonus Material: Regularization\n",
    "---"
   ]
  },
  {
   "cell_type": "markdown",
   "metadata": {},
   "source": [
    "- Overly complicated models don't generalize well.\n",
    "- One way to reduce model complexity is to use fewer features.\n",
    "- Another way is to incorporate a penalty for coefficient size."
   ]
  },
  {
   "cell_type": "markdown",
   "metadata": {},
   "source": [
    "<a id=\"how-does-regularization-work\"></a>\n",
    "### How Does Regularization Work?\n",
    "\n",
    "For a normal linear regression model, we estimate the coefficients using the least squares criterion, which minimizes the residual sum of squares (RSS)."
   ]
  },
  {
   "cell_type": "markdown",
   "metadata": {},
   "source": [
    "For a regularized linear regression model, we minimize the sum of MSE and a \"penalty term\" that penalizes coefficient size.\n",
    "\n",
    "**Ridge regression** (or \"L2 regularization\") minimizes: $$\\mbox{MSE} + \\alpha \\sum_{j=1}^p \\beta_j^2$$\n",
    "\n",
    "**Lasso regression** (or \"L1 regularization\") minimizes: $$\\text{Mse} + \\alpha \\sum_{j=1}^p |\\beta_j|$$\n",
    "\n",
    "- $p$ is the number of features.\n",
    "- $\\beta_j$ is a model coefficient.\n",
    "- $\\alpha$ is a tuning parameter:\n",
    "    - A tiny $\\alpha$ imposes no penalty on the coefficient size, and is equivalent to a normal linear regression model.\n",
    "    - Increasing the $\\alpha$ penalizes the coefficients and thus shrinks them."
   ]
  },
  {
   "cell_type": "markdown",
   "metadata": {},
   "source": [
    "<a id=\"lasso-and-ridge-path-diagrams\"></a>\n",
    "### Lasso and Ridge Path Diagrams\n",
    "\n",
    "A larger alpha (toward the left of each diagram) results in more regularization:\n",
    "\n",
    "- Lasso regression shrinks coefficients all the way to zero, thus removing them from the model.\n",
    "- Ridge regression shrinks coefficients toward zero, but they rarely reach zero.\n",
    "\n",
    "Source code for the diagrams: [Lasso regression](http://scikit-learn.org/stable/auto_examples/linear_model/plot_lasso_lars.html) and [Ridge regression](http://scikit-learn.org/stable/auto_examples/linear_model/plot_ridge_path.html)"
   ]
  },
  {
   "cell_type": "markdown",
   "metadata": {},
   "source": [
    "![Lasso and Ridge Coefficient Plots](../assets/lasso_ridge_path.png)"
   ]
  },
  {
   "cell_type": "markdown",
   "metadata": {},
   "source": [
    "<a id=\"advice-for-applying-regularization\"></a>\n",
    "### Advice for Applying Regularization\n",
    "\n",
    "**Standardize features (subtract mean and divide by standard deviation).**\n",
    "\n",
    "- Otherwise, features would be penalized simply because of their scale.\n",
    "- Avoids penalizing the intercept, which wouldn't make intuitive sense.\n",
    "\n",
    "**How should you choose between lasso regression and ridge regression?**\n",
    "\n",
    "- Lasso regression is preferred if we believe many features are irrelevant or if we prefer a sparse model.\n",
    "- Ridge can work particularly well if there is a high degree of multicollinearity in your model.\n",
    "- If model performance is your primary concern, it is best to try both.\n",
    "- Elastic net regression is a combination of lasso regression and ridge Regression."
   ]
  },
  {
   "cell_type": "markdown",
   "metadata": {},
   "source": [
    "<a id=\"ridge-regression\"></a>\n",
    "### Ridge Regression\n",
    "\n",
    "- [Ridge](http://scikit-learn.org/stable/modules/generated/sklearn.linear_model.Ridge.html) documentation\n",
    "- **alpha:** must be positive, increase for more regularization\n",
    "- **normalize:** scales the features (without using StandardScaler)"
   ]
  },
  {
   "cell_type": "code",
   "execution_count": 63,
   "metadata": {
    "collapsed": true
   },
   "outputs": [
    {
     "ename": "NameError",
     "evalue": "name 'bikes_dummies' is not defined",
     "output_type": "error",
     "traceback": [
      "\u001b[0;31m---------------------------------------------------------------------------\u001b[0m",
      "\u001b[0;31mNameError\u001b[0m                                 Traceback (most recent call last)",
      "\u001b[0;32m<ipython-input-63-7953c608411c>\u001b[0m in \u001b[0;36m<module>\u001b[0;34m()\u001b[0m\n\u001b[1;32m      1\u001b[0m \u001b[0;31m# Include dummy variables for season_num in the model.\u001b[0m\u001b[0;34m\u001b[0m\u001b[0;34m\u001b[0m\u001b[0m\n\u001b[1;32m      2\u001b[0m \u001b[0mfeature_cols\u001b[0m \u001b[0;34m=\u001b[0m \u001b[0;34m[\u001b[0m\u001b[0;34m'temp_celsius'\u001b[0m\u001b[0;34m,\u001b[0m \u001b[0;34m'atemp_celsius'\u001b[0m\u001b[0;34m,\u001b[0m \u001b[0;34m'spring'\u001b[0m\u001b[0;34m,\u001b[0m \u001b[0;34m'summer'\u001b[0m\u001b[0;34m,\u001b[0m \u001b[0;34m'fall'\u001b[0m\u001b[0;34m,\u001b[0m \u001b[0;34m'humidity_percent'\u001b[0m\u001b[0;34m]\u001b[0m\u001b[0;34m\u001b[0m\u001b[0m\n\u001b[0;32m----> 3\u001b[0;31m \u001b[0mX\u001b[0m \u001b[0;34m=\u001b[0m \u001b[0mbikes_dummies\u001b[0m\u001b[0;34m.\u001b[0m\u001b[0mloc\u001b[0m\u001b[0;34m[\u001b[0m\u001b[0;34m:\u001b[0m\u001b[0;34m,\u001b[0m \u001b[0mfeature_cols\u001b[0m\u001b[0;34m]\u001b[0m\u001b[0;34m\u001b[0m\u001b[0m\n\u001b[0m\u001b[1;32m      4\u001b[0m \u001b[0my\u001b[0m \u001b[0;34m=\u001b[0m \u001b[0mbikes_dummies\u001b[0m\u001b[0;34m.\u001b[0m\u001b[0mloc\u001b[0m\u001b[0;34m[\u001b[0m\u001b[0;34m:\u001b[0m\u001b[0;34m,\u001b[0m \u001b[0;34m'num_total_users'\u001b[0m\u001b[0;34m]\u001b[0m\u001b[0;34m\u001b[0m\u001b[0m\n",
      "\u001b[0;31mNameError\u001b[0m: name 'bikes_dummies' is not defined"
     ]
    }
   ],
   "source": [
    "# Include dummy variables for season_num in the model.\n",
    "feature_cols = ['temp_celsius', 'atemp_celsius', 'spring', 'summer', 'fall', 'humidity_percent']\n",
    "X = bikes_dummies.loc[:, feature_cols]\n",
    "y = bikes_dummies.loc[:, 'num_total_users']"
   ]
  },
  {
   "cell_type": "code",
   "execution_count": null,
   "metadata": {
    "collapsed": true
   },
   "outputs": [],
   "source": [
    "X_train, X_test, y_train, y_test = train_test_split(X, y, random_state=1)"
   ]
  },
  {
   "cell_type": "code",
   "execution_count": null,
   "metadata": {},
   "outputs": [],
   "source": [
    "# alpha=0 is equivalent to linear regression.\n",
    "from sklearn.linear_model import Ridge\n",
    "\n",
    "# Instantiate the model.\n",
    "#(Alpha of zero has no regularization strength, essentially a basic linear regression.)\n",
    "ridgereg = Ridge(alpha=0, normalize=True)\n",
    "\n",
    "# Fit the model.\n",
    "ridgereg.fit(X_train, y_train)\n",
    "\n",
    "# Predict with fitted model.\n",
    "y_pred = ridgereg.predict(X_test)\n",
    "print(np.sqrt(metrics.mean_squared_error(y_test, y_pred)))"
   ]
  },
  {
   "cell_type": "code",
   "execution_count": null,
   "metadata": {},
   "outputs": [],
   "source": [
    "# Coefficients for a non-regularized linear regression\n",
    "list(zip(feature_cols, ridgereg.coef_))"
   ]
  },
  {
   "cell_type": "markdown",
   "metadata": {},
   "source": [
    "To interpret these coefficients we need to convert them back to original units, which is a reason to do normalization by hand. However, in this form the coefficients have a special meaning. The intercept is now the average of our outcome, and the magnitude of each coefficient in the model is a measure of how important it is in the model. We call this feature importance."
   ]
  },
  {
   "cell_type": "code",
   "execution_count": null,
   "metadata": {},
   "outputs": [],
   "source": [
    "# Try alpha=0.1.\n",
    "ridgereg = Ridge(alpha=0.1, normalize=True)\n",
    "ridgereg.fit(X_train, y_train)\n",
    "y_pred = ridgereg.predict(X_test)\n",
    "print(np.sqrt(metrics.mean_squared_error(y_test, y_pred)))"
   ]
  },
  {
   "cell_type": "code",
   "execution_count": null,
   "metadata": {},
   "outputs": [],
   "source": [
    "# Examine the coefficients.\n",
    "list(zip(feature_cols, ridgereg.coef_))"
   ]
  },
  {
   "cell_type": "markdown",
   "metadata": {},
   "source": [
    "<a id=\"comparing-linear-regression-with-other-models\"></a>\n",
    "## Comparing Linear Regression With Other Models\n",
    "\n",
    "Advantages of linear regression:\n",
    "\n",
    "- Simple to explain.\n",
    "- Interpretable -- sort of.\n",
    "- Model training and prediction are fast.\n",
    "- No tuning is required (excluding regularization).\n",
    "- Features don't need scaling.\n",
    "- Can perform well with a small number of observations.\n",
    "- Well understood.\n",
    "\n",
    "Disadvantages of linear regression:\n",
    "\n",
    "- Presumes a linear relationship between the features and the response.\n",
    "- Performance is (generally) not competitive with the best supervised learning methods due to high bias.\n",
    "- Can't automatically learn feature interactions.\n",
    "- Easy to overinterpret."
   ]
  },
  {
   "cell_type": "markdown",
   "metadata": {},
   "source": [
    "# Projects\n",
    "\n",
    "Due Wed., May 16:\n",
    "\n",
    "- [Unit 2 Project](https://git.generalassemb.ly/chi-ds-8/unit2_project)\n",
    "- [Final Project Pt. 1](https://git.generalassemb.ly/chi-ds-8/final_project/blob/master/requirements.md#proposal)"
   ]
  },
  {
   "cell_type": "markdown",
   "metadata": {},
   "source": [
    "# Questions?"
   ]
  },
  {
   "cell_type": "markdown",
   "metadata": {},
   "source": [
    "# [Exit Tickets](https://docs.google.com/forms/d/1BW4rVsCx8Nzp3q2B7SQ_tL1xqKZr4GGoQ5qeZfayxh4/viewform?ts=5ad40144&edit_requested=true)"
   ]
  }
 ],
 "metadata": {
  "kernelspec": {
   "display_name": "Python 3",
   "language": "python",
   "name": "python3"
  },
  "language_info": {
   "codemirror_mode": {
    "name": "ipython",
    "version": 3
   },
   "file_extension": ".py",
   "mimetype": "text/x-python",
   "name": "python",
   "nbconvert_exporter": "python",
   "pygments_lexer": "ipython3",
   "version": "3.6.4"
  }
 },
 "nbformat": 4,
 "nbformat_minor": 2
}

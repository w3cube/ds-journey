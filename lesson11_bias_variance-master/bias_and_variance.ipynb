{
 "cells": [
  {
   "cell_type": "markdown",
   "metadata": {},
   "source": [
    "<img src=\"http://imgur.com/1ZcRyrc.png\" style=\"float: left; margin: 20px; height: 55px\">\n",
    "\n",
    "# Train/Test Split and Bias and Variance\n",
    "\n",
    "_Authors: Joseph Nelson (DC), Kevin Markham (DC)_\n",
    "\n",
    "---"
   ]
  },
  {
   "cell_type": "markdown",
   "metadata": {},
   "source": [
    "<a id=\"learning-objectives\"></a>\n",
    "<a id=\"learning-objectives\"></a>\n",
    "<a id=\"learning-objectives\"></a>\n",
    "### Learning Objectives\n",
    "- Characterize the difference between error due to bias and error due to variance.\n",
    "- Identify the bias-variance trade-off.\n",
    "- Describe what overfitting and underfitting means in the context of model building.\n",
    "- Explain problems associated with over- and underfitting.\n",
    "- Grasp why train/test split is necessary.\n",
    "- Explore k-folds, LOOCV, and three split methods."
   ]
  },
  {
   "cell_type": "markdown",
   "metadata": {},
   "source": [
    "# Bias"
   ]
  },
  {
   "cell_type": "markdown",
   "metadata": {},
   "source": [
    "Linear regression with one input feature finds the *line* that best fits the data. This is what you want if in fact $y = \\beta_0 + \\beta_1 * x + \\epsilon$, where $\\epsilon$ is normally distributed random noise.\n",
    "\n",
    "![](./assets/linear.png)"
   ]
  },
  {
   "cell_type": "markdown",
   "metadata": {},
   "source": [
    "But if, say, $y = \\beta_0 + \\beta_1 x + \\beta_2 x^2 +\\epsilon$, then \"the line that best fits the data\" is *not* what you want.\n",
    "\n",
    "![](./assets/quadratic.png)"
   ]
  },
  {
   "cell_type": "markdown",
   "metadata": {},
   "source": [
    "This difference between the kind of relationship a model can capture and the kind that exists in the underlying data-generating process (the \"true model\") is called **bias**."
   ]
  },
  {
   "cell_type": "markdown",
   "metadata": {},
   "source": [
    "Because it is due to a fundamentally mis-specified model, *bias doesn't go away as you collect more data.*"
   ]
  },
  {
   "cell_type": "markdown",
   "metadata": {},
   "source": [
    "# Variance"
   ]
  },
  {
   "cell_type": "markdown",
   "metadata": {},
   "source": [
    "One way to address bias is to make your model more flexible. For instance, a model that finds the best-fitting parabola $y = \\beta_0 + \\beta_1 X + \\beta_2 X^2$ can do everything a linear model can do (setting $\\beta_2=0$) and more, so it can only be better in terms of bias."
   ]
  },
  {
   "cell_type": "markdown",
   "metadata": {},
   "source": [
    "Why stop there? Why not $y = \\beta_0 + \\beta_1 X + \\beta_2 X^2 + \\beta_3 X^3 + \\beta_4 X^4 + \\beta_5 X^5 + \\beta_6 X^6 + \\beta_7 X^7 + \\beta_8 X^8$?"
   ]
  },
  {
   "cell_type": "markdown",
   "metadata": {},
   "source": [
    "The problem why this approach is that more flexible models are more sensitive to that random noise $\\epsilon$ in the data. They find \"patterns\" that aren't really there."
   ]
  },
  {
   "cell_type": "markdown",
   "metadata": {},
   "source": [
    "![](./assets/overfit.png)"
   ]
  },
  {
   "cell_type": "markdown",
   "metadata": {},
   "source": [
    "Because they are sensitive to random noise in the data, overly flexible models will give very different results on datasets that are drawn from the same distribution.\n",
    "\n",
    "![](./assets/overfit_side_by_side.png)"
   ]
  },
  {
   "cell_type": "markdown",
   "metadata": {},
   "source": [
    "For this reason, we say that overly flexible models have high **variance**."
   ]
  },
  {
   "cell_type": "markdown",
   "metadata": {},
   "source": [
    "As sample size increases, even a very flexible model will learn to distinguish between signal and noise. As a result, *model variance does go away as you collect more data*."
   ]
  },
  {
   "cell_type": "markdown",
   "metadata": {},
   "source": [
    "<a id=\"bias-and-variance-trade-off\"></a>\n",
    "## Bias-Variance Tradeoff\n",
    "\n",
    "**Exercise.** State whether each of the following changes you can make to a model would increase, decrease, or leave unchanged (1) model bias and (2) model variance, or whether its effect on those quantities cannot be determined from the information given."
   ]
  },
  {
   "cell_type": "markdown",
   "metadata": {},
   "source": [
    "- Include more of the variables that are given in your dataframe in your feature columns."
   ]
  },
  {
   "cell_type": "markdown",
   "metadata": {},
   "source": [
    "-- decrease model bias\n",
    "-- variance increases"
   ]
  },
  {
   "cell_type": "markdown",
   "metadata": {},
   "source": [
    "- Add the square of one of your feature columns as a new feature column."
   ]
  },
  {
   "cell_type": "markdown",
   "metadata": {},
   "source": [
    "-- decrease model bias\n",
    "-- variance increases"
   ]
  },
  {
   "cell_type": "markdown",
   "metadata": {},
   "source": [
    "- Replace one feature column with its logarithm."
   ]
  },
  {
   "cell_type": "markdown",
   "metadata": {},
   "source": [
    "depends which version of the variable is better fit the model"
   ]
  },
  {
   "cell_type": "markdown",
   "metadata": {},
   "source": [
    "- Collect more data."
   ]
  },
  {
   "cell_type": "markdown",
   "metadata": {},
   "source": [
    "-- decreases variance\n",
    "-- bias remains unchanged"
   ]
  },
  {
   "cell_type": "markdown",
   "metadata": {},
   "source": [
    "- Modify the procedure you use to fit your model so that instead of minimizing the sum of squared errors, it minimizes the sum of squared errors plus a penalty term that increases with the coefficients of the model. (This approach is an example of *regularization*.)"
   ]
  },
  {
   "cell_type": "markdown",
   "metadata": {},
   "source": [
    "-- u r making ur model less flexible\n",
    "-- bias goes up\n",
    "-- variance goes down"
   ]
  },
  {
   "cell_type": "markdown",
   "metadata": {},
   "source": [
    "- Instead of linear regression, use a *generative additive model* that can fit a variety of non-linear relationships between your features and your target variable as well as linear relationships."
   ]
  },
  {
   "cell_type": "markdown",
   "metadata": {},
   "source": [
    "-- made our mode more flexible\n",
    "-- mean decreasing bias\n",
    "-- increasing variance"
   ]
  },
  {
   "cell_type": "markdown",
   "metadata": {},
   "source": [
    "### Expressing bias and variance mathematically\n",
    "\n",
    "Assume that there is some function $f$ such that $y=f(X)+\\epsilon$ for a given input feature matrix $X$ and target variable $y$, where $\\epsilon$ is normally distributed with variance $\\sigma^2$. We will call this $f$ the \"true model\" for $y$ based on $X$. We will use $\\hat{f}(X)$ (\"$f$-hat of $X$\") to denote a particular model's predictions for $y$ given an input feature matrix $X$.\n",
    "\n",
    "Suppose you performed the following steps repeatedly: \n",
    "\n",
    "1. Draw a random sample of a given size from a particular data-generating process -- the \"training set.\"\n",
    "2. Fit a particular kind of model to that training set.\n",
    "3. Draw one additional point $X^*$ from the same data-generating process and calculate the squared error of the model's prediction on that point.\n",
    "\n",
    "The expected (long-run average) value of that squared error can be broken down into three components:\n",
    "\n",
    "$\\mbox{Expected Squared Error} = \\mbox{Bias}^2 + \\mbox{Variance} + \\mbox{Irreducible Error}$\n",
    "\n",
    "where\n",
    "- $\\mbox{Expected Squared Error} = E[(y-\\hat{f}(X^*))^2]$\n",
    "    - (expected squared difference between the target value and the model's prediction)\n",
    "- $\\mbox{Bias} = E[\\hat{f}(X^*) - f(X^*)]$\n",
    "    - (expected difference between a prediction from the model and a prediction from the true model)\n",
    "- $\\mbox{Variance} = E[(\\hat{f}(X^*) - E[\\hat{f}(X^*)])^2]$\n",
    "    - (expected squared difference between the model's prediction and its expected prediction)\n",
    "- $\\mbox{Irreducible Error} = \\sigma^2$\n",
    "    - (noise in the data-generating mechanism)"
   ]
  },
  {
   "cell_type": "markdown",
   "metadata": {},
   "source": [
    "### Example"
   ]
  },
  {
   "cell_type": "markdown",
   "metadata": {},
   "source": [
    "Suppose you build a linear model to predict the weights of golden retrievers when they are one year old based on their weights when they are seven weeks old."
   ]
  },
  {
   "cell_type": "markdown",
   "metadata": {},
   "source": [
    "**Bias:** Suppose that the relationship between seven-week weight and one-year weight has a bit of an S-shape, because very large and very small puppies tend to regress toward the mean. *The mismatch between the true s-shaped model and the assumed linear model constitutes bias.*"
   ]
  },
  {
   "cell_type": "markdown",
   "metadata": {},
   "source": [
    "**Variance:** Because your sample size is finite, each time you train the model on new data you don't quite nail even the linear relationship that's closest to the true model. *The random departures of your model from this best possibility given your bias constitute variance.*"
   ]
  },
  {
   "cell_type": "markdown",
   "metadata": {},
   "source": [
    "**Irreducible error:** Some 10-pound puppies will grow up to be 70 pounds, while others will grow up to be 90 pounds. In general, one-year weight is not perfectly predictable from seven-week weight. As a  result, *even the true model will have some irreducible error.*"
   ]
  },
  {
   "cell_type": "markdown",
   "metadata": {},
   "source": [
    "**Exercise.**"
   ]
  },
  {
   "cell_type": "markdown",
   "metadata": {},
   "source": [
    "- Would a \"true model\" $f(X)$ make perfect predictions? Why or why not?"
   ]
  },
  {
   "cell_type": "markdown",
   "metadata": {},
   "source": []
  },
  {
   "cell_type": "markdown",
   "metadata": {},
   "source": [
    "- **Challenge:** How could you create a model for predicting some $y$ that does even better than the true model for $y$ based on your input features $X$?"
   ]
  },
  {
   "cell_type": "markdown",
   "metadata": {},
   "source": []
  },
  {
   "cell_type": "markdown",
   "metadata": {},
   "source": [
    "<a id=\"exploring-the-bias-variance-tradeoff\"></a>\n",
    "### Exploring the Bias-Variance Trade-Off"
   ]
  },
  {
   "cell_type": "code",
   "execution_count": 1,
   "metadata": {},
   "outputs": [],
   "source": [
    "import pandas as pd\n",
    "import numpy as np\n",
    "import seaborn as sns\n",
    "\n",
    "# Allow plots to appear in the notebook.\n",
    "%matplotlib inline"
   ]
  },
  {
   "cell_type": "markdown",
   "metadata": {},
   "source": [
    "<a id=\"brain-and-body-weight-mammal-dataset\"></a>\n",
    "### Brain and Body Weight Mammal Data Set"
   ]
  },
  {
   "cell_type": "markdown",
   "metadata": {},
   "source": [
    "This is a [data set](http://people.sc.fsu.edu/~jburkardt/datasets/regression/x01.txt) of the average weight of the body (in kg) and the brain (in g) for 62 mammal species. We'll use this dataset to investigate bias vs. variance. Let's read it into Pandas and take a quick look:"
   ]
  },
  {
   "cell_type": "code",
   "execution_count": 3,
   "metadata": {
    "scrolled": true
   },
   "outputs": [
    {
     "data": {
      "text/html": [
       "<div>\n",
       "<style scoped>\n",
       "    .dataframe tbody tr th:only-of-type {\n",
       "        vertical-align: middle;\n",
       "    }\n",
       "\n",
       "    .dataframe tbody tr th {\n",
       "        vertical-align: top;\n",
       "    }\n",
       "\n",
       "    .dataframe thead th {\n",
       "        text-align: right;\n",
       "    }\n",
       "</style>\n",
       "<table border=\"1\" class=\"dataframe\">\n",
       "  <thead>\n",
       "    <tr style=\"text-align: right;\">\n",
       "      <th></th>\n",
       "      <th>brain</th>\n",
       "      <th>body</th>\n",
       "    </tr>\n",
       "  </thead>\n",
       "  <tbody>\n",
       "    <tr>\n",
       "      <th>0</th>\n",
       "      <td>3.385</td>\n",
       "      <td>44.5</td>\n",
       "    </tr>\n",
       "    <tr>\n",
       "      <th>1</th>\n",
       "      <td>0.480</td>\n",
       "      <td>15.5</td>\n",
       "    </tr>\n",
       "    <tr>\n",
       "      <th>2</th>\n",
       "      <td>1.350</td>\n",
       "      <td>8.1</td>\n",
       "    </tr>\n",
       "    <tr>\n",
       "      <th>3</th>\n",
       "      <td>465.000</td>\n",
       "      <td>423.0</td>\n",
       "    </tr>\n",
       "    <tr>\n",
       "      <th>4</th>\n",
       "      <td>36.330</td>\n",
       "      <td>119.5</td>\n",
       "    </tr>\n",
       "  </tbody>\n",
       "</table>\n",
       "</div>"
      ],
      "text/plain": [
       "     brain   body\n",
       "0    3.385   44.5\n",
       "1    0.480   15.5\n",
       "2    1.350    8.1\n",
       "3  465.000  423.0\n",
       "4   36.330  119.5"
      ]
     },
     "execution_count": 3,
     "metadata": {},
     "output_type": "execute_result"
    }
   ],
   "source": [
    "import os\n",
    "\n",
    "path = os.path.join('.', 'data', 'mammals.txt')\n",
    "cols = ['brain','body']\n",
    "mammals = pd.read_csv(path, sep='\\t', names=cols, header=0)\n",
    "mammals.head()"
   ]
  },
  {
   "cell_type": "code",
   "execution_count": 4,
   "metadata": {},
   "outputs": [
    {
     "data": {
      "text/html": [
       "<div>\n",
       "<style scoped>\n",
       "    .dataframe tbody tr th:only-of-type {\n",
       "        vertical-align: middle;\n",
       "    }\n",
       "\n",
       "    .dataframe tbody tr th {\n",
       "        vertical-align: top;\n",
       "    }\n",
       "\n",
       "    .dataframe thead th {\n",
       "        text-align: right;\n",
       "    }\n",
       "</style>\n",
       "<table border=\"1\" class=\"dataframe\">\n",
       "  <thead>\n",
       "    <tr style=\"text-align: right;\">\n",
       "      <th></th>\n",
       "      <th>brain</th>\n",
       "      <th>body</th>\n",
       "    </tr>\n",
       "  </thead>\n",
       "  <tbody>\n",
       "    <tr>\n",
       "      <th>count</th>\n",
       "      <td>62.000000</td>\n",
       "      <td>62.000000</td>\n",
       "    </tr>\n",
       "    <tr>\n",
       "      <th>mean</th>\n",
       "      <td>198.789984</td>\n",
       "      <td>283.134194</td>\n",
       "    </tr>\n",
       "    <tr>\n",
       "      <th>std</th>\n",
       "      <td>899.158011</td>\n",
       "      <td>930.278942</td>\n",
       "    </tr>\n",
       "    <tr>\n",
       "      <th>min</th>\n",
       "      <td>0.005000</td>\n",
       "      <td>0.140000</td>\n",
       "    </tr>\n",
       "    <tr>\n",
       "      <th>25%</th>\n",
       "      <td>0.600000</td>\n",
       "      <td>4.250000</td>\n",
       "    </tr>\n",
       "    <tr>\n",
       "      <th>50%</th>\n",
       "      <td>3.342500</td>\n",
       "      <td>17.250000</td>\n",
       "    </tr>\n",
       "    <tr>\n",
       "      <th>75%</th>\n",
       "      <td>48.202500</td>\n",
       "      <td>166.000000</td>\n",
       "    </tr>\n",
       "    <tr>\n",
       "      <th>max</th>\n",
       "      <td>6654.000000</td>\n",
       "      <td>5712.000000</td>\n",
       "    </tr>\n",
       "  </tbody>\n",
       "</table>\n",
       "</div>"
      ],
      "text/plain": [
       "             brain         body\n",
       "count    62.000000    62.000000\n",
       "mean    198.789984   283.134194\n",
       "std     899.158011   930.278942\n",
       "min       0.005000     0.140000\n",
       "25%       0.600000     4.250000\n",
       "50%       3.342500    17.250000\n",
       "75%      48.202500   166.000000\n",
       "max    6654.000000  5712.000000"
      ]
     },
     "execution_count": 4,
     "metadata": {},
     "output_type": "execute_result"
    }
   ],
   "source": [
    "mammals.describe()"
   ]
  },
  {
   "cell_type": "markdown",
   "metadata": {},
   "source": [
    "We're going to focus on a smaller subset in which the body weight is less than 200 kg."
   ]
  },
  {
   "cell_type": "code",
   "execution_count": 9,
   "metadata": {
    "scrolled": true
   },
   "outputs": [
    {
     "data": {
      "text/plain": [
       "(51, 2)"
      ]
     },
     "execution_count": 9,
     "metadata": {},
     "output_type": "execute_result"
    }
   ],
   "source": [
    "# Only keep rows in which the body weight is less than 200 kg.\n",
    "normal_sized_mammals = mammals.loc[:,'body'] < 200 \n",
    "mammals = mammals.loc[normal_sized_mammals, :]\n",
    "mammals.shape"
   ]
  },
  {
   "cell_type": "markdown",
   "metadata": {},
   "source": [
    "Let's create a scatterplot (using [Seaborn](http://stanford.edu/~mwaskom/software/seaborn/)) to visualize the relationship between brain and body weight:"
   ]
  },
  {
   "cell_type": "code",
   "execution_count": 13,
   "metadata": {},
   "outputs": [
    {
     "data": {
      "image/png": "[encoded data removed]",
      "text/plain": [
       "<matplotlib.figure.Figure at 0x1a0b52b780>"
      ]
     },
     "metadata": {},
     "output_type": "display_data"
    }
   ],
   "source": [
    "g= sns.lmplot(x='body', y='brain', data=mammals, ci=None, fit_reg=False)\n",
    "axes = g.axes\n",
    "ax = axes[0, 0]\n",
    "ax.set_xlim(-10, 200)\n",
    "ax.set_ylim(-10, 250);"
   ]
  },
  {
   "cell_type": "markdown",
   "metadata": {},
   "source": [
    "There appears to be a relationship between brain and body weight for mammals."
   ]
  },
  {
   "cell_type": "markdown",
   "metadata": {},
   "source": [
    "<a id=\"making-a-prediction\"></a>\n",
    "### Making a Prediction"
   ]
  },
  {
   "cell_type": "markdown",
   "metadata": {},
   "source": [
    "<a id=\"linear-regression-quick-review\"></a>\n",
    "#### Linear Regression: A Quick Review\n",
    "\n",
    "<img src=\"./assets/linear-residuals.png\" width=800 /img>"
   ]
  },
  {
   "cell_type": "markdown",
   "metadata": {},
   "source": [
    "Now let's pretend that a **new mammal species** is discovered. We measure the body weight of every member of this species we can find and calculate an **average body weight of 100 kgs**. We want to **predict the average brain weight** of this species (rather than measuring it directly). How might we do this?"
   ]
  },
  {
   "cell_type": "code",
   "execution_count": 14,
   "metadata": {},
   "outputs": [
    {
     "data": {
      "image/png": "[encoded data removed]",
      "text/plain": [
       "<matplotlib.figure.Figure at 0x1a1456b518>"
      ]
     },
     "metadata": {},
     "output_type": "display_data"
    }
   ],
   "source": [
    "g= sns.lmplot(x='body', y='brain', data=mammals, ci=None)\n",
    "axes = g.axes\n",
    "ax = axes[0, 0]\n",
    "ax.set_xlim(-10, 200)\n",
    "ax.set_ylim(-10, 250);"
   ]
  },
  {
   "cell_type": "markdown",
   "metadata": {},
   "source": [
    "We drew a straight line that appears to best capture the relationship between brain and body weight. So, we might predict that our new species has a brain weight of about 45 g, as that's the approximate y value when x=100.\n",
    "\n",
    "This is known as a \"linear model\" or a \"linear regression model.\""
   ]
  },
  {
   "cell_type": "markdown",
   "metadata": {},
   "source": [
    "<a id=\"making-a-prediction-from-a-sample\"></a>\n",
    "## Making a Prediction From a Sample"
   ]
  },
  {
   "cell_type": "markdown",
   "metadata": {},
   "source": [
    "The point of supervised learning is to generalize from the samples we have to samples we don't have. Let's simulate this situation by assigning each of the 51 observations to **either universe 1 or universe 2**:"
   ]
  },
  {
   "cell_type": "code",
   "execution_count": 15,
   "metadata": {},
   "outputs": [
    {
     "data": {
      "text/html": [
       "<div>\n",
       "<style scoped>\n",
       "    .dataframe tbody tr th:only-of-type {\n",
       "        vertical-align: middle;\n",
       "    }\n",
       "\n",
       "    .dataframe tbody tr th {\n",
       "        vertical-align: top;\n",
       "    }\n",
       "\n",
       "    .dataframe thead th {\n",
       "        text-align: right;\n",
       "    }\n",
       "</style>\n",
       "<table border=\"1\" class=\"dataframe\">\n",
       "  <thead>\n",
       "    <tr style=\"text-align: right;\">\n",
       "      <th></th>\n",
       "      <th>brain</th>\n",
       "      <th>body</th>\n",
       "      <th>universe</th>\n",
       "    </tr>\n",
       "  </thead>\n",
       "  <tbody>\n",
       "    <tr>\n",
       "      <th>0</th>\n",
       "      <td>3.385</td>\n",
       "      <td>44.5</td>\n",
       "      <td>1</td>\n",
       "    </tr>\n",
       "    <tr>\n",
       "      <th>1</th>\n",
       "      <td>0.480</td>\n",
       "      <td>15.5</td>\n",
       "      <td>2</td>\n",
       "    </tr>\n",
       "    <tr>\n",
       "      <th>2</th>\n",
       "      <td>1.350</td>\n",
       "      <td>8.1</td>\n",
       "      <td>2</td>\n",
       "    </tr>\n",
       "    <tr>\n",
       "      <th>4</th>\n",
       "      <td>36.330</td>\n",
       "      <td>119.5</td>\n",
       "      <td>2</td>\n",
       "    </tr>\n",
       "    <tr>\n",
       "      <th>5</th>\n",
       "      <td>27.660</td>\n",
       "      <td>115.0</td>\n",
       "      <td>1</td>\n",
       "    </tr>\n",
       "  </tbody>\n",
       "</table>\n",
       "</div>"
      ],
      "text/plain": [
       "    brain   body  universe\n",
       "0   3.385   44.5         1\n",
       "1   0.480   15.5         2\n",
       "2   1.350    8.1         2\n",
       "4  36.330  119.5         2\n",
       "5  27.660  115.0         1"
      ]
     },
     "execution_count": 15,
     "metadata": {},
     "output_type": "execute_result"
    }
   ],
   "source": [
    "# Set a random seed for reproducibility.\n",
    "np.random.seed(12345)\n",
    "\n",
    "# Randomly assign every observation to either universe 1 or universe 2.\n",
    "mammals.loc[:, 'universe'] = np.random.randint(1, 3, len(mammals)) # in a way saying give me 51 numbers which are either 1 or 2\n",
    "mammals.head()"
   ]
  },
  {
   "cell_type": "markdown",
   "metadata": {},
   "source": [
    "We can now tell Seaborn to create two plots in which the left plot only uses the data from **universe 1** and the right plot only uses the data from **universe 2**:"
   ]
  },
  {
   "cell_type": "code",
   "execution_count": 16,
   "metadata": {},
   "outputs": [
    {
     "data": {
      "image/png": "[encoded data removed]",
      "text/plain": [
       "<matplotlib.figure.Figure at 0x1a146cd748>"
      ]
     },
     "metadata": {},
     "output_type": "display_data"
    }
   ],
   "source": [
    "# col='universe' subsets the data by universe and creates two separate plots.\n",
    "g= sns.lmplot(x='body', y='brain', data=mammals, ci=None, col='universe')\n",
    "axes = g.axes\n",
    "ax = axes[0, 0]\n",
    "ax.set_xlim(-10, 200)\n",
    "ax.set_ylim(-10, 250);"
   ]
  },
  {
   "cell_type": "markdown",
   "metadata": {},
   "source": [
    "The line looks pretty similar between the two plots, despite the fact that they used separate samples of data. In both cases, we would predict a brain weight of about 45 g.\n",
    "\n",
    "It's easier to see the degree of similarity by placing them on the same plot:"
   ]
  },
  {
   "cell_type": "code",
   "execution_count": 17,
   "metadata": {},
   "outputs": [
    {
     "data": {
      "image/png": "[encoded data removed]",
      "text/plain": [
       "<matplotlib.figure.Figure at 0x1a14bb02e8>"
      ]
     },
     "metadata": {},
     "output_type": "display_data"
    }
   ],
   "source": [
    "# hue='universe' subsets the data by universe and creates a single plot.\n",
    "g= sns.lmplot(x='body', y='brain', data=mammals, ci=None, hue='universe')\n",
    "axes = g.axes\n",
    "ax = axes[0, 0]\n",
    "ax.set_xlim(-10, 200)\n",
    "ax.set_ylim(-10, 250);"
   ]
  },
  {
   "cell_type": "markdown",
   "metadata": {},
   "source": [
    "**Exercise.** How would you characterize the bias and variance of a linear model for brain size against body size? Justify your answer."
   ]
  },
  {
   "cell_type": "markdown",
   "metadata": {},
   "source": [
    "- pretty big errors indicating high bias\n",
    "\n",
    "- both lines close indicates low variance"
   ]
  },
  {
   "cell_type": "markdown",
   "metadata": {},
   "source": [
    "<a id=\"lets-try-something-completely-different\"></a>\n",
    "### Let's Try Something Completely Different"
   ]
  },
  {
   "cell_type": "markdown",
   "metadata": {},
   "source": [
    "What would a **low-bias, high-variance** model look like? Let's try polynomial regression with an eighth-order polynomial."
   ]
  },
  {
   "cell_type": "code",
   "execution_count": 21,
   "metadata": {},
   "outputs": [
    {
     "data": {
      "image/png": "[encoded data removed]",
      "text/plain": [
       "<matplotlib.figure.Figure at 0x1a152b3ba8>"
      ]
     },
     "metadata": {},
     "output_type": "display_data"
    }
   ],
   "source": [
    "g= sns.lmplot(x='body', y='brain', data=mammals, ci=None, col='universe', order=8) # 8 here is saying change directions of curves upto 7 times\n",
    "axes = g.axes\n",
    "ax = axes[0, 0]\n",
    "ax.set_xlim(-10, 200)\n",
    "ax.set_ylim(-10, 250);"
   ]
  },
  {
   "cell_type": "markdown",
   "metadata": {},
   "source": [
    "- It's **low bias** because the models match the data effectively.\n",
    "- It's **high variance** because the models are widely different, depending on which observations happen to be available in that universe. (For a body weight of 100 kg, the brain weight prediction would be 40 kg in one universe and 0 kg in the other!)"
   ]
  },
  {
   "cell_type": "code",
   "execution_count": null,
   "metadata": {},
   "outputs": [],
   "source": []
  },
  {
   "cell_type": "markdown",
   "metadata": {},
   "source": [
    "<a id=\"balancing-bias-and-variance\"></a>\n",
    "## Balancing Bias and Variance\n",
    "Can we find a middle ground?"
   ]
  },
  {
   "cell_type": "markdown",
   "metadata": {},
   "source": [
    "Perhaps we can create a model that has **less bias than the linear model** and **less variance than the eighth order polynomial**?\n",
    "\n",
    "Let's try a second order polynomial instead:"
   ]
  },
  {
   "cell_type": "code",
   "execution_count": 22,
   "metadata": {},
   "outputs": [
    {
     "data": {
      "image/png": "[encoded data removed]",
      "text/plain": [
       "<matplotlib.figure.Figure at 0x1a15541470>"
      ]
     },
     "metadata": {},
     "output_type": "display_data"
    }
   ],
   "source": [
    "# hue='universe' subsets the data by universe and creates a single plot.\n",
    "g= sns.lmplot(x='body', y='brain', data=mammals, ci=None, hue='universe', \n",
    "             order=2)\n",
    "axes = g.axes\n",
    "ax = axes[0, 0]\n",
    "ax.set_xlim(-10, 200)\n",
    "ax.set_ylim(-10, 250);"
   ]
  },
  {
   "cell_type": "markdown",
   "metadata": {},
   "source": [
    "This seems better. In both the left and right plots, **it fits the data well, but not too well**.\n",
    "\n",
    "This is the essence of the **bias-variance trade-off**: You are seeking a model that appropriately balances bias and variance and thus will generalize to new data (known as \"out-of-sample\" data)."
   ]
  },
  {
   "cell_type": "markdown",
   "metadata": {},
   "source": [
    "**Exercise.**\n",
    "\n",
    "- Why do we care about variance if we know we can generate a more accurate model with higher complexity?"
   ]
  },
  {
   "cell_type": "markdown",
   "metadata": {},
   "source": [
    "--so that you dont overfit\n",
    "--may be you have that many features, I mean it may be not available"
   ]
  },
  {
   "cell_type": "markdown",
   "metadata": {},
   "source": [
    "- **Challenge:** Is it possible for a model that learns from the data to have zero bias and zero variance on a data set that has irreducible error?"
   ]
  },
  {
   "cell_type": "markdown",
   "metadata": {},
   "source": [
    "--as per machine learning is concerned, if there is error then there cannot be a situation with 0 bias and 0 variance"
   ]
  },
  {
   "cell_type": "markdown",
   "metadata": {},
   "source": [
    "<a id=\"train-test-split\"></a>\n",
    "## Model Evaluation"
   ]
  },
  {
   "cell_type": "markdown",
   "metadata": {},
   "source": [
    "<a id=\"evaluation-procedure--train-and-test-on-the-entire-dataset-do-not-do-this\"></a>\n",
    "### Evaluation Procedure #1: Train and Test on the Entire Data Set (Do Not Do This)"
   ]
  },
  {
   "cell_type": "markdown",
   "metadata": {},
   "source": [
    "1. Train the model on the **entire data set**.\n",
    "2. Test the model on the **same data set** and evaluate how well we did by comparing the **predicted** response values with the **true** response values."
   ]
  },
  {
   "cell_type": "markdown",
   "metadata": {},
   "source": [
    "#### Load in the Boston data."
   ]
  },
  {
   "cell_type": "code",
   "execution_count": 23,
   "metadata": {},
   "outputs": [],
   "source": [
    "import pandas as pd\n",
    "import numpy as np\n",
    "from sklearn.datasets import load_boston\n",
    "\n",
    "boston = load_boston()"
   ]
  },
  {
   "cell_type": "code",
   "execution_count": 24,
   "metadata": {},
   "outputs": [
    {
     "name": "stdout",
     "output_type": "stream",
     "text": [
      "Boston House Prices dataset\n",
      "===========================\n",
      "\n",
      "Notes\n",
      "------\n",
      "Data Set Characteristics:  \n",
      "\n",
      "    :Number of Instances: 506 \n",
      "\n",
      "    :Number of Attributes: 13 numeric/categorical predictive\n",
      "    \n",
      "    :Median Value (attribute 14) is usually the target\n",
      "\n",
      "    :Attribute Information (in order):\n",
      "        - CRIM     per capita crime rate by town\n",
      "        - ZN       proportion of residential land zoned for lots over 25,000 sq.ft.\n",
      "        - INDUS    proportion of non-retail business acres per town\n",
      "        - CHAS     Charles River dummy variable (= 1 if tract bounds river; 0 otherwise)\n",
      "        - NOX      nitric oxides concentration (parts per 10 million)\n",
      "        - RM       average number of rooms per dwelling\n",
      "        - AGE      proportion of owner-occupied units built prior to 1940\n",
      "        - DIS      weighted distances to five Boston employment centres\n",
      "        - RAD      index of accessibility to radial highways\n",
      "        - TAX      full-value property-tax rate per $10,000\n",
      "        - PTRATIO  pupil-teacher ratio by town\n",
      "        - B        1000(Bk - 0.63)^2 where Bk is the proportion of blacks by town\n",
      "        - LSTAT    % lower status of the population\n",
      "        - MEDV     Median value of owner-occupied homes in $1000's\n",
      "\n",
      "    :Missing Attribute Values: None\n",
      "\n",
      "    :Creator: Harrison, D. and Rubinfeld, D.L.\n",
      "\n",
      "This is a copy of UCI ML housing dataset.\n",
      "http://archive.ics.uci.edu/ml/datasets/Housing\n",
      "\n",
      "\n",
      "This dataset was taken from the StatLib library which is maintained at Carnegie Mellon University.\n",
      "\n",
      "The Boston house-price data of Harrison, D. and Rubinfeld, D.L. 'Hedonic\n",
      "prices and the demand for clean air', J. Environ. Economics & Management,\n",
      "vol.5, 81-102, 1978.   Used in Belsley, Kuh & Welsch, 'Regression diagnostics\n",
      "...', Wiley, 1980.   N.B. Various transformations are used in the table on\n",
      "pages 244-261 of the latter.\n",
      "\n",
      "The Boston house-price data has been used in many machine learning papers that address regression\n",
      "problems.   \n",
      "     \n",
      "**References**\n",
      "\n",
      "   - Belsley, Kuh & Welsch, 'Regression diagnostics: Identifying Influential Data and Sources of Collinearity', Wiley, 1980. 244-261.\n",
      "   - Quinlan,R. (1993). Combining Instance-Based and Model-Based Learning. In Proceedings on the Tenth International Conference of Machine Learning, 236-243, University of Massachusetts, Amherst. Morgan Kaufmann.\n",
      "   - many more! (see http://archive.ics.uci.edu/ml/datasets/Housing)\n",
      "\n"
     ]
    }
   ],
   "source": [
    "print(boston.DESCR)"
   ]
  },
  {
   "cell_type": "markdown",
   "metadata": {},
   "source": [
    "#### Create X and y variables to store the feature matrix and response from the Boston data."
   ]
  },
  {
   "cell_type": "code",
   "execution_count": 25,
   "metadata": {},
   "outputs": [],
   "source": [
    "# Create a DataFrame for both parts of data; don't forget to assign column names.\n",
    "X = pd.DataFrame(boston.data, columns=boston.feature_names)\n",
    "y = pd.DataFrame(boston.target, columns=['MEDV'])"
   ]
  },
  {
   "cell_type": "markdown",
   "metadata": {},
   "source": [
    "#### Concatenate y and X, then overwrite the Boston variable."
   ]
  },
  {
   "cell_type": "code",
   "execution_count": 30,
   "metadata": {
    "scrolled": true
   },
   "outputs": [],
   "source": [
    "boston = pd.concat([y, X], axis=1)"
   ]
  },
  {
   "cell_type": "code",
   "execution_count": 31,
   "metadata": {},
   "outputs": [
    {
     "data": {
      "text/html": [
       "<div>\n",
       "<style scoped>\n",
       "    .dataframe tbody tr th:only-of-type {\n",
       "        vertical-align: middle;\n",
       "    }\n",
       "\n",
       "    .dataframe tbody tr th {\n",
       "        vertical-align: top;\n",
       "    }\n",
       "\n",
       "    .dataframe thead th {\n",
       "        text-align: right;\n",
       "    }\n",
       "</style>\n",
       "<table border=\"1\" class=\"dataframe\">\n",
       "  <thead>\n",
       "    <tr style=\"text-align: right;\">\n",
       "      <th></th>\n",
       "      <th>MEDV</th>\n",
       "      <th>CRIM</th>\n",
       "      <th>ZN</th>\n",
       "      <th>INDUS</th>\n",
       "      <th>CHAS</th>\n",
       "      <th>NOX</th>\n",
       "      <th>RM</th>\n",
       "      <th>AGE</th>\n",
       "      <th>DIS</th>\n",
       "      <th>RAD</th>\n",
       "      <th>TAX</th>\n",
       "      <th>PTRATIO</th>\n",
       "      <th>B</th>\n",
       "      <th>LSTAT</th>\n",
       "    </tr>\n",
       "  </thead>\n",
       "  <tbody>\n",
       "    <tr>\n",
       "      <th>0</th>\n",
       "      <td>24.0</td>\n",
       "      <td>0.00632</td>\n",
       "      <td>18.0</td>\n",
       "      <td>2.31</td>\n",
       "      <td>0.0</td>\n",
       "      <td>0.538</td>\n",
       "      <td>6.575</td>\n",
       "      <td>65.2</td>\n",
       "      <td>4.0900</td>\n",
       "      <td>1.0</td>\n",
       "      <td>296.0</td>\n",
       "      <td>15.3</td>\n",
       "      <td>396.90</td>\n",
       "      <td>4.98</td>\n",
       "    </tr>\n",
       "    <tr>\n",
       "      <th>1</th>\n",
       "      <td>21.6</td>\n",
       "      <td>0.02731</td>\n",
       "      <td>0.0</td>\n",
       "      <td>7.07</td>\n",
       "      <td>0.0</td>\n",
       "      <td>0.469</td>\n",
       "      <td>6.421</td>\n",
       "      <td>78.9</td>\n",
       "      <td>4.9671</td>\n",
       "      <td>2.0</td>\n",
       "      <td>242.0</td>\n",
       "      <td>17.8</td>\n",
       "      <td>396.90</td>\n",
       "      <td>9.14</td>\n",
       "    </tr>\n",
       "    <tr>\n",
       "      <th>2</th>\n",
       "      <td>34.7</td>\n",
       "      <td>0.02729</td>\n",
       "      <td>0.0</td>\n",
       "      <td>7.07</td>\n",
       "      <td>0.0</td>\n",
       "      <td>0.469</td>\n",
       "      <td>7.185</td>\n",
       "      <td>61.1</td>\n",
       "      <td>4.9671</td>\n",
       "      <td>2.0</td>\n",
       "      <td>242.0</td>\n",
       "      <td>17.8</td>\n",
       "      <td>392.83</td>\n",
       "      <td>4.03</td>\n",
       "    </tr>\n",
       "    <tr>\n",
       "      <th>3</th>\n",
       "      <td>33.4</td>\n",
       "      <td>0.03237</td>\n",
       "      <td>0.0</td>\n",
       "      <td>2.18</td>\n",
       "      <td>0.0</td>\n",
       "      <td>0.458</td>\n",
       "      <td>6.998</td>\n",
       "      <td>45.8</td>\n",
       "      <td>6.0622</td>\n",
       "      <td>3.0</td>\n",
       "      <td>222.0</td>\n",
       "      <td>18.7</td>\n",
       "      <td>394.63</td>\n",
       "      <td>2.94</td>\n",
       "    </tr>\n",
       "    <tr>\n",
       "      <th>4</th>\n",
       "      <td>36.2</td>\n",
       "      <td>0.06905</td>\n",
       "      <td>0.0</td>\n",
       "      <td>2.18</td>\n",
       "      <td>0.0</td>\n",
       "      <td>0.458</td>\n",
       "      <td>7.147</td>\n",
       "      <td>54.2</td>\n",
       "      <td>6.0622</td>\n",
       "      <td>3.0</td>\n",
       "      <td>222.0</td>\n",
       "      <td>18.7</td>\n",
       "      <td>396.90</td>\n",
       "      <td>5.33</td>\n",
       "    </tr>\n",
       "  </tbody>\n",
       "</table>\n",
       "</div>"
      ],
      "text/plain": [
       "   MEDV     CRIM    ZN  INDUS  CHAS    NOX     RM   AGE     DIS  RAD    TAX  \\\n",
       "0  24.0  0.00632  18.0   2.31   0.0  0.538  6.575  65.2  4.0900  1.0  296.0   \n",
       "1  21.6  0.02731   0.0   7.07   0.0  0.469  6.421  78.9  4.9671  2.0  242.0   \n",
       "2  34.7  0.02729   0.0   7.07   0.0  0.469  7.185  61.1  4.9671  2.0  242.0   \n",
       "3  33.4  0.03237   0.0   2.18   0.0  0.458  6.998  45.8  6.0622  3.0  222.0   \n",
       "4  36.2  0.06905   0.0   2.18   0.0  0.458  7.147  54.2  6.0622  3.0  222.0   \n",
       "\n",
       "   PTRATIO       B  LSTAT  \n",
       "0     15.3  396.90   4.98  \n",
       "1     17.8  396.90   9.14  \n",
       "2     17.8  392.83   4.03  \n",
       "3     18.7  394.63   2.94  \n",
       "4     18.7  396.90   5.33  "
      ]
     },
     "execution_count": 31,
     "metadata": {},
     "output_type": "execute_result"
    }
   ],
   "source": [
    "boston.head()"
   ]
  },
  {
   "cell_type": "markdown",
   "metadata": {},
   "source": [
    "#### Perform basic EDA to make sure the data are in order."
   ]
  },
  {
   "cell_type": "code",
   "execution_count": 32,
   "metadata": {},
   "outputs": [
    {
     "data": {
      "text/plain": [
       "MEDV       0\n",
       "CRIM       0\n",
       "ZN         0\n",
       "INDUS      0\n",
       "CHAS       0\n",
       "NOX        0\n",
       "RM         0\n",
       "AGE        0\n",
       "DIS        0\n",
       "RAD        0\n",
       "TAX        0\n",
       "PTRATIO    0\n",
       "B          0\n",
       "LSTAT      0\n",
       "dtype: int64"
      ]
     },
     "execution_count": 32,
     "metadata": {},
     "output_type": "execute_result"
    }
   ],
   "source": [
    "# Count null values of each variable\n",
    "boston.isnull().sum()"
   ]
  },
  {
   "cell_type": "code",
   "execution_count": null,
   "metadata": {},
   "outputs": [],
   "source": [
    "# Make sure data is numeric\n"
   ]
  },
  {
   "cell_type": "code",
   "execution_count": 33,
   "metadata": {},
   "outputs": [
    {
     "data": {
      "text/html": [
       "<div>\n",
       "<style scoped>\n",
       "    .dataframe tbody tr th:only-of-type {\n",
       "        vertical-align: middle;\n",
       "    }\n",
       "\n",
       "    .dataframe tbody tr th {\n",
       "        vertical-align: top;\n",
       "    }\n",
       "\n",
       "    .dataframe thead th {\n",
       "        text-align: right;\n",
       "    }\n",
       "</style>\n",
       "<table border=\"1\" class=\"dataframe\">\n",
       "  <thead>\n",
       "    <tr style=\"text-align: right;\">\n",
       "      <th></th>\n",
       "      <th>MEDV</th>\n",
       "      <th>CRIM</th>\n",
       "      <th>ZN</th>\n",
       "      <th>INDUS</th>\n",
       "      <th>CHAS</th>\n",
       "      <th>NOX</th>\n",
       "      <th>RM</th>\n",
       "      <th>AGE</th>\n",
       "      <th>DIS</th>\n",
       "      <th>RAD</th>\n",
       "      <th>TAX</th>\n",
       "      <th>PTRATIO</th>\n",
       "      <th>B</th>\n",
       "      <th>LSTAT</th>\n",
       "    </tr>\n",
       "  </thead>\n",
       "  <tbody>\n",
       "    <tr>\n",
       "      <th>count</th>\n",
       "      <td>506.000000</td>\n",
       "      <td>506.000000</td>\n",
       "      <td>506.000000</td>\n",
       "      <td>506.000000</td>\n",
       "      <td>506.000000</td>\n",
       "      <td>506.000000</td>\n",
       "      <td>506.000000</td>\n",
       "      <td>506.000000</td>\n",
       "      <td>506.000000</td>\n",
       "      <td>506.000000</td>\n",
       "      <td>506.000000</td>\n",
       "      <td>506.000000</td>\n",
       "      <td>506.000000</td>\n",
       "      <td>506.000000</td>\n",
       "    </tr>\n",
       "    <tr>\n",
       "      <th>mean</th>\n",
       "      <td>22.532806</td>\n",
       "      <td>3.593761</td>\n",
       "      <td>11.363636</td>\n",
       "      <td>11.136779</td>\n",
       "      <td>0.069170</td>\n",
       "      <td>0.554695</td>\n",
       "      <td>6.284634</td>\n",
       "      <td>68.574901</td>\n",
       "      <td>3.795043</td>\n",
       "      <td>9.549407</td>\n",
       "      <td>408.237154</td>\n",
       "      <td>18.455534</td>\n",
       "      <td>356.674032</td>\n",
       "      <td>12.653063</td>\n",
       "    </tr>\n",
       "    <tr>\n",
       "      <th>std</th>\n",
       "      <td>9.197104</td>\n",
       "      <td>8.596783</td>\n",
       "      <td>23.322453</td>\n",
       "      <td>6.860353</td>\n",
       "      <td>0.253994</td>\n",
       "      <td>0.115878</td>\n",
       "      <td>0.702617</td>\n",
       "      <td>28.148861</td>\n",
       "      <td>2.105710</td>\n",
       "      <td>8.707259</td>\n",
       "      <td>168.537116</td>\n",
       "      <td>2.164946</td>\n",
       "      <td>91.294864</td>\n",
       "      <td>7.141062</td>\n",
       "    </tr>\n",
       "    <tr>\n",
       "      <th>min</th>\n",
       "      <td>5.000000</td>\n",
       "      <td>0.006320</td>\n",
       "      <td>0.000000</td>\n",
       "      <td>0.460000</td>\n",
       "      <td>0.000000</td>\n",
       "      <td>0.385000</td>\n",
       "      <td>3.561000</td>\n",
       "      <td>2.900000</td>\n",
       "      <td>1.129600</td>\n",
       "      <td>1.000000</td>\n",
       "      <td>187.000000</td>\n",
       "      <td>12.600000</td>\n",
       "      <td>0.320000</td>\n",
       "      <td>1.730000</td>\n",
       "    </tr>\n",
       "    <tr>\n",
       "      <th>25%</th>\n",
       "      <td>17.025000</td>\n",
       "      <td>0.082045</td>\n",
       "      <td>0.000000</td>\n",
       "      <td>5.190000</td>\n",
       "      <td>0.000000</td>\n",
       "      <td>0.449000</td>\n",
       "      <td>5.885500</td>\n",
       "      <td>45.025000</td>\n",
       "      <td>2.100175</td>\n",
       "      <td>4.000000</td>\n",
       "      <td>279.000000</td>\n",
       "      <td>17.400000</td>\n",
       "      <td>375.377500</td>\n",
       "      <td>6.950000</td>\n",
       "    </tr>\n",
       "    <tr>\n",
       "      <th>50%</th>\n",
       "      <td>21.200000</td>\n",
       "      <td>0.256510</td>\n",
       "      <td>0.000000</td>\n",
       "      <td>9.690000</td>\n",
       "      <td>0.000000</td>\n",
       "      <td>0.538000</td>\n",
       "      <td>6.208500</td>\n",
       "      <td>77.500000</td>\n",
       "      <td>3.207450</td>\n",
       "      <td>5.000000</td>\n",
       "      <td>330.000000</td>\n",
       "      <td>19.050000</td>\n",
       "      <td>391.440000</td>\n",
       "      <td>11.360000</td>\n",
       "    </tr>\n",
       "    <tr>\n",
       "      <th>75%</th>\n",
       "      <td>25.000000</td>\n",
       "      <td>3.647423</td>\n",
       "      <td>12.500000</td>\n",
       "      <td>18.100000</td>\n",
       "      <td>0.000000</td>\n",
       "      <td>0.624000</td>\n",
       "      <td>6.623500</td>\n",
       "      <td>94.075000</td>\n",
       "      <td>5.188425</td>\n",
       "      <td>24.000000</td>\n",
       "      <td>666.000000</td>\n",
       "      <td>20.200000</td>\n",
       "      <td>396.225000</td>\n",
       "      <td>16.955000</td>\n",
       "    </tr>\n",
       "    <tr>\n",
       "      <th>max</th>\n",
       "      <td>50.000000</td>\n",
       "      <td>88.976200</td>\n",
       "      <td>100.000000</td>\n",
       "      <td>27.740000</td>\n",
       "      <td>1.000000</td>\n",
       "      <td>0.871000</td>\n",
       "      <td>8.780000</td>\n",
       "      <td>100.000000</td>\n",
       "      <td>12.126500</td>\n",
       "      <td>24.000000</td>\n",
       "      <td>711.000000</td>\n",
       "      <td>22.000000</td>\n",
       "      <td>396.900000</td>\n",
       "      <td>37.970000</td>\n",
       "    </tr>\n",
       "  </tbody>\n",
       "</table>\n",
       "</div>"
      ],
      "text/plain": [
       "             MEDV        CRIM          ZN       INDUS        CHAS         NOX  \\\n",
       "count  506.000000  506.000000  506.000000  506.000000  506.000000  506.000000   \n",
       "mean    22.532806    3.593761   11.363636   11.136779    0.069170    0.554695   \n",
       "std      9.197104    8.596783   23.322453    6.860353    0.253994    0.115878   \n",
       "min      5.000000    0.006320    0.000000    0.460000    0.000000    0.385000   \n",
       "25%     17.025000    0.082045    0.000000    5.190000    0.000000    0.449000   \n",
       "50%     21.200000    0.256510    0.000000    9.690000    0.000000    0.538000   \n",
       "75%     25.000000    3.647423   12.500000   18.100000    0.000000    0.624000   \n",
       "max     50.000000   88.976200  100.000000   27.740000    1.000000    0.871000   \n",
       "\n",
       "               RM         AGE         DIS         RAD         TAX     PTRATIO  \\\n",
       "count  506.000000  506.000000  506.000000  506.000000  506.000000  506.000000   \n",
       "mean     6.284634   68.574901    3.795043    9.549407  408.237154   18.455534   \n",
       "std      0.702617   28.148861    2.105710    8.707259  168.537116    2.164946   \n",
       "min      3.561000    2.900000    1.129600    1.000000  187.000000   12.600000   \n",
       "25%      5.885500   45.025000    2.100175    4.000000  279.000000   17.400000   \n",
       "50%      6.208500   77.500000    3.207450    5.000000  330.000000   19.050000   \n",
       "75%      6.623500   94.075000    5.188425   24.000000  666.000000   20.200000   \n",
       "max      8.780000  100.000000   12.126500   24.000000  711.000000   22.000000   \n",
       "\n",
       "                B       LSTAT  \n",
       "count  506.000000  506.000000  \n",
       "mean   356.674032   12.653063  \n",
       "std     91.294864    7.141062  \n",
       "min      0.320000    1.730000  \n",
       "25%    375.377500    6.950000  \n",
       "50%    391.440000   11.360000  \n",
       "75%    396.225000   16.955000  \n",
       "max    396.900000   37.970000  "
      ]
     },
     "execution_count": 33,
     "metadata": {},
     "output_type": "execute_result"
    }
   ],
   "source": [
    "# Look at basic descriptive statistics\n",
    "boston.describe()"
   ]
  },
  {
   "cell_type": "markdown",
   "metadata": {},
   "source": [
    "#### Prepare a feature matrix (X) and response (y)  for scikit-learn."
   ]
  },
  {
   "cell_type": "code",
   "execution_count": null,
   "metadata": {
    "collapsed": true
   },
   "outputs": [],
   "source": []
  },
  {
   "cell_type": "markdown",
   "metadata": {},
   "source": [
    "#### Import linear regression, instantiate, fit, and preview predictions."
   ]
  },
  {
   "cell_type": "code",
   "execution_count": 37,
   "metadata": {
    "collapsed": true
   },
   "outputs": [
    {
     "data": {
      "text/plain": [
       "array([[30.00821269],\n",
       "       [25.0298606 ],\n",
       "       [30.5702317 ],\n",
       "       [28.60814055],\n",
       "       [27.94288232],\n",
       "       [25.25940048],\n",
       "       [23.00433994],\n",
       "       [19.5347558 ],\n",
       "       [11.51696539],\n",
       "       [18.91981483],\n",
       "       [18.9958266 ],\n",
       "       [21.58970854],\n",
       "       [20.90534851],\n",
       "       [19.55535931],\n",
       "       [19.2837957 ],\n",
       "       [19.30000174],\n",
       "       [20.52889993],\n",
       "       [16.9096749 ],\n",
       "       [16.17067411],\n",
       "       [18.40781636],\n",
       "       [12.52040454],\n",
       "       [17.67104565],\n",
       "       [15.82934891],\n",
       "       [13.80368317],\n",
       "       [15.67708138],\n",
       "       [13.3791645 ],\n",
       "       [15.46258829],\n",
       "       [14.69863607],\n",
       "       [19.54518512],\n",
       "       [20.87309945],\n",
       "       [11.44806825],\n",
       "       [18.05900412],\n",
       "       [ 8.78841666],\n",
       "       [14.27882319],\n",
       "       [13.69097132],\n",
       "       [23.81755469],\n",
       "       [22.34216285],\n",
       "       [23.11123204],\n",
       "       [22.91494157],\n",
       "       [31.35826216],\n",
       "       [34.21485385],\n",
       "       [28.0207132 ],\n",
       "       [25.20646572],\n",
       "       [24.61192851],\n",
       "       [22.94438953],\n",
       "       [22.10150945],\n",
       "       [20.42467417],\n",
       "       [18.03614022],\n",
       "       [ 9.10176198],\n",
       "       [17.20856571],\n",
       "       [21.28259372],\n",
       "       [23.97621248],\n",
       "       [27.65853521],\n",
       "       [24.0521088 ],\n",
       "       [15.35989132],\n",
       "       [31.14817003],\n",
       "       [24.85878746],\n",
       "       [33.11017111],\n",
       "       [21.77458036],\n",
       "       [21.08526739],\n",
       "       [17.87203538],\n",
       "       [18.50881381],\n",
       "       [23.9879809 ],\n",
       "       [22.54944098],\n",
       "       [23.37068403],\n",
       "       [30.36557584],\n",
       "       [25.53407332],\n",
       "       [21.11758504],\n",
       "       [17.42468223],\n",
       "       [20.7893086 ],\n",
       "       [25.20349174],\n",
       "       [21.74490595],\n",
       "       [24.56275612],\n",
       "       [24.04479519],\n",
       "       [25.5091157 ],\n",
       "       [23.97076758],\n",
       "       [22.94823519],\n",
       "       [23.36106095],\n",
       "       [21.26432549],\n",
       "       [22.4345376 ],\n",
       "       [28.40699937],\n",
       "       [26.99734716],\n",
       "       [26.03807246],\n",
       "       [25.06152125],\n",
       "       [24.7858613 ],\n",
       "       [27.79291889],\n",
       "       [22.16927073],\n",
       "       [25.89685664],\n",
       "       [30.67771522],\n",
       "       [30.83225886],\n",
       "       [27.12127354],\n",
       "       [27.41597825],\n",
       "       [28.9456478 ],\n",
       "       [29.08668003],\n",
       "       [27.04501726],\n",
       "       [28.62506705],\n",
       "       [24.73038218],\n",
       "       [35.78062378],\n",
       "       [35.11269515],\n",
       "       [32.25115468],\n",
       "       [24.57946786],\n",
       "       [25.59386215],\n",
       "       [19.76439137],\n",
       "       [20.31157117],\n",
       "       [21.4353635 ],\n",
       "       [18.53971968],\n",
       "       [17.18572611],\n",
       "       [20.74934949],\n",
       "       [22.64791346],\n",
       "       [19.77000977],\n",
       "       [20.64745349],\n",
       "       [26.52652691],\n",
       "       [20.77440554],\n",
       "       [20.71546432],\n",
       "       [25.17461484],\n",
       "       [20.4273652 ],\n",
       "       [23.37862521],\n",
       "       [23.69454145],\n",
       "       [20.33202239],\n",
       "       [20.79378139],\n",
       "       [21.92024414],\n",
       "       [22.47432006],\n",
       "       [20.55884635],\n",
       "       [16.36300764],\n",
       "       [20.56342111],\n",
       "       [22.48570454],\n",
       "       [14.61264839],\n",
       "       [15.1802607 ],\n",
       "       [18.93828443],\n",
       "       [14.0574955 ],\n",
       "       [20.03651959],\n",
       "       [19.41306288],\n",
       "       [20.06401034],\n",
       "       [15.76005772],\n",
       "       [13.24771577],\n",
       "       [17.26167729],\n",
       "       [15.87759672],\n",
       "       [19.36145104],\n",
       "       [13.81270814],\n",
       "       [16.44782934],\n",
       "       [13.56511101],\n",
       "       [ 3.98343974],\n",
       "       [14.59241207],\n",
       "       [12.14503093],\n",
       "       [ 8.72407108],\n",
       "       [12.00815659],\n",
       "       [15.80308586],\n",
       "       [ 8.50963929],\n",
       "       [ 9.70965512],\n",
       "       [14.79848067],\n",
       "       [20.83598096],\n",
       "       [18.30017013],\n",
       "       [20.12575267],\n",
       "       [17.27585681],\n",
       "       [22.35997992],\n",
       "       [20.07985184],\n",
       "       [13.59903744],\n",
       "       [33.26635221],\n",
       "       [29.03938379],\n",
       "       [25.56694529],\n",
       "       [32.71732164],\n",
       "       [36.78111388],\n",
       "       [40.56615533],\n",
       "       [41.85122271],\n",
       "       [24.79875684],\n",
       "       [25.3771545 ],\n",
       "       [37.20662185],\n",
       "       [23.08244608],\n",
       "       [26.40326834],\n",
       "       [26.65647433],\n",
       "       [22.55412919],\n",
       "       [24.2970948 ],\n",
       "       [22.98024802],\n",
       "       [29.07488389],\n",
       "       [26.52620066],\n",
       "       [30.72351225],\n",
       "       [25.61835359],\n",
       "       [29.14203283],\n",
       "       [31.43690634],\n",
       "       [32.9232938 ],\n",
       "       [34.72096487],\n",
       "       [27.76792733],\n",
       "       [33.88992899],\n",
       "       [30.99725805],\n",
       "       [22.72124288],\n",
       "       [24.76567683],\n",
       "       [35.88131719],\n",
       "       [33.42696242],\n",
       "       [32.41513625],\n",
       "       [34.51611818],\n",
       "       [30.76057666],\n",
       "       [30.29169893],\n",
       "       [32.92040221],\n",
       "       [32.11459912],\n",
       "       [31.56133385],\n",
       "       [40.84274603],\n",
       "       [36.13046343],\n",
       "       [32.66639271],\n",
       "       [34.70558647],\n",
       "       [30.09276228],\n",
       "       [30.64139724],\n",
       "       [29.29189704],\n",
       "       [37.07062623],\n",
       "       [42.02879611],\n",
       "       [43.18582722],\n",
       "       [22.6923888 ],\n",
       "       [23.68420569],\n",
       "       [17.85435295],\n",
       "       [23.49543857],\n",
       "       [17.00872418],\n",
       "       [22.39535066],\n",
       "       [17.06152243],\n",
       "       [22.74106824],\n",
       "       [25.21974252],\n",
       "       [11.10601161],\n",
       "       [24.51300617],\n",
       "       [26.60749026],\n",
       "       [28.35802444],\n",
       "       [24.91860458],\n",
       "       [29.69254951],\n",
       "       [33.18492755],\n",
       "       [23.77145523],\n",
       "       [32.14086508],\n",
       "       [29.74802362],\n",
       "       [38.36605632],\n",
       "       [39.80716458],\n",
       "       [37.58362546],\n",
       "       [32.39769704],\n",
       "       [35.45048257],\n",
       "       [31.23446481],\n",
       "       [24.48478321],\n",
       "       [33.28615723],\n",
       "       [38.04368164],\n",
       "       [37.15737267],\n",
       "       [31.71297469],\n",
       "       [25.26658017],\n",
       "       [30.101515  ],\n",
       "       [32.71897655],\n",
       "       [28.42735376],\n",
       "       [28.42999168],\n",
       "       [27.2913215 ],\n",
       "       [23.74446671],\n",
       "       [24.11878941],\n",
       "       [27.40241209],\n",
       "       [16.32993575],\n",
       "       [13.39695213],\n",
       "       [20.01655581],\n",
       "       [19.86205904],\n",
       "       [21.28604604],\n",
       "       [24.07796482],\n",
       "       [24.20603792],\n",
       "       [25.04201534],\n",
       "       [24.91709097],\n",
       "       [29.93762975],\n",
       "       [23.97709054],\n",
       "       [21.69931969],\n",
       "       [37.51051381],\n",
       "       [43.29459357],\n",
       "       [36.48121427],\n",
       "       [34.99129701],\n",
       "       [34.80865729],\n",
       "       [37.16296374],\n",
       "       [40.9823638 ],\n",
       "       [34.44211691],\n",
       "       [35.83178068],\n",
       "       [28.24913647],\n",
       "       [31.22022312],\n",
       "       [40.83256202],\n",
       "       [39.31768808],\n",
       "       [25.71099424],\n",
       "       [22.30344878],\n",
       "       [27.20551341],\n",
       "       [28.51386352],\n",
       "       [35.47494122],\n",
       "       [36.11110647],\n",
       "       [33.80004807],\n",
       "       [35.61141951],\n",
       "       [34.84311742],\n",
       "       [30.35359323],\n",
       "       [35.31260262],\n",
       "       [38.79684808],\n",
       "       [34.33296541],\n",
       "       [40.34038636],\n",
       "       [44.67339923],\n",
       "       [31.5955473 ],\n",
       "       [27.35994642],\n",
       "       [20.09520596],\n",
       "       [27.04518524],\n",
       "       [27.21674397],\n",
       "       [26.91105226],\n",
       "       [33.43602979],\n",
       "       [34.40228785],\n",
       "       [31.83374181],\n",
       "       [25.82416035],\n",
       "       [24.43687139],\n",
       "       [28.46348891],\n",
       "       [27.36916176],\n",
       "       [19.54441878],\n",
       "       [29.11480679],\n",
       "       [31.90852699],\n",
       "       [30.77325183],\n",
       "       [28.9430835 ],\n",
       "       [28.88108106],\n",
       "       [32.79876794],\n",
       "       [33.20356949],\n",
       "       [30.76568546],\n",
       "       [35.55843485],\n",
       "       [32.70725436],\n",
       "       [28.64759861],\n",
       "       [23.59388439],\n",
       "       [18.5461558 ],\n",
       "       [26.88429024],\n",
       "       [23.28485442],\n",
       "       [25.55002201],\n",
       "       [25.48337323],\n",
       "       [20.54343769],\n",
       "       [17.61406384],\n",
       "       [18.37627933],\n",
       "       [24.29187594],\n",
       "       [21.3257202 ],\n",
       "       [24.88826131],\n",
       "       [24.87143049],\n",
       "       [22.87255605],\n",
       "       [19.4540234 ],\n",
       "       [25.11948741],\n",
       "       [24.66816374],\n",
       "       [23.68209656],\n",
       "       [19.33951725],\n",
       "       [21.17636041],\n",
       "       [24.25306588],\n",
       "       [21.59311197],\n",
       "       [19.98766667],\n",
       "       [23.34079584],\n",
       "       [22.13973959],\n",
       "       [21.55349196],\n",
       "       [20.61808868],\n",
       "       [20.1607571 ],\n",
       "       [19.28455466],\n",
       "       [22.16593919],\n",
       "       [21.24893735],\n",
       "       [21.42985456],\n",
       "       [30.32874523],\n",
       "       [22.04915396],\n",
       "       [27.70610125],\n",
       "       [28.54595004],\n",
       "       [16.54657063],\n",
       "       [14.78278261],\n",
       "       [25.27336772],\n",
       "       [27.54088054],\n",
       "       [22.14633467],\n",
       "       [20.46081206],\n",
       "       [20.54472332],\n",
       "       [16.88194391],\n",
       "       [25.40066956],\n",
       "       [14.32299547],\n",
       "       [16.5927403 ],\n",
       "       [19.63224597],\n",
       "       [22.7117302 ],\n",
       "       [22.19946949],\n",
       "       [19.1989151 ],\n",
       "       [22.66091019],\n",
       "       [18.92059374],\n",
       "       [18.22715359],\n",
       "       [20.22444386],\n",
       "       [37.47946099],\n",
       "       [14.29172583],\n",
       "       [15.53697148],\n",
       "       [10.82825817],\n",
       "       [23.81134987],\n",
       "       [32.64787163],\n",
       "       [34.61163401],\n",
       "       [24.94604102],\n",
       "       [26.00259724],\n",
       "       [ 6.12085728],\n",
       "       [ 0.78021126],\n",
       "       [25.311373  ],\n",
       "       [17.73465914],\n",
       "       [20.22593282],\n",
       "       [15.83834861],\n",
       "       [16.83742401],\n",
       "       [14.43123608],\n",
       "       [18.47647773],\n",
       "       [13.42427933],\n",
       "       [13.05677824],\n",
       "       [ 3.27646485],\n",
       "       [ 8.05936467],\n",
       "       [ 6.13903114],\n",
       "       [ 5.62271213],\n",
       "       [ 6.44935154],\n",
       "       [14.20597451],\n",
       "       [17.21022671],\n",
       "       [17.29035065],\n",
       "       [ 9.89064351],\n",
       "       [20.21972222],\n",
       "       [17.94511052],\n",
       "       [20.30017588],\n",
       "       [19.28790318],\n",
       "       [16.33300008],\n",
       "       [ 6.56843662],\n",
       "       [10.87541577],\n",
       "       [11.88704097],\n",
       "       [17.81098929],\n",
       "       [18.25461066],\n",
       "       [12.99282707],\n",
       "       [ 7.39319053],\n",
       "       [ 8.25609561],\n",
       "       [ 8.07899971],\n",
       "       [19.98563715],\n",
       "       [13.69651744],\n",
       "       [19.83511412],\n",
       "       [15.2345378 ],\n",
       "       [16.93112419],\n",
       "       [ 1.69347406],\n",
       "       [11.81116263],\n",
       "       [-4.28300934],\n",
       "       [ 9.55007844],\n",
       "       [13.32635521],\n",
       "       [ 6.88351077],\n",
       "       [ 6.16827417],\n",
       "       [14.56933235],\n",
       "       [19.59292932],\n",
       "       [18.1151686 ],\n",
       "       [18.52011987],\n",
       "       [13.13707457],\n",
       "       [14.59662601],\n",
       "       [ 9.8923749 ],\n",
       "       [16.31998048],\n",
       "       [14.06750301],\n",
       "       [14.22573568],\n",
       "       [13.00752251],\n",
       "       [18.13277547],\n",
       "       [18.66645496],\n",
       "       [21.50283795],\n",
       "       [17.00039379],\n",
       "       [15.93926602],\n",
       "       [13.32952716],\n",
       "       [14.48949211],\n",
       "       [ 8.78366731],\n",
       "       [ 4.8300317 ],\n",
       "       [13.06115528],\n",
       "       [12.71101472],\n",
       "       [17.2887624 ],\n",
       "       [18.73424906],\n",
       "       [18.05271013],\n",
       "       [11.49855612],\n",
       "       [13.00841512],\n",
       "       [17.66975577],\n",
       "       [18.12342294],\n",
       "       [17.51503231],\n",
       "       [17.21307203],\n",
       "       [16.48238543],\n",
       "       [19.40079737],\n",
       "       [18.57392951],\n",
       "       [22.47833186],\n",
       "       [15.24179836],\n",
       "       [15.78327609],\n",
       "       [12.64853778],\n",
       "       [12.84121049],\n",
       "       [17.17173661],\n",
       "       [18.50906858],\n",
       "       [19.02803874],\n",
       "       [20.16441773],\n",
       "       [19.76975335],\n",
       "       [22.42614937],\n",
       "       [20.31750314],\n",
       "       [17.87618837],\n",
       "       [14.3391341 ],\n",
       "       [16.93715603],\n",
       "       [16.98716629],\n",
       "       [18.59431701],\n",
       "       [20.16395155],\n",
       "       [22.97743546],\n",
       "       [22.45110639],\n",
       "       [25.5707207 ],\n",
       "       [16.39091112],\n",
       "       [16.09765427],\n",
       "       [20.52835689],\n",
       "       [11.5429045 ],\n",
       "       [19.20387482],\n",
       "       [21.86820603],\n",
       "       [23.47052203],\n",
       "       [27.10034494],\n",
       "       [28.57064813],\n",
       "       [21.0839881 ],\n",
       "       [19.4490529 ],\n",
       "       [22.2189221 ],\n",
       "       [19.65423066],\n",
       "       [21.324671  ],\n",
       "       [11.86231364],\n",
       "       [ 8.22260592],\n",
       "       [ 3.65825168],\n",
       "       [13.76275951],\n",
       "       [15.93780944],\n",
       "       [20.62730097],\n",
       "       [20.61035443],\n",
       "       [16.88048035],\n",
       "       [14.01017244],\n",
       "       [19.10825534],\n",
       "       [21.29720741],\n",
       "       [18.45524217],\n",
       "       [20.46764235],\n",
       "       [23.53261729],\n",
       "       [22.37869798],\n",
       "       [27.62934247],\n",
       "       [26.12983844],\n",
       "       [22.34870269]])"
      ]
     },
     "execution_count": 37,
     "metadata": {},
     "output_type": "execute_result"
    }
   ],
   "source": [
    "# 1. import the model class\n",
    "from sklearn.linear_model import LinearRegression\n",
    "\n",
    "# 2. instantiate\n",
    "lr = LinearRegression()\n",
    "\n",
    "# 3. train the model\n",
    "lr.fit(X, y) # note here we are training on the whole data set\n",
    "\n",
    "# 4 predict the response values for the entire data set\n",
    "lr.predict(X)"
   ]
  },
  {
   "cell_type": "markdown",
   "metadata": {},
   "source": [
    "#### Store the predicted response values."
   ]
  },
  {
   "cell_type": "code",
   "execution_count": 40,
   "metadata": {},
   "outputs": [],
   "source": [
    "y_pred = lr.predict(X)\n"
   ]
  },
  {
   "cell_type": "code",
   "execution_count": 41,
   "metadata": {},
   "outputs": [
    {
     "data": {
      "text/plain": [
       "array([[30.00821269],\n",
       "       [25.0298606 ],\n",
       "       [30.5702317 ],\n",
       "       [28.60814055],\n",
       "       [27.94288232],\n",
       "       [25.25940048],\n",
       "       [23.00433994],\n",
       "       [19.5347558 ],\n",
       "       [11.51696539],\n",
       "       [18.91981483],\n",
       "       [18.9958266 ],\n",
       "       [21.58970854],\n",
       "       [20.90534851],\n",
       "       [19.55535931],\n",
       "       [19.2837957 ],\n",
       "       [19.30000174],\n",
       "       [20.52889993],\n",
       "       [16.9096749 ],\n",
       "       [16.17067411],\n",
       "       [18.40781636],\n",
       "       [12.52040454],\n",
       "       [17.67104565],\n",
       "       [15.82934891],\n",
       "       [13.80368317],\n",
       "       [15.67708138],\n",
       "       [13.3791645 ],\n",
       "       [15.46258829],\n",
       "       [14.69863607],\n",
       "       [19.54518512],\n",
       "       [20.87309945],\n",
       "       [11.44806825],\n",
       "       [18.05900412],\n",
       "       [ 8.78841666],\n",
       "       [14.27882319],\n",
       "       [13.69097132],\n",
       "       [23.81755469],\n",
       "       [22.34216285],\n",
       "       [23.11123204],\n",
       "       [22.91494157],\n",
       "       [31.35826216],\n",
       "       [34.21485385],\n",
       "       [28.0207132 ],\n",
       "       [25.20646572],\n",
       "       [24.61192851],\n",
       "       [22.94438953],\n",
       "       [22.10150945],\n",
       "       [20.42467417],\n",
       "       [18.03614022],\n",
       "       [ 9.10176198],\n",
       "       [17.20856571],\n",
       "       [21.28259372],\n",
       "       [23.97621248],\n",
       "       [27.65853521],\n",
       "       [24.0521088 ],\n",
       "       [15.35989132],\n",
       "       [31.14817003],\n",
       "       [24.85878746],\n",
       "       [33.11017111],\n",
       "       [21.77458036],\n",
       "       [21.08526739],\n",
       "       [17.87203538],\n",
       "       [18.50881381],\n",
       "       [23.9879809 ],\n",
       "       [22.54944098],\n",
       "       [23.37068403],\n",
       "       [30.36557584],\n",
       "       [25.53407332],\n",
       "       [21.11758504],\n",
       "       [17.42468223],\n",
       "       [20.7893086 ],\n",
       "       [25.20349174],\n",
       "       [21.74490595],\n",
       "       [24.56275612],\n",
       "       [24.04479519],\n",
       "       [25.5091157 ],\n",
       "       [23.97076758],\n",
       "       [22.94823519],\n",
       "       [23.36106095],\n",
       "       [21.26432549],\n",
       "       [22.4345376 ],\n",
       "       [28.40699937],\n",
       "       [26.99734716],\n",
       "       [26.03807246],\n",
       "       [25.06152125],\n",
       "       [24.7858613 ],\n",
       "       [27.79291889],\n",
       "       [22.16927073],\n",
       "       [25.89685664],\n",
       "       [30.67771522],\n",
       "       [30.83225886],\n",
       "       [27.12127354],\n",
       "       [27.41597825],\n",
       "       [28.9456478 ],\n",
       "       [29.08668003],\n",
       "       [27.04501726],\n",
       "       [28.62506705],\n",
       "       [24.73038218],\n",
       "       [35.78062378],\n",
       "       [35.11269515],\n",
       "       [32.25115468],\n",
       "       [24.57946786],\n",
       "       [25.59386215],\n",
       "       [19.76439137],\n",
       "       [20.31157117],\n",
       "       [21.4353635 ],\n",
       "       [18.53971968],\n",
       "       [17.18572611],\n",
       "       [20.74934949],\n",
       "       [22.64791346],\n",
       "       [19.77000977],\n",
       "       [20.64745349],\n",
       "       [26.52652691],\n",
       "       [20.77440554],\n",
       "       [20.71546432],\n",
       "       [25.17461484],\n",
       "       [20.4273652 ],\n",
       "       [23.37862521],\n",
       "       [23.69454145],\n",
       "       [20.33202239],\n",
       "       [20.79378139],\n",
       "       [21.92024414],\n",
       "       [22.47432006],\n",
       "       [20.55884635],\n",
       "       [16.36300764],\n",
       "       [20.56342111],\n",
       "       [22.48570454],\n",
       "       [14.61264839],\n",
       "       [15.1802607 ],\n",
       "       [18.93828443],\n",
       "       [14.0574955 ],\n",
       "       [20.03651959],\n",
       "       [19.41306288],\n",
       "       [20.06401034],\n",
       "       [15.76005772],\n",
       "       [13.24771577],\n",
       "       [17.26167729],\n",
       "       [15.87759672],\n",
       "       [19.36145104],\n",
       "       [13.81270814],\n",
       "       [16.44782934],\n",
       "       [13.56511101],\n",
       "       [ 3.98343974],\n",
       "       [14.59241207],\n",
       "       [12.14503093],\n",
       "       [ 8.72407108],\n",
       "       [12.00815659],\n",
       "       [15.80308586],\n",
       "       [ 8.50963929],\n",
       "       [ 9.70965512],\n",
       "       [14.79848067],\n",
       "       [20.83598096],\n",
       "       [18.30017013],\n",
       "       [20.12575267],\n",
       "       [17.27585681],\n",
       "       [22.35997992],\n",
       "       [20.07985184],\n",
       "       [13.59903744],\n",
       "       [33.26635221],\n",
       "       [29.03938379],\n",
       "       [25.56694529],\n",
       "       [32.71732164],\n",
       "       [36.78111388],\n",
       "       [40.56615533],\n",
       "       [41.85122271],\n",
       "       [24.79875684],\n",
       "       [25.3771545 ],\n",
       "       [37.20662185],\n",
       "       [23.08244608],\n",
       "       [26.40326834],\n",
       "       [26.65647433],\n",
       "       [22.55412919],\n",
       "       [24.2970948 ],\n",
       "       [22.98024802],\n",
       "       [29.07488389],\n",
       "       [26.52620066],\n",
       "       [30.72351225],\n",
       "       [25.61835359],\n",
       "       [29.14203283],\n",
       "       [31.43690634],\n",
       "       [32.9232938 ],\n",
       "       [34.72096487],\n",
       "       [27.76792733],\n",
       "       [33.88992899],\n",
       "       [30.99725805],\n",
       "       [22.72124288],\n",
       "       [24.76567683],\n",
       "       [35.88131719],\n",
       "       [33.42696242],\n",
       "       [32.41513625],\n",
       "       [34.51611818],\n",
       "       [30.76057666],\n",
       "       [30.29169893],\n",
       "       [32.92040221],\n",
       "       [32.11459912],\n",
       "       [31.56133385],\n",
       "       [40.84274603],\n",
       "       [36.13046343],\n",
       "       [32.66639271],\n",
       "       [34.70558647],\n",
       "       [30.09276228],\n",
       "       [30.64139724],\n",
       "       [29.29189704],\n",
       "       [37.07062623],\n",
       "       [42.02879611],\n",
       "       [43.18582722],\n",
       "       [22.6923888 ],\n",
       "       [23.68420569],\n",
       "       [17.85435295],\n",
       "       [23.49543857],\n",
       "       [17.00872418],\n",
       "       [22.39535066],\n",
       "       [17.06152243],\n",
       "       [22.74106824],\n",
       "       [25.21974252],\n",
       "       [11.10601161],\n",
       "       [24.51300617],\n",
       "       [26.60749026],\n",
       "       [28.35802444],\n",
       "       [24.91860458],\n",
       "       [29.69254951],\n",
       "       [33.18492755],\n",
       "       [23.77145523],\n",
       "       [32.14086508],\n",
       "       [29.74802362],\n",
       "       [38.36605632],\n",
       "       [39.80716458],\n",
       "       [37.58362546],\n",
       "       [32.39769704],\n",
       "       [35.45048257],\n",
       "       [31.23446481],\n",
       "       [24.48478321],\n",
       "       [33.28615723],\n",
       "       [38.04368164],\n",
       "       [37.15737267],\n",
       "       [31.71297469],\n",
       "       [25.26658017],\n",
       "       [30.101515  ],\n",
       "       [32.71897655],\n",
       "       [28.42735376],\n",
       "       [28.42999168],\n",
       "       [27.2913215 ],\n",
       "       [23.74446671],\n",
       "       [24.11878941],\n",
       "       [27.40241209],\n",
       "       [16.32993575],\n",
       "       [13.39695213],\n",
       "       [20.01655581],\n",
       "       [19.86205904],\n",
       "       [21.28604604],\n",
       "       [24.07796482],\n",
       "       [24.20603792],\n",
       "       [25.04201534],\n",
       "       [24.91709097],\n",
       "       [29.93762975],\n",
       "       [23.97709054],\n",
       "       [21.69931969],\n",
       "       [37.51051381],\n",
       "       [43.29459357],\n",
       "       [36.48121427],\n",
       "       [34.99129701],\n",
       "       [34.80865729],\n",
       "       [37.16296374],\n",
       "       [40.9823638 ],\n",
       "       [34.44211691],\n",
       "       [35.83178068],\n",
       "       [28.24913647],\n",
       "       [31.22022312],\n",
       "       [40.83256202],\n",
       "       [39.31768808],\n",
       "       [25.71099424],\n",
       "       [22.30344878],\n",
       "       [27.20551341],\n",
       "       [28.51386352],\n",
       "       [35.47494122],\n",
       "       [36.11110647],\n",
       "       [33.80004807],\n",
       "       [35.61141951],\n",
       "       [34.84311742],\n",
       "       [30.35359323],\n",
       "       [35.31260262],\n",
       "       [38.79684808],\n",
       "       [34.33296541],\n",
       "       [40.34038636],\n",
       "       [44.67339923],\n",
       "       [31.5955473 ],\n",
       "       [27.35994642],\n",
       "       [20.09520596],\n",
       "       [27.04518524],\n",
       "       [27.21674397],\n",
       "       [26.91105226],\n",
       "       [33.43602979],\n",
       "       [34.40228785],\n",
       "       [31.83374181],\n",
       "       [25.82416035],\n",
       "       [24.43687139],\n",
       "       [28.46348891],\n",
       "       [27.36916176],\n",
       "       [19.54441878],\n",
       "       [29.11480679],\n",
       "       [31.90852699],\n",
       "       [30.77325183],\n",
       "       [28.9430835 ],\n",
       "       [28.88108106],\n",
       "       [32.79876794],\n",
       "       [33.20356949],\n",
       "       [30.76568546],\n",
       "       [35.55843485],\n",
       "       [32.70725436],\n",
       "       [28.64759861],\n",
       "       [23.59388439],\n",
       "       [18.5461558 ],\n",
       "       [26.88429024],\n",
       "       [23.28485442],\n",
       "       [25.55002201],\n",
       "       [25.48337323],\n",
       "       [20.54343769],\n",
       "       [17.61406384],\n",
       "       [18.37627933],\n",
       "       [24.29187594],\n",
       "       [21.3257202 ],\n",
       "       [24.88826131],\n",
       "       [24.87143049],\n",
       "       [22.87255605],\n",
       "       [19.4540234 ],\n",
       "       [25.11948741],\n",
       "       [24.66816374],\n",
       "       [23.68209656],\n",
       "       [19.33951725],\n",
       "       [21.17636041],\n",
       "       [24.25306588],\n",
       "       [21.59311197],\n",
       "       [19.98766667],\n",
       "       [23.34079584],\n",
       "       [22.13973959],\n",
       "       [21.55349196],\n",
       "       [20.61808868],\n",
       "       [20.1607571 ],\n",
       "       [19.28455466],\n",
       "       [22.16593919],\n",
       "       [21.24893735],\n",
       "       [21.42985456],\n",
       "       [30.32874523],\n",
       "       [22.04915396],\n",
       "       [27.70610125],\n",
       "       [28.54595004],\n",
       "       [16.54657063],\n",
       "       [14.78278261],\n",
       "       [25.27336772],\n",
       "       [27.54088054],\n",
       "       [22.14633467],\n",
       "       [20.46081206],\n",
       "       [20.54472332],\n",
       "       [16.88194391],\n",
       "       [25.40066956],\n",
       "       [14.32299547],\n",
       "       [16.5927403 ],\n",
       "       [19.63224597],\n",
       "       [22.7117302 ],\n",
       "       [22.19946949],\n",
       "       [19.1989151 ],\n",
       "       [22.66091019],\n",
       "       [18.92059374],\n",
       "       [18.22715359],\n",
       "       [20.22444386],\n",
       "       [37.47946099],\n",
       "       [14.29172583],\n",
       "       [15.53697148],\n",
       "       [10.82825817],\n",
       "       [23.81134987],\n",
       "       [32.64787163],\n",
       "       [34.61163401],\n",
       "       [24.94604102],\n",
       "       [26.00259724],\n",
       "       [ 6.12085728],\n",
       "       [ 0.78021126],\n",
       "       [25.311373  ],\n",
       "       [17.73465914],\n",
       "       [20.22593282],\n",
       "       [15.83834861],\n",
       "       [16.83742401],\n",
       "       [14.43123608],\n",
       "       [18.47647773],\n",
       "       [13.42427933],\n",
       "       [13.05677824],\n",
       "       [ 3.27646485],\n",
       "       [ 8.05936467],\n",
       "       [ 6.13903114],\n",
       "       [ 5.62271213],\n",
       "       [ 6.44935154],\n",
       "       [14.20597451],\n",
       "       [17.21022671],\n",
       "       [17.29035065],\n",
       "       [ 9.89064351],\n",
       "       [20.21972222],\n",
       "       [17.94511052],\n",
       "       [20.30017588],\n",
       "       [19.28790318],\n",
       "       [16.33300008],\n",
       "       [ 6.56843662],\n",
       "       [10.87541577],\n",
       "       [11.88704097],\n",
       "       [17.81098929],\n",
       "       [18.25461066],\n",
       "       [12.99282707],\n",
       "       [ 7.39319053],\n",
       "       [ 8.25609561],\n",
       "       [ 8.07899971],\n",
       "       [19.98563715],\n",
       "       [13.69651744],\n",
       "       [19.83511412],\n",
       "       [15.2345378 ],\n",
       "       [16.93112419],\n",
       "       [ 1.69347406],\n",
       "       [11.81116263],\n",
       "       [-4.28300934],\n",
       "       [ 9.55007844],\n",
       "       [13.32635521],\n",
       "       [ 6.88351077],\n",
       "       [ 6.16827417],\n",
       "       [14.56933235],\n",
       "       [19.59292932],\n",
       "       [18.1151686 ],\n",
       "       [18.52011987],\n",
       "       [13.13707457],\n",
       "       [14.59662601],\n",
       "       [ 9.8923749 ],\n",
       "       [16.31998048],\n",
       "       [14.06750301],\n",
       "       [14.22573568],\n",
       "       [13.00752251],\n",
       "       [18.13277547],\n",
       "       [18.66645496],\n",
       "       [21.50283795],\n",
       "       [17.00039379],\n",
       "       [15.93926602],\n",
       "       [13.32952716],\n",
       "       [14.48949211],\n",
       "       [ 8.78366731],\n",
       "       [ 4.8300317 ],\n",
       "       [13.06115528],\n",
       "       [12.71101472],\n",
       "       [17.2887624 ],\n",
       "       [18.73424906],\n",
       "       [18.05271013],\n",
       "       [11.49855612],\n",
       "       [13.00841512],\n",
       "       [17.66975577],\n",
       "       [18.12342294],\n",
       "       [17.51503231],\n",
       "       [17.21307203],\n",
       "       [16.48238543],\n",
       "       [19.40079737],\n",
       "       [18.57392951],\n",
       "       [22.47833186],\n",
       "       [15.24179836],\n",
       "       [15.78327609],\n",
       "       [12.64853778],\n",
       "       [12.84121049],\n",
       "       [17.17173661],\n",
       "       [18.50906858],\n",
       "       [19.02803874],\n",
       "       [20.16441773],\n",
       "       [19.76975335],\n",
       "       [22.42614937],\n",
       "       [20.31750314],\n",
       "       [17.87618837],\n",
       "       [14.3391341 ],\n",
       "       [16.93715603],\n",
       "       [16.98716629],\n",
       "       [18.59431701],\n",
       "       [20.16395155],\n",
       "       [22.97743546],\n",
       "       [22.45110639],\n",
       "       [25.5707207 ],\n",
       "       [16.39091112],\n",
       "       [16.09765427],\n",
       "       [20.52835689],\n",
       "       [11.5429045 ],\n",
       "       [19.20387482],\n",
       "       [21.86820603],\n",
       "       [23.47052203],\n",
       "       [27.10034494],\n",
       "       [28.57064813],\n",
       "       [21.0839881 ],\n",
       "       [19.4490529 ],\n",
       "       [22.2189221 ],\n",
       "       [19.65423066],\n",
       "       [21.324671  ],\n",
       "       [11.86231364],\n",
       "       [ 8.22260592],\n",
       "       [ 3.65825168],\n",
       "       [13.76275951],\n",
       "       [15.93780944],\n",
       "       [20.62730097],\n",
       "       [20.61035443],\n",
       "       [16.88048035],\n",
       "       [14.01017244],\n",
       "       [19.10825534],\n",
       "       [21.29720741],\n",
       "       [18.45524217],\n",
       "       [20.46764235],\n",
       "       [23.53261729],\n",
       "       [22.37869798],\n",
       "       [27.62934247],\n",
       "       [26.12983844],\n",
       "       [22.34870269]])"
      ]
     },
     "execution_count": 41,
     "metadata": {},
     "output_type": "execute_result"
    }
   ],
   "source": [
    "y_pred"
   ]
  },
  {
   "cell_type": "markdown",
   "metadata": {},
   "source": [
    "We need a measure of model performance. The most common choices for regression problems are:\n",
    "\n",
    "- **R-squared**: The percentage of variance captured by the model.\n",
    "- **Mean squared error**: The average squared distance between the prediction and the correct answer.\n",
    "\n",
    "We'll use mean squared error."
   ]
  },
  {
   "cell_type": "markdown",
   "metadata": {},
   "source": [
    "#### Compute mean squared error using a function from `metrics`."
   ]
  },
  {
   "cell_type": "code",
   "execution_count": 42,
   "metadata": {
    "collapsed": true
   },
   "outputs": [
    {
     "name": "stdout",
     "output_type": "stream",
     "text": [
      "Help on function mean_squared_error in module sklearn.metrics.regression:\n",
      "\n",
      "mean_squared_error(y_true, y_pred, sample_weight=None, multioutput='uniform_average')\n",
      "    Mean squared error regression loss\n",
      "    \n",
      "    Read more in the :ref:`User Guide <mean_squared_error>`.\n",
      "    \n",
      "    Parameters\n",
      "    ----------\n",
      "    y_true : array-like of shape = (n_samples) or (n_samples, n_outputs)\n",
      "        Ground truth (correct) target values.\n",
      "    \n",
      "    y_pred : array-like of shape = (n_samples) or (n_samples, n_outputs)\n",
      "        Estimated target values.\n",
      "    \n",
      "    sample_weight : array-like of shape = (n_samples), optional\n",
      "        Sample weights.\n",
      "    \n",
      "    multioutput : string in ['raw_values', 'uniform_average']\n",
      "        or array-like of shape (n_outputs)\n",
      "        Defines aggregating of multiple output values.\n",
      "        Array-like value defines weights used to average errors.\n",
      "    \n",
      "        'raw_values' :\n",
      "            Returns a full set of errors in case of multioutput input.\n",
      "    \n",
      "        'uniform_average' :\n",
      "            Errors of all outputs are averaged with uniform weight.\n",
      "    \n",
      "    Returns\n",
      "    -------\n",
      "    loss : float or ndarray of floats\n",
      "        A non-negative floating point value (the best value is 0.0), or an\n",
      "        array of floating point values, one for each individual target.\n",
      "    \n",
      "    Examples\n",
      "    --------\n",
      "    >>> from sklearn.metrics import mean_squared_error\n",
      "    >>> y_true = [3, -0.5, 2, 7]\n",
      "    >>> y_pred = [2.5, 0.0, 2, 8]\n",
      "    >>> mean_squared_error(y_true, y_pred)\n",
      "    0.375\n",
      "    >>> y_true = [[0.5, 1],[-1, 1],[7, -6]]\n",
      "    >>> y_pred = [[0, 2],[-1, 2],[8, -5]]\n",
      "    >>> mean_squared_error(y_true, y_pred)  # doctest: +ELLIPSIS\n",
      "    0.708...\n",
      "    >>> mean_squared_error(y_true, y_pred, multioutput='raw_values')\n",
      "    ... # doctest: +ELLIPSIS\n",
      "    array([ 0.416...,  1.        ])\n",
      "    >>> mean_squared_error(y_true, y_pred, multioutput=[0.3, 0.7])\n",
      "    ... # doctest: +ELLIPSIS\n",
      "    0.824...\n",
      "\n"
     ]
    }
   ],
   "source": [
    "from sklearn import metrics\n",
    "\n",
    "help(metrics.mean_squared_error)"
   ]
  },
  {
   "cell_type": "code",
   "execution_count": 43,
   "metadata": {},
   "outputs": [
    {
     "data": {
      "text/plain": [
       "21.8977792176875"
      ]
     },
     "execution_count": 43,
     "metadata": {},
     "output_type": "execute_result"
    }
   ],
   "source": [
    "metrics.mean_squared_error(y, y_pred) # mean square on a training set"
   ]
  },
  {
   "cell_type": "markdown",
   "metadata": {},
   "source": [
    "This is known as the **training mean squared error** because we are evaluating the model based on the same data we used to train the model."
   ]
  },
  {
   "cell_type": "markdown",
   "metadata": {},
   "source": [
    "<a id=\"problems-with-training-and-testing-on-the-same-data\"></a>\n",
    "### Problem With Training and Testing on the Same Data\n",
    "\n",
    "Maximizing the MSE on **in-sample data** rewards high-variance/low-bias models that fit the noise in the training data as well as the signal.\n",
    "\n",
    "Our goal is to estimate likely performance of a model on **out-of-sample data**, so a better approach is to put some data aside as a test set."
   ]
  },
  {
   "cell_type": "markdown",
   "metadata": {},
   "source": [
    "<a id=\"evaluation-procedure--traintest-split\"></a>\n",
    "### Evaluation procedure #2: Train/Test Split"
   ]
  },
  {
   "cell_type": "markdown",
   "metadata": {},
   "source": [
    "1. Split the data set into two pieces: a **training set** and a **testing set**.\n",
    "2. Train the model on the **training set**.\n",
    "3. Test the model on the **testing set** and evaluate how well we did.\n",
    "\n",
    "A common rule of thumb is to set aside 30% of your data set for testing.\n",
    "\n",
    "**Testing MSE is a better estimate of out-of-sample performance than training MSE.**"
   ]
  },
  {
   "cell_type": "markdown",
   "metadata": {},
   "source": [
    "#### Understanding the `train_test_split` Function"
   ]
  },
  {
   "cell_type": "code",
   "execution_count": 51,
   "metadata": {},
   "outputs": [],
   "source": [
    "from sklearn.model_selection import train_test_split\n",
    "\n",
    "np.random.seed(123)\n",
    "\n",
    "X_train, X_test, y_train, y_test = train_test_split(X, y)"
   ]
  },
  {
   "cell_type": "code",
   "execution_count": 53,
   "metadata": {},
   "outputs": [
    {
     "name": "stdout",
     "output_type": "stream",
     "text": [
      "Int64Index([335, 142, 170, 241, 379, 367, 388, 156, 433,  31,\n",
      "            ...\n",
      "            123, 106,  83,  17, 230,  98, 476, 322, 382, 365],\n",
      "           dtype='int64', length=379)\n",
      "Int64Index([335, 142, 170, 241, 379, 367, 388, 156, 433,  31,\n",
      "            ...\n",
      "            123, 106,  83,  17, 230,  98, 476, 322, 382, 365],\n",
      "           dtype='int64', length=379)\n"
     ]
    }
   ],
   "source": [
    "print(X_train.index)\n",
    "print(y_train.index)"
   ]
  },
  {
   "cell_type": "code",
   "execution_count": null,
   "metadata": {},
   "outputs": [],
   "source": []
  },
  {
   "cell_type": "markdown",
   "metadata": {},
   "source": [
    "![train_test_split](./assets/train_test_split.png)"
   ]
  },
  {
   "cell_type": "markdown",
   "metadata": {},
   "source": [
    "#### Understanding the `random_state` Parameter\n",
    "\n",
    "The `random_state` is a pseudo-random number that allows us to reproduce our results every time we run them. However, it makes it impossible to predict what are exact results will be if we chose a new `random_state`.\n",
    "\n",
    "`random_state` is very useful for testing that your model was made correctly since it provides you with the same split each time. However, make sure you remove it if you are testing for model variability!"
   ]
  },
  {
   "cell_type": "code",
   "execution_count": null,
   "metadata": {},
   "outputs": [],
   "source": [
    "# WITHOUT a random_state parameter:\n",
    "#  (If you run this code several times, you get different results!)\n",
    "X_train, X_test, y_train, y_test = train_test_split(X, y)\n",
    "\n",
    "# Print the first element of each object.\n",
    "print(X_train.head(1))"
   ]
  },
  {
   "cell_type": "code",
   "execution_count": null,
   "metadata": {},
   "outputs": [],
   "source": [
    "# WITH a random_state parameter:\n",
    "#  (Same split every time! Note you can change the random state to any integer.)\n",
    "X_train, X_test, y_train, y_test = train_test_split(X, y, random_state=1)\n",
    "\n",
    "# Print the first element of each object.\n",
    "print(X_train.head(1))\n",
    "print(X_test.head(1))\n",
    "print(y_train.head(1))\n",
    "print(y_test.head(1))"
   ]
  },
  {
   "cell_type": "markdown",
   "metadata": {},
   "source": [
    "#### Step 1: Split X and y into training and testing sets (using `random_state` for reproducibility)."
   ]
  },
  {
   "cell_type": "code",
   "execution_count": 59,
   "metadata": {},
   "outputs": [],
   "source": [
    "y = boston.loc[:, 'MEDV']\n",
    "X = boston.loc[:, ['AGE', 'RM']]\n",
    "\n",
    "X_train, X_test, y_train, y_test = train_test_split(X, y, random_state=123)"
   ]
  },
  {
   "cell_type": "markdown",
   "metadata": {},
   "source": [
    "#### Step 2: Train the model on the training set."
   ]
  },
  {
   "cell_type": "code",
   "execution_count": 60,
   "metadata": {},
   "outputs": [
    {
     "data": {
      "text/plain": [
       "LinearRegression(copy_X=True, fit_intercept=True, n_jobs=1, normalize=False)"
      ]
     },
     "execution_count": 60,
     "metadata": {},
     "output_type": "execute_result"
    }
   ],
   "source": [
    "lr = LinearRegression()\n",
    "lr.fit(X_train, y_train)"
   ]
  },
  {
   "cell_type": "markdown",
   "metadata": {},
   "source": [
    "#### Step 3: Test the model on the testing set and check the accuracy."
   ]
  },
  {
   "cell_type": "code",
   "execution_count": 61,
   "metadata": {},
   "outputs": [
    {
     "name": "stdout",
     "output_type": "stream",
     "text": [
      " Training MSE:  37.87549052631233\n",
      " Test MSE:  45.13214982790762\n"
     ]
    }
   ],
   "source": [
    "y_pred = lr.predict(X_test)\n",
    "\n",
    "print(' Training MSE: ',\n",
    "    metrics.mean_squared_error(y_train, lr.predict(X_train))\n",
    "     )\n",
    "\n",
    "\n",
    "print(' Test MSE: ',\n",
    "    metrics.mean_squared_error(y_test, lr.predict(X_test))\n",
    "     )"
   ]
  },
  {
   "cell_type": "markdown",
   "metadata": {},
   "source": [
    "\n",
    "![Bias-variance tradeoff](./assets/bias_variance.png)"
   ]
  },
  {
   "cell_type": "markdown",
   "metadata": {},
   "source": [
    "#### Go back to Step 1 and try adding new variables and transformations."
   ]
  },
  {
   "cell_type": "markdown",
   "metadata": {},
   "source": [
    "- **Training error**: Decreases as model complexity increases (lower value of k).\n",
    "- **Testing error**: Is minimized at the optimum model complexity."
   ]
  },
  {
   "cell_type": "markdown",
   "metadata": {},
   "source": [
    "<a id=\"comparing-test-performance-with-a-null-baseline\"></a>\n",
    "### Comparing Test Performance With a Null Baseline"
   ]
  },
  {
   "cell_type": "markdown",
   "metadata": {},
   "source": [
    "How do you know if your model is any good?\n",
    "\n",
    "It helps to have benchmarks to compare against. A very simple model can provide a *baseline* that you can use to check whether your model is complete garbage or not.\n",
    "\n",
    "A good baseline for linear regression is a model that just predicts the mean of the target variable every time."
   ]
  },
  {
   "cell_type": "code",
   "execution_count": null,
   "metadata": {},
   "outputs": [],
   "source": []
  },
  {
   "cell_type": "code",
   "execution_count": 65,
   "metadata": {},
   "outputs": [
    {
     "data": {
      "text/plain": [
       "78.9422382044764"
      ]
     },
     "execution_count": 65,
     "metadata": {},
     "output_type": "execute_result"
    }
   ],
   "source": [
    "# Use .apply() to broadcast a mean for every prediction.\n",
    "metrics.mean_squared_error(y_test, \n",
    "                           pd.DataFrame(y_test).apply(np.mean, broadcast=True))"
   ]
  },
  {
   "cell_type": "markdown",
   "metadata": {},
   "source": [
    "**Exercise.** What does this result tell us about our linear regression model?"
   ]
  },
  {
   "cell_type": "markdown",
   "metadata": {},
   "source": []
  },
  {
   "cell_type": "markdown",
   "metadata": {},
   "source": [
    "<a id=\"k-folds-cross-validation\"></a>\n",
    "## K-Folds Cross-Validation\n",
    "---"
   ]
  },
  {
   "cell_type": "markdown",
   "metadata": {},
   "source": [
    "A simple train/test split has at least two drawbacks:\n",
    "\n",
    "- Setting aside a test set that is large enough to provide a good estimate of performance can get in the way of training and lead you to choose a simpler model than you would need to do well when training on the full data set.\n",
    "- Evaluating many models on the same test set can lead to overfitting on the test set.\n",
    "\n",
    "**Solution:** Train the model on k separate train-test-splits, then average the resulting evaluation metric values."
   ]
  },
  {
   "cell_type": "markdown",
   "metadata": {},
   "source": [
    "![](./assets/cross_validation_diagram.png)"
   ]
  },
  {
   "cell_type": "markdown",
   "metadata": {},
   "source": [
    "This approach allows you to make each test set smaller while still getting a good estimate of accuracy and makes it harder to overfit to the test set by using all of the test set for evaluation."
   ]
  },
  {
   "cell_type": "markdown",
   "metadata": {},
   "source": [
    "<a id=\"leave-one-out-cross-validation\"></a>\n",
    "### Leave-One-Out Cross-Validation"
   ]
  },
  {
   "cell_type": "markdown",
   "metadata": {},
   "source": [
    "An extreme case of k-fold cross-validation is leave-one-out cross-validation, where you hold out just one data point at a time.\n",
    "\n",
    "This approach is great for making the best use of the training data while getting a good estimate of performance. However, it can be *very slow* because it requires fitting your model $n$ times.\n",
    "\n",
    "A more common approach is to set $k$ somewhere between 5 and 10."
   ]
  },
  {
   "cell_type": "markdown",
   "metadata": {},
   "source": [
    "<a id=\"intro-to-cross-validation-with-the-boston-data\"></a>\n",
    "### Intro to Cross-Validation With the Boston Data"
   ]
  },
  {
   "cell_type": "markdown",
   "metadata": {},
   "source": [
    "#### Create a cross-validation with five folds."
   ]
  },
  {
   "cell_type": "code",
   "execution_count": 70,
   "metadata": {},
   "outputs": [],
   "source": [
    "from sklearn.model_selection import KFold\n",
    "\n",
    "kf = KFold(n_splits=5, shuffle=True)\n"
   ]
  },
  {
   "cell_type": "code",
   "execution_count": 71,
   "metadata": {
    "collapsed": true
   },
   "outputs": [
    {
     "data": {
      "text/plain": [
       "[(array([  2,   3,   4,   5,   7,   8,   9,  10,  11,  13,  14,  15,  16,\n",
       "          17,  19,  20,  23,  24,  25,  26,  27,  28,  29,  30,  32,  33,\n",
       "          37,  39,  40,  43,  44,  45,  46,  47,  49,  50,  51,  52,  55,\n",
       "          56,  57,  58,  59,  60,  62,  65,  66,  67,  68,  69,  71,  72,\n",
       "          73,  74,  75,  78,  79,  80,  81,  82,  83,  84,  85,  86,  87,\n",
       "          88,  89,  90,  91,  92,  95,  96,  97,  98,  99, 100, 101, 102,\n",
       "         105, 106, 108, 109, 110, 111, 112, 114, 116, 117, 118, 119, 120,\n",
       "         121, 123, 124, 125, 127, 128, 129, 130, 132, 133, 134, 135, 136,\n",
       "         137, 138, 139, 140, 141, 142, 143, 144, 145, 147, 148, 149, 150,\n",
       "         151, 152, 153, 154, 155, 157, 158, 159, 160, 162, 163, 164, 165,\n",
       "         166, 169, 172, 173, 175, 176, 177, 178, 180, 181, 182, 184, 185,\n",
       "         186, 187, 188, 189, 190, 192, 193, 194, 195, 197, 198, 199, 200,\n",
       "         201, 202, 203, 204, 205, 206, 207, 208, 209, 211, 212, 213, 215,\n",
       "         216, 217, 218, 219, 220, 221, 222, 223, 224, 225, 227, 228, 229,\n",
       "         230, 231, 232, 233, 234, 235, 236, 237, 238, 239, 240, 242, 243,\n",
       "         244, 245, 246, 247, 248, 249, 250, 251, 252, 253, 254, 255, 256,\n",
       "         257, 258, 260, 264, 266, 267, 270, 271, 272, 273, 274, 276, 277,\n",
       "         278, 279, 280, 281, 282, 283, 284, 285, 286, 287, 289, 292, 294,\n",
       "         295, 296, 297, 299, 301, 303, 304, 305, 306, 307, 308, 312, 313,\n",
       "         314, 315, 316, 317, 320, 321, 322, 323, 325, 326, 327, 328, 329,\n",
       "         330, 331, 332, 334, 336, 338, 339, 340, 341, 342, 343, 344, 346,\n",
       "         348, 349, 351, 352, 353, 354, 355, 356, 357, 359, 360, 361, 362,\n",
       "         364, 365, 366, 367, 368, 369, 370, 371, 372, 373, 374, 375, 376,\n",
       "         377, 378, 379, 380, 381, 382, 383, 384, 386, 388, 389, 390, 391,\n",
       "         392, 393, 394, 395, 396, 397, 398, 399, 401, 402, 403, 404, 405,\n",
       "         406, 407, 408, 410, 411, 412, 413, 414, 417, 418, 419, 420, 421,\n",
       "         422, 423, 424, 425, 426, 427, 429, 430, 432, 433, 434, 435, 437,\n",
       "         438, 440, 441, 442, 443, 445, 446, 447, 448, 449, 450, 451, 454,\n",
       "         455, 456, 457, 459, 461, 462, 463, 464, 465, 466, 469, 470, 471,\n",
       "         474, 475, 476, 477, 478, 479, 480, 481, 483, 484, 485, 486, 487,\n",
       "         488, 490, 491, 492, 493, 494, 495, 497, 498, 499, 501, 502, 504,\n",
       "         505]),\n",
       "  array([  0,   1,   6,  12,  18,  21,  22,  31,  34,  35,  36,  38,  41,\n",
       "          42,  48,  53,  54,  61,  63,  64,  70,  76,  77,  93,  94, 103,\n",
       "         104, 107, 113, 115, 122, 126, 131, 146, 156, 161, 167, 168, 170,\n",
       "         171, 174, 179, 183, 191, 196, 210, 214, 226, 241, 259, 261, 262,\n",
       "         263, 265, 268, 269, 275, 288, 290, 291, 293, 298, 300, 302, 309,\n",
       "         310, 311, 318, 319, 324, 333, 335, 337, 345, 347, 350, 358, 363,\n",
       "         385, 387, 400, 409, 415, 416, 428, 431, 436, 439, 444, 452, 453,\n",
       "         458, 460, 467, 468, 472, 473, 482, 489, 496, 500, 503])),\n",
       " (array([  0,   1,   2,   4,   5,   6,   7,   8,   9,  10,  11,  12,  14,\n",
       "          15,  16,  17,  18,  19,  20,  21,  22,  24,  27,  29,  30,  31,\n",
       "          32,  33,  34,  35,  36,  38,  39,  40,  41,  42,  44,  45,  48,\n",
       "          49,  51,  52,  53,  54,  55,  57,  58,  59,  60,  61,  62,  63,\n",
       "          64,  65,  66,  67,  68,  70,  72,  74,  75,  76,  77,  78,  79,\n",
       "          80,  81,  82,  83,  84,  85,  86,  87,  88,  89,  90,  91,  92,\n",
       "          93,  94,  95,  96,  97,  98,  99, 100, 101, 102, 103, 104, 105,\n",
       "         106, 107, 109, 110, 111, 113, 114, 115, 117, 119, 120, 121, 122,\n",
       "         123, 124, 126, 127, 128, 130, 131, 133, 134, 135, 136, 137, 138,\n",
       "         139, 140, 145, 146, 147, 148, 149, 152, 153, 154, 156, 157, 158,\n",
       "         159, 160, 161, 162, 163, 164, 165, 166, 167, 168, 170, 171, 172,\n",
       "         173, 174, 175, 177, 178, 179, 180, 181, 182, 183, 184, 185, 186,\n",
       "         187, 190, 191, 192, 194, 195, 196, 197, 198, 199, 200, 201, 202,\n",
       "         203, 204, 205, 206, 207, 208, 209, 210, 212, 213, 214, 216, 217,\n",
       "         219, 221, 223, 225, 226, 227, 228, 229, 230, 232, 233, 234, 235,\n",
       "         236, 237, 239, 240, 241, 243, 244, 245, 246, 247, 248, 250, 251,\n",
       "         255, 256, 257, 259, 261, 262, 263, 264, 265, 267, 268, 269, 272,\n",
       "         274, 275, 277, 278, 279, 280, 281, 282, 283, 284, 285, 287, 288,\n",
       "         289, 290, 291, 292, 293, 294, 296, 297, 298, 299, 300, 301, 302,\n",
       "         303, 304, 305, 306, 309, 310, 311, 312, 313, 315, 317, 318, 319,\n",
       "         320, 321, 322, 323, 324, 325, 326, 328, 329, 331, 332, 333, 334,\n",
       "         335, 336, 337, 339, 340, 341, 342, 345, 346, 347, 348, 349, 350,\n",
       "         351, 352, 353, 354, 355, 356, 357, 358, 359, 360, 362, 363, 364,\n",
       "         366, 367, 368, 369, 370, 372, 373, 375, 376, 377, 378, 379, 380,\n",
       "         381, 382, 383, 384, 385, 386, 387, 388, 391, 393, 394, 396, 397,\n",
       "         398, 399, 400, 401, 402, 404, 406, 408, 409, 413, 414, 415, 416,\n",
       "         417, 418, 420, 421, 422, 423, 425, 426, 427, 428, 431, 432, 434,\n",
       "         435, 436, 438, 439, 440, 441, 444, 445, 446, 447, 448, 450, 452,\n",
       "         453, 454, 455, 456, 458, 459, 460, 461, 462, 463, 465, 466, 467,\n",
       "         468, 469, 470, 471, 472, 473, 477, 478, 480, 482, 483, 484, 486,\n",
       "         487, 488, 489, 491, 492, 493, 495, 496, 497, 499, 500, 502, 503,\n",
       "         504, 505]),\n",
       "  array([  3,  13,  23,  25,  26,  28,  37,  43,  46,  47,  50,  56,  69,\n",
       "          71,  73, 108, 112, 116, 118, 125, 129, 132, 141, 142, 143, 144,\n",
       "         150, 151, 155, 169, 176, 188, 189, 193, 211, 215, 218, 220, 222,\n",
       "         224, 231, 238, 242, 249, 252, 253, 254, 258, 260, 266, 270, 271,\n",
       "         273, 276, 286, 295, 307, 308, 314, 316, 327, 330, 338, 343, 344,\n",
       "         361, 365, 371, 374, 389, 390, 392, 395, 403, 405, 407, 410, 411,\n",
       "         412, 419, 424, 429, 430, 433, 437, 442, 443, 449, 451, 457, 464,\n",
       "         474, 475, 476, 479, 481, 485, 490, 494, 498, 501])),\n",
       " (array([  0,   1,   2,   3,   6,   7,  11,  12,  13,  14,  15,  16,  17,\n",
       "          18,  19,  20,  21,  22,  23,  24,  25,  26,  27,  28,  30,  31,\n",
       "          34,  35,  36,  37,  38,  39,  40,  41,  42,  43,  44,  46,  47,\n",
       "          48,  50,  51,  53,  54,  55,  56,  57,  58,  60,  61,  63,  64,\n",
       "          65,  66,  67,  68,  69,  70,  71,  72,  73,  74,  76,  77,  79,\n",
       "          80,  81,  83,  89,  90,  91,  92,  93,  94,  95,  96,  98,  99,\n",
       "         100, 101, 102, 103, 104, 105, 107, 108, 109, 111, 112, 113, 114,\n",
       "         115, 116, 117, 118, 120, 121, 122, 123, 124, 125, 126, 127, 128,\n",
       "         129, 130, 131, 132, 136, 137, 141, 142, 143, 144, 145, 146, 147,\n",
       "         148, 149, 150, 151, 153, 155, 156, 157, 159, 160, 161, 164, 165,\n",
       "         167, 168, 169, 170, 171, 172, 173, 174, 175, 176, 177, 178, 179,\n",
       "         180, 181, 182, 183, 184, 186, 187, 188, 189, 190, 191, 192, 193,\n",
       "         194, 195, 196, 198, 199, 200, 201, 202, 205, 206, 207, 208, 209,\n",
       "         210, 211, 212, 213, 214, 215, 216, 217, 218, 219, 220, 222, 224,\n",
       "         226, 227, 228, 229, 230, 231, 234, 235, 238, 239, 240, 241, 242,\n",
       "         243, 244, 245, 246, 248, 249, 250, 251, 252, 253, 254, 255, 257,\n",
       "         258, 259, 260, 261, 262, 263, 265, 266, 268, 269, 270, 271, 272,\n",
       "         273, 274, 275, 276, 277, 278, 279, 280, 281, 282, 283, 284, 285,\n",
       "         286, 287, 288, 289, 290, 291, 292, 293, 294, 295, 298, 299, 300,\n",
       "         302, 303, 304, 305, 306, 307, 308, 309, 310, 311, 313, 314, 316,\n",
       "         317, 318, 319, 321, 324, 325, 327, 328, 330, 331, 333, 334, 335,\n",
       "         336, 337, 338, 339, 340, 343, 344, 345, 347, 348, 350, 356, 357,\n",
       "         358, 359, 360, 361, 362, 363, 365, 367, 369, 371, 372, 373, 374,\n",
       "         375, 376, 379, 383, 384, 385, 386, 387, 388, 389, 390, 391, 392,\n",
       "         394, 395, 396, 397, 398, 399, 400, 401, 402, 403, 404, 405, 407,\n",
       "         408, 409, 410, 411, 412, 414, 415, 416, 417, 419, 420, 422, 424,\n",
       "         425, 427, 428, 429, 430, 431, 432, 433, 434, 435, 436, 437, 439,\n",
       "         440, 441, 442, 443, 444, 447, 448, 449, 450, 451, 452, 453, 454,\n",
       "         455, 456, 457, 458, 460, 461, 463, 464, 465, 466, 467, 468, 469,\n",
       "         470, 471, 472, 473, 474, 475, 476, 477, 479, 481, 482, 485, 486,\n",
       "         487, 489, 490, 492, 494, 495, 496, 497, 498, 499, 500, 501, 502,\n",
       "         503, 505]),\n",
       "  array([  4,   5,   8,   9,  10,  29,  32,  33,  45,  49,  52,  59,  62,\n",
       "          75,  78,  82,  84,  85,  86,  87,  88,  97, 106, 110, 119, 133,\n",
       "         134, 135, 138, 139, 140, 152, 154, 158, 162, 163, 166, 185, 197,\n",
       "         203, 204, 221, 223, 225, 232, 233, 236, 237, 247, 256, 264, 267,\n",
       "         296, 297, 301, 312, 315, 320, 322, 323, 326, 329, 332, 341, 342,\n",
       "         346, 349, 351, 352, 353, 354, 355, 364, 366, 368, 370, 377, 378,\n",
       "         380, 381, 382, 393, 406, 413, 418, 421, 423, 426, 438, 445, 446,\n",
       "         459, 462, 478, 480, 483, 484, 488, 491, 493, 504])),\n",
       " (array([  0,   1,   3,   4,   5,   6,   7,   8,   9,  10,  12,  13,  14,\n",
       "          15,  16,  17,  18,  21,  22,  23,  24,  25,  26,  27,  28,  29,\n",
       "          30,  31,  32,  33,  34,  35,  36,  37,  38,  39,  40,  41,  42,\n",
       "          43,  44,  45,  46,  47,  48,  49,  50,  51,  52,  53,  54,  56,\n",
       "          58,  59,  61,  62,  63,  64,  65,  69,  70,  71,  73,  75,  76,\n",
       "          77,  78,  79,  80,  82,  84,  85,  86,  87,  88,  90,  93,  94,\n",
       "          95,  97, 100, 101, 102, 103, 104, 105, 106, 107, 108, 109, 110,\n",
       "         111, 112, 113, 114, 115, 116, 117, 118, 119, 122, 124, 125, 126,\n",
       "         128, 129, 131, 132, 133, 134, 135, 138, 139, 140, 141, 142, 143,\n",
       "         144, 146, 147, 150, 151, 152, 154, 155, 156, 157, 158, 160, 161,\n",
       "         162, 163, 166, 167, 168, 169, 170, 171, 174, 175, 176, 179, 182,\n",
       "         183, 185, 187, 188, 189, 190, 191, 192, 193, 195, 196, 197, 198,\n",
       "         199, 201, 202, 203, 204, 210, 211, 212, 214, 215, 218, 219, 220,\n",
       "         221, 222, 223, 224, 225, 226, 228, 230, 231, 232, 233, 236, 237,\n",
       "         238, 239, 241, 242, 243, 245, 247, 249, 250, 251, 252, 253, 254,\n",
       "         256, 258, 259, 260, 261, 262, 263, 264, 265, 266, 267, 268, 269,\n",
       "         270, 271, 272, 273, 275, 276, 278, 279, 280, 284, 286, 287, 288,\n",
       "         289, 290, 291, 292, 293, 294, 295, 296, 297, 298, 299, 300, 301,\n",
       "         302, 303, 307, 308, 309, 310, 311, 312, 314, 315, 316, 317, 318,\n",
       "         319, 320, 322, 323, 324, 326, 327, 329, 330, 332, 333, 335, 336,\n",
       "         337, 338, 339, 340, 341, 342, 343, 344, 345, 346, 347, 349, 350,\n",
       "         351, 352, 353, 354, 355, 358, 360, 361, 362, 363, 364, 365, 366,\n",
       "         368, 369, 370, 371, 372, 374, 375, 376, 377, 378, 380, 381, 382,\n",
       "         385, 386, 387, 389, 390, 392, 393, 395, 396, 397, 398, 399, 400,\n",
       "         401, 403, 404, 405, 406, 407, 409, 410, 411, 412, 413, 414, 415,\n",
       "         416, 417, 418, 419, 420, 421, 422, 423, 424, 425, 426, 427, 428,\n",
       "         429, 430, 431, 433, 436, 437, 438, 439, 440, 442, 443, 444, 445,\n",
       "         446, 447, 449, 450, 451, 452, 453, 454, 455, 456, 457, 458, 459,\n",
       "         460, 462, 463, 464, 465, 466, 467, 468, 470, 472, 473, 474, 475,\n",
       "         476, 477, 478, 479, 480, 481, 482, 483, 484, 485, 486, 488, 489,\n",
       "         490, 491, 492, 493, 494, 496, 497, 498, 499, 500, 501, 502, 503,\n",
       "         504, 505]),\n",
       "  array([  2,  11,  19,  20,  55,  57,  60,  66,  67,  68,  72,  74,  81,\n",
       "          83,  89,  91,  92,  96,  98,  99, 120, 121, 123, 127, 130, 136,\n",
       "         137, 145, 148, 149, 153, 159, 164, 165, 172, 173, 177, 178, 180,\n",
       "         181, 184, 186, 194, 200, 205, 206, 207, 208, 209, 213, 216, 217,\n",
       "         227, 229, 234, 235, 240, 244, 246, 248, 255, 257, 274, 277, 281,\n",
       "         282, 283, 285, 304, 305, 306, 313, 321, 325, 328, 331, 334, 348,\n",
       "         356, 357, 359, 367, 373, 379, 383, 384, 388, 391, 394, 402, 408,\n",
       "         432, 434, 435, 441, 448, 461, 469, 471, 487, 495])),\n",
       " (array([  0,   1,   2,   3,   4,   5,   6,   8,   9,  10,  11,  12,  13,\n",
       "          18,  19,  20,  21,  22,  23,  25,  26,  28,  29,  31,  32,  33,\n",
       "          34,  35,  36,  37,  38,  41,  42,  43,  45,  46,  47,  48,  49,\n",
       "          50,  52,  53,  54,  55,  56,  57,  59,  60,  61,  62,  63,  64,\n",
       "          66,  67,  68,  69,  70,  71,  72,  73,  74,  75,  76,  77,  78,\n",
       "          81,  82,  83,  84,  85,  86,  87,  88,  89,  91,  92,  93,  94,\n",
       "          96,  97,  98,  99, 103, 104, 106, 107, 108, 110, 112, 113, 115,\n",
       "         116, 118, 119, 120, 121, 122, 123, 125, 126, 127, 129, 130, 131,\n",
       "         132, 133, 134, 135, 136, 137, 138, 139, 140, 141, 142, 143, 144,\n",
       "         145, 146, 148, 149, 150, 151, 152, 153, 154, 155, 156, 158, 159,\n",
       "         161, 162, 163, 164, 165, 166, 167, 168, 169, 170, 171, 172, 173,\n",
       "         174, 176, 177, 178, 179, 180, 181, 183, 184, 185, 186, 188, 189,\n",
       "         191, 193, 194, 196, 197, 200, 203, 204, 205, 206, 207, 208, 209,\n",
       "         210, 211, 213, 214, 215, 216, 217, 218, 220, 221, 222, 223, 224,\n",
       "         225, 226, 227, 229, 231, 232, 233, 234, 235, 236, 237, 238, 240,\n",
       "         241, 242, 244, 246, 247, 248, 249, 252, 253, 254, 255, 256, 257,\n",
       "         258, 259, 260, 261, 262, 263, 264, 265, 266, 267, 268, 269, 270,\n",
       "         271, 273, 274, 275, 276, 277, 281, 282, 283, 285, 286, 288, 290,\n",
       "         291, 293, 295, 296, 297, 298, 300, 301, 302, 304, 305, 306, 307,\n",
       "         308, 309, 310, 311, 312, 313, 314, 315, 316, 318, 319, 320, 321,\n",
       "         322, 323, 324, 325, 326, 327, 328, 329, 330, 331, 332, 333, 334,\n",
       "         335, 337, 338, 341, 342, 343, 344, 345, 346, 347, 348, 349, 350,\n",
       "         351, 352, 353, 354, 355, 356, 357, 358, 359, 361, 363, 364, 365,\n",
       "         366, 367, 368, 370, 371, 373, 374, 377, 378, 379, 380, 381, 382,\n",
       "         383, 384, 385, 387, 388, 389, 390, 391, 392, 393, 394, 395, 400,\n",
       "         402, 403, 405, 406, 407, 408, 409, 410, 411, 412, 413, 415, 416,\n",
       "         418, 419, 421, 423, 424, 426, 428, 429, 430, 431, 432, 433, 434,\n",
       "         435, 436, 437, 438, 439, 441, 442, 443, 444, 445, 446, 448, 449,\n",
       "         451, 452, 453, 457, 458, 459, 460, 461, 462, 464, 467, 468, 469,\n",
       "         471, 472, 473, 474, 475, 476, 478, 479, 480, 481, 482, 483, 484,\n",
       "         485, 487, 488, 489, 490, 491, 493, 494, 495, 496, 498, 500, 501,\n",
       "         503, 504]),\n",
       "  array([  7,  14,  15,  16,  17,  24,  27,  30,  39,  40,  44,  51,  58,\n",
       "          65,  79,  80,  90,  95, 100, 101, 102, 105, 109, 111, 114, 117,\n",
       "         124, 128, 147, 157, 160, 175, 182, 187, 190, 192, 195, 198, 199,\n",
       "         201, 202, 212, 219, 228, 230, 239, 243, 245, 250, 251, 272, 278,\n",
       "         279, 280, 284, 287, 289, 292, 294, 299, 303, 317, 336, 339, 340,\n",
       "         360, 362, 369, 372, 375, 376, 386, 396, 397, 398, 399, 401, 404,\n",
       "         414, 417, 420, 422, 425, 427, 440, 447, 450, 454, 455, 456, 463,\n",
       "         465, 466, 470, 477, 486, 492, 497, 499, 502, 505]))]"
      ]
     },
     "execution_count": 71,
     "metadata": {},
     "output_type": "execute_result"
    }
   ],
   "source": [
    "list(kf.split(X, y))"
   ]
  },
  {
   "cell_type": "code",
   "execution_count": 77,
   "metadata": {
    "collapsed": true
   },
   "outputs": [
    {
     "name": "stdout",
     "output_type": "stream",
     "text": [
      "Model 1\n",
      "MSE: 25.325604126054884\n",
      "R2: 0.6358749711692324\n",
      "\n",
      "Model 2\n",
      "MSE: 48.885530782762565\n",
      "R2: 0.4687046464134005\n",
      "\n",
      "Model 3\n",
      "MSE: 46.73442503050167\n",
      "R2: 0.3793171013287163\n",
      "\n",
      "Model 4\n",
      "MSE: 45.168893779755756\n",
      "R2: 0.5108309497094617\n",
      "\n",
      "Model 5\n",
      "MSE: 38.52066510780929\n",
      "R2: 0.557774070143062\n",
      "\n"
     ]
    }
   ],
   "source": [
    "mse_values = []\n",
    "r2_values = []\n",
    "n = 0\n",
    "\n",
    "for train_index, test_index in kf.split(X, y):\n",
    "    lr = LinearRegression()\n",
    "    X_train = X.loc[train_index, :]\n",
    "    y_train = y.loc[train_index]\n",
    "    lr.fit(X_train, y_train)\n",
    "    \n",
    "    X_test = X.loc[test_index, :]\n",
    "    y_test = y.loc[test_index]\n",
    "    \n",
    "    r2 = lr.score(X_test, y_test)\n",
    "    r2_values.append(r2)\n",
    "    \n",
    "    mse = metrics.mean_squared_error(y_test, lr.predict(X_test))\n",
    "    mse_values.append(mse)\n",
    "    \n",
    "    \n",
    "    n += 1\n",
    "    \n",
    "    print('Model', n)\n",
    "    print('MSE:', mse)\n",
    "    print('R2:', r2)\n",
    "    print()\n",
    "                                     \n",
    "                                     \n",
    "    "
   ]
  },
  {
   "cell_type": "code",
   "execution_count": 78,
   "metadata": {},
   "outputs": [
    {
     "data": {
      "text/plain": [
       "40.92702376537683"
      ]
     },
     "execution_count": 78,
     "metadata": {},
     "output_type": "execute_result"
    }
   ],
   "source": [
    "sum(mse_values)/len(mse_values)"
   ]
  },
  {
   "cell_type": "code",
   "execution_count": 79,
   "metadata": {},
   "outputs": [
    {
     "data": {
      "text/plain": [
       "0.5105003477527745"
      ]
     },
     "execution_count": 79,
     "metadata": {},
     "output_type": "execute_result"
    }
   ],
   "source": [
    "sum(r2_values)/len(r2_values)"
   ]
  },
  {
   "cell_type": "markdown",
   "metadata": {},
   "source": [
    "<a id=\"three-way-data-split\"></a>\n",
    "## Three-Way Data Split\n",
    "---\n",
    "Goodhart's law: \"When a measure becomes a target, it ceases to be a good measure.\"\n",
    "\n",
    "Cross-validation performance provides an upwardly biased estimate of out-of-sample performance when you use it to select a model, even with $k$-fold cross validation.\n",
    "\n",
    "If you care about being able to estimate model performance after tuning by cross-validation, then you should set aside a true test set from the beginning that you don't use even in cross-validation."
   ]
  },
  {
   "cell_type": "markdown",
   "metadata": {},
   "source": [
    "![](./assets/Train-Test-Split-CV.png)"
   ]
  },
  {
   "cell_type": "markdown",
   "metadata": {},
   "source": [
    "- If you care about having an unbiased estimate of model performance when you are done, then you should split your data three ways:\n",
    "    - **Training set**: A set of examples used for learning – what parameters of the classifier?\n",
    "    - **Validation set**: A set of examples used to tune the parameters of the classifier.\n",
    "    - **Testing set**: A set of examples used ONLY to assess the performance of the fully trained classifier.\n",
    "- The training-validation split can be k-fold.\n",
    "- Validation and testing must be separate data sets. Once you have the final model set, you cannot do any additional tuning after testing."
   ]
  },
  {
   "cell_type": "markdown",
   "metadata": {},
   "source": [
    "**Steps for a three-way split**\n",
    "\n",
    "1. Set aside a testing set.\n",
    "2. Select architecture (model type) and training parameters ($k$).\n",
    "3. Train the model using the training set and evaluate it using the validation set (using either simple or k-fold train/test split).\n",
    "4. Repeat, selecting different architectures (models) and tuning parameters.\n",
    "5. Select the best model.\n",
    "6. Assess the model with the final testing set."
   ]
  },
  {
   "cell_type": "markdown",
   "metadata": {},
   "source": [
    "<a id=\"additional-resources\"></a>\n",
    "<a id=\"additional-resources\"></a>\n",
    "### Additional Resources\n",
    "- [Bias Variance](http://scott.fortmann-roe.com/docs/BiasVariance.html)\n",
    "- University of Washington [slides](https://courses.cs.washington.edu/courses/cse546/12wi/slides/)"
   ]
  },
  {
   "cell_type": "markdown",
   "metadata": {},
   "source": [
    "<a id=\"summary\"></a>\n",
    "### Summary\n",
    "\n",
    "In this lab, we compared four methods of estimating model accuracy on out-of-sample data:\n",
    "\n",
    "1. **Train on the entire dataset**\n",
    "2. **Simple train/test split**\n",
    "3. **K-folds cross validation**\n",
    "4. **Three-way split**"
   ]
  },
  {
   "cell_type": "markdown",
   "metadata": {},
   "source": [
    "# Questions?"
   ]
  },
  {
   "cell_type": "markdown",
   "metadata": {},
   "source": [
    "# [Exit Tickets](https://docs.google.com/forms/d/1BW4rVsCx8Nzp3q2B7SQ_tL1xqKZr4GGoQ5qeZfayxh4/viewform?ts=5ad40144&edit_requested=true)"
   ]
  }
 ],
 "metadata": {
  "anaconda-cloud": {},
  "kernelspec": {
   "display_name": "Python 3",
   "language": "python",
   "name": "python3"
  },
  "language_info": {
   "codemirror_mode": {
    "name": "ipython",
    "version": 3
   },
   "file_extension": ".py",
   "mimetype": "text/x-python",
   "name": "python",
   "nbconvert_exporter": "python",
   "pygments_lexer": "ipython3",
   "version": "3.6.4"
  }
 },
 "nbformat": 4,
 "nbformat_minor": 2
}

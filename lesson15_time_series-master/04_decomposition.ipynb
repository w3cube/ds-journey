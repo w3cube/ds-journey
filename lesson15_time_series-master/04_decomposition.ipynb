{
 "cells": [
  {
   "cell_type": "markdown",
   "metadata": {},
   "source": [
    "<img src=\"http://imgur.com/1ZcRyrc.png\" style=\"float: left; margin: 20px; height: 55px\">\n",
    "\n",
    "# Time Series: Decomposition"
   ]
  },
  {
   "cell_type": "markdown",
   "metadata": {},
   "source": [
    "### Learning Objectives\n",
    " \n",
    "**After this lesson, you will be able to:**\n",
    "- Describe the different components of time series data (trend, seasonality, cycles, and residual).\n",
    "- Decompose time series data into trend, seasonality, and residual components.\n",
    "- Plot the decomposed components of a time series."
   ]
  },
  {
   "cell_type": "markdown",
   "metadata": {},
   "source": [
    "<h2><a id = \"A\">Time Series Decomposition</a></h2>"
   ]
  },
  {
   "cell_type": "markdown",
   "metadata": {},
   "source": [
    "Splitting a time series into several components is useful for both understanding the data and diagnosing the appropriate forecasting model. Each of these components will represent an underlying pattern. \n",
    "\n",
    "- **Trend**: A trend exists when there is a long-term increase or decrease in the data. It does not have to be linear. Sometimes, we will refer to a trend “changing direction” when, for example, it might go from an increasing trend to a decreasing trend.\n",
    "\n",
    "- **Seasonal**: A seasonal pattern exists when a series is influenced by seasonal factors (e.g., the quarter of the year, the month, or day of the week). Seasonality is always of a fixed and known period.\n",
    "\n",
    "- **Residual**: The leftover or error component."
   ]
  },
  {
   "cell_type": "markdown",
   "metadata": {},
   "source": [
    "A time series can also have **cyclical** components that repeat at irregular intervals, such as what are often called \"business cycles.\" Our decompositions will not have cyclical components."
   ]
  },
  {
   "cell_type": "markdown",
   "metadata": {},
   "source": [
    "### Guided Practice"
   ]
  },
  {
   "cell_type": "markdown",
   "metadata": {},
   "source": [
    "We are going to play around with some bus data from Portland, Oregon. Load in the data set below and check it out."
   ]
  },
  {
   "cell_type": "code",
   "execution_count": 1,
   "metadata": {},
   "outputs": [],
   "source": [
    "import datetime\n",
    "import dateutil\n",
    "\n",
    "import pandas as pd\n",
    "import matplotlib.pyplot as plt\n",
    "import numpy as np\n",
    "import seaborn as sns"
   ]
  },
  {
   "cell_type": "code",
   "execution_count": 2,
   "metadata": {},
   "outputs": [
    {
     "data": {
      "text/html": [
       "<div>\n",
       "<style scoped>\n",
       "    .dataframe tbody tr th:only-of-type {\n",
       "        vertical-align: middle;\n",
       "    }\n",
       "\n",
       "    .dataframe tbody tr th {\n",
       "        vertical-align: top;\n",
       "    }\n",
       "\n",
       "    .dataframe thead th {\n",
       "        text-align: right;\n",
       "    }\n",
       "</style>\n",
       "<table border=\"1\" class=\"dataframe\">\n",
       "  <thead>\n",
       "    <tr style=\"text-align: right;\">\n",
       "      <th></th>\n",
       "      <th>Month</th>\n",
       "      <th>Portland Oregon average monthly bus ridership (/100) January 1973 through June 1982, n=114</th>\n",
       "    </tr>\n",
       "  </thead>\n",
       "  <tbody>\n",
       "    <tr>\n",
       "      <th>0</th>\n",
       "      <td>1960-01</td>\n",
       "      <td>648</td>\n",
       "    </tr>\n",
       "    <tr>\n",
       "      <th>1</th>\n",
       "      <td>1960-02</td>\n",
       "      <td>646</td>\n",
       "    </tr>\n",
       "    <tr>\n",
       "      <th>2</th>\n",
       "      <td>1960-03</td>\n",
       "      <td>639</td>\n",
       "    </tr>\n",
       "    <tr>\n",
       "      <th>3</th>\n",
       "      <td>1960-04</td>\n",
       "      <td>654</td>\n",
       "    </tr>\n",
       "    <tr>\n",
       "      <th>4</th>\n",
       "      <td>1960-05</td>\n",
       "      <td>630</td>\n",
       "    </tr>\n",
       "  </tbody>\n",
       "</table>\n",
       "</div>"
      ],
      "text/plain": [
       "     Month  \\\n",
       "0  1960-01   \n",
       "1  1960-02   \n",
       "2  1960-03   \n",
       "3  1960-04   \n",
       "4  1960-05   \n",
       "\n",
       "  Portland Oregon average monthly bus ridership (/100) January 1973 through June 1982, n=114  \n",
       "0                                                648                                          \n",
       "1                                                646                                          \n",
       "2                                                639                                          \n",
       "3                                                654                                          \n",
       "4                                                630                                          "
      ]
     },
     "execution_count": 2,
     "metadata": {},
     "output_type": "execute_result"
    }
   ],
   "source": [
    "bus = pd.read_csv('./data/bus.csv')\n",
    "bus.head()"
   ]
  },
  {
   "cell_type": "code",
   "execution_count": 3,
   "metadata": {},
   "outputs": [
    {
     "data": {
      "text/html": [
       "<div>\n",
       "<style scoped>\n",
       "    .dataframe tbody tr th:only-of-type {\n",
       "        vertical-align: middle;\n",
       "    }\n",
       "\n",
       "    .dataframe tbody tr th {\n",
       "        vertical-align: top;\n",
       "    }\n",
       "\n",
       "    .dataframe thead th {\n",
       "        text-align: right;\n",
       "    }\n",
       "</style>\n",
       "<table border=\"1\" class=\"dataframe\">\n",
       "  <thead>\n",
       "    <tr style=\"text-align: right;\">\n",
       "      <th></th>\n",
       "      <th>Month</th>\n",
       "      <th>Portland Oregon average monthly bus ridership (/100) January 1973 through June 1982, n=114</th>\n",
       "    </tr>\n",
       "  </thead>\n",
       "  <tbody>\n",
       "    <tr>\n",
       "      <th>111</th>\n",
       "      <td>1969-04</td>\n",
       "      <td>1432</td>\n",
       "    </tr>\n",
       "    <tr>\n",
       "      <th>112</th>\n",
       "      <td>1969-05</td>\n",
       "      <td>1394</td>\n",
       "    </tr>\n",
       "    <tr>\n",
       "      <th>113</th>\n",
       "      <td>1969-06</td>\n",
       "      <td>1327</td>\n",
       "    </tr>\n",
       "    <tr>\n",
       "      <th>114</th>\n",
       "      <td>NaN</td>\n",
       "      <td>NaN</td>\n",
       "    </tr>\n",
       "    <tr>\n",
       "      <th>115</th>\n",
       "      <td>Portland Oregon average monthly bus ridership ...</td>\n",
       "      <td>n=114</td>\n",
       "    </tr>\n",
       "  </tbody>\n",
       "</table>\n",
       "</div>"
      ],
      "text/plain": [
       "                                                 Month  \\\n",
       "111                                            1969-04   \n",
       "112                                            1969-05   \n",
       "113                                            1969-06   \n",
       "114                                                NaN   \n",
       "115  Portland Oregon average monthly bus ridership ...   \n",
       "\n",
       "    Portland Oregon average monthly bus ridership (/100) January 1973 through June 1982, n=114  \n",
       "111                                               1432                                          \n",
       "112                                               1394                                          \n",
       "113                                               1327                                          \n",
       "114                                                NaN                                          \n",
       "115                                              n=114                                          "
      ]
     },
     "execution_count": 3,
     "metadata": {},
     "output_type": "execute_result"
    }
   ],
   "source": [
    "bus.tail()"
   ]
  },
  {
   "cell_type": "markdown",
   "metadata": {},
   "source": [
    "We'll need to clean this data a little. Let's simplify the names of the columns. There are also a couple of bad rows at the end of the file. We'll get rid of those. Additionally, we need to make the `riders` column an integer. "
   ]
  },
  {
   "cell_type": "code",
   "execution_count": 6,
   "metadata": {},
   "outputs": [],
   "source": [
    "# Drop the last two rows\n",
    "bus.drop([114,115], inplace=True)"
   ]
  },
  {
   "cell_type": "code",
   "execution_count": 7,
   "metadata": {},
   "outputs": [
    {
     "data": {
      "text/html": [
       "<div>\n",
       "<style scoped>\n",
       "    .dataframe tbody tr th:only-of-type {\n",
       "        vertical-align: middle;\n",
       "    }\n",
       "\n",
       "    .dataframe tbody tr th {\n",
       "        vertical-align: top;\n",
       "    }\n",
       "\n",
       "    .dataframe thead th {\n",
       "        text-align: right;\n",
       "    }\n",
       "</style>\n",
       "<table border=\"1\" class=\"dataframe\">\n",
       "  <thead>\n",
       "    <tr style=\"text-align: right;\">\n",
       "      <th></th>\n",
       "      <th>month</th>\n",
       "      <th>riders</th>\n",
       "    </tr>\n",
       "  </thead>\n",
       "  <tbody>\n",
       "    <tr>\n",
       "      <th>0</th>\n",
       "      <td>1960-01</td>\n",
       "      <td>648</td>\n",
       "    </tr>\n",
       "    <tr>\n",
       "      <th>1</th>\n",
       "      <td>1960-02</td>\n",
       "      <td>646</td>\n",
       "    </tr>\n",
       "    <tr>\n",
       "      <th>2</th>\n",
       "      <td>1960-03</td>\n",
       "      <td>639</td>\n",
       "    </tr>\n",
       "    <tr>\n",
       "      <th>3</th>\n",
       "      <td>1960-04</td>\n",
       "      <td>654</td>\n",
       "    </tr>\n",
       "    <tr>\n",
       "      <th>4</th>\n",
       "      <td>1960-05</td>\n",
       "      <td>630</td>\n",
       "    </tr>\n",
       "  </tbody>\n",
       "</table>\n",
       "</div>"
      ],
      "text/plain": [
       "     month riders\n",
       "0  1960-01    648\n",
       "1  1960-02    646\n",
       "2  1960-03    639\n",
       "3  1960-04    654\n",
       "4  1960-05    630"
      ]
     },
     "execution_count": 7,
     "metadata": {},
     "output_type": "execute_result"
    }
   ],
   "source": [
    "# Change the column names to \"month\" and \"riders\"\n",
    "bus.columns = ['month', 'riders']\n",
    "bus.head()"
   ]
  },
  {
   "cell_type": "code",
   "execution_count": 11,
   "metadata": {},
   "outputs": [],
   "source": [
    "# Cast \"riders\" to int\n",
    "bus.loc[:, 'riders'].apply(type) # you will see they are string\n",
    "\n",
    "# to cast to int\n",
    "bus.loc[:, 'riders'] = bus.loc[:, 'riders'].apply(int)"
   ]
  },
  {
   "cell_type": "code",
   "execution_count": 13,
   "metadata": {
    "collapsed": true
   },
   "outputs": [
    {
     "data": {
      "text/plain": [
       "0      <class 'int'>\n",
       "1      <class 'int'>\n",
       "2      <class 'int'>\n",
       "3      <class 'int'>\n",
       "4      <class 'int'>\n",
       "5      <class 'int'>\n",
       "6      <class 'int'>\n",
       "7      <class 'int'>\n",
       "8      <class 'int'>\n",
       "9      <class 'int'>\n",
       "10     <class 'int'>\n",
       "11     <class 'int'>\n",
       "12     <class 'int'>\n",
       "13     <class 'int'>\n",
       "14     <class 'int'>\n",
       "15     <class 'int'>\n",
       "16     <class 'int'>\n",
       "17     <class 'int'>\n",
       "18     <class 'int'>\n",
       "19     <class 'int'>\n",
       "20     <class 'int'>\n",
       "21     <class 'int'>\n",
       "22     <class 'int'>\n",
       "23     <class 'int'>\n",
       "24     <class 'int'>\n",
       "25     <class 'int'>\n",
       "26     <class 'int'>\n",
       "27     <class 'int'>\n",
       "28     <class 'int'>\n",
       "29     <class 'int'>\n",
       "           ...      \n",
       "84     <class 'int'>\n",
       "85     <class 'int'>\n",
       "86     <class 'int'>\n",
       "87     <class 'int'>\n",
       "88     <class 'int'>\n",
       "89     <class 'int'>\n",
       "90     <class 'int'>\n",
       "91     <class 'int'>\n",
       "92     <class 'int'>\n",
       "93     <class 'int'>\n",
       "94     <class 'int'>\n",
       "95     <class 'int'>\n",
       "96     <class 'int'>\n",
       "97     <class 'int'>\n",
       "98     <class 'int'>\n",
       "99     <class 'int'>\n",
       "100    <class 'int'>\n",
       "101    <class 'int'>\n",
       "102    <class 'int'>\n",
       "103    <class 'int'>\n",
       "104    <class 'int'>\n",
       "105    <class 'int'>\n",
       "106    <class 'int'>\n",
       "107    <class 'int'>\n",
       "108    <class 'int'>\n",
       "109    <class 'int'>\n",
       "110    <class 'int'>\n",
       "111    <class 'int'>\n",
       "112    <class 'int'>\n",
       "113    <class 'int'>\n",
       "Name: riders, Length: 114, dtype: object"
      ]
     },
     "execution_count": 13,
     "metadata": {},
     "output_type": "execute_result"
    }
   ],
   "source": [
    "bus.loc[:, 'riders'].apply(type) # now see it will int"
   ]
  },
  {
   "cell_type": "code",
   "execution_count": 12,
   "metadata": {},
   "outputs": [
    {
     "data": {
      "text/html": [
       "<div>\n",
       "<style scoped>\n",
       "    .dataframe tbody tr th:only-of-type {\n",
       "        vertical-align: middle;\n",
       "    }\n",
       "\n",
       "    .dataframe tbody tr th {\n",
       "        vertical-align: top;\n",
       "    }\n",
       "\n",
       "    .dataframe thead th {\n",
       "        text-align: right;\n",
       "    }\n",
       "</style>\n",
       "<table border=\"1\" class=\"dataframe\">\n",
       "  <thead>\n",
       "    <tr style=\"text-align: right;\">\n",
       "      <th></th>\n",
       "      <th>month</th>\n",
       "      <th>riders</th>\n",
       "    </tr>\n",
       "  </thead>\n",
       "  <tbody>\n",
       "    <tr>\n",
       "      <th>0</th>\n",
       "      <td>1960-01</td>\n",
       "      <td>648</td>\n",
       "    </tr>\n",
       "    <tr>\n",
       "      <th>1</th>\n",
       "      <td>1960-02</td>\n",
       "      <td>646</td>\n",
       "    </tr>\n",
       "    <tr>\n",
       "      <th>2</th>\n",
       "      <td>1960-03</td>\n",
       "      <td>639</td>\n",
       "    </tr>\n",
       "    <tr>\n",
       "      <th>3</th>\n",
       "      <td>1960-04</td>\n",
       "      <td>654</td>\n",
       "    </tr>\n",
       "    <tr>\n",
       "      <th>4</th>\n",
       "      <td>1960-05</td>\n",
       "      <td>630</td>\n",
       "    </tr>\n",
       "  </tbody>\n",
       "</table>\n",
       "</div>"
      ],
      "text/plain": [
       "     month  riders\n",
       "0  1960-01     648\n",
       "1  1960-02     646\n",
       "2  1960-03     639\n",
       "3  1960-04     654\n",
       "4  1960-05     630"
      ]
     },
     "execution_count": 12,
     "metadata": {},
     "output_type": "execute_result"
    }
   ],
   "source": [
    "bus.head()"
   ]
  },
  {
   "cell_type": "code",
   "execution_count": null,
   "metadata": {},
   "outputs": [],
   "source": [
    "bus.tail()"
   ]
  },
  {
   "cell_type": "code",
   "execution_count": 16,
   "metadata": {},
   "outputs": [],
   "source": [
    "# Convert \"month\" to datetime and set it as an unnamed index\n",
    "bus.loc[:, 'month'] = pd.to_datetime(bus.loc[:, 'month'])\n",
    "bus.set_index('month', inplace=True)"
   ]
  },
  {
   "cell_type": "markdown",
   "metadata": {},
   "source": [
    "### Plot the raw data."
   ]
  },
  {
   "cell_type": "markdown",
   "metadata": {},
   "source": [
    "We can look at the raw data first. Let's plot the time series."
   ]
  },
  {
   "cell_type": "code",
   "execution_count": 17,
   "metadata": {},
   "outputs": [
    {
     "data": {
      "image/png": "[encoded data removed]",
      "text/plain": [
       "<matplotlib.figure.Figure at 0x110457470>"
      ]
     },
     "metadata": {},
     "output_type": "display_data"
    }
   ],
   "source": [
    "fig, ax = plt.subplots()\n",
    "bus.plot(ax=ax);"
   ]
  },
  {
   "cell_type": "markdown",
   "metadata": {},
   "source": [
    "<h2><a id = \"B\">Decompose the time series and plot using the `.seasonal_decompose()` function.</a></h2>"
   ]
  },
  {
   "cell_type": "markdown",
   "metadata": {},
   "source": [
    "Using the `seasonal_decompose()` function, we can break the time series into its constituent parts.\n",
    "\n",
    "Use the function on the `riders` data with a frequency of `12`, then plot the data. We're using a frequency of 12 because the data are monthly.\n",
    "\n",
    "The decomposition object from `seasonal_decompose()` has a `.plot()` function, like with Pandas DataFrames."
   ]
  },
  {
   "cell_type": "code",
   "execution_count": 18,
   "metadata": {},
   "outputs": [
    {
     "name": "stderr",
     "output_type": "stream",
     "text": [
      "/Users/asahani/anaconda3/lib/python3.6/site-packages/statsmodels/compat/pandas.py:56: FutureWarning: The pandas.core.datetools module is deprecated and will be removed in a future version. Please use the pandas.tseries module instead.\n",
      "  from pandas.core import datetools\n"
     ]
    }
   ],
   "source": [
    "# Import seasonal_decompose\n",
    "from statsmodels.tsa.seasonal import seasonal_decompose"
   ]
  },
  {
   "cell_type": "code",
   "execution_count": 20,
   "metadata": {},
   "outputs": [
    {
     "data": {
      "image/png": "[encoded data removed]",
      "text/plain": [
       "<matplotlib.figure.Figure at 0x110d032e8>"
      ]
     },
     "metadata": {},
     "output_type": "display_data"
    }
   ],
   "source": [
    "# Apply seasonal_decompose to the bus data and plot the result\n",
    "decomposition = seasonal_decompose(bus.loc[:, 'riders'], freq=12)\n",
    "fig = decomposition.plot()"
   ]
  },
  {
   "cell_type": "markdown",
   "metadata": {},
   "source": [
    "If you don't specify a frequency then `seasonal_decompose` will infer in. In this case, it seems clear that we should expect 12-month seasonality, so putting it in by hand makes sense."
   ]
  },
  {
   "cell_type": "markdown",
   "metadata": {},
   "source": [
    "### Plot a single component of the decomposition plot."
   ]
  },
  {
   "cell_type": "markdown",
   "metadata": {},
   "source": [
    "We can pull out just one component of the decomposition plot."
   ]
  },
  {
   "cell_type": "code",
   "execution_count": null,
   "metadata": {},
   "outputs": [],
   "source": [
    "# Plot just the seasonal component\n"
   ]
  },
  {
   "cell_type": "code",
   "execution_count": null,
   "metadata": {},
   "outputs": [],
   "source": [
    "# Plot just the seasonal component\n"
   ]
  },
  {
   "cell_type": "code",
   "execution_count": null,
   "metadata": {},
   "outputs": [],
   "source": [
    "# Plot just the residuals\n"
   ]
  },
  {
   "cell_type": "markdown",
   "metadata": {},
   "source": [
    "<h2><a id = \"C\">Examining the residuals and their ACF and PACF.</a></h2>"
   ]
  },
  {
   "cell_type": "markdown",
   "metadata": {},
   "source": [
    "Let's examine the residuals of our data."
   ]
  },
  {
   "cell_type": "code",
   "execution_count": 23,
   "metadata": {
    "collapsed": true
   },
   "outputs": [
    {
     "data": {
      "text/plain": [
       "month\n",
       "1960-01-01          NaN\n",
       "1960-02-01          NaN\n",
       "1960-03-01          NaN\n",
       "1960-04-01          NaN\n",
       "1960-05-01          NaN\n",
       "1960-06-01          NaN\n",
       "1960-07-01    23.713349\n",
       "1960-08-01    43.111497\n",
       "1960-09-01    -1.948688\n",
       "1960-10-01   -34.374614\n",
       "1960-11-01   -55.610725\n",
       "1960-12-01    16.301312\n",
       "1961-01-01    32.431520\n",
       "1961-02-01    35.025270\n",
       "1961-03-01    44.244020\n",
       "1961-04-01    -5.407022\n",
       "1961-05-01   -11.610147\n",
       "1961-06-01   -13.834105\n",
       "1961-07-01    -0.661651\n",
       "1961-08-01    20.319830\n",
       "1961-09-01    -9.032022\n",
       "1961-10-01   -12.374614\n",
       "1961-11-01   -51.444059\n",
       "1961-12-01   -18.198688\n",
       "1962-01-01   -21.485147\n",
       "1962-02-01     2.400270\n",
       "1962-03-01    -1.047647\n",
       "1962-04-01    -3.198688\n",
       "1962-05-01    -6.485147\n",
       "1962-06-01   -11.209105\n",
       "                ...    \n",
       "1967-01-01    -3.860147\n",
       "1967-02-01    30.525270\n",
       "1967-03-01    53.702353\n",
       "1967-04-01    20.509645\n",
       "1967-05-01    22.514853\n",
       "1967-06-01    12.040895\n",
       "1967-07-01   -16.536651\n",
       "1967-08-01   -24.763503\n",
       "1967-09-01    38.342978\n",
       "1967-10-01     2.875386\n",
       "1967-11-01   -20.694059\n",
       "1967-12-01   -12.448688\n",
       "1968-01-01   -20.818480\n",
       "1968-02-01   -13.891397\n",
       "1968-03-01    13.869020\n",
       "1968-04-01     9.384645\n",
       "1968-05-01    26.098187\n",
       "1968-06-01    -3.542438\n",
       "1968-07-01   -45.494985\n",
       "1968-08-01   -51.721836\n",
       "1968-09-01   -17.198688\n",
       "1968-10-01    19.583719\n",
       "1968-11-01    14.639275\n",
       "1968-12-01    -7.782022\n",
       "1969-01-01          NaN\n",
       "1969-02-01          NaN\n",
       "1969-03-01          NaN\n",
       "1969-04-01          NaN\n",
       "1969-05-01          NaN\n",
       "1969-06-01          NaN\n",
       "Name: riders, Length: 114, dtype: float64"
      ]
     },
     "execution_count": 23,
     "metadata": {},
     "output_type": "execute_result"
    }
   ],
   "source": [
    "decomposition.resid"
   ]
  },
  {
   "cell_type": "code",
   "execution_count": 31,
   "metadata": {},
   "outputs": [],
   "source": [
    "residuals = decomposition.resid\n",
    "residuals = residuals.loc[residuals.notnull()];"
   ]
  },
  {
   "cell_type": "code",
   "execution_count": 33,
   "metadata": {},
   "outputs": [],
   "source": [
    "# Import plot_acf and plot_pacf\n",
    "from statsmodels.graphics.tsaplots import plot_acf, plot_pacf\n"
   ]
  },
  {
   "cell_type": "code",
   "execution_count": 35,
   "metadata": {},
   "outputs": [
    {
     "data": {
      "image/png": "[encoded data removed]",
      "text/plain": [
       "<matplotlib.figure.Figure at 0x1c1a6210b8>"
      ]
     },
     "metadata": {},
     "output_type": "display_data"
    }
   ],
   "source": [
    "# Plot the ACF of the residuals\n",
    "fig, ax = plt.subplots()\n",
    "plot_acf(residuals, lags=100, ax=ax);"
   ]
  },
  {
   "cell_type": "code",
   "execution_count": 38,
   "metadata": {},
   "outputs": [
    {
     "data": {
      "image/png": "[encoded data removed]",
      "text/plain": [
       "<matplotlib.figure.Figure at 0x1c1a666dd8>"
      ]
     },
     "metadata": {},
     "output_type": "display_data"
    }
   ],
   "source": [
    "# Plot the PACF of the residuals\n",
    "fig, ax = plt.subplots()\n",
    "plot_pacf(residuals, lags=100, ax=ax);"
   ]
  },
  {
   "cell_type": "markdown",
   "metadata": {},
   "source": [
    "We notice that the residuals of our time series don't have significant autocorrelation. This is because the trend and seasonal components have been taken out and adjusted for. "
   ]
  },
  {
   "cell_type": "markdown",
   "metadata": {},
   "source": [
    "# Recap"
   ]
  },
  {
   "cell_type": "markdown",
   "metadata": {},
   "source": [
    "* Trend is a long-term change in the data. \n",
    "* Seasonality is a pattern of a fixed period that repeats in the data. \n",
    "* Residuals are the error components of the data.\n",
    "* StatsModels contains a `seasonal_decompose()` function that breaks a time series into its components."
   ]
  },
  {
   "cell_type": "markdown",
   "metadata": {},
   "source": [
    "**Exercise.**"
   ]
  },
  {
   "cell_type": "code",
   "execution_count": null,
   "metadata": {},
   "outputs": [],
   "source": [
    "airline = pd.read_csv('./data/airline.csv')\n",
    "airline.head()"
   ]
  },
  {
   "cell_type": "code",
   "execution_count": null,
   "metadata": {},
   "outputs": [],
   "source": [
    "airline.tail()"
   ]
  },
  {
   "cell_type": "markdown",
   "metadata": {},
   "source": [
    "- Get rid of the last row"
   ]
  },
  {
   "cell_type": "code",
   "execution_count": null,
   "metadata": {
    "collapsed": true
   },
   "outputs": [],
   "source": []
  },
  {
   "cell_type": "markdown",
   "metadata": {},
   "source": [
    "- Rename the columns \"month\" and \"passengers\", respectively."
   ]
  },
  {
   "cell_type": "code",
   "execution_count": null,
   "metadata": {
    "collapsed": true
   },
   "outputs": [],
   "source": []
  },
  {
   "cell_type": "markdown",
   "metadata": {},
   "source": [
    "- Cast \"passengers\" to int"
   ]
  },
  {
   "cell_type": "code",
   "execution_count": null,
   "metadata": {
    "collapsed": true
   },
   "outputs": [],
   "source": []
  },
  {
   "cell_type": "markdown",
   "metadata": {},
   "source": [
    "- Convert \"month\" to datetime."
   ]
  },
  {
   "cell_type": "code",
   "execution_count": null,
   "metadata": {},
   "outputs": [],
   "source": []
  },
  {
   "cell_type": "markdown",
   "metadata": {},
   "source": [
    "- Make \"month\" the index, and drop its name."
   ]
  },
  {
   "cell_type": "code",
   "execution_count": null,
   "metadata": {},
   "outputs": [],
   "source": []
  },
  {
   "cell_type": "markdown",
   "metadata": {},
   "source": [
    "- Make a lineplot of the number of passengers over time."
   ]
  },
  {
   "cell_type": "code",
   "execution_count": null,
   "metadata": {},
   "outputs": [],
   "source": []
  },
  {
   "cell_type": "markdown",
   "metadata": {},
   "source": [
    "- Decompose the time series using the `.seasonal_decompose()` function with a seasonality frequency of 12, and plot the result."
   ]
  },
  {
   "cell_type": "code",
   "execution_count": null,
   "metadata": {
    "collapsed": true
   },
   "outputs": [],
   "source": []
  },
  {
   "cell_type": "markdown",
   "metadata": {},
   "source": [
    "- Interpret these plots."
   ]
  },
  {
   "cell_type": "markdown",
   "metadata": {},
   "source": [
    "There is a clear upward trend in airline passengers and strong annual seasonality. "
   ]
  }
 ],
 "metadata": {
  "kernelspec": {
   "display_name": "Python 3",
   "language": "python",
   "name": "python3"
  },
  "language_info": {
   "codemirror_mode": {
    "name": "ipython",
    "version": 3
   },
   "file_extension": ".py",
   "mimetype": "text/x-python",
   "name": "python",
   "nbconvert_exporter": "python",
   "pygments_lexer": "ipython3",
   "version": "3.6.4"
  }
 },
 "nbformat": 4,
 "nbformat_minor": 2
}

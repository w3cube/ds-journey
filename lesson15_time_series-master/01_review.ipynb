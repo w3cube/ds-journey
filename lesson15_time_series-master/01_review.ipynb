{
 "cells": [
  {
   "cell_type": "markdown",
   "metadata": {},
   "source": [
    "# Cross-Sectional Data\n",
    "\n",
    "<img src=\"./assets/cross_sectional_data.png\" width=400></img>\n",
    "\n",
    "Data collected at a single point in time for each individual is called **cross-sectional data**."
   ]
  },
  {
   "cell_type": "markdown",
   "metadata": {},
   "source": [
    "# Time-Series/Longitudinal Data\n",
    "\n",
    "<img src=\"./assets/time_series_data.png\" width=400></img>\n",
    "\n",
    "Data on the same variables collected at multiple time points from the same individuals is called **longitudinal** for **time-series** data."
   ]
  },
  {
   "cell_type": "markdown",
   "metadata": {},
   "source": [
    "# Time Series Decomposition -- Basic Concepts"
   ]
  },
  {
   "cell_type": "markdown",
   "metadata": {},
   "source": [
    "Google searches for \"data science\" show a strong increasing trend over the last five years:\n",
    "\n",
    "![](./assets/data_science.png)\n",
    "\n",
    "Google searches for \"gingerbread house\" show strong annual seasonality:\n",
    "\n",
    "![](./assets/gingerbread_house.png)\n",
    "\n",
    "Google searches for \"iphone\" show both trend and seasonality:\n",
    "\n",
    "![](./assets/iphone.png)"
   ]
  },
  {
   "cell_type": "markdown",
   "metadata": {},
   "source": [
    "# Pandas Timestamps"
   ]
  },
  {
   "cell_type": "code",
   "execution_count": 1,
   "metadata": {},
   "outputs": [],
   "source": [
    "import pandas as pd"
   ]
  },
  {
   "cell_type": "code",
   "execution_count": 2,
   "metadata": {},
   "outputs": [
    {
     "data": {
      "text/html": [
       "<div>\n",
       "<style scoped>\n",
       "    .dataframe tbody tr th:only-of-type {\n",
       "        vertical-align: middle;\n",
       "    }\n",
       "\n",
       "    .dataframe tbody tr th {\n",
       "        vertical-align: top;\n",
       "    }\n",
       "\n",
       "    .dataframe thead th {\n",
       "        text-align: right;\n",
       "    }\n",
       "</style>\n",
       "<table border=\"1\" class=\"dataframe\">\n",
       "  <thead>\n",
       "    <tr style=\"text-align: right;\">\n",
       "      <th></th>\n",
       "      <th>City</th>\n",
       "      <th>Colors Reported</th>\n",
       "      <th>Shape Reported</th>\n",
       "      <th>State</th>\n",
       "      <th>Time</th>\n",
       "    </tr>\n",
       "  </thead>\n",
       "  <tbody>\n",
       "    <tr>\n",
       "      <th>0</th>\n",
       "      <td>Ithaca</td>\n",
       "      <td>NaN</td>\n",
       "      <td>TRIANGLE</td>\n",
       "      <td>NY</td>\n",
       "      <td>6/1/1930 22:00</td>\n",
       "    </tr>\n",
       "    <tr>\n",
       "      <th>1</th>\n",
       "      <td>Willingboro</td>\n",
       "      <td>NaN</td>\n",
       "      <td>OTHER</td>\n",
       "      <td>NJ</td>\n",
       "      <td>6/30/1930 20:00</td>\n",
       "    </tr>\n",
       "    <tr>\n",
       "      <th>2</th>\n",
       "      <td>Holyoke</td>\n",
       "      <td>NaN</td>\n",
       "      <td>OVAL</td>\n",
       "      <td>CO</td>\n",
       "      <td>2/15/1931 14:00</td>\n",
       "    </tr>\n",
       "    <tr>\n",
       "      <th>3</th>\n",
       "      <td>Abilene</td>\n",
       "      <td>NaN</td>\n",
       "      <td>DISK</td>\n",
       "      <td>KS</td>\n",
       "      <td>6/1/1931 13:00</td>\n",
       "    </tr>\n",
       "    <tr>\n",
       "      <th>4</th>\n",
       "      <td>New York Worlds Fair</td>\n",
       "      <td>NaN</td>\n",
       "      <td>LIGHT</td>\n",
       "      <td>NY</td>\n",
       "      <td>4/18/1933 19:00</td>\n",
       "    </tr>\n",
       "  </tbody>\n",
       "</table>\n",
       "</div>"
      ],
      "text/plain": [
       "                   City Colors Reported Shape Reported State             Time\n",
       "0                Ithaca             NaN       TRIANGLE    NY   6/1/1930 22:00\n",
       "1           Willingboro             NaN          OTHER    NJ  6/30/1930 20:00\n",
       "2               Holyoke             NaN           OVAL    CO  2/15/1931 14:00\n",
       "3               Abilene             NaN           DISK    KS   6/1/1931 13:00\n",
       "4  New York Worlds Fair             NaN          LIGHT    NY  4/18/1933 19:00"
      ]
     },
     "execution_count": 2,
     "metadata": {},
     "output_type": "execute_result"
    }
   ],
   "source": [
    "ufo = pd.read_csv('http://bit.ly/uforeports')\n",
    "ufo.head()"
   ]
  },
  {
   "cell_type": "code",
   "execution_count": null,
   "metadata": {},
   "outputs": [],
   "source": [
    "ufo.loc[:, 'Time'].apply(type)"
   ]
  },
  {
   "cell_type": "code",
   "execution_count": 6,
   "metadata": {},
   "outputs": [],
   "source": [
    "# Convert times from str to pandas Timestamp objects\n",
    "ufo.loc[:, 'Time'] = pd.to_datetime(ufo.loc[:,'Time'])"
   ]
  },
  {
   "cell_type": "code",
   "execution_count": 7,
   "metadata": {
    "collapsed": true
   },
   "outputs": [
    {
     "data": {
      "text/plain": [
       "0        <class 'pandas._libs.tslib.Timestamp'>\n",
       "1        <class 'pandas._libs.tslib.Timestamp'>\n",
       "2        <class 'pandas._libs.tslib.Timestamp'>\n",
       "3        <class 'pandas._libs.tslib.Timestamp'>\n",
       "4        <class 'pandas._libs.tslib.Timestamp'>\n",
       "5        <class 'pandas._libs.tslib.Timestamp'>\n",
       "6        <class 'pandas._libs.tslib.Timestamp'>\n",
       "7        <class 'pandas._libs.tslib.Timestamp'>\n",
       "8        <class 'pandas._libs.tslib.Timestamp'>\n",
       "9        <class 'pandas._libs.tslib.Timestamp'>\n",
       "10       <class 'pandas._libs.tslib.Timestamp'>\n",
       "11       <class 'pandas._libs.tslib.Timestamp'>\n",
       "12       <class 'pandas._libs.tslib.Timestamp'>\n",
       "13       <class 'pandas._libs.tslib.Timestamp'>\n",
       "14       <class 'pandas._libs.tslib.Timestamp'>\n",
       "15       <class 'pandas._libs.tslib.Timestamp'>\n",
       "16       <class 'pandas._libs.tslib.Timestamp'>\n",
       "17       <class 'pandas._libs.tslib.Timestamp'>\n",
       "18       <class 'pandas._libs.tslib.Timestamp'>\n",
       "19       <class 'pandas._libs.tslib.Timestamp'>\n",
       "20       <class 'pandas._libs.tslib.Timestamp'>\n",
       "21       <class 'pandas._libs.tslib.Timestamp'>\n",
       "22       <class 'pandas._libs.tslib.Timestamp'>\n",
       "23       <class 'pandas._libs.tslib.Timestamp'>\n",
       "24       <class 'pandas._libs.tslib.Timestamp'>\n",
       "25       <class 'pandas._libs.tslib.Timestamp'>\n",
       "26       <class 'pandas._libs.tslib.Timestamp'>\n",
       "27       <class 'pandas._libs.tslib.Timestamp'>\n",
       "28       <class 'pandas._libs.tslib.Timestamp'>\n",
       "29       <class 'pandas._libs.tslib.Timestamp'>\n",
       "                          ...                  \n",
       "18211    <class 'pandas._libs.tslib.Timestamp'>\n",
       "18212    <class 'pandas._libs.tslib.Timestamp'>\n",
       "18213    <class 'pandas._libs.tslib.Timestamp'>\n",
       "18214    <class 'pandas._libs.tslib.Timestamp'>\n",
       "18215    <class 'pandas._libs.tslib.Timestamp'>\n",
       "18216    <class 'pandas._libs.tslib.Timestamp'>\n",
       "18217    <class 'pandas._libs.tslib.Timestamp'>\n",
       "18218    <class 'pandas._libs.tslib.Timestamp'>\n",
       "18219    <class 'pandas._libs.tslib.Timestamp'>\n",
       "18220    <class 'pandas._libs.tslib.Timestamp'>\n",
       "18221    <class 'pandas._libs.tslib.Timestamp'>\n",
       "18222    <class 'pandas._libs.tslib.Timestamp'>\n",
       "18223    <class 'pandas._libs.tslib.Timestamp'>\n",
       "18224    <class 'pandas._libs.tslib.Timestamp'>\n",
       "18225    <class 'pandas._libs.tslib.Timestamp'>\n",
       "18226    <class 'pandas._libs.tslib.Timestamp'>\n",
       "18227    <class 'pandas._libs.tslib.Timestamp'>\n",
       "18228    <class 'pandas._libs.tslib.Timestamp'>\n",
       "18229    <class 'pandas._libs.tslib.Timestamp'>\n",
       "18230    <class 'pandas._libs.tslib.Timestamp'>\n",
       "18231    <class 'pandas._libs.tslib.Timestamp'>\n",
       "18232    <class 'pandas._libs.tslib.Timestamp'>\n",
       "18233    <class 'pandas._libs.tslib.Timestamp'>\n",
       "18234    <class 'pandas._libs.tslib.Timestamp'>\n",
       "18235    <class 'pandas._libs.tslib.Timestamp'>\n",
       "18236    <class 'pandas._libs.tslib.Timestamp'>\n",
       "18237    <class 'pandas._libs.tslib.Timestamp'>\n",
       "18238    <class 'pandas._libs.tslib.Timestamp'>\n",
       "18239    <class 'pandas._libs.tslib.Timestamp'>\n",
       "18240    <class 'pandas._libs.tslib.Timestamp'>\n",
       "Name: Time, Length: 18241, dtype: object"
      ]
     },
     "execution_count": 7,
     "metadata": {},
     "output_type": "execute_result"
    }
   ],
   "source": [
    "ufo.loc[:, 'Time'].apply(type)"
   ]
  },
  {
   "cell_type": "code",
   "execution_count": 8,
   "metadata": {
    "collapsed": true
   },
   "outputs": [
    {
     "data": {
      "text/plain": [
       "0         6\n",
       "1         6\n",
       "2         2\n",
       "3         6\n",
       "4         4\n",
       "5         9\n",
       "6         6\n",
       "7         7\n",
       "8        10\n",
       "9         6\n",
       "10        8\n",
       "11        6\n",
       "12        6\n",
       "13        7\n",
       "14        6\n",
       "15        7\n",
       "16        2\n",
       "17        6\n",
       "18        7\n",
       "19        4\n",
       "20        6\n",
       "21        8\n",
       "22        8\n",
       "23       10\n",
       "24        1\n",
       "25        1\n",
       "26        1\n",
       "27        4\n",
       "28        6\n",
       "29        6\n",
       "         ..\n",
       "18211    12\n",
       "18212    12\n",
       "18213    12\n",
       "18214    12\n",
       "18215    12\n",
       "18216    12\n",
       "18217    12\n",
       "18218    12\n",
       "18219    12\n",
       "18220    12\n",
       "18221    12\n",
       "18222    12\n",
       "18223    12\n",
       "18224    12\n",
       "18225    12\n",
       "18226    12\n",
       "18227    12\n",
       "18228    12\n",
       "18229    12\n",
       "18230    12\n",
       "18231    12\n",
       "18232    12\n",
       "18233    12\n",
       "18234    12\n",
       "18235    12\n",
       "18236    12\n",
       "18237    12\n",
       "18238    12\n",
       "18239    12\n",
       "18240    12\n",
       "Name: Time, Length: 18241, dtype: int64"
      ]
     },
     "execution_count": 8,
     "metadata": {},
     "output_type": "execute_result"
    }
   ],
   "source": [
    "ufo.loc[:, 'Time'].apply(lambda timestamp: timestamp.month)"
   ]
  },
  {
   "cell_type": "code",
   "execution_count": 10,
   "metadata": {},
   "outputs": [],
   "source": [
    "# Set times as index\n",
    "ufo.set_index('Time', inplace=True)"
   ]
  },
  {
   "cell_type": "code",
   "execution_count": 11,
   "metadata": {},
   "outputs": [
    {
     "data": {
      "text/html": [
       "<div>\n",
       "<style scoped>\n",
       "    .dataframe tbody tr th:only-of-type {\n",
       "        vertical-align: middle;\n",
       "    }\n",
       "\n",
       "    .dataframe tbody tr th {\n",
       "        vertical-align: top;\n",
       "    }\n",
       "\n",
       "    .dataframe thead th {\n",
       "        text-align: right;\n",
       "    }\n",
       "</style>\n",
       "<table border=\"1\" class=\"dataframe\">\n",
       "  <thead>\n",
       "    <tr style=\"text-align: right;\">\n",
       "      <th></th>\n",
       "      <th>City</th>\n",
       "      <th>Colors Reported</th>\n",
       "      <th>Shape Reported</th>\n",
       "      <th>State</th>\n",
       "    </tr>\n",
       "    <tr>\n",
       "      <th>Time</th>\n",
       "      <th></th>\n",
       "      <th></th>\n",
       "      <th></th>\n",
       "      <th></th>\n",
       "    </tr>\n",
       "  </thead>\n",
       "  <tbody>\n",
       "    <tr>\n",
       "      <th>1936-07-15 00:00:00</th>\n",
       "      <td>Alma</td>\n",
       "      <td>NaN</td>\n",
       "      <td>DISK</td>\n",
       "      <td>MI</td>\n",
       "    </tr>\n",
       "    <tr>\n",
       "      <th>1936-10-15 17:00:00</th>\n",
       "      <td>Eklutna</td>\n",
       "      <td>NaN</td>\n",
       "      <td>CIGAR</td>\n",
       "      <td>AK</td>\n",
       "    </tr>\n",
       "  </tbody>\n",
       "</table>\n",
       "</div>"
      ],
      "text/plain": [
       "                        City Colors Reported Shape Reported State\n",
       "Time                                                             \n",
       "1936-07-15 00:00:00     Alma             NaN           DISK    MI\n",
       "1936-10-15 17:00:00  Eklutna             NaN          CIGAR    AK"
      ]
     },
     "execution_count": 11,
     "metadata": {},
     "output_type": "execute_result"
    }
   ],
   "source": [
    "# Get all data from 1936\n",
    "ufo.loc['1936', :]"
   ]
  },
  {
   "cell_type": "code",
   "execution_count": null,
   "metadata": {},
   "outputs": [],
   "source": [
    "ufo.index.month --6, :"
   ]
  }
 ],
 "metadata": {
  "kernelspec": {
   "display_name": "Python 3",
   "language": "python",
   "name": "python3"
  },
  "language_info": {
   "codemirror_mode": {
    "name": "ipython",
    "version": 3
   },
   "file_extension": ".py",
   "mimetype": "text/x-python",
   "name": "python",
   "nbconvert_exporter": "python",
   "pygments_lexer": "ipython3",
   "version": "3.6.4"
  }
 },
 "nbformat": 4,
 "nbformat_minor": 2
}

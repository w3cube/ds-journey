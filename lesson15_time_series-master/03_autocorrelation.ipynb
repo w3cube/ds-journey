{
 "cells": [
  {
   "cell_type": "markdown",
   "metadata": {},
   "source": [
    "<img src=\"http://imgur.com/1ZcRyrc.png\" style=\"float: left; margin: 20px; height: 55px\">\n",
    "\n",
    "# Time Series: Autocorrelation\n"
   ]
  },
  {
   "cell_type": "markdown",
   "metadata": {},
   "source": [
    "### Learning Objectives\n",
    " \n",
    "**After this lesson, you will be able to:**\n",
    "- Define autocorrelation and list some real-world examples.\n",
    "- Use the Pandas `autocorr()` function to compute autocorrelation.\n",
    "- Calculate and plot the ACF and PACF using StatsModels and Pandas.\n",
    "- Explain why autocorrelation poses a problem for models that assume independence.\n",
    "---    "
   ]
  },
  {
   "cell_type": "markdown",
   "metadata": {},
   "source": [
    "<h2><a id = \"A\">Autocorrelation</a></h2>"
   ]
  },
  {
   "cell_type": "markdown",
   "metadata": {},
   "source": [
    "While in previous weeks, our analyses has been concerned with the correlation between two or more variables (height and weight, education and salary, etc.), in time series data, autocorrelation is a measure of _how correlated a variable is with itself_.\n",
    "\n",
    "Specifically, autocorrelation measures how closely related earlier values are with values that occur later in time.\n",
    "\n",
    "Examples:\n",
    "\n",
    "- In stock market data, the stock price at one point is correlated with the stock price of the point that's directly prior in time. \n",
    "- In sales data, sales on a Saturday are likely correlated with sales on the next Saturday and the previous Saturday, as well as other days, perhaps more than the preceding Friday.\n",
    "\n",
    "> **Check:** What are some examples of autocorrelation that you can think of in the real world?"
   ]
  },
  {
   "cell_type": "markdown",
   "metadata": {},
   "source": [
    "### How Do We Compute Autocorrelation?"
   ]
  },
  {
   "cell_type": "markdown",
   "metadata": {},
   "source": [
    "**Recall:** Correlation between $X$ and $Y$:\n",
    "\n",
    "$${corr(X, Y) = \\frac{\\operatorname{E}[(X - \\mu_X)(Y - \\mu_Y)]}{\\sigma_X\\sigma_Y}}$$\n",
    "\n",
    "**Now:** The autocorrelation of $X$ for a given \"lag\" $k$ is just the correlation between $X$ and a \"lagged\" version of $X$ in which all observations are shifted by $k$ time units:\n",
    "\n",
    "$${R(k) = \\frac{\\operatorname{E}[(X_{t} - \\mu)(X_{t-k} - \\mu)]}{\\sigma^2}}$$\n",
    "\n",
    "With a _k_ value of one, we'd compute how correlated a value is with the prior one. With a _k_ value of 10, we'd compute how correlated a variable is with one that's 10 time points earlier."
   ]
  },
  {
   "cell_type": "markdown",
   "metadata": {},
   "source": [
    "**Note:** It doesn't make much sense to talk about *the* correlation between $X$ and $Y$ if the relationship between $X$ and $Y$ was changing as the dataset was collected. In the same way, it doesn't make much sense to talk about *the* autocorrelation of $X$ with lag $k$ if the relationship between $X$ and its previous values changed over the course of the dataset.\n",
    "\n",
    "Because time series data is gathered over time, changes in the underlying data-generating process over the course of data collection are particularly common for this kind of data. In a time series context, these kinds of changes are called *non-stationarity*."
   ]
  },
  {
   "cell_type": "markdown",
   "metadata": {},
   "source": [
    "### Guided Practice"
   ]
  },
  {
   "cell_type": "code",
   "execution_count": 1,
   "metadata": {},
   "outputs": [],
   "source": [
    "import pandas as pd\n",
    "import matplotlib.pyplot as plt\n",
    "import seaborn as sns\n",
    "\n",
    "plt.rcParams['figure.figsize'] = (16.0, 8.0)"
   ]
  },
  {
   "cell_type": "code",
   "execution_count": 2,
   "metadata": {},
   "outputs": [],
   "source": [
    "data = pd.read_csv('./data/rossmann.csv', dtype={'StateHoliday': str})"
   ]
  },
  {
   "cell_type": "code",
   "execution_count": 5,
   "metadata": {},
   "outputs": [],
   "source": [
    "# Cast \"Date\" column to Pandas Timestamp\n",
    "data.loc[:, 'Date'] = pd.to_datetime(data.loc[:, 'Date'])"
   ]
  },
  {
   "cell_type": "code",
   "execution_count": 12,
   "metadata": {},
   "outputs": [],
   "source": [
    "# Make \"Date\" the row index\n",
    "data.set_index('Date', inplace=True)"
   ]
  },
  {
   "cell_type": "code",
   "execution_count": 10,
   "metadata": {
    "collapsed": true
   },
   "outputs": [
    {
     "data": {
      "text/plain": [
       "1023    942\n",
       "666     942\n",
       "675     942\n",
       "163     942\n",
       "674     942\n",
       "162     942\n",
       "673     942\n",
       "161     942\n",
       "672     942\n",
       "160     942\n",
       "158     942\n",
       "157     942\n",
       "668     942\n",
       "156     942\n",
       "667     942\n",
       "154     942\n",
       "657     942\n",
       "665     942\n",
       "153     942\n",
       "664     942\n",
       "152     942\n",
       "663     942\n",
       "151     942\n",
       "662     942\n",
       "150     942\n",
       "661     942\n",
       "148     942\n",
       "659     942\n",
       "147     942\n",
       "658     942\n",
       "       ... \n",
       "636     758\n",
       "637     758\n",
       "879     758\n",
       "638     758\n",
       "129     758\n",
       "604     758\n",
       "365     758\n",
       "132     758\n",
       "644     758\n",
       "646     758\n",
       "136     758\n",
       "137     758\n",
       "629     758\n",
       "115     758\n",
       "113     758\n",
       "890     758\n",
       "893     758\n",
       "620     758\n",
       "108     758\n",
       "619     758\n",
       "385     758\n",
       "612     758\n",
       "100     758\n",
       "611     758\n",
       "99      758\n",
       "900     758\n",
       "902     758\n",
       "903     758\n",
       "904     758\n",
       "512     758\n",
       "Name: Store, Length: 1115, dtype: int64"
      ]
     },
     "execution_count": 10,
     "metadata": {},
     "output_type": "execute_result"
    }
   ],
   "source": [
    "# Look at just Store 1\n",
    "data.loc[:, 'Store'].value_counts()"
   ]
  },
  {
   "cell_type": "code",
   "execution_count": 13,
   "metadata": {},
   "outputs": [
    {
     "data": {
      "text/html": [
       "<div>\n",
       "<style scoped>\n",
       "    .dataframe tbody tr th:only-of-type {\n",
       "        vertical-align: middle;\n",
       "    }\n",
       "\n",
       "    .dataframe tbody tr th {\n",
       "        vertical-align: top;\n",
       "    }\n",
       "\n",
       "    .dataframe thead th {\n",
       "        text-align: right;\n",
       "    }\n",
       "</style>\n",
       "<table border=\"1\" class=\"dataframe\">\n",
       "  <thead>\n",
       "    <tr style=\"text-align: right;\">\n",
       "      <th></th>\n",
       "      <th>Store</th>\n",
       "      <th>DayOfWeek</th>\n",
       "      <th>Sales</th>\n",
       "      <th>Customers</th>\n",
       "      <th>Open</th>\n",
       "      <th>Promo</th>\n",
       "      <th>StateHoliday</th>\n",
       "      <th>SchoolHoliday</th>\n",
       "    </tr>\n",
       "    <tr>\n",
       "      <th>Date</th>\n",
       "      <th></th>\n",
       "      <th></th>\n",
       "      <th></th>\n",
       "      <th></th>\n",
       "      <th></th>\n",
       "      <th></th>\n",
       "      <th></th>\n",
       "      <th></th>\n",
       "    </tr>\n",
       "  </thead>\n",
       "  <tbody>\n",
       "    <tr>\n",
       "      <th>2015-07-31</th>\n",
       "      <td>1</td>\n",
       "      <td>5</td>\n",
       "      <td>5263</td>\n",
       "      <td>555</td>\n",
       "      <td>1</td>\n",
       "      <td>1</td>\n",
       "      <td>0</td>\n",
       "      <td>1</td>\n",
       "    </tr>\n",
       "    <tr>\n",
       "      <th>2015-07-30</th>\n",
       "      <td>1</td>\n",
       "      <td>4</td>\n",
       "      <td>5020</td>\n",
       "      <td>546</td>\n",
       "      <td>1</td>\n",
       "      <td>1</td>\n",
       "      <td>0</td>\n",
       "      <td>1</td>\n",
       "    </tr>\n",
       "    <tr>\n",
       "      <th>2015-07-29</th>\n",
       "      <td>1</td>\n",
       "      <td>3</td>\n",
       "      <td>4782</td>\n",
       "      <td>523</td>\n",
       "      <td>1</td>\n",
       "      <td>1</td>\n",
       "      <td>0</td>\n",
       "      <td>1</td>\n",
       "    </tr>\n",
       "    <tr>\n",
       "      <th>2015-07-28</th>\n",
       "      <td>1</td>\n",
       "      <td>2</td>\n",
       "      <td>5011</td>\n",
       "      <td>560</td>\n",
       "      <td>1</td>\n",
       "      <td>1</td>\n",
       "      <td>0</td>\n",
       "      <td>1</td>\n",
       "    </tr>\n",
       "    <tr>\n",
       "      <th>2015-07-27</th>\n",
       "      <td>1</td>\n",
       "      <td>1</td>\n",
       "      <td>6102</td>\n",
       "      <td>612</td>\n",
       "      <td>1</td>\n",
       "      <td>1</td>\n",
       "      <td>0</td>\n",
       "      <td>1</td>\n",
       "    </tr>\n",
       "  </tbody>\n",
       "</table>\n",
       "</div>"
      ],
      "text/plain": [
       "            Store  DayOfWeek  Sales  Customers  Open  Promo StateHoliday  \\\n",
       "Date                                                                       \n",
       "2015-07-31      1          5   5263        555     1      1            0   \n",
       "2015-07-30      1          4   5020        546     1      1            0   \n",
       "2015-07-29      1          3   4782        523     1      1            0   \n",
       "2015-07-28      1          2   5011        560     1      1            0   \n",
       "2015-07-27      1          1   6102        612     1      1            0   \n",
       "\n",
       "            SchoolHoliday  \n",
       "Date                       \n",
       "2015-07-31              1  \n",
       "2015-07-30              1  \n",
       "2015-07-29              1  \n",
       "2015-07-28              1  \n",
       "2015-07-27              1  "
      ]
     },
     "execution_count": 13,
     "metadata": {},
     "output_type": "execute_result"
    }
   ],
   "source": [
    "store1_data = data.loc[data.loc[:, 'Store'] == 1, :]\n",
    "store1_data.head()"
   ]
  },
  {
   "cell_type": "code",
   "execution_count": 17,
   "metadata": {},
   "outputs": [
    {
     "data": {
      "image/png": "[encoded data removed]",
      "text/plain": [
       "<matplotlib.figure.Figure at 0x1a174a7438>"
      ]
     },
     "metadata": {},
     "output_type": "display_data"
    }
   ],
   "source": [
    "fig, ax = plt.subplots()\n",
    "#store1_data.loc[:, 'Sales'].plot(ax=ax); # spikes because of weekend and / or holidays\n",
    "# lets ignore where Sales is not equal 0\n",
    "sales_open_days = store1_data.loc[store1_data.loc[:, 'Sales'] != 0, 'Sales']\n",
    "# only for 2015\n",
    "sales_open_days.loc['2014'].plot(ax=ax);"
   ]
  },
  {
   "cell_type": "markdown",
   "metadata": {},
   "source": [
    "### Computing Autocorrelation"
   ]
  },
  {
   "cell_type": "code",
   "execution_count": null,
   "metadata": {},
   "outputs": [],
   "source": []
  },
  {
   "cell_type": "code",
   "execution_count": 20,
   "metadata": {},
   "outputs": [
    {
     "name": "stdout",
     "output_type": "stream",
     "text": [
      "Date\n",
      "2015-07-31    5263\n",
      "2015-07-30    5020\n",
      "2015-07-29    4782\n",
      "2015-07-28    5011\n",
      "2015-07-27    6102\n",
      "Name: Sales, dtype: int64\n"
     ]
    }
   ],
   "source": [
    "# Create a 1-unit lagged version of \"Sales\"\n",
    "print(store1_data.loc[:, 'Sales'].head())\n",
    "lagged_sales = store1_data.loc[:, 'Sales'].shift(-1)"
   ]
  },
  {
   "cell_type": "markdown",
   "metadata": {},
   "source": [
    "> **Check:** Why is the first value 5020? Why is the last value NaN?"
   ]
  },
  {
   "cell_type": "code",
   "execution_count": 21,
   "metadata": {},
   "outputs": [
    {
     "data": {
      "text/plain": [
       "-0.12732514339140213"
      ]
     },
     "execution_count": 21,
     "metadata": {},
     "output_type": "execute_result"
    }
   ],
   "source": [
    "# Compute the correlation between these series and the original \"Sales\" series\n",
    "store1_data.loc[:, 'Sales'].corr(lagged_sales)"
   ]
  },
  {
   "cell_type": "code",
   "execution_count": 22,
   "metadata": {},
   "outputs": [
    {
     "data": {
      "text/plain": [
       "-0.12732514339140213"
      ]
     },
     "execution_count": 22,
     "metadata": {},
     "output_type": "execute_result"
    }
   ],
   "source": [
    "# Use .autocorr to compute this autocorrelation in one step\n",
    "store1_data.loc[:, 'Sales'].autocorr(lag=1)"
   ]
  },
  {
   "cell_type": "code",
   "execution_count": 23,
   "metadata": {},
   "outputs": [
    {
     "data": {
      "text/plain": [
       "0.006307623893789401"
      ]
     },
     "execution_count": 23,
     "metadata": {},
     "output_type": "execute_result"
    }
   ],
   "source": [
    "# Compute autocorrelation for \"Sales\" with a lag of 10\n",
    "store1_data.loc[:, 'Sales'].autocorr(lag=10)"
   ]
  },
  {
   "cell_type": "markdown",
   "metadata": {},
   "source": [
    "<h2><a id = \"B\">Plotting Autocorrelation Functions Using StatsModels and Pandas</a></h2>"
   ]
  },
  {
   "cell_type": "markdown",
   "metadata": {},
   "source": [
    "Pandas provides convenience plots for autocorrelations."
   ]
  },
  {
   "cell_type": "code",
   "execution_count": 26,
   "metadata": {},
   "outputs": [
    {
     "data": {
      "image/png": "[encoded data removed]",
      "text/plain": [
       "<matplotlib.figure.Figure at 0x1a194bf5c0>"
      ]
     },
     "metadata": {},
     "output_type": "display_data"
    }
   ],
   "source": [
    "# Make an autocorrelation plot with pandas\n",
    "from statsmodels.tsa.stattools import acf\n",
    "from statsmodels.graphics.tsaplots import plot_acf\n",
    "\n",
    "fig, ax = plt.subplots()\n",
    "plot_acf(store1_data.loc[:, 'Sales'], lags=30, ax=ax);"
   ]
  },
  {
   "cell_type": "markdown",
   "metadata": {},
   "source": [
    "StatsModels also comes with some convenient packages for calculating and plotting autocorrelation. Load up these two functions and try them out."
   ]
  },
  {
   "cell_type": "code",
   "execution_count": null,
   "metadata": {},
   "outputs": [],
   "source": [
    "# Make an autocorrelation plot with statsmodels\n"
   ]
  },
  {
   "cell_type": "markdown",
   "metadata": {},
   "source": [
    "This plots the correlation between the series and a lagged series for the lags indicated on the horizontal axis. For instance, at `0`, the series will be completely correlated with itself, so the blue dot is at `1.0`. The points that fall outside of the blue indicate significant correlation values. Big jumps in autocorrelation appear at lags that are multiples of seven. Our sales data are daily, so it makes a lot of sense that a single Monday's sales would be correlated with the prior Monday's (and the one before it.. and so on) -- especially because every Sunday has zero sales!\n",
    "\n",
    "These plots reveal seasonality in our time series."
   ]
  },
  {
   "cell_type": "code",
   "execution_count": 27,
   "metadata": {},
   "outputs": [
    {
     "data": {
      "text/plain": [
       "array([ 1.        , -0.12703786, -0.03469319,  0.06454937, -0.00180766,\n",
       "       -0.10904274, -0.22783504,  0.6248786 , -0.2401515 , -0.14869745,\n",
       "        0.00624578,  0.01006485, -0.07707318, -0.14363042,  0.71435429,\n",
       "       -0.15188393, -0.05551585,  0.02901103,  0.01113764, -0.09400308,\n",
       "       -0.21875595,  0.63865175, -0.23360339, -0.11384778,  0.00788378,\n",
       "        0.02095157, -0.07841381, -0.18374454,  0.68804836, -0.17930762,\n",
       "       -0.07734379,  0.01060628, -0.00112696, -0.09014802, -0.21435881,\n",
       "        0.60668328, -0.230107  , -0.12860469,  0.00378231,  0.00237381,\n",
       "       -0.10721685])"
      ]
     },
     "execution_count": 27,
     "metadata": {},
     "output_type": "execute_result"
    }
   ],
   "source": [
    "# Get the acf values as an array \n",
    "acf(store1_data.loc[:, 'Sales'])"
   ]
  },
  {
   "cell_type": "markdown",
   "metadata": {},
   "source": [
    "<h2><a id= \"C\">Partial Autocorrelation and the Partial Autocorrelation Function (PACF)</a></h2>"
   ]
  },
  {
   "cell_type": "markdown",
   "metadata": {},
   "source": [
    "Another important chart for diagnosing your time series is the partial autocorrelation chart (PACF). This is similar to autocorrelation, but, instead of being just the correlation at increasing lags, it is the correlation at a given lag, _controlling for the effect of previous lags._"
   ]
  },
  {
   "cell_type": "code",
   "execution_count": 29,
   "metadata": {},
   "outputs": [
    {
     "data": {
      "image/png": "[encoded data removed]",
      "text/plain": [
       "<matplotlib.figure.Figure at 0x1a1760f240>"
      ]
     },
     "metadata": {},
     "output_type": "display_data"
    }
   ],
   "source": [
    "# Plot the partial autocorrelations using statsmodels\n",
    "from statsmodels.tsa.stattools import pacf\n",
    "from statsmodels.graphics.tsaplots import plot_pacf\n",
    "\n",
    "fig, ax = plt.subplots()\n",
    "plot_pacf(store1_data.loc[:, 'Sales'], lags=30, ax=ax);"
   ]
  },
  {
   "cell_type": "markdown",
   "metadata": {},
   "source": [
    "This plots the correlation at a given lag (indicated by the horizontal axis), controlling for all of the previous lags. We continue to see big jumps in correlation at the weekly time lags, but they go down through time. \n",
    "\n",
    "**Note:** A lot of this pattern is driven by the zeros on Sundays."
   ]
  },
  {
   "cell_type": "markdown",
   "metadata": {},
   "source": [
    "> **Check:** How might seasonality in a data set (monthly, weekly, etc.) show up in autocorrelation plots?"
   ]
  },
  {
   "cell_type": "markdown",
   "metadata": {},
   "source": [
    "<h2><a id = \"D\">Problems Posed by Autocorrelation</a></h2>"
   ]
  },
  {
   "cell_type": "markdown",
   "metadata": {},
   "source": [
    "Suppose we built a linear regression model to predict sales from other features in our dataset. Unfortunately, certain properties of linear regression hold only when the residuals/error terms are independent of one another, and autocorrelation removes this independence. For instance, if our model underestimates sales on Day 20, then it is likely to underestimate them on Day 27 as well, because of the autocorrelation.\n",
    "\n",
    "> **What are some problems that could arise when using autocorrelated data with a linear model?**\n",
    "* Estimated regression coefficients are still unbiased, but they are no longer the minimum-variance unbiased estimators.\n",
    "* The MSE may seriously underestimate the true variance of the errors.\n",
    "* The standard error of the regression coefficients may seriously underestimate the true standard deviation of the estimated regression coefficients.\n",
    "* Statistical intervals and inference procedures are no longer strictly applicable.\n",
    "\n",
    "Statisticians have developed specialized models specifically for time series data because of these issues."
   ]
  },
  {
   "cell_type": "markdown",
   "metadata": {},
   "source": [
    "# Recap"
   ]
  },
  {
   "cell_type": "markdown",
   "metadata": {},
   "source": [
    "* Autocorrelation is a measure of how dependent a data point is on previous data points.\n",
    "* Investigating ACF and PACF plots can help us identify seasonality in our time series data.\n",
    "* Simple linear regression is problematic for data with autocorrelations because these data no longer have independent errors."
   ]
  },
  {
   "cell_type": "markdown",
   "metadata": {},
   "source": [
    "**Exercise.**"
   ]
  },
  {
   "cell_type": "code",
   "execution_count": 30,
   "metadata": {},
   "outputs": [
    {
     "data": {
      "text/html": [
       "<div>\n",
       "<style scoped>\n",
       "    .dataframe tbody tr th:only-of-type {\n",
       "        vertical-align: middle;\n",
       "    }\n",
       "\n",
       "    .dataframe tbody tr th {\n",
       "        vertical-align: top;\n",
       "    }\n",
       "\n",
       "    .dataframe thead th {\n",
       "        text-align: right;\n",
       "    }\n",
       "</style>\n",
       "<table border=\"1\" class=\"dataframe\">\n",
       "  <thead>\n",
       "    <tr style=\"text-align: right;\">\n",
       "      <th></th>\n",
       "      <th>Year</th>\n",
       "      <th>Qtr1</th>\n",
       "      <th>Qtr2</th>\n",
       "      <th>Qtr3</th>\n",
       "      <th>Qtr4</th>\n",
       "    </tr>\n",
       "  </thead>\n",
       "  <tbody>\n",
       "    <tr>\n",
       "      <th>0</th>\n",
       "      <td>1996</td>\n",
       "      <td>89.13</td>\n",
       "      <td>89.52</td>\n",
       "      <td>89.88</td>\n",
       "      <td>90.12</td>\n",
       "    </tr>\n",
       "    <tr>\n",
       "      <th>1</th>\n",
       "      <td>1997</td>\n",
       "      <td>89.19</td>\n",
       "      <td>89.78</td>\n",
       "      <td>90.03</td>\n",
       "      <td>90.38</td>\n",
       "    </tr>\n",
       "    <tr>\n",
       "      <th>2</th>\n",
       "      <td>1998</td>\n",
       "      <td>90.27</td>\n",
       "      <td>90.77</td>\n",
       "      <td>91.85</td>\n",
       "      <td>92.51</td>\n",
       "    </tr>\n",
       "    <tr>\n",
       "      <th>3</th>\n",
       "      <td>1999</td>\n",
       "      <td>92.21</td>\n",
       "      <td>92.52</td>\n",
       "      <td>93.62</td>\n",
       "      <td>94.15</td>\n",
       "    </tr>\n",
       "    <tr>\n",
       "      <th>4</th>\n",
       "      <td>2000</td>\n",
       "      <td>94.69</td>\n",
       "      <td>95.34</td>\n",
       "      <td>96.04</td>\n",
       "      <td>96.30</td>\n",
       "    </tr>\n",
       "  </tbody>\n",
       "</table>\n",
       "</div>"
      ],
      "text/plain": [
       "   Year   Qtr1   Qtr2   Qtr3   Qtr4\n",
       "0  1996  89.13  89.52  89.88  90.12\n",
       "1  1997  89.19  89.78  90.03  90.38\n",
       "2  1998  90.27  90.77  91.85  92.51\n",
       "3  1999  92.21  92.52  93.62  94.15\n",
       "4  2000  94.69  95.34  96.04  96.30"
      ]
     },
     "execution_count": 30,
     "metadata": {},
     "output_type": "execute_result"
    }
   ],
   "source": [
    "euro = pd.read_csv('./data/euretail.csv')\n",
    "euro.head()"
   ]
  },
  {
   "cell_type": "markdown",
   "metadata": {},
   "source": [
    "- Set \"Year\" as the index"
   ]
  },
  {
   "cell_type": "code",
   "execution_count": 31,
   "metadata": {},
   "outputs": [],
   "source": [
    "euro.set_index('Year', inplace=True)"
   ]
  },
  {
   "cell_type": "markdown",
   "metadata": {},
   "source": [
    "- Run the code below. What is does `.stack()` do?"
   ]
  },
  {
   "cell_type": "code",
   "execution_count": 32,
   "metadata": {
    "collapsed": true
   },
   "outputs": [
    {
     "data": {
      "text/plain": [
       "Year      \n",
       "1996  Qtr1     89.13\n",
       "      Qtr2     89.52\n",
       "      Qtr3     89.88\n",
       "      Qtr4     90.12\n",
       "1997  Qtr1     89.19\n",
       "      Qtr2     89.78\n",
       "      Qtr3     90.03\n",
       "      Qtr4     90.38\n",
       "1998  Qtr1     90.27\n",
       "      Qtr2     90.77\n",
       "      Qtr3     91.85\n",
       "      Qtr4     92.51\n",
       "1999  Qtr1     92.21\n",
       "      Qtr2     92.52\n",
       "      Qtr3     93.62\n",
       "      Qtr4     94.15\n",
       "2000  Qtr1     94.69\n",
       "      Qtr2     95.34\n",
       "      Qtr3     96.04\n",
       "      Qtr4     96.30\n",
       "2001  Qtr1     94.83\n",
       "      Qtr2     95.14\n",
       "      Qtr3     95.86\n",
       "      Qtr4     95.83\n",
       "2002  Qtr1     95.73\n",
       "      Qtr2     96.36\n",
       "      Qtr3     96.89\n",
       "      Qtr4     97.01\n",
       "2003  Qtr1     96.66\n",
       "      Qtr2     97.76\n",
       "               ...  \n",
       "2004  Qtr3     99.31\n",
       "      Qtr4     99.44\n",
       "2005  Qtr1     99.43\n",
       "      Qtr2     99.84\n",
       "      Qtr3    100.32\n",
       "      Qtr4    100.40\n",
       "2006  Qtr1     99.88\n",
       "      Qtr2    100.19\n",
       "      Qtr3    100.75\n",
       "      Qtr4    101.01\n",
       "2007  Qtr1    100.84\n",
       "      Qtr2    101.34\n",
       "      Qtr3    101.94\n",
       "      Qtr4    102.10\n",
       "2008  Qtr1    101.56\n",
       "      Qtr2    101.48\n",
       "      Qtr3    101.13\n",
       "      Qtr4    100.34\n",
       "2009  Qtr1     98.93\n",
       "      Qtr2     98.31\n",
       "      Qtr3     97.67\n",
       "      Qtr4     97.44\n",
       "2010  Qtr1     96.53\n",
       "      Qtr2     96.56\n",
       "      Qtr3     96.51\n",
       "      Qtr4     96.70\n",
       "2011  Qtr1     95.88\n",
       "      Qtr2     95.84\n",
       "      Qtr3     95.79\n",
       "      Qtr4     95.97\n",
       "Length: 64, dtype: float64"
      ]
     },
     "execution_count": 32,
     "metadata": {},
     "output_type": "execute_result"
    }
   ],
   "source": [
    "euro.stack()"
   ]
  },
  {
   "cell_type": "code",
   "execution_count": 33,
   "metadata": {
    "collapsed": true
   },
   "outputs": [
    {
     "data": {
      "text/html": [
       "<div>\n",
       "<style scoped>\n",
       "    .dataframe tbody tr th:only-of-type {\n",
       "        vertical-align: middle;\n",
       "    }\n",
       "\n",
       "    .dataframe tbody tr th {\n",
       "        vertical-align: top;\n",
       "    }\n",
       "\n",
       "    .dataframe thead th {\n",
       "        text-align: right;\n",
       "    }\n",
       "</style>\n",
       "<table border=\"1\" class=\"dataframe\">\n",
       "  <thead>\n",
       "    <tr style=\"text-align: right;\">\n",
       "      <th></th>\n",
       "      <th>Qtr1</th>\n",
       "      <th>Qtr2</th>\n",
       "      <th>Qtr3</th>\n",
       "      <th>Qtr4</th>\n",
       "    </tr>\n",
       "    <tr>\n",
       "      <th>Year</th>\n",
       "      <th></th>\n",
       "      <th></th>\n",
       "      <th></th>\n",
       "      <th></th>\n",
       "    </tr>\n",
       "  </thead>\n",
       "  <tbody>\n",
       "    <tr>\n",
       "      <th>1996</th>\n",
       "      <td>89.13</td>\n",
       "      <td>89.52</td>\n",
       "      <td>89.88</td>\n",
       "      <td>90.12</td>\n",
       "    </tr>\n",
       "    <tr>\n",
       "      <th>1997</th>\n",
       "      <td>89.19</td>\n",
       "      <td>89.78</td>\n",
       "      <td>90.03</td>\n",
       "      <td>90.38</td>\n",
       "    </tr>\n",
       "    <tr>\n",
       "      <th>1998</th>\n",
       "      <td>90.27</td>\n",
       "      <td>90.77</td>\n",
       "      <td>91.85</td>\n",
       "      <td>92.51</td>\n",
       "    </tr>\n",
       "    <tr>\n",
       "      <th>1999</th>\n",
       "      <td>92.21</td>\n",
       "      <td>92.52</td>\n",
       "      <td>93.62</td>\n",
       "      <td>94.15</td>\n",
       "    </tr>\n",
       "    <tr>\n",
       "      <th>2000</th>\n",
       "      <td>94.69</td>\n",
       "      <td>95.34</td>\n",
       "      <td>96.04</td>\n",
       "      <td>96.30</td>\n",
       "    </tr>\n",
       "  </tbody>\n",
       "</table>\n",
       "</div>"
      ],
      "text/plain": [
       "       Qtr1   Qtr2   Qtr3   Qtr4\n",
       "Year                            \n",
       "1996  89.13  89.52  89.88  90.12\n",
       "1997  89.19  89.78  90.03  90.38\n",
       "1998  90.27  90.77  91.85  92.51\n",
       "1999  92.21  92.52  93.62  94.15\n",
       "2000  94.69  95.34  96.04  96.30"
      ]
     },
     "execution_count": 33,
     "metadata": {},
     "output_type": "execute_result"
    }
   ],
   "source": [
    "euro.head()"
   ]
  },
  {
   "cell_type": "code",
   "execution_count": 34,
   "metadata": {},
   "outputs": [],
   "source": [
    "euro = euro.stack()"
   ]
  },
  {
   "cell_type": "code",
   "execution_count": 35,
   "metadata": {},
   "outputs": [
    {
     "data": {
      "text/plain": [
       "Year      \n",
       "1996  Qtr1    89.13\n",
       "      Qtr2    89.52\n",
       "      Qtr3    89.88\n",
       "      Qtr4    90.12\n",
       "1997  Qtr1    89.19\n",
       "dtype: float64"
      ]
     },
     "execution_count": 35,
     "metadata": {},
     "output_type": "execute_result"
    }
   ],
   "source": [
    "euro.head()"
   ]
  },
  {
   "cell_type": "markdown",
   "metadata": {},
   "source": [
    "`.stack()` takes a DataFrame and turns it into a series with a two-level index by making the column names a new second-level row index for each element of the original index."
   ]
  },
  {
   "cell_type": "markdown",
   "metadata": {},
   "source": [
    "- Make a line plot of the values in `euro`"
   ]
  },
  {
   "cell_type": "code",
   "execution_count": 41,
   "metadata": {},
   "outputs": [
    {
     "data": {
      "text/plain": [
       "<matplotlib.axes._subplots.AxesSubplot at 0x1a174eb208>"
      ]
     },
     "execution_count": 41,
     "metadata": {},
     "output_type": "execute_result"
    },
    {
     "data": {
      "image/png": "[encoded data removed]",
      "text/plain": [
       "<matplotlib.figure.Figure at 0x11362cc88>"
      ]
     },
     "metadata": {},
     "output_type": "display_data"
    }
   ],
   "source": [
    "fig, ax = plt.subplots()\n",
    "euro.loc[:, :].plot(ax=ax);"
   ]
  },
  {
   "cell_type": "markdown",
   "metadata": {},
   "source": [
    "- Use `plot_acf` and `plot_pacf` to look at the autocorrelation in the data set."
   ]
  },
  {
   "cell_type": "code",
   "execution_count": 42,
   "metadata": {},
   "outputs": [
    {
     "data": {
      "image/png": "[encoded data removed]",
      "text/plain": [
       "<matplotlib.figure.Figure at 0x1a1747f860>"
      ]
     },
     "metadata": {},
     "output_type": "display_data"
    }
   ],
   "source": [
    "fig, ax = plt.subplots()\n",
    "plot_acf(euro, lags=30, ax=ax);"
   ]
  },
  {
   "cell_type": "code",
   "execution_count": 43,
   "metadata": {},
   "outputs": [
    {
     "data": {
      "image/png": "[encoded data removed]",
      "text/plain": [
       "<matplotlib.figure.Figure at 0x1a19cd5550>"
      ]
     },
     "metadata": {},
     "output_type": "display_data"
    }
   ],
   "source": [
    "fig, ax = plt.subplots()\n",
    "plot_pacf(euro, lags=30, ax=ax);"
   ]
  },
  {
   "cell_type": "markdown",
   "metadata": {},
   "source": [
    "- Interpret your findings."
   ]
  },
  {
   "cell_type": "markdown",
   "metadata": {},
   "source": []
  }
 ],
 "metadata": {
  "kernelspec": {
   "display_name": "Python 3",
   "language": "python",
   "name": "python3"
  },
  "language_info": {
   "codemirror_mode": {
    "name": "ipython",
    "version": 3
   },
   "file_extension": ".py",
   "mimetype": "text/x-python",
   "name": "python",
   "nbconvert_exporter": "python",
   "pygments_lexer": "ipython3",
   "version": "3.6.4"
  }
 },
 "nbformat": 4,
 "nbformat_minor": 2
}

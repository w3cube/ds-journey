{
 "cells": [
  {
   "cell_type": "markdown",
   "metadata": {},
   "source": [
    "<img src=\"http://imgur.com/1ZcRyrc.png\" style=\"float: left; margin: 20px; height: 55px\">\n",
    "\n",
    "# Your Development Environment\n",
    "\n",
    "_Authors: Kiefer Katovich (San Francisco), Dave Yerrington (San Francisco), Sam Stack (Washington, D.C.) _"
   ]
  },
  {
   "cell_type": "markdown",
   "metadata": {},
   "source": [
    "# Student Pre-Work \n",
    "\n",
    "Download [git](https://git-scm.com/downloads) (Mac) or [Git Bash](https://gitforwindows.org/) (Windows) and install it."
   ]
  },
  {
   "cell_type": "markdown",
   "metadata": {},
   "source": [
    "\n",
    "# Learning Objectives\n",
    "\n",
    "## Part 1: Using the Command Line\n",
    "_After this lesson, you will be able to:_\n",
    "- Create folders and files using the command line (mkdir, touch).\n",
    "- Change directories and list directory content (cd, ls).\n",
    "- Check the current working directory (pwd).\n",
    "\n",
    "\n",
    "## Part 2: Git and GitHub\n",
    "*After this lesson, you will be able to:*\n",
    "- Use and explain common Git commands, including `init`, `add`, `commit`, `push`, `pull`, and `clone`.\n",
    "- Distinguish between local and remote repositories.\n",
    "- Create, copy, and delete repositories locally or on GitHub.\n",
    "- Clone remote repositories.\n",
    "- Establish Secure Shell connections to remote repositories."
   ]
  },
  {
   "cell_type": "markdown",
   "metadata": {
    "slideshow": {
     "slide_type": "slide"
    }
   },
   "source": [
    "<a id='command'></a>\n",
    "# Using the Command Line\n",
    "\n",
    "<a id='introduction'></a>\n",
    "\n",
    "##  What is a Command-Line Interface?\n",
    "\n",
    "---\n",
    "\n",
    "A typical app has a **graphical user interface (GUI, pronounced \"gooey\")**: you interact with it via graphical elements such as menus and buttons.\n",
    "\n",
    "By contrast, you interact with a program that has a **command-line interface (CLI)** via text.\n",
    "\n",
    "GUIs are typically prettier and easier to get started with, but CLIs can be vastly more flexible and powerful."
   ]
  },
  {
   "cell_type": "markdown",
   "metadata": {
    "slideshow": {
     "slide_type": "slide"
    }
   },
   "source": [
    "## What Is a Shell?\n",
    "\n",
    "---\n",
    "\n",
    "A **shell** is a CLI program for interacting with your computer's operating system."
   ]
  },
  {
   "cell_type": "markdown",
   "metadata": {
    "slideshow": {
     "slide_type": "slide"
    }
   },
   "source": [
    "**Windows Users**\n",
    "\n",
    "In Windows, you can access a shell in several ways:\n",
    "+ **Windows Command Prompt:** A legacy DOS-based shell. Press `Win-R` to open a Run dialog. Then, enter `cmd` to open the shell.\n",
    "+ **Windows PowerShell:** The official Windows-native shell and scripting language, intended to replace the antiquated Command Prompt.\n",
    "+ **Windows Subsystem for Linux:** New to Windows 10, this allows you to run Ubuntu (a popular Linux distribution) natively in Windows. [You must turn on this Windows feature manually.](https://docs.microsoft.com/en-us/windows/wsl/install-win10)"
   ]
  },
  {
   "cell_type": "markdown",
   "metadata": {
    "slideshow": {
     "slide_type": "slide"
    }
   },
   "source": [
    "In this class, we will use [Git Bash](https://git-for-windows.github.io/), which emulates some Linux commands in a Windows environment."
   ]
  },
  {
   "cell_type": "markdown",
   "metadata": {
    "slideshow": {
     "slide_type": "slide"
    }
   },
   "source": [
    "**Mac users**\n",
    "\n",
    "Open the Terminal via Spotlight:\n",
    "\n",
    "- ⌘ (Command) + Space\n",
    "- \"Terminal\"\n",
    "- Enter\n",
    "\n",
    "> **Side note:** I use iTerm2 rather than the built-in Mac Terminal because it has a few convenience features that I like. You are welcome to use either. They both use `Bash` to execute commands, so the results will be the same."
   ]
  },
  {
   "cell_type": "markdown",
   "metadata": {
    "slideshow": {
     "slide_type": "slide"
    }
   },
   "source": [
    "<a id='paths'></a>\n",
    "\n",
    "## Paths\n",
    "\n",
    "---\n",
    "\n",
    "In a typical file system, files and folders are organized hierarchically. You can refer to a file by specifying its location as either a **relative path** or an **absolute path**.\n",
    "\n",
    "**Note:** I will use the term \"directory\" more or less interchangeably with \"folder.\""
   ]
  },
  {
   "cell_type": "markdown",
   "metadata": {
    "slideshow": {
     "slide_type": "slide"
    }
   },
   "source": [
    "### Absolute Paths\n",
    "\n",
    "An absolute path specifies a file or folder's position starting at the **root directory**, typically shown as `/`. For instance, a file called `file.txt` inside directory `c`, which is inside directory `b`, which is inside directory `a`, which is in the root directory, would have absolute path `/a/b/c/file.txt`. On a Mac, you could open it from the Terminal as follows:\n",
    "\n",
    "```bash\n",
    "open /a/b/c/file.txt\n",
    "```\n",
    "\n",
    "**Note**: Typically your **home** directory is at `/Users/[Your Username]`. *The root directory is different from the home directory.*\n",
    "\n",
    "**Note**: Windows uses backslashes \"`\\`\" instead of forward slashes \"`/`\" in paths."
   ]
  },
  {
   "cell_type": "markdown",
   "metadata": {
    "slideshow": {
     "slide_type": "slide"
    }
   },
   "source": [
    "### Relative Paths\n",
    "\n",
    "A relative path specifies how to get to a file or folder from your current position in the file system, called the **working directory**. For instance, if we are in the folder `/a/b/` and we want to open the file that has the absolute path `/a/b/c/file.txt`, we can simply type:\n",
    "\n",
    "```bash\n",
    "open c/file.txt\n",
    "```\n",
    "\n",
    "or\n",
    "\n",
    "```bash\n",
    "open ./c/file.txt\n",
    "```\n",
    "\n",
    "(`.` always refers to the current directory.)\n",
    "\n",
    "If our working directory is `/a/b/c/d/`, then we can still use a relative path for `/a/b/c/file.txt` by using `..` to refer to the directory \"up a level\" in the file hierarchy:\n",
    "\n",
    "```bash\n",
    "open ../file.txt\n",
    "```\n",
    "\n",
    "If our working directory is `/a/b/c/d/e`, then we just go up a level twice:\n",
    "\n",
    "```bash\n",
    "open ../../file.txt\n",
    "```\n",
    "\n",
    "We can also go \"up and then down.\" For instance, suppose our working directory is `/Users/username/my_stuff/whatever/`. Then the relative path to `/Users/username/Downloads/awesome.mp3` is `../../Downloads/awesome.mp3`."
   ]
  },
  {
   "cell_type": "markdown",
   "metadata": {},
   "source": [
    "**Exercise.**"
   ]
  },
  {
   "cell_type": "markdown",
   "metadata": {},
   "source": [
    "- Suppose our working directory is `/Users/username/Documents/important_stuff/`. What is the relative path to `/Users/username/Music/broadway/awesome_song.mp3`?"
   ]
  },
  {
   "cell_type": "markdown",
   "metadata": {},
   "source": [
    "/scrub/\n",
    "\n",
    "../../Music/broadway/awesome_song.mp3"
   ]
  },
  {
   "cell_type": "markdown",
   "metadata": {},
   "source": [
    "- Suppose our working directory is `/Users/username/repos/shared/my_awesome_project/`. What is the absolute path to the file with relative path `../../personal/my_lame_project/do_stuff.py`?"
   ]
  },
  {
   "cell_type": "markdown",
   "metadata": {},
   "source": [
    "/scrub/\n",
    "\n",
    "`/Users/username/repos/personal/my_lame_project/do_stuff.py`"
   ]
  },
  {
   "cell_type": "markdown",
   "metadata": {
    "slideshow": {
     "slide_type": "slide"
    }
   },
   "source": [
    "## Navigating Using the Command Prompt\n",
    "---"
   ]
  },
  {
   "cell_type": "markdown",
   "metadata": {},
   "source": [
    "### cd\n",
    "\n",
    "We use `cd` (\"change directory\") to move around the file system.\n",
    "\n",
    "For instance, to go from `/a/b/` to `/a/b/c/d/`, we could run any of the following commands:\n",
    "\n",
    "```bash\n",
    "cd c/d/\n",
    "```\n",
    "\n",
    "(relative path)\n",
    "\n",
    "```bash\n",
    "cd ./c/d/\n",
    "```\n",
    "\n",
    "(relative path with explicit reference to current directory)\n",
    "\n",
    "```bash\n",
    "cd /a/b/c/d/\n",
    "```\n",
    "\n",
    "(absolute path)\n",
    "\n",
    "Running `cd` with no arguments takes you to your home directory:\n",
    "\n",
    "```bash\n",
    "cd\n",
    "```\n",
    "\n",
    "The tilde (`~`) character is an alias for your home directory, so you can also return to the home directory as follows:\n",
    "\n",
    "```bash\n",
    "cd ~\n",
    "```\n",
    "\n",
    "The tilde is useful for shortening paths that would otherwise be absolute. For example, to navigate to your desktop, you can type:\n",
    "\n",
    "```bash\n",
    "cd ~/Desktop\n",
    "```\n",
    "\n",
    "This command will take you back to your previous location:\n",
    "\n",
    "```bash\n",
    "cd -\n",
    "```"
   ]
  },
  {
   "cell_type": "markdown",
   "metadata": {},
   "source": [
    "### pwd\n",
    "\n",
    "`pwd` (print working directory) gives you the absolute path of your current location in the filesystem."
   ]
  },
  {
   "cell_type": "markdown",
   "metadata": {
    "slideshow": {
     "slide_type": "slide"
    }
   },
   "source": [
    "### ls\n",
    "\n",
    "The `ls` command lists files and directories in the current folder.\n",
    "\n",
    "```bash\n",
    "ls\n",
    "```\n",
    "\n",
    "It can also be used to list files located in any directory. For example, to list your applications, you can type:\n",
    "```bash\n",
    "ls /Applications\n",
    "```"
   ]
  },
  {
   "cell_type": "markdown",
   "metadata": {
    "slideshow": {
     "slide_type": "slide"
    }
   },
   "source": [
    "## Creating and Destroying\n",
    "---"
   ]
  },
  {
   "cell_type": "markdown",
   "metadata": {},
   "source": [
    "To make a new directory, type:\n",
    "```bash\n",
    "mkdir folder\n",
    "```\n",
    "\n",
    "To create a new file, type:\n",
    "```bash\n",
    "touch file1\n",
    "```\n",
    "\n",
    "To remove a file, type:\n",
    "```bash\n",
    "rm file1\n",
    "```\n",
    "\n",
    "Be careful!\n",
    "\n",
    "- `rm` deletes files and folders immediately, rather than sending them to the Trash Can\n",
    "- The Terminal has no \"Undo\" button."
   ]
  },
  {
   "cell_type": "markdown",
   "metadata": {},
   "source": [
    "## General Format for Commands\n",
    "---"
   ]
  },
  {
   "cell_type": "markdown",
   "metadata": {},
   "source": [
    "`<command> -<options> <arguments>`\n",
    "* `<command>` is the action we want the computer to take.\n",
    "* `<options>` (or \"flags\") modify the behavior of the command.\n",
    "* `<arguments>` are the things we want the command to act on."
   ]
  },
  {
   "cell_type": "markdown",
   "metadata": {
    "slideshow": {
     "slide_type": "slide"
    }
   },
   "source": [
    "## Some `ls` Flags\n",
    "\n",
    "List contents in long format:\n",
    "\n",
    "```bash\n",
    "ls -l\n",
    "```\n",
    "\n",
    "Include hidden files and directories, whose names begin with `.`:\n",
    "\n",
    "```bash\n",
    "ls -a\n",
    "```\n",
    "\n",
    "Combine these options:\n",
    "\n",
    "```bash\n",
    "ls -la\n",
    "```\n",
    "\n",
    "Also make the file sizes more human-readable:\n",
    "\n",
    "```bash\n",
    "ls -lha\n",
    "```"
   ]
  },
  {
   "cell_type": "markdown",
   "metadata": {
    "slideshow": {
     "slide_type": "slide"
    }
   },
   "source": [
    "## Wildcards\n",
    "\n",
    "The wildcard symbol (`*`) is useful for using commands to operate on multiple\n",
    "files. To provide an example, first create a folder on your desktop and add some\n",
    "files.\n",
    "```bash\n",
    "mkdir ~/Desktop/example_folder\n",
    "cd ~/Desktop/example_folder\n",
    "touch cat.txt\n",
    "touch dog.txt\n",
    "touch bird.txt\n",
    "touch fish.txt\n",
    "```\n",
    "\n",
    "You can then use the wildcard `*` to operate on subsets of files. List any\n",
    "file with \"i\" in the file name, for example:\n",
    "```bash\n",
    "ls *i*\n",
    "```\n",
    "\n",
    "Or, remove any file with \"d\":\n",
    "```bash\n",
    "rm *d*\n",
    "ls\n",
    "```\n",
    "\n",
    "*Tip:* Run e.g. `ls *d*` before `rm *d*` to check which files you are about to delete."
   ]
  },
  {
   "cell_type": "markdown",
   "metadata": {
    "slideshow": {
     "slide_type": "slide"
    }
   },
   "source": [
    "<a id='editing_files'></a>\n",
    "\n",
    "## Editing and Examining Files\n",
    "\n",
    "---\n",
    "\n",
    "Use the following command to open a simple text editor inside the Terminal:\n",
    "\n",
    "```bash\n",
    "nano [filename]\n",
    "```"
   ]
  },
  {
   "cell_type": "markdown",
   "metadata": {
    "slideshow": {
     "slide_type": "slide"
    }
   },
   "source": [
    "### Echo File Content to the Terminal\n",
    "\n",
    "The `cat` command can be used to print the entire contents of a file (`cat` is also used for concatenating files, hence its name!):\n",
    "\n",
    "```bash\n",
    "cat /etc/passwd\n",
    "```\n",
    "\n",
    "**Only the first few lines of a file**\n",
    "\n",
    "This command is useful when looking at files that might be too large to open in a traditional editor such as Sublime or Atom.\n",
    "\n",
    "```bash\n",
    "head /etc/passwd\n",
    "```\n",
    "\n",
    "**Only the last few lines of a file**\n",
    "\n",
    "```bash\n",
    "tail /etc/passwd\n",
    "```\n",
    "\n",
    "You can also pass the paramter `-n` to `head` and `tail` to control the amount of output displayed."
   ]
  },
  {
   "cell_type": "markdown",
   "metadata": {
    "slideshow": {
     "slide_type": "slide"
    }
   },
   "source": [
    "### Finding Files by Contents\n",
    "\n",
    "**Find all files with the word \"the\" inside.**\n",
    "\n",
    "```bash\n",
    "grep -r \"the\" *\n",
    "```\n",
    "\n",
    "Omitting `-r` will cause `grep` to only look within the current subdirectory.\n",
    "Using `-i` will make `grep` ignore the casing of characters."
   ]
  },
  {
   "cell_type": "markdown",
   "metadata": {
    "slideshow": {
     "slide_type": "slide"
    }
   },
   "source": [
    "<a id='finding_files'></a>\n",
    "\n",
    "## Finding Files by Name\n",
    "\n",
    "---\n",
    "\n",
    "**Find all notebook files within subdirectories of the current working directory:**\n",
    "\n",
    "```bash\n",
    "find . -name *ipynb\n",
    "```\n",
    "\n",
    "**Find specific file(s) within the entire system:**\n",
    "\n",
    "```bash\n",
    "find ~ -name .vimrc\n",
    "```\n",
    "\n",
    "**Find specific file(s) with a substring match:**\n",
    "\n",
    "```bash\n",
    "find ~ -name *data*\n",
    "```"
   ]
  },
  {
   "cell_type": "markdown",
   "metadata": {},
   "source": [
    "**Exercise.**\n",
    "\n",
    "What are the \\*'s doing in the previous command?"
   ]
  },
  {
   "cell_type": "markdown",
   "metadata": {},
   "source": [
    "/scrub/\n",
    "\n",
    "They are acting as wildcards, prompting \"find\" to look for any file that contains \"data\" in its name."
   ]
  },
  {
   "cell_type": "markdown",
   "metadata": {
    "slideshow": {
     "slide_type": "slide"
    }
   },
   "source": [
    "## Assessing the Size of a File\n",
    "\n",
    "\n",
    "**Find the number of lines in a file:**\n",
    "\n",
    "```bash\n",
    "wc -l /etc/passwd\n",
    "```\n",
    "\n",
    "**Find the number of words in a file:**\n",
    "\n",
    "```bash\n",
    "wc -w /etc/test.txt\n",
    "```\n",
    "\n",
    "**Find the number of lines, words, and bytes in a file:**\n",
    "\n",
    "```bash\n",
    "wc /etc/test.txt\n",
    "```"
   ]
  },
  {
   "cell_type": "markdown",
   "metadata": {
    "slideshow": {
     "slide_type": "slide"
    }
   },
   "source": [
    "### Optional Material: I/O Redirection and Piping\n",
    "\n",
    "Unlocking the true power of the command line requires getting comfortable with using pipes \"`|`\" to build chains of commands. Here is some optional reading on this topic.\n",
    "\n",
    "* [I/O redirection](http://linuxcommand.org/lc3_lts0070.php)\n",
    "* [Good examples of piping commands together](http://unix.stackexchange.com/questions/30759/whats-a-good-example-of-piping-commands-together)"
   ]
  },
  {
   "cell_type": "markdown",
   "metadata": {
    "slideshow": {
     "slide_type": "slide"
    }
   },
   "source": [
    "<a id='independent_practice'></a>\n",
    "\n",
    "**Exercise.**\n",
    "\n",
    "Perform each of the following steps in the Terminal, and record the command you used."
   ]
  },
  {
   "cell_type": "markdown",
   "metadata": {},
   "source": [
    "- Use an absolute path to navigate to a directory one level below your home directory."
   ]
  },
  {
   "cell_type": "markdown",
   "metadata": {},
   "source": [
    "/scrub/\n",
    "\n",
    "```bash\n",
    "cd /Users/greg/Documents\n",
    "```"
   ]
  },
  {
   "cell_type": "markdown",
   "metadata": {},
   "source": [
    "- Use a relative path to create a directory `foo` inside your home directory"
   ]
  },
  {
   "cell_type": "markdown",
   "metadata": {},
   "source": [
    "/scrub/\n",
    "\n",
    "```bash\n",
    "mkdir ../foo/\n",
    "```"
   ]
  },
  {
   "cell_type": "markdown",
   "metadata": {},
   "source": [
    "- Navigate to the directory you just created."
   ]
  },
  {
   "cell_type": "markdown",
   "metadata": {},
   "source": [
    "/scrub/\n",
    "\n",
    "```bash\n",
    "cd ~/foo/\n",
    "```"
   ]
  },
  {
   "cell_type": "markdown",
   "metadata": {},
   "source": [
    "- Confirm that you are in the right place."
   ]
  },
  {
   "cell_type": "markdown",
   "metadata": {},
   "source": [
    "/scrub/\n",
    "\n",
    "```bash\n",
    "pwd\n",
    "```"
   ]
  },
  {
   "cell_type": "markdown",
   "metadata": {},
   "source": [
    "- Create an empty file `foo.txt` inside that directory."
   ]
  },
  {
   "cell_type": "markdown",
   "metadata": {},
   "source": [
    "/scrub/\n",
    "\n",
    "```bash\n",
    "touch foo.txt\n",
    "```"
   ]
  },
  {
   "cell_type": "markdown",
   "metadata": {},
   "source": [
    "- List the contents of the directory."
   ]
  },
  {
   "cell_type": "markdown",
   "metadata": {},
   "source": [
    "/scrub/\n",
    "\n",
    "```bash\n",
    "ls foo.txt\n",
    "```"
   ]
  },
  {
   "cell_type": "markdown",
   "metadata": {},
   "source": [
    "- Use `nano` to add some content to `foo.txt`. (Record just the initial command you use, and not what you type inside `nano`.)"
   ]
  },
  {
   "cell_type": "markdown",
   "metadata": {},
   "source": [
    "/scrub/\n",
    "\n",
    "```bash\n",
    "nano foo.txt\n",
    "```"
   ]
  },
  {
   "cell_type": "markdown",
   "metadata": {},
   "source": [
    "- Print those contents in the terminal"
   ]
  },
  {
   "cell_type": "markdown",
   "metadata": {},
   "source": [
    "/scrub/\n",
    "\n",
    "```bash\n",
    "cat foo.txt\n",
    "```"
   ]
  },
  {
   "cell_type": "markdown",
   "metadata": {},
   "source": [
    "- Delete foo.txt"
   ]
  },
  {
   "cell_type": "markdown",
   "metadata": {},
   "source": [
    "/scrub/\n",
    "\n",
    "```bash\n",
    "rm foo.txt\n",
    "```"
   ]
  },
  {
   "cell_type": "markdown",
   "metadata": {},
   "source": [
    "- Navigate back to your home directory without providing any arguments."
   ]
  },
  {
   "cell_type": "markdown",
   "metadata": {},
   "source": [
    "/scrub/\n",
    "\n",
    "```bash\n",
    "cd\n",
    "```"
   ]
  },
  {
   "cell_type": "markdown",
   "metadata": {},
   "source": [
    "- Delete the directory `foo`; you will need to pass the flag `-r` (for \"recursive\")."
   ]
  },
  {
   "cell_type": "markdown",
   "metadata": {},
   "source": [
    "/scrub/\n",
    "\n",
    "```bash\n",
    "rm -r foo/\n",
    "```"
   ]
  },
  {
   "cell_type": "markdown",
   "metadata": {},
   "source": [
    "- List the contents of your current directory to confirm that `foo` was deleted."
   ]
  },
  {
   "cell_type": "markdown",
   "metadata": {},
   "source": [
    "/scrub/\n",
    "\n",
    "```bash\n",
    "ls\n",
    "```"
   ]
  },
  {
   "cell_type": "markdown",
   "metadata": {},
   "source": [
    "<a id='ide'></a>\n",
    "# Development Environments\n",
    "\n",
    "To work in a programming language such as Python, you need a way to write text files and way to execute them. Your options largely fall into the following categories:\n",
    "\n",
    "- REPL\n",
    "- Notebook\n",
    "- Text editor + Terminal\n",
    "- IDE"
   ]
  },
  {
   "cell_type": "markdown",
   "metadata": {},
   "source": [
    "## REPL\n",
    "\n",
    "In your terminal, you can enter into a Python shell by simply typing `python`.\n",
    "\n",
    "Within the Python shell, we can execute Python expressions.\n",
    "\n",
    "```python\n",
    ">>> # assigning a variable\n",
    ">>> x = 'hello world'\n",
    "\n",
    ">>> # printing a variables contents\n",
    ">>> print(x)\n",
    "hello world\n",
    "```\n",
    "\n",
    "This environment is called a Read-Evaluate-Print Loop (REPL) because it repeatedly reads code, evaluates it, and prints the result to the console.\n",
    "\n",
    "The Anaconda distribution of Python comes with a much nicer REPL called `ipython`, which provides syntax highlighting and better support for multi-line code blocks.\n",
    "\n",
    "**Pros:**\n",
    "\n",
    "- Easy to start up.\n",
    "- Provides immediate feedback.\n",
    "\n",
    "**Cons:**\n",
    "\n",
    "- Ugly\n",
    "- Lacks many of the conveniences of a good text editor, especially for multi-line code blocks.\n",
    "- Doesn't naturally provide a clean record of the steps you performed.\n",
    "\n",
    "**Overall:** Useful for quickly testing simple procedures."
   ]
  },
  {
   "cell_type": "markdown",
   "metadata": {},
   "source": [
    "## Notebook\n",
    "\n",
    "A notebook is basically a nicer interface layer on top of a REPL. In fact, Jupyter Notebooks run `ipython` behind the scenes.\n",
    "\n",
    "**Examples:**\n",
    "\n",
    "- Jupyter (by far the most popular for data science)\n",
    "- Zeppelin (next most popular, good for collaborative work)\n",
    "\n",
    "**Pros:**\n",
    "\n",
    "- Provides immediate feedback.\n",
    "- Provides flexibility in how you execute code, including editing code and re-running it.\n",
    "- Allows you to mix Markdown cells with Python code.\n",
    "- Looks nice.\n",
    "\n",
    "**Cons:**\n",
    "\n",
    "- Being able to run code out of order makes it difficult to ensure that your work is reproducible.\n",
    "- Notebooks can't be deployed. To change their inputs, you have to change the code manually. To run the code again, you have to tell the cells to run manually.\n",
    "- Because notebook files contain metadata and the outputs of any cells that have been evaluated, they do not work well with version control systems.\n",
    "\n",
    "**Overall:** Notebooks are fantastic for *exploratory work at the beginning of a project* and *technical presentations at the end of a project*. They are not good for writing the code that will actually be deployed."
   ]
  },
  {
   "cell_type": "markdown",
   "metadata": {},
   "source": [
    "## Text Editor + Terminal\n",
    "\n",
    "You can use a text editor to edit text files containing Python code and then execute those files from the terminal using a command like the following:\n",
    "\n",
    "```bash\n",
    "python foo.py\n",
    "```\n",
    "\n",
    "Microsoft Word and Google Docs are **not** text editors. They operate on files that are stored in proprietary formats that encode a lot of information e.g. about formatting in addition to the text itself. By contrast, a text editor works on **plain text files** where the content of the file just is the text that you see when you open it.\n",
    "\n",
    "**Examples:**\n",
    "\n",
    "- Atom\n",
    "- Sublime Text\n",
    "- Notepad++ (Windows)\n",
    "- Vim\n",
    "- Emacs\n",
    "\n",
    "`nano`, `notepad`, and `textEdit` are too simple for serious coding work.\n",
    "\n",
    "Like `nano`, `vim`, and `emacs` can be run inside the Terminal. Many developers swear by them, but they have serious learning curves.\n",
    "\n",
    "**Pros:**\n",
    "\n",
    "- A good code editor will provide many useful features such as syntax highlighting, multiselect, and keyboard shortcuts e.g. for deleting an entire line at once.\n",
    "- Python source code files can be deployed. They can be written to take command-line arguments to vary their inputs, and standard tools can run them automatically using the appropriate shell commands.\n",
    "- Python source code files are typically highly reproducible.\n",
    "- Python source code files work well with version control systems.\n",
    "- Text editors that run inside the Terminal are very convenient to access.\n",
    "\n",
    "**Cons:**\n",
    "\n",
    "- Lack of interactivity can be a challenge in exploratory work.\n",
    "- Going back and forth between a text editor and a Terminal is a bit of a nuisance.\n",
    "- Text editors lack some of the advanced features that full-fledged IDEs provide."
   ]
  },
  {
   "cell_type": "markdown",
   "metadata": {},
   "source": [
    "## IDE\n",
    "\n",
    "An Integrated Development Environment (IDE) aims to provide everything you need to develop and execute code in a single program.\n",
    "\n",
    "**Examples:**\n",
    "\n",
    "- Spyder (comes with Anaconda, aimed at data scientists, resembles Matlab)\n",
    "- PyCharm (aimed at a more general audience of Python developers)\n",
    "\n",
    "**Pros:**\n",
    "\n",
    "- Provides all the advantages of a text editor listed above, except that no IDE runs inside the Terminal.\n",
    "- Allows you to execute code inside the same program you use to create it.\n",
    "- May provide advanced support for projects, e.g. allowing you to change the name of a function across multiple files all at once.\n",
    "- May provide additional features such as interactive debugging and code profiling.\n",
    "\n",
    "**Cons:**\n",
    "\n",
    "- Takes up a lot of disk space.\n",
    "- Slow to start up.\n",
    "- Steeper initial learning curve than a typical text editor.\n",
    "- Especially for beginners, there is a risk of becoming dependent on an IDE instead of learning to use the Terminal."
   ]
  },
  {
   "cell_type": "markdown",
   "metadata": {},
   "source": [
    "# Another Option\n",
    "\n",
    "JupyterLab offers Jupyter notebooks, a text editor, and a terminal all in your browser."
   ]
  },
  {
   "cell_type": "markdown",
   "metadata": {},
   "source": [
    "## My Opinionated Advice\n",
    "\n",
    "- For this course, just use Jupyter notebooks (either on their own or inside Jupyter Lab).\n",
    "- When you want greater reproducibility, start creating .py files using a text editor that is both powerful and easy to get started with (e.g. Spyder, Atom, or Jupyter Lab's text editor).\n",
    "- When you are comfortable working with Python source code files and want to move from writing individual scripts to developing packages, move to PyCharm.\n",
    "- At some point, try Vim and Emacs. If you like their key bindings but want the modern features of a different text editor or IDE, see if that other program provides a vim/emacs mode."
   ]
  },
  {
   "cell_type": "markdown",
   "metadata": {},
   "source": [
    "<a id=\"introduction2\"></a>\n",
    "# Version Control"
   ]
  },
  {
   "cell_type": "markdown",
   "metadata": {},
   "source": [
    "## Git vs. GitHub"
   ]
  },
  {
   "cell_type": "markdown",
   "metadata": {},
   "source": [
    "### What is Git?\n",
    "\n",
    "[Git](https://git-scm.com/) is:\n",
    "\n",
    "- A program you run from the command line.\n",
    "- A distributed version control system.\n",
    "\n",
    "Programmers use Git so that they can keep a history of all changes made to their code. This means that they can roll back changes (or switch to older versions) as far back as when they started using Git in their project.\n",
    "\n",
    "A code base in Git is referred to as a **repository** or **repo**."
   ]
  },
  {
   "cell_type": "markdown",
   "metadata": {},
   "source": [
    "### What is GitHub?\n",
    "\n",
    "[GitHub](https://github.com/) is:\n",
    "\n",
    "- A hosting service for Git repositories.\n",
    "- A web interface to explore Git repositories.\n",
    "- A social network of programmers.\n",
    "\n",
    "You can use Git without GitHub but not the reverse."
   ]
  },
  {
   "cell_type": "markdown",
   "metadata": {},
   "source": [
    "### What is GitHub Enterprise (GHE)?\n",
    "[GitHub Enterprise](https://enterprise.github.com/home) is essentially GitHub with some adiditional privacy, security, and administrative features that make it easier for large organizations to manage their code."
   ]
  },
  {
   "cell_type": "markdown",
   "metadata": {},
   "source": [
    "### For This Course\n",
    "\n",
    "Course materials are hosted on GitHub Enterprise. You will need a GitHub Enterprise account to access them. You should not need to use Git to manage changes to these materials.\n",
    "\n",
    "Each of your projects will live inside a Git repository on your local machine. You will also post it to GitHub. To do so, you will need a GitHub account that is separate from your GitHub Enterprise account."
   ]
  },
  {
   "cell_type": "markdown",
   "metadata": {},
   "source": [
    "# How Git Works\n",
    "\n",
    "- The **working directory** stores the current state of the files in your repository on your hard drive.\n",
    "- A **git commit** is a record of selected changes in your working directory that have occurred since the previous commit.\n",
    "- When you are ready to capture some set of changes, you first add them to the **staging area** and then commit them.\n",
    "- You **push** your commits to GitHub as a separate step."
   ]
  },
  {
   "cell_type": "markdown",
   "metadata": {},
   "source": [
    "## Why Is It So Complicated?\n",
    "\n",
    "Google Docs takes snapshots of your files automatically and allows you to roll back to those snapshots. Why not use that approach with code?\n",
    "\n",
    "- More often than not, code that is being edited won't run at all or would produce incorrect results. As a result, automatic snapshots don't work well for code.\n",
    "- Code changes often need to be coordinated across multiple files, for instance when you change the name of a function that other files import. As a result, file-level version control doesn't work well for code.\n",
    "- We often want to be able to experiment with a new feature or approach without changing the code that we or others rely on. Git allows you to create **branches** for this purpose.\n",
    "- When collaborating on code, people may want to review each other's proposed changes before accepting them into the `master` branch. GitHub allows you to create **pull requests** for this purpose."
   ]
  },
  {
   "cell_type": "markdown",
   "metadata": {},
   "source": [
    "<a id=\"git_basics\"></a>\n",
    "## Let's Git into it!: Code-Along (20 min)\n",
    "\n",
    "\n",
    "First, create a directory on your Desktop.\n",
    "\n",
    "```bash\n",
    "$ cd ~/Desktop\n",
    "$ mkdir hello-world\n",
    "```\n",
    "\n",
    "You can place this directory under Git revision control using the following command:\n",
    "\n",
    "```bash\n",
    "$ cd hello-world      # don't forget to CD into the folder.\n",
    "$ git init\n",
    "```\n",
    "\n",
    "Git will reply:\n",
    "\n",
    "```bash\n",
    "Initialized empty Git repository in <location>\n",
    "```\n",
    "\n",
    "You've now initialized the working directory."
   ]
  },
  {
   "cell_type": "markdown",
   "metadata": {},
   "source": [
    "#### The .git folder\n",
    "\n",
    "We can look at the contents of this empty folder using this command:\n",
    "\n",
    "```bash\n",
    "ls -A\n",
    "```\n",
    "\n",
    "We should see that there is now a hidden folder called `.git`. This is where all of the information about your repository is stored. There is no need for you to make any changes to this folder. You can control all of the Git flow using `git` commands."
   ]
  },
  {
   "cell_type": "markdown",
   "metadata": {},
   "source": [
    "\n",
    "#### Add a file\n",
    "\n",
    "Let's create a new file.\n",
    "\n",
    "```bash\n",
    "$ touch a.txt\n",
    "```\n",
    "\n",
    "If we run `git status`, we should get:\n",
    "\n",
    "```bash\n",
    "On branch master\n",
    "\n",
    "Initial commit\n",
    "\n",
    "Untracked files:\n",
    "  (use \"git add <file>...\" to include in what will be committed)\n",
    "\n",
    "\ta.txt\n",
    "\n",
    "nothing added to commit but untracked files present (use \"git add\" to track)\n",
    "```\n",
    "\n",
    "This means that there is a new, **untracked** file. Next, tell Git to add `a.txt` to the staging area, ready to be committed.\n",
    "\n",
    "```bash\n",
    "$ git add a.txt\n",
    "```\n",
    "\n",
    "To confirm the file is staged and ready to be committed, again run `git status`.\n",
    "\n",
    "You can alternatively add _all_ new and modified files at once using the command below. This is not recommended, because you can accidentally add extra files if you are not careful! However, sometimes it is useful if you are adding many files at once and carefully use `git status` for verification.\n",
    "\n",
    "```bash\n",
    "$ git add .\n",
    "```"
   ]
  },
  {
   "cell_type": "markdown",
   "metadata": {},
   "source": [
    "#### Commit\n",
    "\n",
    "To permanently store the contents of the staging area in the repository, you need to run the following command:\n",
    "\n",
    "```bash\n",
    "$ git commit -m \"Create a.txt\"\n",
    "```\n",
    "\n",
    "You should now get something like the following:\n",
    "\n",
    "```bash\n",
    "[master (root-commit) 6dd2a9c] Create a.txt\n",
    " 1 file changed, 0 insertions(+), 0 deletions(-)\n",
    " create mode 100644 a.txt\n",
    "```"
   ]
  },
  {
   "cell_type": "markdown",
   "metadata": {},
   "source": [
    "#### Checking the log\n",
    "\n",
    "If we want to view the commit history, we can run:\n",
    "\n",
    "```bash\n",
    "git log\n",
    "```\n",
    "\n",
    "As a result, you should see something like this:\n",
    "\n",
    "```bash\n",
    "commit 6dd2a9c3a185ea4ced6ab137b708daeac86e583a (HEAD -> master)\n",
    "Author: gsganden <greg@gandenberger.org>\n",
    "Date:   Sun Apr 15 21:07:18 2018 -0500\n",
    "\n",
    "    Create a.txt\n",
    "```"
   ]
  },
  {
   "cell_type": "markdown",
   "metadata": {},
   "source": [
    "<a id=\"gh_ghe_accounts\"></a>\n",
    "## 'Git' on GitHub and GitHub Enterprise:\n",
    "\n",
    "If you have not already set up your GitHub and GitHub Enterprise accounts, do that now.\n",
    "\n",
    "You **can** use the same email address, username, and password for both accounts, but they are **wholly separate**._\n",
    "\n",
    "**[GitHub](https://github.com/)**\n",
    " _This is yours_\n",
    " \n",
    "**[GitHub Enterprise for General Assembly](https://git.generalassemb.ly/join?source=header)**\n",
    "_This is ours_"
   ]
  },
  {
   "cell_type": "markdown",
   "metadata": {},
   "source": [
    "<a id=\"making_cloning\"></a>\n",
    "## Making and Cloning Repositories: Code-Along (20 min)\n",
    "\n",
    "A repository on GitHub/GHE is called a **remote** repository. We can **clone** a remote repository to a local machine, creating a **local** repository, create new commits on the local repository, and then **push** those commits to GitHub/GHE. If any other changes are pushed to the remote repository, we can **pull** those changes down to our local repository to keep it up-to-date."
   ]
  },
  {
   "cell_type": "markdown",
   "metadata": {},
   "source": [
    "**Let's do this together:**\n",
    "\n",
    "1. Go to your GitHub account.\n",
    "2. On the right-hand side, create a `New repository`.\n",
    "3. Name your repository `hello-world`.\n",
    "    - **DO NOT initialize the repository with a `README`, `.gitignore`, or license.**\n",
    "\n",
    "4. Click the big, green `Create Repository` button.\n",
    "\n",
    "We now need to connect our local Git repository with our newly created remote repository on GitHub. We have to add a \"remote\" repository, an address where we can send our local files to be stored.\n",
    "\n",
    "On the right-hand side of your GitHub there should be a green 'Clone or download' button. This button should reveal a tiny window with a URL.  Copy the provided URL, which is the path to this remote repo.  \n",
    "\n",
    "\n",
    "_Make sure you changed directories into `hello-world` prior to running this_\n",
    "```bash\n",
    "git remote add origin https://github.com/<GITHUB-NAME>/hello-world.git\n",
    "```\n",
    "\n",
    "_At this point you **may** be prompted for a password, especially when using GHE_"
   ]
  },
  {
   "cell_type": "markdown",
   "metadata": {},
   "source": [
    "#### Pushing to GitHub\n",
    "\n",
    "In order to send files from our local machine to our remote repository on GitHub, we need to use the command `git push`. However, you also need to add the name of the remote repo — in this case, we called it `origin` — and the name of the branch, in this case `master`.\n",
    "\n",
    "```bash\n",
    "git push -u origin master\n",
    "```\n",
    "\n",
    "Refresh your GitHub web page, and your files should appear.\n",
    "\n",
    "You only need to use the `-u` flag the first time you push a particular local branch to a particular remote repository."
   ]
  },
  {
   "cell_type": "markdown",
   "metadata": {},
   "source": [
    "#### Creating a README.md file\n",
    "\n",
    "Let's create a `README.md` file and push it to GitHub! \n",
    "\n",
    "Any file ending with `.md` is a Markdown file -- a text file with optional [Markdown formatting](https://daringfireball.net/projects/markdown/syntax). On GitHub, the contents of the displayed directory's `README.md` is automatically displayed.\n",
    "\n",
    "Create a new `README.md` text file and add some text. (We'll try the command-line text editor `nano` this time!)\n",
    "\n",
    "```bash\n",
    "nano README.md\n",
    "```"
   ]
  },
  {
   "cell_type": "markdown",
   "metadata": {},
   "source": [
    "**Exercise.**\n",
    "\n",
    "Use the same procedure as before to:\n",
    "\n",
    "1. Add the new file to the staging area.\n",
    "2. Verify the file is in the staging area, ready to be committed.\n",
    "3. Commit the file.\n",
    "4. Push the commits to GitHub.\n",
    "\n",
    "Refresh your GitHub web page, and the new `README.md` file should appear. Take a look underneath the directory tree, and its contents will be automatically displayed."
   ]
  },
  {
   "cell_type": "markdown",
   "metadata": {},
   "source": [
    "#### Pulling from GitHub\n",
    "\n",
    "On GitHub, click on README.md, then click on the pencil to edit the file. Make a few changes, then scroll to the bottom of the page, add a short message, and click \"Commit changes.\"\n",
    "\n",
    "Locally, we will need to `fetch` these changes and `merge` them with our local files. To do both of these steps at once, run the `pull` command:\n",
    "\n",
    "```bash\n",
    "git pull origin master\n",
    "```\n",
    "\n",
    "Use a Terminal command to confirm that your local file has changed."
   ]
  },
  {
   "cell_type": "markdown",
   "metadata": {},
   "source": [
    "### Cloning your first repository\n",
    "\n",
    "Use the Terminal to navigate back to your Desktop and **delete your `hello-world` repository**.\n",
    "\n",
    "Now go to *my* hello world repository on GitHub (https://www.github.com/gsganden/hello-world), click on Clone or Download, and use the URL there to *clone* the repository."
   ]
  },
  {
   "cell_type": "markdown",
   "metadata": {},
   "source": [
    "```bash\n",
    "$ git clone <URL>\n",
    "```\n",
    "\n",
    "Git should reply:\n",
    "\n",
    "```bash\n",
    "Cloning into 'hello-world'...\n",
    "remote: Counting objects: 3, done.\n",
    "remote: Total 3 (delta 0), reused 3 (delta 0), pack-reused 0\n",
    "Receiving objects: 100% (3/3), done.\n",
    "Checking connectivity... done.\n",
    "```\n",
    "\n",
    "Run `git log` to confirm that you have retrieved not only the files in my working directory, but also my Git history. By contrast, when you *download* a repository you get only its current state."
   ]
  },
  {
   "cell_type": "markdown",
   "metadata": {},
   "source": [
    "<a name=\"pulling\"></a>\n",
    "## Pull Requests\n",
    "\n",
    "Often when we are working on a project with other collaborators we all can't work on the same repo at the same time so we have these things called _branches_.  With branches we can create a branch off of the main repo or \"Master Branch\", perform our work whether that be additions or alterations and then merge the changes we made on _our_ branch back into the master.  \n",
    "\n",
    "You can probably think of a few ways that multiple people trying to merge their work can get messy.  Fortunately, we have Pull Requests as means of queing and validating merges.  Rather than having your branch merge automatically, your request will go through an administrator who can review your changes and additions and approve or deny your request.  \n",
    "\n",
    "![Branches](../assets/branches.jpg)\n",
    "\n",
    "_Even though we are trying to **push** our information into the master, it is called a pull request because we are making a request to the administrator to **pull** or branch into the master._"
   ]
  },
  {
   "cell_type": "markdown",
   "metadata": {},
   "source": [
    "#### GitHub Example Project\n",
    "\n",
    "A company is building onto their website and adding a few new features.  They are assigning a team of engineers to complete the task.  \n",
    "\n",
    "- Engineer 1 is responsible for redoing the home page.\n",
    "- Engineer 2 is responsible for reworking content pages 1 & 2.\n",
    "- Engineer 3 is responsible for reworking content pages 3 & 4.\n",
    "\n",
    "In this situation the master branch would probably be a copy of the files and scripts for the original website.  As this is the master copy it is best not to make any edits to it until those changes have been vetted.\n",
    "\n",
    "The engineer team starts by making branch off of the master called '`project_1`'.\n",
    "\n",
    "From '`project_1`' the team of engineers would probably create their own branches to perform their tasks in.\n",
    "\n",
    "- Engineer 1 : '`project_1_homepage`'\n",
    "- Engineer 2 : '`project_1_content1_2`'\n",
    "- Engineer 3 : '`project_1_content3_4`'\n",
    "\n",
    "\n",
    "Once each engineer completed their task they would merge the changes from their branch into '`project_1`'.  \n",
    "\n",
    "Now that all of the individual work has been compiled they can test the website and make sure that there are no bugs or issues then merge '`project_1`' back into the master copy."
   ]
  },
  {
   "cell_type": "markdown",
   "metadata": {},
   "source": [
    "## How we will use GitHub in this class.\n",
    "\n",
    "Learning to use Git and GitHub effectively is important, but I would rather focus on Python and machine learning in this course. For this reason, I try to keep your interactions with Git and GitHub simple.\n",
    "\n",
    "You may download the course materials from GHE rather than cloning them. You should not have to do any additional git commands on them.\n",
    "\n",
    "You will need to put your project materials on GitHub, which requires initializing a local Git repository, creating commits, creating a remote GitHub repository, and pushing your commits to that remote repository. I would encourage you to work on using GitHub as you go along to make snapshots every time you do a significant amount of work, rather than leaving all of the Git commands until the end."
   ]
  },
  {
   "cell_type": "markdown",
   "metadata": {},
   "source": [
    "<a id=\"independent_practice2\"></a>\n",
    "## Assess: Independent Practice (10 min)\n",
    "- Work with a partner to write out a description of what each of these commands does, using your own words. Ask any questions about these commands that occur to you as you are going through this process.\n",
    "- `init`, `add`, `commit`, `push`, `pull`, and `clone`."
   ]
  },
  {
   "cell_type": "markdown",
   "metadata": {},
   "source": [
    "<a id=\"conclusion2\"></a>\n",
    "## Lesson Review : Git and GitHub\n",
    "\n",
    "- The **working directory** stores the current state of the files in your repository on your hard drive.\n",
    "- A **git commit** is a record of selected changes in your working directory that have occurred since the previous commit.\n",
    "- When you are ready to capture some set of changes, you first add them to the **staging area** and then **commit them**.\n",
    "- You can also **clone** repositories on GitHub and **push** to and **pull** from them."
   ]
  },
  {
   "cell_type": "markdown",
   "metadata": {},
   "source": [
    "# Questions?"
   ]
  },
  {
   "cell_type": "markdown",
   "metadata": {},
   "source": [
    "# [Exit Tickets](https://docs.google.com/forms/d/1BW4rVsCx8Nzp3q2B7SQ_tL1xqKZr4GGoQ5qeZfayxh4/viewform?ts=5ad40144&edit_requested=true)"
   ]
  }
 ],
 "metadata": {
  "celltoolbar": "Slideshow",
  "kernelspec": {
   "display_name": "Python 3",
   "language": "python",
   "name": "python3"
  },
  "language_info": {
   "codemirror_mode": {
    "name": "ipython",
    "version": 3
   },
   "file_extension": ".py",
   "mimetype": "text/x-python",
   "name": "python",
   "nbconvert_exporter": "python",
   "pygments_lexer": "ipython3",
   "version": "3.6.4"
  }
 },
 "nbformat": 4,
 "nbformat_minor": 2
}

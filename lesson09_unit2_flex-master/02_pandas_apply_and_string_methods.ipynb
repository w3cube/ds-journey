{
 "cells": [
  {
   "cell_type": "code",
   "execution_count": 1,
   "metadata": {},
   "outputs": [],
   "source": [
    "import pandas as pd"
   ]
  },
  {
   "cell_type": "markdown",
   "metadata": {},
   "source": [
    "# Pandas"
   ]
  },
  {
   "cell_type": "code",
   "execution_count": 2,
   "metadata": {},
   "outputs": [],
   "source": [
    "users = pd.read_table('./data/user.tbl', sep='|')\n",
    "ufo = pd.read_csv('./data/ufo.csv')"
   ]
  },
  {
   "cell_type": "markdown",
   "metadata": {},
   "source": [
    "### Apply"
   ]
  },
  {
   "cell_type": "markdown",
   "metadata": {},
   "source": [
    "The `apply` method calls the provided function on each item in a Pandas Series or along the specified dimension of a Pandas DataFrame."
   ]
  },
  {
   "cell_type": "code",
   "execution_count": 4,
   "metadata": {
    "collapsed": true
   },
   "outputs": [
    {
     "data": {
      "text/plain": [
       "0       True\n",
       "1      False\n",
       "2       True\n",
       "3       True\n",
       "4      False\n",
       "5      False\n",
       "6      False\n",
       "7      False\n",
       "8       True\n",
       "9      False\n",
       "10     False\n",
       "11      True\n",
       "12     False\n",
       "13     False\n",
       "14     False\n",
       "15      True\n",
       "16     False\n",
       "17     False\n",
       "18     False\n",
       "19     False\n",
       "20      True\n",
       "21      True\n",
       "22     False\n",
       "23      True\n",
       "24     False\n",
       "25     False\n",
       "26     False\n",
       "27     False\n",
       "28     False\n",
       "29      True\n",
       "       ...  \n",
       "913    False\n",
       "914    False\n",
       "915     True\n",
       "916     True\n",
       "917    False\n",
       "918     True\n",
       "919    False\n",
       "920     True\n",
       "921     True\n",
       "922     True\n",
       "923     True\n",
       "924     True\n",
       "925    False\n",
       "926     True\n",
       "927     True\n",
       "928    False\n",
       "929     True\n",
       "930    False\n",
       "931    False\n",
       "932     True\n",
       "933    False\n",
       "934    False\n",
       "935     True\n",
       "936    False\n",
       "937    False\n",
       "938     True\n",
       "939    False\n",
       "940     True\n",
       "941    False\n",
       "942     True\n",
       "Name: age, Length: 943, dtype: bool"
      ]
     },
     "execution_count": 4,
     "metadata": {},
     "output_type": "execute_result"
    }
   ],
   "source": [
    "# Series example\n",
    "def is_under_30(num):\n",
    "    return num < 30\n",
    "\n",
    "users.loc[:, 'age'].apply(is_under_30)\n",
    "\n",
    "#users.head()\n"
   ]
  },
  {
   "cell_type": "markdown",
   "metadata": {},
   "source": [
    "You can use the `lambda` keyword to create an \"anonymous function\" on the fly."
   ]
  },
  {
   "cell_type": "code",
   "execution_count": 5,
   "metadata": {
    "collapsed": true
   },
   "outputs": [
    {
     "data": {
      "text/plain": [
       "0       True\n",
       "1      False\n",
       "2       True\n",
       "3       True\n",
       "4      False\n",
       "5      False\n",
       "6      False\n",
       "7      False\n",
       "8       True\n",
       "9      False\n",
       "10     False\n",
       "11      True\n",
       "12     False\n",
       "13     False\n",
       "14     False\n",
       "15      True\n",
       "16     False\n",
       "17     False\n",
       "18     False\n",
       "19     False\n",
       "20      True\n",
       "21      True\n",
       "22     False\n",
       "23      True\n",
       "24     False\n",
       "25     False\n",
       "26     False\n",
       "27     False\n",
       "28     False\n",
       "29      True\n",
       "       ...  \n",
       "913    False\n",
       "914    False\n",
       "915     True\n",
       "916     True\n",
       "917    False\n",
       "918     True\n",
       "919    False\n",
       "920     True\n",
       "921     True\n",
       "922     True\n",
       "923     True\n",
       "924     True\n",
       "925    False\n",
       "926     True\n",
       "927     True\n",
       "928    False\n",
       "929     True\n",
       "930    False\n",
       "931    False\n",
       "932     True\n",
       "933    False\n",
       "934    False\n",
       "935     True\n",
       "936    False\n",
       "937    False\n",
       "938     True\n",
       "939    False\n",
       "940     True\n",
       "941    False\n",
       "942     True\n",
       "Name: age, Length: 943, dtype: bool"
      ]
     },
     "execution_count": 5,
     "metadata": {},
     "output_type": "execute_result"
    }
   ],
   "source": [
    "# Same thing, but use `lambda` to define the function inside the call to `apply`\n",
    "users.loc[:, 'age'].apply(lambda num: num < 30)\n",
    "# using lambda see defined a anonymous function"
   ]
  },
  {
   "cell_type": "code",
   "execution_count": 9,
   "metadata": {
    "collapsed": true
   },
   "outputs": [
    {
     "data": {
      "text/plain": [
       "0       True\n",
       "1      False\n",
       "2       True\n",
       "3       True\n",
       "4      False\n",
       "5      False\n",
       "6      False\n",
       "7      False\n",
       "8       True\n",
       "9      False\n",
       "10     False\n",
       "11     False\n",
       "12     False\n",
       "13     False\n",
       "14     False\n",
       "15      True\n",
       "16     False\n",
       "17     False\n",
       "18     False\n",
       "19     False\n",
       "20      True\n",
       "21      True\n",
       "22     False\n",
       "23     False\n",
       "24     False\n",
       "25     False\n",
       "26     False\n",
       "27     False\n",
       "28     False\n",
       "29      True\n",
       "       ...  \n",
       "913    False\n",
       "914    False\n",
       "915     True\n",
       "916    False\n",
       "917    False\n",
       "918     True\n",
       "919    False\n",
       "920    False\n",
       "921    False\n",
       "922     True\n",
       "923     True\n",
       "924    False\n",
       "925    False\n",
       "926     True\n",
       "927     True\n",
       "928    False\n",
       "929    False\n",
       "930    False\n",
       "931    False\n",
       "932     True\n",
       "933    False\n",
       "934    False\n",
       "935     True\n",
       "936    False\n",
       "937    False\n",
       "938    False\n",
       "939    False\n",
       "940     True\n",
       "941    False\n",
       "942     True\n",
       "Length: 943, dtype: bool"
      ]
     },
     "execution_count": 9,
     "metadata": {},
     "output_type": "execute_result"
    }
   ],
   "source": [
    "# Applying to each row of a DataFrame.\n",
    "users.apply(lambda row: row.loc['age'] < 30 \n",
    "                    and row.loc['gender'] == 'M',\n",
    "           axis=1 # to go row by row\n",
    "           )"
   ]
  },
  {
   "cell_type": "markdown",
   "metadata": {},
   "source": [
    "### String Methods"
   ]
  },
  {
   "cell_type": "markdown",
   "metadata": {},
   "source": [
    "Pandas has built-in methods for operating on strings, which you access through `.str`."
   ]
  },
  {
   "cell_type": "code",
   "execution_count": null,
   "metadata": {
    "scrolled": true
   },
   "outputs": [],
   "source": [
    "# Use string methods to change State abbreviations in ufo data to uppercase\n"
   ]
  },
  {
   "cell_type": "code",
   "execution_count": null,
   "metadata": {},
   "outputs": [],
   "source": [
    "# Get a Boolean series that indicates which elements of ufo\n",
    "# \"Colors Reported\" column contain the substring \"RED\"\n"
   ]
  }
 ],
 "metadata": {
  "kernelspec": {
   "display_name": "Python 3",
   "language": "python",
   "name": "python3"
  },
  "language_info": {
   "codemirror_mode": {
    "name": "ipython",
    "version": 3
   },
   "file_extension": ".py",
   "mimetype": "text/x-python",
   "name": "python",
   "nbconvert_exporter": "python",
   "pygments_lexer": "ipython3",
   "version": "3.6.4"
  }
 },
 "nbformat": 4,
 "nbformat_minor": 2
}

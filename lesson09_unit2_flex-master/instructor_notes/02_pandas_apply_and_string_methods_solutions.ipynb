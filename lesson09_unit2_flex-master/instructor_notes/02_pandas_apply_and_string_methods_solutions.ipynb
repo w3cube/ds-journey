{
 "cells": [
  {
   "cell_type": "code",
   "execution_count": 1,
   "metadata": {
    "collapsed": true
   },
   "outputs": [],
   "source": [
    "import pandas as pd"
   ]
  },
  {
   "cell_type": "markdown",
   "metadata": {},
   "source": [
    "# Pandas"
   ]
  },
  {
   "cell_type": "code",
   "execution_count": 2,
   "metadata": {
    "collapsed": true
   },
   "outputs": [],
   "source": [
    "users = pd.read_table('../data/user.tbl', sep='|')\n",
    "ufo = pd.read_csv('../data/ufo.csv')"
   ]
  },
  {
   "cell_type": "markdown",
   "metadata": {},
   "source": [
    "### Apply"
   ]
  },
  {
   "cell_type": "markdown",
   "metadata": {},
   "source": [
    "The `apply` method calls the provided function on each item in a Pandas Series or along the specified dimension of a Pandas DataFrame."
   ]
  },
  {
   "cell_type": "code",
   "execution_count": 3,
   "metadata": {
    "collapsed": true
   },
   "outputs": [
    {
     "data": {
      "text/plain": [
       "0       True\n",
       "1      False\n",
       "2       True\n",
       "3       True\n",
       "4      False\n",
       "5      False\n",
       "6      False\n",
       "7      False\n",
       "8       True\n",
       "9      False\n",
       "10     False\n",
       "11      True\n",
       "12     False\n",
       "13     False\n",
       "14     False\n",
       "15      True\n",
       "16     False\n",
       "17     False\n",
       "18     False\n",
       "19     False\n",
       "20      True\n",
       "21      True\n",
       "22     False\n",
       "23      True\n",
       "24     False\n",
       "25     False\n",
       "26     False\n",
       "27     False\n",
       "28     False\n",
       "29      True\n",
       "       ...  \n",
       "913    False\n",
       "914    False\n",
       "915     True\n",
       "916     True\n",
       "917    False\n",
       "918     True\n",
       "919    False\n",
       "920     True\n",
       "921     True\n",
       "922     True\n",
       "923     True\n",
       "924     True\n",
       "925    False\n",
       "926     True\n",
       "927     True\n",
       "928    False\n",
       "929     True\n",
       "930    False\n",
       "931    False\n",
       "932     True\n",
       "933    False\n",
       "934    False\n",
       "935     True\n",
       "936    False\n",
       "937    False\n",
       "938     True\n",
       "939    False\n",
       "940     True\n",
       "941    False\n",
       "942     True\n",
       "Name: age, Length: 943, dtype: bool"
      ]
     },
     "execution_count": 3,
     "metadata": {},
     "output_type": "execute_result"
    }
   ],
   "source": [
    "# Series example\n",
    "# /scrub/\n",
    "\n",
    "# verbose\n",
    "def is_under_30(num):\n",
    "    return num < 30\n",
    "\n",
    "users.loc[:, 'age'].apply(is_under_30)"
   ]
  },
  {
   "cell_type": "markdown",
   "metadata": {},
   "source": [
    "You can use the `lambda` keyword to create an \"anonymous function\" on the fly."
   ]
  },
  {
   "cell_type": "code",
   "execution_count": 4,
   "metadata": {},
   "outputs": [
    {
     "data": {
      "text/plain": [
       "0       True\n",
       "1      False\n",
       "2       True\n",
       "3       True\n",
       "4      False\n",
       "5      False\n",
       "6      False\n",
       "7      False\n",
       "8       True\n",
       "9      False\n",
       "10     False\n",
       "11      True\n",
       "12     False\n",
       "13     False\n",
       "14     False\n",
       "15      True\n",
       "16     False\n",
       "17     False\n",
       "18     False\n",
       "19     False\n",
       "20      True\n",
       "21      True\n",
       "22     False\n",
       "23      True\n",
       "24     False\n",
       "25     False\n",
       "26     False\n",
       "27     False\n",
       "28     False\n",
       "29      True\n",
       "       ...  \n",
       "913    False\n",
       "914    False\n",
       "915     True\n",
       "916     True\n",
       "917    False\n",
       "918     True\n",
       "919    False\n",
       "920     True\n",
       "921     True\n",
       "922     True\n",
       "923     True\n",
       "924     True\n",
       "925    False\n",
       "926     True\n",
       "927     True\n",
       "928    False\n",
       "929     True\n",
       "930    False\n",
       "931    False\n",
       "932     True\n",
       "933    False\n",
       "934    False\n",
       "935     True\n",
       "936    False\n",
       "937    False\n",
       "938     True\n",
       "939    False\n",
       "940     True\n",
       "941    False\n",
       "942     True\n",
       "Name: age, Length: 943, dtype: bool"
      ]
     },
     "execution_count": 4,
     "metadata": {},
     "output_type": "execute_result"
    }
   ],
   "source": [
    "# Same thing, but use `lambda` to define the function inside the call to `apply`\n",
    "# /scrub/\n",
    "\n",
    "users.loc[:, 'age'].apply(lambda age: age < 30)"
   ]
  },
  {
   "cell_type": "code",
   "execution_count": 5,
   "metadata": {
    "collapsed": true
   },
   "outputs": [
    {
     "data": {
      "text/plain": [
       "0       True\n",
       "1      False\n",
       "2       True\n",
       "3       True\n",
       "4      False\n",
       "5      False\n",
       "6      False\n",
       "7      False\n",
       "8       True\n",
       "9      False\n",
       "10     False\n",
       "11     False\n",
       "12     False\n",
       "13     False\n",
       "14     False\n",
       "15      True\n",
       "16     False\n",
       "17     False\n",
       "18     False\n",
       "19     False\n",
       "20      True\n",
       "21      True\n",
       "22     False\n",
       "23     False\n",
       "24     False\n",
       "25     False\n",
       "26     False\n",
       "27     False\n",
       "28     False\n",
       "29      True\n",
       "       ...  \n",
       "913    False\n",
       "914    False\n",
       "915     True\n",
       "916    False\n",
       "917    False\n",
       "918     True\n",
       "919    False\n",
       "920    False\n",
       "921    False\n",
       "922     True\n",
       "923     True\n",
       "924    False\n",
       "925    False\n",
       "926     True\n",
       "927     True\n",
       "928    False\n",
       "929    False\n",
       "930    False\n",
       "931    False\n",
       "932     True\n",
       "933    False\n",
       "934    False\n",
       "935     True\n",
       "936    False\n",
       "937    False\n",
       "938    False\n",
       "939    False\n",
       "940     True\n",
       "941    False\n",
       "942     True\n",
       "Length: 943, dtype: bool"
      ]
     },
     "execution_count": 5,
     "metadata": {},
     "output_type": "execute_result"
    }
   ],
   "source": [
    "# Applying to each row of a DataFrame.\n",
    "# /scrub/\n",
    "\n",
    "users.apply(lambda row: row.age < 30 and row.gender == 'M', axis=1)"
   ]
  },
  {
   "cell_type": "markdown",
   "metadata": {},
   "source": [
    "### String Methods"
   ]
  },
  {
   "cell_type": "markdown",
   "metadata": {},
   "source": [
    "Pandas has built-in methods for operating on strings, which you access through `.str`."
   ]
  },
  {
   "cell_type": "code",
   "execution_count": 6,
   "metadata": {
    "scrolled": true
   },
   "outputs": [
    {
     "data": {
      "text/plain": [
       "0        NY\n",
       "1        NJ\n",
       "2        CO\n",
       "3        KS\n",
       "4        NY\n",
       "5        ND\n",
       "6        CA\n",
       "7        MI\n",
       "8        AK\n",
       "9        OR\n",
       "10       CA\n",
       "11       AL\n",
       "12       SC\n",
       "13       IA\n",
       "14       MI\n",
       "15       CA\n",
       "16       CA\n",
       "17       GA\n",
       "18       TN\n",
       "19       AK\n",
       "20       NE\n",
       "21       LA\n",
       "22       LA\n",
       "23       KY\n",
       "24       WV\n",
       "25       CA\n",
       "26       WV\n",
       "27       NM\n",
       "28       NM\n",
       "29       UT\n",
       "         ..\n",
       "80513    NJ\n",
       "80514    MA\n",
       "80515    VA\n",
       "80516    CA\n",
       "80517    NH\n",
       "80518    PA\n",
       "80519    IL\n",
       "80520    PA\n",
       "80521    OH\n",
       "80522    MA\n",
       "80523    MD\n",
       "80524    WA\n",
       "80525    IA\n",
       "80526    MA\n",
       "80527    WA\n",
       "80528    OH\n",
       "80529    WA\n",
       "80530    FL\n",
       "80531    VA\n",
       "80532    MA\n",
       "80533    IA\n",
       "80534    TX\n",
       "80535    KY\n",
       "80536    PA\n",
       "80537    NE\n",
       "80538    NE\n",
       "80539    OH\n",
       "80540    AZ\n",
       "80541    IL\n",
       "80542    FL\n",
       "Name: State, Length: 80543, dtype: object"
      ]
     },
     "execution_count": 6,
     "metadata": {},
     "output_type": "execute_result"
    }
   ],
   "source": [
    "# Use string methods to change State abbreviations in ufo data to uppercase\n",
    "# /scrub/\n",
    "ufo.loc[:, 'State'].str.upper()"
   ]
  },
  {
   "cell_type": "code",
   "execution_count": 7,
   "metadata": {},
   "outputs": [
    {
     "data": {
      "text/plain": [
       "0        False\n",
       "1        False\n",
       "2        False\n",
       "3        False\n",
       "4        False\n",
       "5        False\n",
       "6        False\n",
       "7        False\n",
       "8        False\n",
       "9        False\n",
       "10       False\n",
       "11       False\n",
       "12        True\n",
       "13       False\n",
       "14       False\n",
       "15       False\n",
       "16       False\n",
       "17       False\n",
       "18       False\n",
       "19        True\n",
       "20       False\n",
       "21       False\n",
       "22       False\n",
       "23       False\n",
       "24       False\n",
       "25       False\n",
       "26       False\n",
       "27       False\n",
       "28       False\n",
       "29       False\n",
       "         ...  \n",
       "80513    False\n",
       "80514    False\n",
       "80515    False\n",
       "80516    False\n",
       "80517    False\n",
       "80518    False\n",
       "80519     True\n",
       "80520    False\n",
       "80521    False\n",
       "80522    False\n",
       "80523    False\n",
       "80524     True\n",
       "80525    False\n",
       "80526    False\n",
       "80527    False\n",
       "80528     True\n",
       "80529    False\n",
       "80530    False\n",
       "80531    False\n",
       "80532    False\n",
       "80533    False\n",
       "80534    False\n",
       "80535    False\n",
       "80536     True\n",
       "80537    False\n",
       "80538    False\n",
       "80539    False\n",
       "80540     True\n",
       "80541     True\n",
       "80542    False\n",
       "Name: Colors Reported, Length: 80543, dtype: object"
      ]
     },
     "execution_count": 7,
     "metadata": {},
     "output_type": "execute_result"
    }
   ],
   "source": [
    "# Get a Boolean series that indicates which elements of ufo\n",
    "# \"Colors Reported\" column contain the substring \"RED\"\n",
    "# /scrub/\n",
    "ufo.loc[:, 'Colors Reported'].str.contains('RED', na='False') "
   ]
  }
 ],
 "metadata": {
  "kernelspec": {
   "display_name": "Python 3",
   "language": "python",
   "name": "python3"
  },
  "language_info": {
   "codemirror_mode": {
    "name": "ipython",
    "version": 3
   },
   "file_extension": ".py",
   "mimetype": "text/x-python",
   "name": "python",
   "nbconvert_exporter": "python",
   "pygments_lexer": "ipython3",
   "version": "3.6.4"
  }
 },
 "nbformat": 4,
 "nbformat_minor": 2
}

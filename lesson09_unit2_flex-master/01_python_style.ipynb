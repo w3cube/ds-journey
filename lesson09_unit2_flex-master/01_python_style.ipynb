{
 "cells": [
  {
   "cell_type": "markdown",
   "metadata": {},
   "source": [
    "# Python Style\n",
    "\n",
    "Standardizing on code style makes it easier for people to read each other's code and to combine code from multiple sources.\n",
    "\n",
    "**Warnings:**\n",
    "\n",
    "- No one likes a legalistic zealot.\n",
    "- You may need to focus on syntax for a while before you worry about style."
   ]
  },
  {
   "cell_type": "markdown",
   "metadata": {},
   "source": [
    "### PEP8\n",
    "\n",
    "[PEP8](https://www.python.org/dev/peps/pep-0008/) is the standard style guide for Python."
   ]
  },
  {
   "cell_type": "markdown",
   "metadata": {},
   "source": [
    "- Use 4-space indentation\n",
    "- Keep line lengths below 80 characters. (This one is controversial!)\n",
    "    - Prefer splitting inside (), [], {} instead of using \\\\.\n",
    "    - Put operator at the start of the new line instead of the end of the old line."
   ]
  },
  {
   "cell_type": "markdown",
   "metadata": {},
   "source": [
    "Yes:\n",
    "\n",
    "```python\n",
    "my_new_variable = (old_variable1\n",
    "                   * old_variable2\n",
    "                   + old_variable3\n",
    "                   - old_variable4\n",
    "                   - old_variable5)\n",
    "\n",
    "my_new_variable = (\n",
    "    old_variable1 * old_variable2 + old_variable3 - old_variable4 - old_variable5\n",
    "    )\n",
    "\n",
    "my_new_variable = (old_variable1 * old_variable2 + old_variable3\n",
    "                   - old_variable4 - old_variable5)\n",
    "```\n",
    "\n",
    "No:\n",
    "\n",
    "```python\n",
    "my_new_variable = old_variable1 * old_variable2 + old_variable3 - old_variable4  - old_variable5\n",
    "\n",
    "my_new_variable = old_variable1\\\n",
    "                  * old_variable2\\\n",
    "                  + old_variable3\\\n",
    "                  - old_variable4\\\n",
    "                  - old_variable5\n",
    "```"
   ]
  },
  {
   "cell_type": "markdown",
   "metadata": {},
   "source": [
    "- Creating strings with either single or double-quotes is fine. If your string contains quotes of one type, use the other type to create it to that you don't have to use backslashes in the strings."
   ]
  },
  {
   "cell_type": "markdown",
   "metadata": {},
   "source": [
    "Yes:\n",
    "\n",
    "```python\n",
    "'dog'\n",
    "\"cat\"\n",
    "\"can't\"\n",
    "'She said \"run!\"'\n",
    "```\n",
    "\n",
    "No:\n",
    "\n",
    "```python\n",
    "'can\\'t'\n",
    "\"She said \\\"run!\\\"\"\n",
    "```"
   ]
  },
  {
   "cell_type": "markdown",
   "metadata": {},
   "source": [
    "- [There are a lot of rules about whitespace](https://www.python.org/dev/peps/pep-0008/#id27). E.g.:\n",
    "    - Always surround these binary operators with a single space on either side: assignment (=), augmented assignment (+=, -= etc.), comparisons (==, <, >, !=, <>, <=, >=, in, not in, is, is not), Booleans (and, or, not).\n",
    "    - Don't use spaces around the = sign when used to indicate a keyword argument or a default parameter value."
   ]
  },
  {
   "cell_type": "markdown",
   "metadata": {},
   "source": [
    "Yes:\n",
    "```python\n",
    "def complex(real, imag=0.0):\n",
    "    return magic(r=real, i=imag)\n",
    "```\n",
    "\n",
    "No:\n",
    "```python\n",
    "def complex(real, imag = 0.0):\n",
    "    return magic(r = real, i = imag)\n",
    "```"
   ]
  },
  {
   "cell_type": "markdown",
   "metadata": {},
   "source": [
    "### LowClass Python\n",
    "\n",
    "[This style guide](http://columbia-applied-data-science.github.io/pages/lowclass-python-style-guide.html) is meant for data scientists and others who write code but aren't exactly professional programmers."
   ]
  },
  {
   "cell_type": "markdown",
   "metadata": {},
   "source": [
    "- Write functions that take well-defined inputs and produce well-defined output.\n",
    "- Do not have multiple levels of nesting within a function. As soon as you drop down to a lower level of abstraction, create a helper function."
   ]
  },
  {
   "cell_type": "markdown",
   "metadata": {},
   "source": [
    "```python\n",
    "def extract_feature_counts(data_string):\n",
    "    \"\"\"\n",
    "    Some docstring here...\n",
    "    \"\"\"\n",
    "    cleaned_data_string = _clean(data_string)\n",
    "    word_counts = _count_words(cleaned_data_string)\n",
    "\n",
    "    return word_counts\n",
    "\n",
    "\n",
    "def _clean(data_string):\n",
    "    # Some code here.\n",
    "    return cleaned_data_string\n",
    "\n",
    "\n",
    "def _count_words(data_string):\n",
    "    # Some code here.\n",
    "    return word_counts\n",
    "```"
   ]
  },
  {
   "cell_type": "markdown",
   "metadata": {},
   "source": [
    "**Notice:**\n",
    "\n",
    "- A leading underscore in a function name indicates that the function is \"private,\" meaning that you don't intend for anyone else to use it."
   ]
  },
  {
   "cell_type": "markdown",
   "metadata": {},
   "source": [
    "### General Principles of Software Design\n",
    "\n",
    "1. Run all the tests.\n",
    "2. Eliminate duplication.\n",
    "3. Express your intent.\n",
    "4. Minimize the number of classes, methods, and functions."
   ]
  },
  {
   "cell_type": "markdown",
   "metadata": {},
   "source": [
    "### Additional Resources\n",
    "\n",
    "- [Google Style Guide](http://google.github.io/styleguide/pyguide.html)\n",
    "- [Clean Code](https://www.amazon.com/Clean-Code-Handbook-Software-Craftsmanship/dp/0132350882)\n",
    "- [The Pragmatic Programmer](https://www.amazon.com/Pragmatic-Programmer-Journeyman-Master/dp/020161622X/ref=pd_sim_14_3?_encoding=UTF8&pd_rd_i=020161622X&pd_rd_r=KAF4G8CGK7T9PFT998E2&pd_rd_w=u0wda&pd_rd_wg=KHmIe&psc=1&refRID=KAF4G8CGK7T9PFT998E2)\n",
    "- [Beyond PEP 8](https://www.youtube.com/watch?v=wf-BqAjZb8M)"
   ]
  }
 ],
 "metadata": {
  "kernelspec": {
   "display_name": "Python 3",
   "language": "python",
   "name": "python3"
  },
  "language_info": {
   "codemirror_mode": {
    "name": "ipython",
    "version": 3
   },
   "file_extension": ".py",
   "mimetype": "text/x-python",
   "name": "python",
   "nbconvert_exporter": "python",
   "pygments_lexer": "ipython3",
   "version": "3.6.4"
  }
 },
 "nbformat": 4,
 "nbformat_minor": 2
}

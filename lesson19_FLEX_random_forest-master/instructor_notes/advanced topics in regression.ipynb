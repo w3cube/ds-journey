{
 "cells": [
  {
   "cell_type": "markdown",
   "metadata": {},
   "source": [
    "#### Learning Objectives\n",
    "By the end of this lesson, you will be able to...\n",
    "\n",
    "- Create interaction terms.\n",
    "- Recognize when a log transformation is appropriate.\n",
    "- Use regularization to reduce overfitting.\n",
    "- Distinguish between time-series and cross-sectional data.\n",
    "- Describe time-series data in terms of trend, seasonality, and noise.\n",
    "- Explain how train/test splits need to be performed differently for time-series data."
   ]
  },
  {
   "cell_type": "markdown",
   "metadata": {},
   "source": [
    "### Interaction Terms"
   ]
  },
  {
   "cell_type": "markdown",
   "metadata": {},
   "source": [
    "# Advanced Topics in Regression"
   ]
  },
  {
   "cell_type": "markdown",
   "metadata": {},
   "source": [
    "## Using Transformed Variables in Regression Models"
   ]
  },
  {
   "cell_type": "markdown",
   "metadata": {},
   "source": [
    "Linear regression creates a model that is linear in the features that you pass into it."
   ]
  },
  {
   "cell_type": "code",
   "execution_count": 1,
   "metadata": {},
   "outputs": [],
   "source": [
    "from pathlib import Path\n",
    "\n",
    "import matplotlib.pyplot as plt\n",
    "import numpy as np\n",
    "import pandas as pd\n",
    "import seaborn as sns\n",
    "\n",
    "%matplotlib inline"
   ]
  },
  {
   "cell_type": "code",
   "execution_count": 2,
   "metadata": {},
   "outputs": [
    {
     "data": {
      "text/html": [
       "<div>\n",
       "<style scoped>\n",
       "    .dataframe tbody tr th:only-of-type {\n",
       "        vertical-align: middle;\n",
       "    }\n",
       "\n",
       "    .dataframe tbody tr th {\n",
       "        vertical-align: top;\n",
       "    }\n",
       "\n",
       "    .dataframe thead th {\n",
       "        text-align: right;\n",
       "    }\n",
       "</style>\n",
       "<table border=\"1\" class=\"dataframe\">\n",
       "  <thead>\n",
       "    <tr style=\"text-align: right;\">\n",
       "      <th></th>\n",
       "      <th>brain</th>\n",
       "      <th>body</th>\n",
       "    </tr>\n",
       "  </thead>\n",
       "  <tbody>\n",
       "    <tr>\n",
       "      <th>13</th>\n",
       "      <td>0.005</td>\n",
       "      <td>0.14</td>\n",
       "    </tr>\n",
       "    <tr>\n",
       "      <th>39</th>\n",
       "      <td>0.010</td>\n",
       "      <td>0.25</td>\n",
       "    </tr>\n",
       "    <tr>\n",
       "      <th>19</th>\n",
       "      <td>0.023</td>\n",
       "      <td>0.30</td>\n",
       "    </tr>\n",
       "    <tr>\n",
       "      <th>54</th>\n",
       "      <td>0.048</td>\n",
       "      <td>0.33</td>\n",
       "    </tr>\n",
       "    <tr>\n",
       "      <th>38</th>\n",
       "      <td>0.023</td>\n",
       "      <td>0.40</td>\n",
       "    </tr>\n",
       "  </tbody>\n",
       "</table>\n",
       "</div>"
      ],
      "text/plain": [
       "    brain  body\n",
       "13  0.005  0.14\n",
       "39  0.010  0.25\n",
       "19  0.023  0.30\n",
       "54  0.048  0.33\n",
       "38  0.023  0.40"
      ]
     },
     "execution_count": 2,
     "metadata": {},
     "output_type": "execute_result"
    }
   ],
   "source": [
    "mammals_path = Path('..', 'data', 'mammals.txt')\n",
    "cols = ['brain','body']\n",
    "mammals = pd.read_csv(mammals_path, sep='\\t', names=cols, header=0)\n",
    "mammals = mammals.loc[mammals.loc[:, 'body'] < 200, :].sort_values('body')\n",
    "mammals.head()"
   ]
  },
  {
   "cell_type": "code",
   "execution_count": 3,
   "metadata": {
    "scrolled": false
   },
   "outputs": [
    {
     "data": {
      "image/png": "[encoded data removed]",
      "text/plain": [
       "<matplotlib.figure.Figure at 0x1a0b3932e8>"
      ]
     },
     "metadata": {},
     "output_type": "display_data"
    }
   ],
   "source": [
    "from sklearn.linear_model import LinearRegression\n",
    "\n",
    "X = mammals.loc[:, ['body']]\n",
    "y = mammals.loc[:, 'brain']\n",
    "\n",
    "linreg = LinearRegression()\n",
    "linreg.fit(X, y)\n",
    "y_fit = linreg.predict(X)\n",
    "plt.plot(X.values, y_fit)\n",
    "plt.scatter(X.values, y);"
   ]
  },
  {
   "cell_type": "markdown",
   "metadata": {},
   "source": [
    "But it can capture non-linear relationships with your original features if you give it non-linear transformations of those features."
   ]
  },
  {
   "cell_type": "code",
   "execution_count": 4,
   "metadata": {
    "scrolled": true
   },
   "outputs": [
    {
     "data": {
      "image/png": "[encoded data removed]",
      "text/plain": [
       "<matplotlib.figure.Figure at 0x1a0b484588>"
      ]
     },
     "metadata": {},
     "output_type": "display_data"
    }
   ],
   "source": [
    "# Re-run the regression with an additional squared term\n",
    "mammals.loc[:, 'body_squared'] = mammals.loc[:, 'body']**2\n",
    "\n",
    "X = mammals.loc[:, ['body', 'body_squared']]\n",
    "y = mammals.loc[:, 'brain']\n",
    "\n",
    "linreg = LinearRegression()\n",
    "linreg.fit(X, y)\n",
    "y_fit = linreg.predict(X)\n",
    "\n",
    "plt.plot(mammals.loc[:, 'body'].values, y_fit)\n",
    "plt.scatter(mammals.loc[:, 'body'], y);"
   ]
  },
  {
   "cell_type": "markdown",
   "metadata": {},
   "source": [
    "### Polynomial Terms"
   ]
  },
  {
   "cell_type": "markdown",
   "metadata": {},
   "source": [
    "A polynomial function of x has the form $c_0 + c_1x + c_2x^2 + c_3x^3 + \\ldots$.\n",
    "\n",
    "If you give a linear regression model $x$, $x^2$, and $x^3$ as features, for instance, it will find the $\\beta_0$, $\\beta_1$, $\\beta_2$, and $\\beta_3$ that minimizes mean-squared error for using $\\beta_0 + \\beta_1x + \\beta_2x^2 + \\beta_3x^3$ to predict $y$.\n",
    "\n",
    "It can always recover simple linear regression by setting the coefficients on the higher-order terms to 0, so adding these higher-order terms only increases the set of relationships that the model can capture."
   ]
  },
  {
   "cell_type": "markdown",
   "metadata": {},
   "source": [
    "**Exercise.**\n",
    "\n",
    "- How does adding higher-order polynomial terms as inputs to a linear regression model affect its bias and variance?"
   ]
  },
  {
   "cell_type": "markdown",
   "metadata": {},
   "source": [
    "Decreases (or at least does not increase) bias, increases variance."
   ]
  },
  {
   "cell_type": "markdown",
   "metadata": {},
   "source": [
    "**Every additional polynomial term gives your model an additional chance to change directions.**"
   ]
  },
  {
   "cell_type": "code",
   "execution_count": 5,
   "metadata": {
    "scrolled": true
   },
   "outputs": [
    {
     "data": {
      "image/png": "[encoded data removed]",
      "text/plain": [
       "<matplotlib.figure.Figure at 0x1a0b34c828>"
      ]
     },
     "metadata": {},
     "output_type": "display_data"
    }
   ],
   "source": [
    "# first-order\n",
    "x = np.linspace(-1, 1, 100)\n",
    "plt.plot(x, x);"
   ]
  },
  {
   "cell_type": "code",
   "execution_count": 6,
   "metadata": {},
   "outputs": [
    {
     "data": {
      "image/png": "[encoded data removed]",
      "text/plain": [
       "<matplotlib.figure.Figure at 0x105f0c048>"
      ]
     },
     "metadata": {},
     "output_type": "display_data"
    }
   ],
   "source": [
    "# second-order\n",
    "plt.plot(x, x**2);"
   ]
  },
  {
   "cell_type": "code",
   "execution_count": 7,
   "metadata": {},
   "outputs": [
    {
     "data": {
      "image/png": "[encoded data removed]",
      "text/plain": [
       "<matplotlib.figure.Figure at 0x105f0c518>"
      ]
     },
     "metadata": {},
     "output_type": "display_data"
    }
   ],
   "source": [
    "# third-order\n",
    "x = np.linspace(-.75, 1.5, 100)\n",
    "plt.plot(x, -.4*x-x**2+x**3);"
   ]
  },
  {
   "cell_type": "code",
   "execution_count": 8,
   "metadata": {},
   "outputs": [
    {
     "data": {
      "image/png": "[encoded data removed]",
      "text/plain": [
       "<matplotlib.figure.Figure at 0x1a14c8b2e8>"
      ]
     },
     "metadata": {},
     "output_type": "display_data"
    }
   ],
   "source": [
    "# fourth-order\n",
    "x = np.linspace(-1, 1, 100)\n",
    "plt.plot(x, -x**2+x**4);"
   ]
  },
  {
   "cell_type": "code",
   "execution_count": 9,
   "metadata": {},
   "outputs": [
    {
     "data": {
      "image/png": "[encoded data removed]",
      "text/plain": [
       "<matplotlib.figure.Figure at 0x1a14e13b00>"
      ]
     },
     "metadata": {},
     "output_type": "display_data"
    }
   ],
   "source": [
    "# Too many polynomial terms leads to overfitting\n",
    "fig = sns.lmplot(x='body', y='brain', data=mammals, ci=None, order=8);"
   ]
  },
  {
   "cell_type": "code",
   "execution_count": 10,
   "metadata": {},
   "outputs": [
    {
     "name": "stderr",
     "output_type": "stream",
     "text": [
      "/Users/greg/anaconda3/envs/ga/lib/python3.6/site-packages/seaborn/regression.py:237: RankWarning: Polyfit may be poorly conditioned\n",
      "  reg_func = lambda _x, _y: np.polyval(np.polyfit(_x, _y, order), grid)\n"
     ]
    },
    {
     "data": {
      "image/png": "[encoded data removed]",
      "text/plain": [
       "<matplotlib.figure.Figure at 0x1a14d4e400>"
      ]
     },
     "metadata": {},
     "output_type": "display_data"
    }
   ],
   "source": [
    "# An (n-1)-order polynomial can always fit n data points perfectly.\n",
    "# Definitely overfitting!\n",
    "fig = sns.lmplot(x='body', y='brain', data=mammals, ci=None, order=50);\n",
    "ax = fig.axes\n",
    "ax[0,0].set_ylim(0, 200);"
   ]
  },
  {
   "cell_type": "markdown",
   "metadata": {},
   "source": [
    "**Including multiple transformations of one variable complicates coefficient interpretation.**"
   ]
  },
  {
   "cell_type": "code",
   "execution_count": 11,
   "metadata": {},
   "outputs": [
    {
     "data": {
      "image/png": "[encoded data removed]",
      "text/plain": [
       "<matplotlib.figure.Figure at 0x1a14d65438>"
      ]
     },
     "metadata": {},
     "output_type": "display_data"
    }
   ],
   "source": [
    "mammals.loc[:, 'body_squared'] = mammals.loc[:, 'body']**2\n",
    "\n",
    "X = mammals.loc[:, ['body', 'body_squared']]\n",
    "y = mammals.loc[:, 'brain']\n",
    "\n",
    "linreg = LinearRegression()\n",
    "linreg.fit(X, y)\n",
    "y_fit = linreg.predict(X)\n",
    "\n",
    "plt.plot(mammals.loc[:, 'body'].values, y_fit)\n",
    "plt.scatter(mammals.loc[:, 'body'], y);"
   ]
  },
  {
   "cell_type": "code",
   "execution_count": 12,
   "metadata": {},
   "outputs": [
    {
     "name": "stdout",
     "output_type": "stream",
     "text": [
      "0.13198730573592954\n",
      "[0.10843153 0.00210168]\n"
     ]
    }
   ],
   "source": [
    "print(linreg.intercept_)\n",
    "print(linreg.coef_)"
   ]
  },
  {
   "cell_type": "markdown",
   "metadata": {},
   "source": [
    "**Exercise.**"
   ]
  },
  {
   "cell_type": "markdown",
   "metadata": {},
   "source": [
    "- Write down the fitted model we just created."
   ]
  },
  {
   "cell_type": "markdown",
   "metadata": {},
   "source": [
    "$brain = .132 + .108*body + .0021 * body^2$"
   ]
  },
  {
   "cell_type": "markdown",
   "metadata": {},
   "source": [
    "- How would you normally interpret the coefficient on `body` in this model? Why doesn't that interpretation work in this case?"
   ]
  },
  {
   "cell_type": "markdown",
   "metadata": {},
   "source": [
    "You would normally interpret the coefficient on a variable in a linear regression model as telling you how your model's predictions change with a one-unit increase in that variable, holding all other variables fixed. That interpretation doesn't work here because you can't have a one-unit increase in `body` while holding `body^2` fixed."
   ]
  },
  {
   "cell_type": "markdown",
   "metadata": {},
   "source": [
    "**sklearn has a \"transformer\" that generates polynomial terms**"
   ]
  },
  {
   "cell_type": "code",
   "execution_count": 13,
   "metadata": {
    "scrolled": true
   },
   "outputs": [
    {
     "data": {
      "text/plain": [
       "array([[1.40000000e-01, 1.96000000e-02, 2.74400000e-03],\n",
       "       [2.50000000e-01, 6.25000000e-02, 1.56250000e-02],\n",
       "       [3.00000000e-01, 9.00000000e-02, 2.70000000e-02],\n",
       "       [3.30000000e-01, 1.08900000e-01, 3.59370000e-02],\n",
       "       [4.00000000e-01, 1.60000000e-01, 6.40000000e-02],\n",
       "       [1.00000000e+00, 1.00000000e+00, 1.00000000e+00],\n",
       "       [1.00000000e+00, 1.00000000e+00, 1.00000000e+00],\n",
       "       [1.20000000e+00, 1.44000000e+00, 1.72800000e+00],\n",
       "       [1.90000000e+00, 3.61000000e+00, 6.85900000e+00],\n",
       "       [2.40000000e+00, 5.76000000e+00, 1.38240000e+01],\n",
       "       [2.50000000e+00, 6.25000000e+00, 1.56250000e+01],\n",
       "       [2.60000000e+00, 6.76000000e+00, 1.75760000e+01],\n",
       "       [3.00000000e+00, 9.00000000e+00, 2.70000000e+01],\n",
       "       [3.50000000e+00, 1.22500000e+01, 4.28750000e+01],\n",
       "       [3.90000000e+00, 1.52100000e+01, 5.93190000e+01],\n",
       "       [4.00000000e+00, 1.60000000e+01, 6.40000000e+01],\n",
       "       [5.00000000e+00, 2.50000000e+01, 1.25000000e+02],\n",
       "       [5.50000000e+00, 3.02500000e+01, 1.66375000e+02],\n",
       "       [5.70000000e+00, 3.24900000e+01, 1.85193000e+02],\n",
       "       [6.30000000e+00, 3.96900000e+01, 2.50047000e+02],\n",
       "       [6.40000000e+00, 4.09600000e+01, 2.62144000e+02],\n",
       "       [6.60000000e+00, 4.35600000e+01, 2.87496000e+02],\n",
       "       [8.10000000e+00, 6.56100000e+01, 5.31441000e+02],\n",
       "       [1.08000000e+01, 1.16640000e+02, 1.25971200e+03],\n",
       "       [1.14000000e+01, 1.29960000e+02, 1.48154400e+03],\n",
       "       [1.21000000e+01, 1.46410000e+02, 1.77156100e+03],\n",
       "       [1.23000000e+01, 1.51290000e+02, 1.86086700e+03],\n",
       "       [1.23000000e+01, 1.51290000e+02, 1.86086700e+03],\n",
       "       [1.25000000e+01, 1.56250000e+02, 1.95312500e+03],\n",
       "       [1.55000000e+01, 2.40250000e+02, 3.72387500e+03],\n",
       "       [1.70000000e+01, 2.89000000e+02, 4.91300000e+03],\n",
       "       [1.75000000e+01, 3.06250000e+02, 5.35937500e+03],\n",
       "       [2.10000000e+01, 4.41000000e+02, 9.26100000e+03],\n",
       "       [2.50000000e+01, 6.25000000e+02, 1.56250000e+04],\n",
       "       [2.56000000e+01, 6.55360000e+02, 1.67772160e+04],\n",
       "       [3.92000000e+01, 1.53664000e+03, 6.02362880e+04],\n",
       "       [4.45000000e+01, 1.98025000e+03, 8.81211250e+04],\n",
       "       [5.04000000e+01, 2.54016000e+03, 1.28024064e+05],\n",
       "       [5.60000000e+01, 3.13600000e+03, 1.75616000e+05],\n",
       "       [5.80000000e+01, 3.36400000e+03, 1.95112000e+05],\n",
       "       [8.10000000e+01, 6.56100000e+03, 5.31441000e+05],\n",
       "       [9.82000000e+01, 9.64324000e+03, 9.46966168e+05],\n",
       "       [1.15000000e+02, 1.32250000e+04, 1.52087500e+06],\n",
       "       [1.15000000e+02, 1.32250000e+04, 1.52087500e+06],\n",
       "       [1.19500000e+02, 1.42802500e+04, 1.70648988e+06],\n",
       "       [1.57000000e+02, 2.46490000e+04, 3.86989300e+06],\n",
       "       [1.69000000e+02, 2.85610000e+04, 4.82680900e+06],\n",
       "       [1.75000000e+02, 3.06250000e+04, 5.35937500e+06],\n",
       "       [1.79000000e+02, 3.20410000e+04, 5.73533900e+06],\n",
       "       [1.79500000e+02, 3.22202500e+04, 5.78353488e+06],\n",
       "       [1.80000000e+02, 3.24000000e+04, 5.83200000e+06]])"
      ]
     },
     "execution_count": 13,
     "metadata": {},
     "output_type": "execute_result"
    }
   ],
   "source": [
    "# sklearn transformers have the same interface as \"estimators\" (models)\n",
    "# except that you fit them on features and use them to transform features,\n",
    "# rather than fitting them on features and a target and using them to predict\n",
    "# target values.\n",
    "from sklearn.preprocessing import PolynomialFeatures\n",
    "\n",
    "X = mammals.loc[:, ['body']]\n",
    "pf = PolynomialFeatures(degree=3, include_bias=False)\n",
    "pf.fit(X)\n",
    "pf.transform(X)"
   ]
  },
  {
   "cell_type": "markdown",
   "metadata": {},
   "source": [
    "**Exercise.**"
   ]
  },
  {
   "cell_type": "markdown",
   "metadata": {},
   "source": [
    "Use the Boston housing data for the exercises below."
   ]
  },
  {
   "cell_type": "code",
   "execution_count": 14,
   "metadata": {
    "scrolled": true
   },
   "outputs": [
    {
     "data": {
      "text/html": [
       "<div>\n",
       "<style scoped>\n",
       "    .dataframe tbody tr th:only-of-type {\n",
       "        vertical-align: middle;\n",
       "    }\n",
       "\n",
       "    .dataframe tbody tr th {\n",
       "        vertical-align: top;\n",
       "    }\n",
       "\n",
       "    .dataframe thead th {\n",
       "        text-align: right;\n",
       "    }\n",
       "</style>\n",
       "<table border=\"1\" class=\"dataframe\">\n",
       "  <thead>\n",
       "    <tr style=\"text-align: right;\">\n",
       "      <th></th>\n",
       "      <th>CRIM</th>\n",
       "      <th>ZN</th>\n",
       "      <th>INDUS</th>\n",
       "      <th>CHAS</th>\n",
       "      <th>NOX</th>\n",
       "      <th>RM</th>\n",
       "      <th>AGE</th>\n",
       "      <th>DIS</th>\n",
       "      <th>RAD</th>\n",
       "      <th>TAX</th>\n",
       "      <th>PTRATIO</th>\n",
       "      <th>B</th>\n",
       "      <th>LSTAT</th>\n",
       "      <th>MEDV</th>\n",
       "    </tr>\n",
       "  </thead>\n",
       "  <tbody>\n",
       "    <tr>\n",
       "      <th>0</th>\n",
       "      <td>0.00632</td>\n",
       "      <td>18.0</td>\n",
       "      <td>2.31</td>\n",
       "      <td>0.0</td>\n",
       "      <td>0.538</td>\n",
       "      <td>6.575</td>\n",
       "      <td>65.2</td>\n",
       "      <td>4.0900</td>\n",
       "      <td>1.0</td>\n",
       "      <td>296.0</td>\n",
       "      <td>15.3</td>\n",
       "      <td>396.90</td>\n",
       "      <td>4.98</td>\n",
       "      <td>24.0</td>\n",
       "    </tr>\n",
       "    <tr>\n",
       "      <th>1</th>\n",
       "      <td>0.02731</td>\n",
       "      <td>0.0</td>\n",
       "      <td>7.07</td>\n",
       "      <td>0.0</td>\n",
       "      <td>0.469</td>\n",
       "      <td>6.421</td>\n",
       "      <td>78.9</td>\n",
       "      <td>4.9671</td>\n",
       "      <td>2.0</td>\n",
       "      <td>242.0</td>\n",
       "      <td>17.8</td>\n",
       "      <td>396.90</td>\n",
       "      <td>9.14</td>\n",
       "      <td>21.6</td>\n",
       "    </tr>\n",
       "    <tr>\n",
       "      <th>2</th>\n",
       "      <td>0.02729</td>\n",
       "      <td>0.0</td>\n",
       "      <td>7.07</td>\n",
       "      <td>0.0</td>\n",
       "      <td>0.469</td>\n",
       "      <td>7.185</td>\n",
       "      <td>61.1</td>\n",
       "      <td>4.9671</td>\n",
       "      <td>2.0</td>\n",
       "      <td>242.0</td>\n",
       "      <td>17.8</td>\n",
       "      <td>392.83</td>\n",
       "      <td>4.03</td>\n",
       "      <td>34.7</td>\n",
       "    </tr>\n",
       "    <tr>\n",
       "      <th>3</th>\n",
       "      <td>0.03237</td>\n",
       "      <td>0.0</td>\n",
       "      <td>2.18</td>\n",
       "      <td>0.0</td>\n",
       "      <td>0.458</td>\n",
       "      <td>6.998</td>\n",
       "      <td>45.8</td>\n",
       "      <td>6.0622</td>\n",
       "      <td>3.0</td>\n",
       "      <td>222.0</td>\n",
       "      <td>18.7</td>\n",
       "      <td>394.63</td>\n",
       "      <td>2.94</td>\n",
       "      <td>33.4</td>\n",
       "    </tr>\n",
       "    <tr>\n",
       "      <th>4</th>\n",
       "      <td>0.06905</td>\n",
       "      <td>0.0</td>\n",
       "      <td>2.18</td>\n",
       "      <td>0.0</td>\n",
       "      <td>0.458</td>\n",
       "      <td>7.147</td>\n",
       "      <td>54.2</td>\n",
       "      <td>6.0622</td>\n",
       "      <td>3.0</td>\n",
       "      <td>222.0</td>\n",
       "      <td>18.7</td>\n",
       "      <td>396.90</td>\n",
       "      <td>5.33</td>\n",
       "      <td>36.2</td>\n",
       "    </tr>\n",
       "  </tbody>\n",
       "</table>\n",
       "</div>"
      ],
      "text/plain": [
       "      CRIM    ZN  INDUS  CHAS    NOX     RM   AGE     DIS  RAD    TAX  \\\n",
       "0  0.00632  18.0   2.31   0.0  0.538  6.575  65.2  4.0900  1.0  296.0   \n",
       "1  0.02731   0.0   7.07   0.0  0.469  6.421  78.9  4.9671  2.0  242.0   \n",
       "2  0.02729   0.0   7.07   0.0  0.469  7.185  61.1  4.9671  2.0  242.0   \n",
       "3  0.03237   0.0   2.18   0.0  0.458  6.998  45.8  6.0622  3.0  222.0   \n",
       "4  0.06905   0.0   2.18   0.0  0.458  7.147  54.2  6.0622  3.0  222.0   \n",
       "\n",
       "   PTRATIO       B  LSTAT  MEDV  \n",
       "0     15.3  396.90   4.98  24.0  \n",
       "1     17.8  396.90   9.14  21.6  \n",
       "2     17.8  392.83   4.03  34.7  \n",
       "3     18.7  394.63   2.94  33.4  \n",
       "4     18.7  396.90   5.33  36.2  "
      ]
     },
     "execution_count": 14,
     "metadata": {},
     "output_type": "execute_result"
    }
   ],
   "source": [
    "from sklearn.datasets import load_boston\n",
    "\n",
    "boston = load_boston()\n",
    "X = pd.DataFrame(boston.data, columns=boston.feature_names)\n",
    "y = pd.DataFrame(boston.target, columns=['MEDV'])\n",
    "boston = pd.concat([X, y], axis=1)\n",
    "boston.head()"
   ]
  },
  {
   "cell_type": "markdown",
   "metadata": {},
   "source": [
    "- Create a linear regression model for MEDV against DIS with no higher-order polynomial terms."
   ]
  },
  {
   "cell_type": "code",
   "execution_count": 15,
   "metadata": {},
   "outputs": [
    {
     "data": {
      "text/plain": [
       "LinearRegression(copy_X=True, fit_intercept=True, n_jobs=1, normalize=False)"
      ]
     },
     "execution_count": 15,
     "metadata": {},
     "output_type": "execute_result"
    }
   ],
   "source": [
    "X = boston.loc[:, ['DIS']]\n",
    "y = boston.loc[:, 'MEDV']\n",
    "\n",
    "lr_boston1 = LinearRegression()\n",
    "lr_boston1.fit(X, y)"
   ]
  },
  {
   "cell_type": "markdown",
   "metadata": {},
   "source": [
    "- Create a linear regression model for y against X polynomial terms up to and including degree seven."
   ]
  },
  {
   "cell_type": "code",
   "execution_count": 16,
   "metadata": {},
   "outputs": [
    {
     "data": {
      "text/plain": [
       "LinearRegression(copy_X=True, fit_intercept=True, n_jobs=1, normalize=False)"
      ]
     },
     "execution_count": 16,
     "metadata": {},
     "output_type": "execute_result"
    }
   ],
   "source": [
    "pf = PolynomialFeatures(degree=7, include_bias=False)\n",
    "pf.fit(X)\n",
    "X7 = pf.transform(X)\n",
    "\n",
    "lr_boston7 = LinearRegression()\n",
    "lr_boston7.fit(X7, y)"
   ]
  },
  {
   "cell_type": "markdown",
   "metadata": {},
   "source": [
    "- Use 5-fold cross-validation to choose the polynomial order between 1 and 10 that gives the best results in terms of MSE on held-out data. *Hint*: use `sklearn.model_selection.cross_val_score`."
   ]
  },
  {
   "cell_type": "code",
   "execution_count": 17,
   "metadata": {},
   "outputs": [
    {
     "name": "stdout",
     "output_type": "stream",
     "text": [
      "1 79.42960376266777\n",
      "2 77.16187603605917\n",
      "3 76.92617141718812\n",
      "4 78.1332054425205\n",
      "5 84.44687427767865\n",
      "6 110.28364570647287\n",
      "7 614.7635551426225\n",
      "8 1357.0057363353942\n",
      "9 1070.1267410428622\n",
      "10 287.59806669672844\n"
     ]
    }
   ],
   "source": [
    "from sklearn.model_selection import cross_val_score, KFold\n",
    "\n",
    "kf = KFold(n_splits=5, shuffle=True)\n",
    "\n",
    "for poly_degree in range(1, 11):\n",
    "    pf = PolynomialFeatures(degree=poly_degree, include_bias=False)\n",
    "    X_poly = pf.fit_transform(X)\n",
    "    lr = LinearRegression()\n",
    "    score = np.mean(-cross_val_score(lr, X_poly, y, cv=kf, scoring='neg_mean_squared_error'))\n",
    "    print(poly_degree, score)"
   ]
  },
  {
   "cell_type": "markdown",
   "metadata": {},
   "source": [
    "- **Bonus:** Create a model with $DIS$ and $DIS^{-1}$ as features and score it using 5-fold cross-validation."
   ]
  },
  {
   "cell_type": "code",
   "execution_count": 18,
   "metadata": {},
   "outputs": [
    {
     "data": {
      "text/plain": [
       "77.61134532081962"
      ]
     },
     "execution_count": 18,
     "metadata": {},
     "output_type": "execute_result"
    }
   ],
   "source": [
    "kf = KFold(n_splits=5, shuffle=True)\n",
    "\n",
    "X_poly = pd.DataFrame(boston.loc[:, ['DIS']])\n",
    "X_poly.loc[:, '1/DIS'] = X.loc[:, 'DIS']**(-1)\n",
    "lr = LinearRegression()\n",
    "np.mean(-cross_val_score(lr, X_poly, y, cv=kf, scoring='neg_mean_squared_error'))"
   ]
  },
  {
   "cell_type": "markdown",
   "metadata": {},
   "source": [
    "- **Bonus:** Create line plots of your models' fitted values as a function of DIS and overlay them on scatterplots of MEDV against DIS."
   ]
  },
  {
   "cell_type": "code",
   "execution_count": 19,
   "metadata": {
    "scrolled": true
   },
   "outputs": [
    {
     "data": {
      "text/plain": [
       "<matplotlib.collections.PathCollection at 0x1a14b29b70>"
      ]
     },
     "execution_count": 19,
     "metadata": {},
     "output_type": "execute_result"
    },
    {
     "data": {
      "image/png": "[encoded data removed]",
      "text/plain": [
       "<matplotlib.figure.Figure at 0x1a14bdaa90>"
      ]
     },
     "metadata": {},
     "output_type": "display_data"
    }
   ],
   "source": [
    "y_pred_boston1 = lr_boston1.predict(X)\n",
    "\n",
    "plt.plot(X.values, y_pred_boston1, color='red')\n",
    "plt.scatter(boston.loc[:, 'DIS'], boston.loc[:, 'MEDV'], alpha=.2)"
   ]
  },
  {
   "cell_type": "code",
   "execution_count": 20,
   "metadata": {},
   "outputs": [
    {
     "data": {
      "text/plain": [
       "<matplotlib.collections.PathCollection at 0x1a14da36a0>"
      ]
     },
     "execution_count": 20,
     "metadata": {},
     "output_type": "execute_result"
    },
    {
     "data": {
      "image/png": "[encoded data removed]",
      "text/plain": [
       "<matplotlib.figure.Figure at 0x1a14ae6978>"
      ]
     },
     "metadata": {},
     "output_type": "display_data"
    }
   ],
   "source": [
    "pf = PolynomialFeatures(degree=3)\n",
    "X3 = pf.fit_transform(X)\n",
    "\n",
    "lr_boston3 = LinearRegression()\n",
    "lr_boston3.fit(X3, y)\n",
    "\n",
    "y_pred_boston3 = lr_boston3.predict(X3)\n",
    "\n",
    "sorted_boston = pd.DataFrame(boston.loc[:, 'DIS'])\n",
    "sorted_boston.loc[:, 'pred3'] = y_pred_boston3\n",
    "sorted_boston.sort_values('DIS', inplace=True)\n",
    "\n",
    "plt.plot(sorted_boston.loc[:, 'DIS'], sorted_boston.loc[:, 'pred3'], color='red')\n",
    "plt.scatter(boston.loc[:, 'DIS'], boston.loc[:, 'MEDV'], alpha=.2)"
   ]
  },
  {
   "cell_type": "code",
   "execution_count": 21,
   "metadata": {
    "scrolled": true
   },
   "outputs": [
    {
     "data": {
      "text/plain": [
       "<matplotlib.collections.PathCollection at 0x1a154279e8>"
      ]
     },
     "execution_count": 21,
     "metadata": {},
     "output_type": "execute_result"
    },
    {
     "data": {
      "image/png": "[encoded data removed]",
      "text/plain": [
       "<matplotlib.figure.Figure at 0x1a14d86518>"
      ]
     },
     "metadata": {},
     "output_type": "display_data"
    }
   ],
   "source": [
    "y_pred_boston7 = lr_boston7.predict(X7)\n",
    "\n",
    "sorted_boston = pd.DataFrame(boston.loc[:, 'DIS'])\n",
    "sorted_boston.loc[:, 'pred7'] = y_pred_boston7\n",
    "sorted_boston.sort_values('DIS', inplace=True)\n",
    "\n",
    "plt.plot(sorted_boston.loc[:, 'DIS'], sorted_boston.loc[:, 'pred7'], color='red')\n",
    "plt.scatter(boston.loc[:, 'DIS'], boston.loc[:, 'MEDV'], alpha=.2)"
   ]
  },
  {
   "cell_type": "code",
   "execution_count": 22,
   "metadata": {},
   "outputs": [
    {
     "data": {
      "text/plain": [
       "<matplotlib.collections.PathCollection at 0x1a15540208>"
      ]
     },
     "execution_count": 22,
     "metadata": {},
     "output_type": "execute_result"
    },
    {
     "data": {
      "image/png": "[encoded data removed]",
      "text/plain": [
       "<matplotlib.figure.Figure at 0x1a15435390>"
      ]
     },
     "metadata": {},
     "output_type": "display_data"
    }
   ],
   "source": [
    "X_neg = pd.DataFrame(boston.loc[:, ['DIS']])\n",
    "X_neg.loc[:, '1/DIS'] = X.loc[:, 'DIS']**(-1)\n",
    "\n",
    "lr_boston_neg = LinearRegression()\n",
    "lr_boston_neg.fit(X_neg, y)\n",
    "\n",
    "y_pred_boston_neg = lr_boston_neg.predict(X_neg)\n",
    "\n",
    "sorted_boston = pd.DataFrame(boston.loc[:, 'DIS'])\n",
    "sorted_boston.loc[:, 'pred_neg'] = y_pred_boston_neg\n",
    "sorted_boston.sort_values('DIS', inplace=True)\n",
    "\n",
    "plt.plot(sorted_boston.loc[:, 'DIS'], sorted_boston.loc[:, 'pred_neg'], color='red')\n",
    "plt.scatter(boston.loc[:, 'DIS'], boston.loc[:, 'MEDV'], alpha=.2)"
   ]
  },
  {
   "cell_type": "markdown",
   "metadata": {},
   "source": [
    "**Notes.**"
   ]
  },
  {
   "cell_type": "markdown",
   "metadata": {},
   "source": [
    "- In statistics, it is extremely unusual to use more than a third-order polynomial.\n",
    "- Higher-order polynomials are more common in machine learning, where the emphasis is on predictive accuracy rather than understanding.\n",
    "- It would be unusual to use a polynomial term without including all lower-order polynomial terms.\n",
    "- In addition to polynomial terms (with positive integer exponents), it can also be beneficial to include terms with negative exponents (e.g. $x^{-1}=1/x$) and/or fractional exponents (e.g. $x^{1/2}=\\sqrt{X}$)."
   ]
  },
  {
   "cell_type": "markdown",
   "metadata": {},
   "source": [
    "# Interaction Terms"
   ]
  },
  {
   "cell_type": "markdown",
   "metadata": {},
   "source": [
    "Sometimes the significance of one feature depends on the value of another feature.\n",
    "\n",
    "For instance, perhaps median housing prices increase as you get closer to a major employment center *unless crime is high around that area*."
   ]
  },
  {
   "cell_type": "markdown",
   "metadata": {},
   "source": [
    "We can model these kinds of \"interaction effects\" by including the *products* of the interacting variables as features in our models.\n",
    "\n",
    "For example:\n",
    "\n",
    "$$MEDV = \\beta_0 + \\beta_1 * DIS + \\beta_2 * CRIM + \\beta_{12} (DIS * CRIM)$$"
   ]
  },
  {
   "cell_type": "code",
   "execution_count": 23,
   "metadata": {},
   "outputs": [
    {
     "data": {
      "text/plain": [
       "LinearRegression(copy_X=True, fit_intercept=True, n_jobs=1, normalize=False)"
      ]
     },
     "execution_count": 23,
     "metadata": {},
     "output_type": "execute_result"
    }
   ],
   "source": [
    "# Implement the model above\n",
    "# /scrub/\n",
    "feature_cols = ['DIS', 'CRIM']\n",
    "X = boston.loc[:, feature_cols]\n",
    "X.loc[:, 'INTERACTION'] = X.loc[:, 'DIS'] * X.loc[:, 'CRIM']\n",
    "y = boston.loc[:, 'MEDV']\n",
    "\n",
    "lr_interaction = LinearRegression()\n",
    "lr_interaction.fit(X, y)"
   ]
  },
  {
   "cell_type": "code",
   "execution_count": 24,
   "metadata": {},
   "outputs": [
    {
     "name": "stdout",
     "output_type": "stream",
     "text": [
      "22.622121171391157\n",
      "[ 0.48044555  0.46687793 -0.52715358]\n"
     ]
    }
   ],
   "source": [
    "# /scrub/\n",
    "print(lr_interaction.intercept_)\n",
    "print(lr_interaction.coef_)"
   ]
  },
  {
   "cell_type": "markdown",
   "metadata": {},
   "source": [
    "**Exercise.** Write down the fitted model we just created."
   ]
  },
  {
   "cell_type": "markdown",
   "metadata": {},
   "source": [
    "/scrub/\n",
    "\n",
    "$$MEDV = 22.62 + 0.48 * DIS + 0.467 * CRIM - 0.527 (DIS * CRIM)$$"
   ]
  },
  {
   "cell_type": "code",
   "execution_count": 25,
   "metadata": {},
   "outputs": [
    {
     "data": {
      "text/html": [
       "<div>\n",
       "<style scoped>\n",
       "    .dataframe tbody tr th:only-of-type {\n",
       "        vertical-align: middle;\n",
       "    }\n",
       "\n",
       "    .dataframe tbody tr th {\n",
       "        vertical-align: top;\n",
       "    }\n",
       "\n",
       "    .dataframe thead th {\n",
       "        text-align: right;\n",
       "    }\n",
       "</style>\n",
       "<table border=\"1\" class=\"dataframe\">\n",
       "  <thead>\n",
       "    <tr style=\"text-align: right;\">\n",
       "      <th></th>\n",
       "      <th>DIS</th>\n",
       "      <th>CRIM</th>\n",
       "    </tr>\n",
       "  </thead>\n",
       "  <tbody>\n",
       "    <tr>\n",
       "      <th>count</th>\n",
       "      <td>506.000000</td>\n",
       "      <td>506.000000</td>\n",
       "    </tr>\n",
       "    <tr>\n",
       "      <th>mean</th>\n",
       "      <td>3.795043</td>\n",
       "      <td>3.593761</td>\n",
       "    </tr>\n",
       "    <tr>\n",
       "      <th>std</th>\n",
       "      <td>2.105710</td>\n",
       "      <td>8.596783</td>\n",
       "    </tr>\n",
       "    <tr>\n",
       "      <th>min</th>\n",
       "      <td>1.129600</td>\n",
       "      <td>0.006320</td>\n",
       "    </tr>\n",
       "    <tr>\n",
       "      <th>25%</th>\n",
       "      <td>2.100175</td>\n",
       "      <td>0.082045</td>\n",
       "    </tr>\n",
       "    <tr>\n",
       "      <th>50%</th>\n",
       "      <td>3.207450</td>\n",
       "      <td>0.256510</td>\n",
       "    </tr>\n",
       "    <tr>\n",
       "      <th>75%</th>\n",
       "      <td>5.188425</td>\n",
       "      <td>3.647423</td>\n",
       "    </tr>\n",
       "    <tr>\n",
       "      <th>max</th>\n",
       "      <td>12.126500</td>\n",
       "      <td>88.976200</td>\n",
       "    </tr>\n",
       "  </tbody>\n",
       "</table>\n",
       "</div>"
      ],
      "text/plain": [
       "              DIS        CRIM\n",
       "count  506.000000  506.000000\n",
       "mean     3.795043    3.593761\n",
       "std      2.105710    8.596783\n",
       "min      1.129600    0.006320\n",
       "25%      2.100175    0.082045\n",
       "50%      3.207450    0.256510\n",
       "75%      5.188425    3.647423\n",
       "max     12.126500   88.976200"
      ]
     },
     "execution_count": 25,
     "metadata": {},
     "output_type": "execute_result"
    }
   ],
   "source": [
    "# check descriptive stats\n",
    "# /scrub/\n",
    "X.loc[:, ['DIS', 'CRIM']].describe()"
   ]
  },
  {
   "cell_type": "markdown",
   "metadata": {},
   "source": [
    "**Recall the usual interpretation of the coefficient on DIS:** how much the model's prediction for MEDV changes with a one-unit increase in DIS, all else being equal (i.e. for a particular value of CRIM).\n",
    "\n",
    "**With interaction terms, interpreting the coefficients for a feature DIS requires specifying particular values for the interacting variables.**"
   ]
  },
  {
   "cell_type": "markdown",
   "metadata": {},
   "source": [
    "For instance, if CRIM is fixed at its 25th percentile value of 0.082, we get\n",
    "\n",
    "$MEDV = 22.62 + 0.48 * DIS + 0.467 * CRIM - 0.527 (DIS * CRIM)$\n",
    "\n",
    "$MEDV = 22.62 + 0.48 * DIS + 0.467 * 0.082 - 0.527 (DIS * 0.082)$\n",
    "\n",
    "$MEDV = 22.62 + 0.48 * DIS + 0.038 - 0.043 * DIS$\n",
    "\n",
    "$MEDV = 22.658 + 0.437 * DIS$\n",
    "\n",
    "So **at CRIM=.082**, the model's prediction for MEDV increases by .437 when DIS increases by one. It's better on average to be close to employment centers when crime is low.\n",
    "\n",
    "The story is different when CRIM has its 75th percentile value of 3.64:\n",
    "\n",
    "$MEDV = 22.62 + 0.48 * DIS + 0.467 * CRIM - 0.527 (DIS * CRIM)$\n",
    "\n",
    "$MEDV = 22.62 + 0.48 * DIS + 0.467 * 3.64 - 0.527 (DIS * 3.64)$\n",
    "\n",
    "$MEDV = 22.62 + 0.48 * DIS + 1.70 - 1.92 * DIS$\n",
    "\n",
    "$MEDV = 24.32 -1.44 * DIS$\n",
    "\n",
    "**At CRIM=3.64**, the model's prediction for MEDV *decreases* by 1.44 when DIS increases by one. It's better on average to be farther from employment centers when crime is high."
   ]
  },
  {
   "cell_type": "markdown",
   "metadata": {},
   "source": [
    "**Exercise.**"
   ]
  },
  {
   "cell_type": "markdown",
   "metadata": {},
   "source": [
    "- How does adding interaction terms affect a model's bias and variance?"
   ]
  },
  {
   "cell_type": "markdown",
   "metadata": {},
   "source": [
    "/scrub/\n",
    "\n",
    "Decreases (or at least does not increase) bias, increases variance."
   ]
  },
  {
   "cell_type": "markdown",
   "metadata": {},
   "source": [
    "- Using 5-fold cross-validation, calculate the MSE for a model predicting MEDV from DIS and CRIM without an interaction term. *Hint*: use sklearn.model_selection.cross_val_score"
   ]
  },
  {
   "cell_type": "code",
   "execution_count": 26,
   "metadata": {},
   "outputs": [
    {
     "data": {
      "text/plain": [
       "71.78891971639933"
      ]
     },
     "execution_count": 26,
     "metadata": {},
     "output_type": "execute_result"
    }
   ],
   "source": [
    "# /scrub/\n",
    "feature_cols = ['DIS', 'CRIM']\n",
    "X = boston.loc[:, feature_cols]\n",
    "y = boston.loc[:, 'MEDV']\n",
    "lr = LinearRegression()\n",
    "kf = KFold(n_splits=5, shuffle=True)\n",
    "\n",
    "np.mean(-cross_val_score(lr, X, y, cv=kf, scoring='neg_mean_squared_error'))"
   ]
  },
  {
   "cell_type": "markdown",
   "metadata": {},
   "source": [
    "- Using 5-fold cross-validation, calculate the MSE for a model predicting MEDV from DIS and CRIM with an interaction term. *Hint*: use sklearn.model_selection.cross_val_score"
   ]
  },
  {
   "cell_type": "code",
   "execution_count": 27,
   "metadata": {},
   "outputs": [
    {
     "data": {
      "text/plain": [
       "70.14817454796247"
      ]
     },
     "execution_count": 27,
     "metadata": {},
     "output_type": "execute_result"
    }
   ],
   "source": [
    "# /scrub/\n",
    "feature_cols = ['DIS', 'CRIM']\n",
    "X = boston.loc[:, feature_cols]\n",
    "X.loc[:, 'INTERACTION'] = X.loc[:, 'DIS'] * X.loc[:, 'CRIM']\n",
    "y = boston.loc[:, 'MEDV']\n",
    "lr = LinearRegression()\n",
    "\n",
    "np.mean(-cross_val_score(lr, X, y, cv=kf, scoring='neg_mean_squared_error'))"
   ]
  },
  {
   "cell_type": "markdown",
   "metadata": {},
   "source": [
    "### Log Transformations"
   ]
  },
  {
   "cell_type": "markdown",
   "metadata": {},
   "source": [
    "When your data is very skewed, try a log transformation."
   ]
  },
  {
   "cell_type": "code",
   "execution_count": 28,
   "metadata": {},
   "outputs": [
    {
     "data": {
      "image/png": "[encoded data removed]",
      "text/plain": [
       "<matplotlib.figure.Figure at 0x1a15438f60>"
      ]
     },
     "metadata": {},
     "output_type": "display_data"
    },
    {
     "data": {
      "image/png": "[encoded data removed]",
      "text/plain": [
       "<matplotlib.figure.Figure at 0x1a15724b70>"
      ]
     },
     "metadata": {},
     "output_type": "display_data"
    }
   ],
   "source": [
    "mammals = (\n",
    "    pd.read_csv(mammals_path, sep='\\t', names=cols, header=0)\n",
    "    .dropna()\n",
    "    .sort_values('body')\n",
    "    .reset_index(drop=True)\n",
    ")\n",
    "mammals = mammals.loc[mammals.loc[:, 'body'] < 200, :]\n",
    "mammals.hist();\n",
    "mammals.plot(kind='scatter', x='body', y='brain');"
   ]
  },
  {
   "cell_type": "code",
   "execution_count": 29,
   "metadata": {},
   "outputs": [
    {
     "data": {
      "text/plain": [
       "<matplotlib.axes._subplots.AxesSubplot at 0x1a1599eb38>"
      ]
     },
     "execution_count": 29,
     "metadata": {},
     "output_type": "execute_result"
    },
    {
     "data": {
      "image/png": "[encoded data removed]",
      "text/plain": [
       "<matplotlib.figure.Figure at 0x1a15517898>"
      ]
     },
     "metadata": {},
     "output_type": "display_data"
    },
    {
     "data": {
      "image/png": "[encoded data removed]",
      "text/plain": [
       "<matplotlib.figure.Figure at 0x1a1598a240>"
      ]
     },
     "metadata": {},
     "output_type": "display_data"
    }
   ],
   "source": [
    "log_mammals = np.log(mammals)\n",
    "log_mammals.hist()\n",
    "log_mammals.plot(kind='scatter', x='body', y='brain')"
   ]
  },
  {
   "cell_type": "markdown",
   "metadata": {},
   "source": [
    "Because we applied a log transformation to $y$ as well as $x$, we need to be careful about how we interpret the MSE values."
   ]
  },
  {
   "cell_type": "code",
   "execution_count": 30,
   "metadata": {
    "scrolled": true
   },
   "outputs": [
    {
     "data": {
      "text/plain": [
       "712.8433296657507"
      ]
     },
     "execution_count": 30,
     "metadata": {},
     "output_type": "execute_result"
    }
   ],
   "source": [
    "# Train and score a linear model in the original space.\n",
    "# This model isn't overfitting significantly, so let's not\n",
    "# worry about a train/test split.\n",
    "from sklearn import metrics\n",
    "\n",
    "X = mammals.loc[:, ['body']]\n",
    "y = mammals.loc[:, 'brain']\n",
    "lr_mammals = LinearRegression()\n",
    "lr_mammals.fit(X, y)\n",
    "y_pred = lr_mammals.predict(X)\n",
    "metrics.mean_squared_error(y, y_pred)"
   ]
  },
  {
   "cell_type": "code",
   "execution_count": 31,
   "metadata": {},
   "outputs": [
    {
     "data": {
      "text/plain": [
       "0.7312406573779777"
      ]
     },
     "execution_count": 31,
     "metadata": {},
     "output_type": "execute_result"
    }
   ],
   "source": [
    "# Train and score a linear model in the log-transformed space.\n",
    "# This model isn't overfitting significantly, so let's not\n",
    "# worry about a train/test split.\n",
    "log_mammals = np.log(mammals)\n",
    "X_log = log_mammals.loc[:, ['body']]\n",
    "y_log = log_mammals.loc[:, 'brain']\n",
    "\n",
    "lr_log_mammals = LinearRegression()\n",
    "lr_log_mammals.fit(X_log, y_log)\n",
    "y_pred_log = lr_log_mammals.predict(X_log)\n",
    "metrics.mean_squared_error(y_log, y_pred_log)"
   ]
  },
  {
   "cell_type": "markdown",
   "metadata": {},
   "source": [
    "Not a fair comparison! MSE for the second model is in log-space."
   ]
  },
  {
   "cell_type": "code",
   "execution_count": 32,
   "metadata": {
    "scrolled": false
   },
   "outputs": [
    {
     "data": {
      "text/plain": [
       "918.872588599047"
      ]
     },
     "execution_count": 32,
     "metadata": {},
     "output_type": "execute_result"
    }
   ],
   "source": [
    "# Get MSE for the log-log model in the original space\n",
    "metrics.mean_squared_error(y, np.exp(y_pred_log))"
   ]
  },
  {
   "cell_type": "markdown",
   "metadata": {},
   "source": [
    "**What's going on?**"
   ]
  },
  {
   "cell_type": "code",
   "execution_count": 33,
   "metadata": {
    "scrolled": true
   },
   "outputs": [
    {
     "data": {
      "image/png": "[encoded data removed]",
      "text/plain": [
       "<matplotlib.figure.Figure at 0x1a1579b9e8>"
      ]
     },
     "metadata": {},
     "output_type": "display_data"
    }
   ],
   "source": [
    "plt.scatter(X.values, y);\n",
    "plt.plot(X, np.exp(y_pred_log));"
   ]
  },
  {
   "cell_type": "code",
   "execution_count": 34,
   "metadata": {},
   "outputs": [
    {
     "data": {
      "image/png": "[encoded data removed]",
      "text/plain": [
       "<matplotlib.figure.Figure at 0x1a157908d0>"
      ]
     },
     "metadata": {},
     "output_type": "display_data"
    }
   ],
   "source": [
    "plt.scatter(X.values, y);\n",
    "plt.plot(X, y_pred);"
   ]
  },
  {
   "cell_type": "markdown",
   "metadata": {},
   "source": [
    "The model that we fit in log-log space is getting killed by the points in the top-right:\n",
    "\n",
    "- MSE punishes large errors.\n",
    "- Errors that are large in the original space don't look so large in log-log space, so the model doesn't focus on them as much as it \"should.\"\n",
    "\n",
    "The log-log model is still better in at least two respects:\n",
    "\n",
    "- It conveys more understanding: modeling log of brain size as a linear function of log of body size plus random noise seems to capture what is really going on.\n",
    "- It makes better predictions in terms of MAE."
   ]
  },
  {
   "cell_type": "code",
   "execution_count": 35,
   "metadata": {},
   "outputs": [
    {
     "name": "stdout",
     "output_type": "stream",
     "text": [
      "10.922678225374737\n",
      "13.263621212432955\n"
     ]
    }
   ],
   "source": [
    "# Calculate MAE for the original and log-log models\n",
    "print(metrics.mean_absolute_error(y, np.exp(y_pred_log)))\n",
    "print(metrics.mean_absolute_error(y, y_pred))"
   ]
  },
  {
   "cell_type": "markdown",
   "metadata": {},
   "source": [
    "**Notes**\n",
    "\n",
    "- A log-transformed variable typically replaces the original variable in a regression analysis, unlike a polynomial term.\n",
    "- You can apply a log transformation to any combination of your features and your target variable."
   ]
  },
  {
   "cell_type": "markdown",
   "metadata": {},
   "source": [
    "### Summary\n",
    "\n",
    "- Linear regression *can* capture non-linear relationships *when you provide the appropriate non-linear transformations*.\n",
    "- Every polynomial term you add allows your model to change directions once.\n",
    "- Log transformations are awesome for skewed variables."
   ]
  },
  {
   "cell_type": "markdown",
   "metadata": {},
   "source": [
    "## Regularization"
   ]
  },
  {
   "cell_type": "markdown",
   "metadata": {},
   "source": [
    "<a id=\"bonus-material-regularization\"></a>\n",
    "### Why Regularize?"
   ]
  },
  {
   "cell_type": "markdown",
   "metadata": {},
   "source": [
    "Recall this overly complicated model:"
   ]
  },
  {
   "cell_type": "code",
   "execution_count": 36,
   "metadata": {},
   "outputs": [
    {
     "data": {
      "image/png": "[encoded data removed]",
      "text/plain": [
       "<matplotlib.figure.Figure at 0x1a155f02b0>"
      ]
     },
     "metadata": {},
     "output_type": "display_data"
    }
   ],
   "source": [
    "# Too many polynomial terms leads to overfitting\n",
    "fig = sns.lmplot(x='body', y='brain', data=mammals, ci=None, order=8);"
   ]
  },
  {
   "cell_type": "markdown",
   "metadata": {},
   "source": [
    "One way to make this model behave in a more reasonable way is to reduce the number of features we give it.\n",
    "\n",
    "Another way is to *make it pay to use those features*. This approach is called **regularization**."
   ]
  },
  {
   "cell_type": "markdown",
   "metadata": {},
   "source": [
    "<a id=\"how-does-regularization-work\"></a>\n",
    "### How Does Regularization Work?\n",
    "\n",
    "For a normal linear regression model, we estimate the coefficients using the least squares criterion, which minimizes the residual sum of squares (RSS)."
   ]
  },
  {
   "cell_type": "markdown",
   "metadata": {},
   "source": [
    "For a regularized linear regression model, we minimize the sum of RSS and a \"penalty term\" that penalizes coefficient size.\n",
    "\n",
    "**Ridge regression** (or \"L2 regularization\") minimizes: $$\\text{RSS} + \\alpha \\sum_{j=1}^p \\beta_j^2$$\n",
    "\n",
    "**Lasso regression** (or \"L1 regularization\") minimizes: $$\\text{RSS} + \\alpha \\sum_{j=1}^p |\\beta_j|$$\n",
    "\n",
    "- $p$ is the number of features.\n",
    "- $\\beta_j$ is a model coefficient.\n",
    "- $\\alpha$ is a tuning parameter:\n",
    "    - A tiny $\\alpha$ imposes no penalty on the coefficient size, and is equivalent to a normal linear regression model.\n",
    "    - Increasing the $\\alpha$ penalizes the coefficients and thus shrinks them."
   ]
  },
  {
   "cell_type": "markdown",
   "metadata": {},
   "source": [
    "<a id=\"lasso-and-ridge-path-diagrams\"></a>\n",
    "### Lasso and Ridge Path Diagrams\n",
    "\n",
    "A larger alpha (toward the left of each diagram) results in more regularization:\n",
    "\n",
    "- Lasso regression shrinks coefficients all the way to zero, thus removing them from the model.\n",
    "- Ridge regression shrinks coefficients toward zero, but they essentially never reach zero.\n",
    "\n",
    "Source code for the diagrams: [Lasso regression](http://scikit-learn.org/stable/auto_examples/linear_model/plot_lasso_lars.html) and [Ridge regression](http://scikit-learn.org/stable/auto_examples/linear_model/plot_ridge_path.html)"
   ]
  },
  {
   "cell_type": "markdown",
   "metadata": {},
   "source": [
    "![Lasso and Ridge Coefficient Plots](../assets/lasso_ridge_path.png)"
   ]
  },
  {
   "cell_type": "markdown",
   "metadata": {},
   "source": [
    "<a id=\"advice-for-applying-regularization\"></a>\n",
    "### Advice for Applying Regularization\n",
    "\n",
    "**Features should be standardized** so that the penalty is not sensitive to the scale of the variables.\n",
    "\n",
    "**How should you choose between lasso regression and ridge regression?**\n",
    "\n",
    "- Lasso regression is preferred if we believe many features are irrelevant or if we prefer a sparse model.\n",
    "- Ridge can work particularly well if there is a high degree of colinearity in your model.\n",
    "- If model performance is your primary concern, it is best to try both.\n",
    "- Elastic net regression is a combination of lasso regression and ridge regression."
   ]
  },
  {
   "cell_type": "markdown",
   "metadata": {},
   "source": [
    "<a id=\"ridge-regression\"></a>\n",
    "### Example\n",
    "\n",
    "- [Ridge](http://scikit-learn.org/stable/modules/generated/sklearn.linear_model.Ridge.html) documentation\n",
    "- **alpha:** must be positive, increase for more regularization\n",
    "- **normalize:** scales the features (without using StandardScaler)"
   ]
  },
  {
   "cell_type": "code",
   "execution_count": 37,
   "metadata": {},
   "outputs": [],
   "source": [
    "bikes_path = Path('..', 'data', 'bikeshare.csv')\n",
    "bikes = pd.read_csv(bikes_path, index_col='datetime', parse_dates=True)\n",
    "bikes_dummies = pd.get_dummies(bikes, columns=['season']).drop('season_1', axis=1)"
   ]
  },
  {
   "cell_type": "code",
   "execution_count": 38,
   "metadata": {},
   "outputs": [],
   "source": [
    "# Include dummy variables for season in the model.\n",
    "# /scrub/\n",
    "feature_cols = ['temp', 'season_2', 'season_3', 'season_4', 'humidity']\n",
    "X = bikes_dummies.loc[:, feature_cols]\n",
    "y = bikes_dummies.loc[:, 'count']"
   ]
  },
  {
   "cell_type": "code",
   "execution_count": 39,
   "metadata": {},
   "outputs": [],
   "source": [
    "from sklearn.model_selection import train_test_split\n",
    "\n",
    "X_train, X_test, y_train, y_test = train_test_split(X, y, random_state=1)"
   ]
  },
  {
   "cell_type": "code",
   "execution_count": 40,
   "metadata": {},
   "outputs": [
    {
     "name": "stdout",
     "output_type": "stream",
     "text": [
      "156.71762172901268\n"
     ]
    }
   ],
   "source": [
    "# Fit a Ridge Regression model with alpha=0 (equivalent to linear regression)\n",
    "# /scrub/\n",
    "# alpha=0 is equivalent to linear regression.\n",
    "from sklearn.linear_model import Ridge\n",
    "\n",
    "# Instantiate the model.\n",
    "#(Alpha of zero has no regularization strength, essentially a basic linear regression.)\n",
    "ridgereg = Ridge(alpha=0, normalize=True)\n",
    "\n",
    "# Fit the model.\n",
    "ridgereg.fit(X_train, y_train)\n",
    "\n",
    "# Predict with fitted model.\n",
    "y_pred = ridgereg.predict(X_test)\n",
    "print(np.sqrt(metrics.mean_squared_error(y_test, y_pred)))"
   ]
  },
  {
   "cell_type": "code",
   "execution_count": 41,
   "metadata": {},
   "outputs": [
    {
     "data": {
      "text/plain": [
       "[('temp', 9.586495874322862),\n",
       " ('season_2', -1.2531339274580644),\n",
       " ('season_3', -44.35253424400129),\n",
       " ('season_4', 54.60494849879624),\n",
       " ('humidity', -2.8510687096876874)]"
      ]
     },
     "execution_count": 41,
     "metadata": {},
     "output_type": "execute_result"
    }
   ],
   "source": [
    "# Coefficients for a non-regularized linear regression\n",
    "# /scrub/\n",
    "list(zip(feature_cols, ridgereg.coef_))"
   ]
  },
  {
   "cell_type": "markdown",
   "metadata": {},
   "source": [
    "Be careful in interpreting these coefficients, because they are related to the *normalized* versions of the input variables."
   ]
  },
  {
   "cell_type": "code",
   "execution_count": 42,
   "metadata": {},
   "outputs": [
    {
     "name": "stdout",
     "output_type": "stream",
     "text": [
      "157.38104153413863\n"
     ]
    }
   ],
   "source": [
    "# Try alpha=0.1.\n",
    "# /scrub/\n",
    "ridgereg = Ridge(alpha=0.1, normalize=True)\n",
    "ridgereg.fit(X_train, y_train)\n",
    "y_pred = ridgereg.predict(X_test)\n",
    "print(np.sqrt(metrics.mean_squared_error(y_test, y_pred)))"
   ]
  },
  {
   "cell_type": "code",
   "execution_count": 43,
   "metadata": {},
   "outputs": [
    {
     "data": {
      "text/plain": [
       "[('temp', 7.8017452494717),\n",
       " ('season_2', 13.21508363621035),\n",
       " ('season_3', -14.255958667738152),\n",
       " ('season_4', 55.080108338483754),\n",
       " ('humidity', -2.6530211673636646)]"
      ]
     },
     "execution_count": 43,
     "metadata": {},
     "output_type": "execute_result"
    }
   ],
   "source": [
    "# Examine the coefficients.\n",
    "# /scrub/\n",
    "list(zip(feature_cols, ridgereg.coef_))"
   ]
  },
  {
   "cell_type": "markdown",
   "metadata": {},
   "source": [
    "Notice that the model tries to spread the coefficients more evenly because the squared term particularly punishes large deviations from zero."
   ]
  },
  {
   "cell_type": "code",
   "execution_count": 44,
   "metadata": {},
   "outputs": [
    {
     "name": "stdout",
     "output_type": "stream",
     "text": [
      "159.40030792786033\n"
     ]
    }
   ],
   "source": [
    "# Try Lasso with alpha=0.1\n",
    "# /scrub/\n",
    "from sklearn.linear_model import Lasso\n",
    "\n",
    "ridgereg = Lasso(alpha=0.1, normalize=True)\n",
    "ridgereg.fit(X_train, y_train)\n",
    "y_pred = ridgereg.predict(X_test)\n",
    "print(np.sqrt(metrics.mean_squared_error(y_test, y_pred)))"
   ]
  },
  {
   "cell_type": "code",
   "execution_count": 45,
   "metadata": {},
   "outputs": [
    {
     "data": {
      "text/plain": [
       "[('temp', 6.737696337436866),\n",
       " ('season_2', 0.0),\n",
       " ('season_3', -0.0),\n",
       " ('season_4', 27.762312991063485),\n",
       " ('humidity', -2.290981650895824)]"
      ]
     },
     "execution_count": 45,
     "metadata": {},
     "output_type": "execute_result"
    }
   ],
   "source": [
    "# Examine the coefficients.\n",
    "# /scrub/\n",
    "list(zip(feature_cols, ridgereg.coef_))"
   ]
  },
  {
   "cell_type": "markdown",
   "metadata": {},
   "source": [
    "# Time Series Data"
   ]
  },
  {
   "cell_type": "markdown",
   "metadata": {},
   "source": [
    "## What Is Time Series Data?"
   ]
  },
  {
   "cell_type": "markdown",
   "metadata": {},
   "source": [
    "**Cross-Sectional Data**\n",
    "\n",
    "<img src=\"../assets/cross_sectional_data.png\" width=400></img>\n",
    "\n",
    "Data is collected at a single point in time for each individual.\n",
    "\n",
    "**Time-Series/Longitudinal Data**\n",
    "\n",
    "<img src=\"../assets/time_series_data.png\" width=400></img>\n",
    "\n",
    "Data for the same variables is collected over time for the same individuals."
   ]
  },
  {
   "cell_type": "markdown",
   "metadata": {},
   "source": [
    "**Exercise.**\n",
    "\n",
    "/poll \"Which of the data sets that we have worked with so far contain time series data? (Select as many as apply.)\" \"bikes\" \"grad school admissions\" \"titanic\" \"ufo\" \"drinks\" \"boston housing\" \"nba\" \"mammals\""
   ]
  },
  {
   "cell_type": "markdown",
   "metadata": {},
   "source": [
    "/scrub/\n",
    "\n",
    "Only `bikes`"
   ]
  },
  {
   "cell_type": "markdown",
   "metadata": {},
   "source": [
    "## Trends, Seasonality, and Noise"
   ]
  },
  {
   "cell_type": "markdown",
   "metadata": {},
   "source": [
    "Google searches for \"data science\" show a strong increasing trend over the last five years:\n",
    "\n",
    "![](../assets/data_science.png)\n",
    "\n",
    "Google searches for \"gingerbread house\" show strong annual seasonality:\n",
    "\n",
    "![](../assets/gingerbread_house.png)\n",
    "\n",
    "Google searches for \"iphone\" show both trend and seasonality:\n",
    "\n",
    "![](../assets/iphone.png)"
   ]
  },
  {
   "cell_type": "markdown",
   "metadata": {},
   "source": [
    "**Exercise.**\n",
    "\n",
    "Go to https://trends.google.com/trends/ and search for a term that interests you. Post it on Slack with a sentence or two about any trend or seasonality that it exhibits."
   ]
  },
  {
   "cell_type": "markdown",
   "metadata": {},
   "source": [
    "## Train/Test Split with Time Series Data"
   ]
  },
  {
   "cell_type": "markdown",
   "metadata": {},
   "source": [
    "All training data come from before all test data -- your model should not be peeking into the future!"
   ]
  },
  {
   "cell_type": "markdown",
   "metadata": {},
   "source": [
    "# Practice"
   ]
  },
  {
   "cell_type": "markdown",
   "metadata": {},
   "source": [
    "Work on the practice notebooks from Unit 3 in pairs using the driver/navigator approach. One person (the \"driver\") writes the code (sharing his or her screen) while the other person (the \"navigator\") continually makes suggestions and reviews the code. The driver should talk about what he or she is doing, ask for input, and generally keep the navigator engaged.\n",
    "\n",
    "We will switch driver/navigator roles when are time is halfway up.\n",
    "\n",
    "Pick a notebook you haven't worked on yet if possible, especially when you are the driver. If you are the navigator for a notebook you have already worked on, don't pull out your code. Let your partner take the lead and give feedback on the direction they take."
   ]
  },
  {
   "cell_type": "markdown",
   "metadata": {},
   "source": [
    "# Projects\n",
    "\n",
    "- Final Project Pt 3 due today\n",
    "- Unit Project 3 (optional) due next Thurs."
   ]
  },
  {
   "cell_type": "markdown",
   "metadata": {},
   "source": [
    "# Questions?"
   ]
  },
  {
   "cell_type": "markdown",
   "metadata": {},
   "source": [
    "```\n",
    "=========================================\n",
    "@channel\n",
    "Exit Ticket: https://goo.gl/forms/OUw4gyTiRKMOTI3t2        \n",
    "\n",
    "#feedback\n",
    "=========================================\n",
    "```"
   ]
  }
 ],
 "metadata": {
  "kernelspec": {
   "display_name": "Python 3",
   "language": "python",
   "name": "python3"
  },
  "language_info": {
   "codemirror_mode": {
    "name": "ipython",
    "version": 3
   },
   "file_extension": ".py",
   "mimetype": "text/x-python",
   "name": "python",
   "nbconvert_exporter": "python",
   "pygments_lexer": "ipython3",
   "version": "3.6.5"
  }
 },
 "nbformat": 4,
 "nbformat_minor": 1
}
